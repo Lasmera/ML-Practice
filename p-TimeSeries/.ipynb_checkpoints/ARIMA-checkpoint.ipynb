{
 "cells": [
  {
   "cell_type": "markdown",
   "metadata": {},
   "source": [
    "## ARIMA"
   ]
  },
  {
   "cell_type": "code",
   "execution_count": null,
   "metadata": {},
   "outputs": [],
   "source": [
    "%pylab inline\n",
    "import pandas as pd\n",
    "from scipy import stats\n",
    "import statsmodels.api as sm\n",
    "import matplotlib.pyplot as plt\n",
    "import warnings\n",
    "from itertools import product\n",
    "\n",
    "def invboxcox(y,lmbda):\n",
    "   if lmbda == 0:\n",
    "      return(np.exp(y))\n",
    "   else:\n",
    "      return(np.exp(np.log(lmbda*y+1)/lmbda))"
   ]
  },
  {
   "cell_type": "markdown",
   "metadata": {},
   "source": [
    "### Данные\n",
    "\n",
    "<font color=darkblue>По данным Сбербанка требуется спрогнозировать данные на ближайшие месяцы.\n",
    "\n",
    "Выбираем регион и колонку для прогнозирования."
   ]
  },
  {
   "cell_type": "code",
   "execution_count": null,
   "metadata": {},
   "outputs": [],
   "source": [
    "months_cnt_to_predict = 12\n",
    "\n",
    "df = pd.read_csv(u'../data/sberbank.csv', index_col=['date'], parse_dates=['date'], dayfirst=True)\n",
    "df['amount'] = df['Средние расходы по картам']\n",
    "df = df[(df['region'] == 'Москва')]\n",
    "df = pd.DataFrame(df['amount'])\n",
    "df.index = df.index - pd.offsets.MonthBegin(1)\n",
    "sberbank = pd.DataFrame(df.dropna(how='any',axis=0))\n",
    "#sberbank = sberbank[(sberbank.index.year < 2018)] \n",
    "sberbank.head()"
   ]
  },
  {
   "cell_type": "markdown",
   "metadata": {},
   "source": [
    "<font color=darkblue>Отображение известных данных."
   ]
  },
  {
   "cell_type": "code",
   "execution_count": null,
   "metadata": {},
   "outputs": [],
   "source": [
    "plt.figure(figsize(15,7))\n",
    "xticks = pd.date_range(start=sberbank.index.min(), end=sberbank.index.max(), freq='M')\n",
    "plt.xticks(xticks, xticks.strftime(\"%Y-%m\"), rotation=90, ha=\"left\")\n",
    "plt.plot(sberbank)\n",
    "plt.ylabel('Средние расходы по картам')\n",
    "pylab.show()"
   ]
  },
  {
   "cell_type": "markdown",
   "metadata": {},
   "source": [
    "#### Теория:\n",
    "<font color=darkblue>Ряд называется \"стационарным\", если его свойства не зависят от времени.\n",
    "\n",
    "Гипотезу стационарности можно проверить с помощью критерия Дики-Фуллера (должен быть близок 0)"
   ]
  },
  {
   "cell_type": "code",
   "execution_count": null,
   "metadata": {},
   "outputs": [],
   "source": [
    "plt.figure(figsize(15,10))\n",
    "sm.tsa.seasonal_decompose(sberbank.amount).plot()\n",
    "print(\"Критерий Дики-Фуллера: p=%f\" % sm.tsa.stattools.adfuller(sberbank.amount)[1])"
   ]
  },
  {
   "cell_type": "markdown",
   "metadata": {},
   "source": [
    "### Стабилизация дисперсии"
   ]
  },
  {
   "cell_type": "markdown",
   "metadata": {},
   "source": [
    "#### Теория:\n",
    "\n",
    "<font color=darkblue>для приведения к стационарности одним из лучших считается преобразование Бокса-Кокса.</font>\n",
    "\n",
    "**Преобразования Бокса-Кокса**:\n",
    "\\begin{equation*}\n",
    "y_t' = \n",
    " \\begin{cases}\n",
    "   \\ln{y_t}, &\\text{$\\lambda = 0$}\\\\\n",
    "   (y^\\lambda_t - 1) / \\lambda, &\\text{$\\lambda \\ne 0$}\n",
    " \\end{cases}\n",
    "\\end{equation*}"
   ]
  },
  {
   "cell_type": "markdown",
   "metadata": {},
   "source": [
    "<font color=darkblue>Сделаем преобразование Бокса-Кокса для стабилизации дисперсии:"
   ]
  },
  {
   "cell_type": "code",
   "execution_count": null,
   "metadata": {},
   "outputs": [],
   "source": [
    "sberbank['amount_box'], lmbda = stats.boxcox(sberbank.amount)\n",
    "plt.figure(figsize(15,7))\n",
    "sberbank.amount_box.plot()\n",
    "plt.ylabel(u'Transformed amount')\n",
    "print(\"Оптимальный параметр преобразования Бокса-Кокса: %f\" % lmbda)\n",
    "print(\"Критерий Дики-Фуллера: p=%f\" % sm.tsa.stattools.adfuller(sberbank.amount_box)[1])"
   ]
  },
  {
   "cell_type": "markdown",
   "metadata": {},
   "source": [
    "### Стационарность"
   ]
  },
  {
   "cell_type": "markdown",
   "metadata": {},
   "source": [
    "<font color=darkblue>Критерий Дики-Фуллера отвергает гипотезу нестационарности, но визуально в данных виден тренд. Попробуем сезонное дифференцирование; сделаем на продифференцированном ряде STL-декомпозицию и проверим стационарность:"
   ]
  },
  {
   "cell_type": "code",
   "execution_count": null,
   "metadata": {},
   "outputs": [],
   "source": [
    "sberbank['amount_box_diff'] = sberbank.amount_box - sberbank.amount_box.shift(12)\n",
    "plt.figure(figsize(15,10))\n",
    "sm.tsa.seasonal_decompose(sberbank.amount_box_diff[12:]).plot()\n",
    "print(\"Критерий Дики-Фуллера: p=%f\" % sm.tsa.stattools.adfuller(sberbank.amount_box_diff[12:])[1])"
   ]
  },
  {
   "cell_type": "markdown",
   "metadata": {},
   "source": [
    "<font color=darkblue>Критерий Дики-Фуллера не отвергает гипотезу нестационарности, и полностью избавиться от тренда не удалось. Попробуем добавить ещё обычное дифференцирование:"
   ]
  },
  {
   "cell_type": "code",
   "execution_count": null,
   "metadata": {},
   "outputs": [],
   "source": [
    "sberbank['amount_box_diff2'] = sberbank.amount_box_diff - sberbank.amount_box_diff.shift(1)\n",
    "plt.figure(figsize(15,10))\n",
    "sm.tsa.seasonal_decompose(sberbank.amount_box_diff2[13:]).plot()   \n",
    "print(\"Критерий Дики-Фуллера: p=%f\" % sm.tsa.stattools.adfuller(sberbank.amount_box_diff2[13:])[1])"
   ]
  },
  {
   "cell_type": "markdown",
   "metadata": {},
   "source": [
    "<font color=darkblue>Гипотеза нестационарности отвергается, и визуально ряд выглядит лучше — тренда больше нет. "
   ]
  },
  {
   "cell_type": "markdown",
   "metadata": {},
   "source": [
    "## Подбор модели"
   ]
  },
  {
   "cell_type": "markdown",
   "metadata": {},
   "source": [
    "<font color=darkblue>Начальные приближения: Q=1, q=2, P=1, p=4"
   ]
  },
  {
   "cell_type": "code",
   "execution_count": null,
   "metadata": {},
   "outputs": [],
   "source": [
    "ps = range(0, 5)\n",
    "d=1\n",
    "qs = range(0, 3)\n",
    "Ps = range(0, 2)\n",
    "D=1\n",
    "Qs = range(0, 2)"
   ]
  },
  {
   "cell_type": "code",
   "execution_count": null,
   "metadata": {},
   "outputs": [],
   "source": [
    "parameters = product(ps, qs, Ps, Qs)\n",
    "parameters_list = list(parameters)\n",
    "len(parameters_list)"
   ]
  },
  {
   "cell_type": "markdown",
   "metadata": {},
   "source": [
    "#### Теория:\n",
    "**Информационный критерий Акаике** (**AIC**) - используется для сравнения моделей с разными $q, Q, p, P$.\n",
    "\n",
    "$$AIC = -2\\ln{L} + 2k$$\n",
    "\n",
    "$k = P + Q + p + q + 1$ - число параметров в модели.\n",
    "\n",
    "<font color=darkblue>Оптимальной, по данному критерию, будет модель, у которой значение *AIC* будет самое маленькое из всех возможных. Потому, что такая модель будет, достаточно, хорошо описывать данные и содержать не, слишком, большое кол-во параметров."
   ]
  },
  {
   "cell_type": "code",
   "execution_count": null,
   "metadata": {},
   "outputs": [],
   "source": [
    "%%time\n",
    "results = []\n",
    "best_aic = float(\"inf\")\n",
    "warnings.filterwarnings('ignore')\n",
    "\n",
    "for param in parameters_list:\n",
    "    #try except нужен, потому что на некоторых наборах параметров модель не обучается\n",
    "    try:\n",
    "        model=sm.tsa.statespace.SARIMAX(sberbank.amount_box, order=(param[0], d, param[1]), \n",
    "                                        seasonal_order=(param[2], D, param[3], 12)).fit(disp=-1)\n",
    "    #выводим параметры, на которых модель не обучается и переходим к следующему набору\n",
    "    except ValueError:\n",
    "        print('wrong parameters:', param)\n",
    "        continue\n",
    "    aic = model.aic\n",
    "    #сохраняем лучшую модель, aic, параметры\n",
    "    if aic < best_aic:\n",
    "        best_model = model\n",
    "        best_aic = aic\n",
    "        best_param = param\n",
    "    results.append([param, model.aic])\n",
    "    \n",
    "warnings.filterwarnings('default')"
   ]
  },
  {
   "cell_type": "markdown",
   "metadata": {},
   "source": [
    "<font color=darkblue>Преобразуем из массива в таблицу и сортируем по возрастанию значения **AIC**."
   ]
  },
  {
   "cell_type": "code",
   "execution_count": null,
   "metadata": {},
   "outputs": [],
   "source": [
    "result_table = pd.DataFrame(results)\n",
    "result_table.columns = ['parameters', 'aic']\n",
    "print(result_table.sort_values(by = 'aic', ascending=True).head())"
   ]
  },
  {
   "cell_type": "markdown",
   "metadata": {},
   "source": [
    "<font color=darkblue>Лучшая модель:"
   ]
  },
  {
   "cell_type": "markdown",
   "metadata": {},
   "source": [
    "### Прогноз"
   ]
  },
  {
   "cell_type": "code",
   "execution_count": null,
   "metadata": {
    "scrolled": true
   },
   "outputs": [],
   "source": [
    "sberbank2 = sberbank[['amount']]\n",
    "date_list = [datetime.datetime.strptime(\"2018-06-01\", \"%Y-%m-%d\") + relativedelta(months=x) for x in range(0,12)]\n",
    "future = pd.DataFrame(index=date_list, columns= sberbank2.columns)\n",
    "sberbank2 = pd.concat([sberbank2, future])\n",
    "sberbank2['forecast'] = invboxcox(best_model.predict(start=53, end=65), lmbda)\n",
    "\n",
    "plt.figure(figsize(15,7))\n",
    "sberbank2.amount.plot()\n",
    "sberbank2.forecast.plot(color='r')\n",
    "plt.ylabel('Amount')\n",
    "pylab.show()"
   ]
  },
  {
   "cell_type": "code",
   "execution_count": null,
   "metadata": {},
   "outputs": [],
   "source": []
  }
 ],
 "metadata": {
  "kernelspec": {
   "display_name": "Python 3",
   "language": "python",
   "name": "python3"
  },
  "language_info": {
   "codemirror_mode": {
    "name": "ipython",
    "version": 3
   },
   "file_extension": ".py",
   "mimetype": "text/x-python",
   "name": "python",
   "nbconvert_exporter": "python",
   "pygments_lexer": "ipython3",
   "version": "3.6.5"
  }
 },
 "nbformat": 4,
 "nbformat_minor": 2
}
