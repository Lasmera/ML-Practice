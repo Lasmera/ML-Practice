{
 "cells": [
  {
   "cell_type": "markdown",
   "metadata": {},
   "source": [
    "# Конструирование и отбор признаков, подбор гиперпараметров модели\n",
    "<font color=darkblue>Задача: Опредлить объявление о продажи машин будет популярно или нет, по среднему количеству просмотров в день. Эта информация(одно из применений) поможет позволить размещать на популярных страницах рекламные банеры. <br/>\n",
    "Это задача бинарной классификации, т.к. классов 2 (популярно/нет). "
   ]
  },
  {
   "cell_type": "markdown",
   "metadata": {},
   "source": [
    "## 1. Подготовка данных \n",
    "<font color=darkblue>Загрузим данные по объявлениям о продажах автомобилей "
   ]
  },
  {
   "cell_type": "code",
   "execution_count": 1,
   "metadata": {},
   "outputs": [],
   "source": [
    "import warnings\n",
    "warnings.filterwarnings('ignore')\n",
    "import pandas as pd\n",
    "pd.set_option('display.float_format', lambda x: \"%.2f\" % x)\n",
    "df = pd.read_csv(u'../data/auto.ru_data.csv')"
   ]
  },
  {
   "cell_type": "code",
   "execution_count": 2,
   "metadata": {},
   "outputs": [
    {
     "name": "stdout",
     "output_type": "stream",
     "text": [
      "(20237, 23)\n"
     ]
    },
    {
     "data": {
      "text/html": [
       "<div>\n",
       "<style scoped>\n",
       "    .dataframe tbody tr th:only-of-type {\n",
       "        vertical-align: middle;\n",
       "    }\n",
       "\n",
       "    .dataframe tbody tr th {\n",
       "        vertical-align: top;\n",
       "    }\n",
       "\n",
       "    .dataframe thead th {\n",
       "        text-align: right;\n",
       "    }\n",
       "</style>\n",
       "<table border=\"1\" class=\"dataframe\">\n",
       "  <thead>\n",
       "    <tr style=\"text-align: right;\">\n",
       "      <th></th>\n",
       "      <th>Год выпуска</th>\n",
       "      <th>КПП</th>\n",
       "      <th>Привод</th>\n",
       "      <th>Пробег</th>\n",
       "      <th>Тип кузова</th>\n",
       "      <th>Состояние</th>\n",
       "      <th>Срок владения</th>\n",
       "      <th>Цвет</th>\n",
       "      <th>Руль</th>\n",
       "      <th>Владельцы</th>\n",
       "      <th>...</th>\n",
       "      <th>Модель</th>\n",
       "      <th>Город</th>\n",
       "      <th>Объем двигателя</th>\n",
       "      <th>Мощность двигателя</th>\n",
       "      <th>Двигатель</th>\n",
       "      <th>Цена</th>\n",
       "      <th>Дата</th>\n",
       "      <th>Количество дней</th>\n",
       "      <th>Просмотров всего</th>\n",
       "      <th>Просмотров в день</th>\n",
       "    </tr>\n",
       "  </thead>\n",
       "  <tbody>\n",
       "    <tr>\n",
       "      <th>0</th>\n",
       "      <td>2012.00</td>\n",
       "      <td>механическая</td>\n",
       "      <td>передний</td>\n",
       "      <td>141000.00</td>\n",
       "      <td>внедорожник 5 дв.</td>\n",
       "      <td>Не требует ремонта</td>\n",
       "      <td>NaN</td>\n",
       "      <td>белый</td>\n",
       "      <td>Левый</td>\n",
       "      <td>2 владельца</td>\n",
       "      <td>...</td>\n",
       "      <td>ix35 I</td>\n",
       "      <td>Воронеж</td>\n",
       "      <td>2.00</td>\n",
       "      <td>150.00</td>\n",
       "      <td>Бензин</td>\n",
       "      <td>790000</td>\n",
       "      <td>2018-06-25</td>\n",
       "      <td>60</td>\n",
       "      <td>387.00</td>\n",
       "      <td>6.45</td>\n",
       "    </tr>\n",
       "    <tr>\n",
       "      <th>1</th>\n",
       "      <td>2014.00</td>\n",
       "      <td>автоматическая</td>\n",
       "      <td>полный</td>\n",
       "      <td>80189.00</td>\n",
       "      <td>внедорожник 5 дв.</td>\n",
       "      <td>Не требует ремонта</td>\n",
       "      <td>NaN</td>\n",
       "      <td>белый</td>\n",
       "      <td>Левый</td>\n",
       "      <td>3 или более</td>\n",
       "      <td>...</td>\n",
       "      <td>X1 I (E84) Рестайлинг 20d</td>\n",
       "      <td>Москва</td>\n",
       "      <td>2.00</td>\n",
       "      <td>184.00</td>\n",
       "      <td>Дизель</td>\n",
       "      <td>1368000</td>\n",
       "      <td>2018-06-25</td>\n",
       "      <td>60</td>\n",
       "      <td>657.00</td>\n",
       "      <td>10.95</td>\n",
       "    </tr>\n",
       "    <tr>\n",
       "      <th>2</th>\n",
       "      <td>2010.00</td>\n",
       "      <td>механическая</td>\n",
       "      <td>передний</td>\n",
       "      <td>143000.00</td>\n",
       "      <td>седан</td>\n",
       "      <td>Не требует ремонта</td>\n",
       "      <td>NaN</td>\n",
       "      <td>бежевый</td>\n",
       "      <td>Левый</td>\n",
       "      <td>3 или более</td>\n",
       "      <td>...</td>\n",
       "      <td>Logan I Рестайлинг</td>\n",
       "      <td>Воронеж</td>\n",
       "      <td>1.40</td>\n",
       "      <td>75.00</td>\n",
       "      <td>Бензин</td>\n",
       "      <td>320000</td>\n",
       "      <td>2018-06-25</td>\n",
       "      <td>60</td>\n",
       "      <td>470.00</td>\n",
       "      <td>7.83</td>\n",
       "    </tr>\n",
       "    <tr>\n",
       "      <th>3</th>\n",
       "      <td>2009.00</td>\n",
       "      <td>механическая</td>\n",
       "      <td>передний</td>\n",
       "      <td>126000.00</td>\n",
       "      <td>седан</td>\n",
       "      <td>Не требует ремонта</td>\n",
       "      <td>NaN</td>\n",
       "      <td>жёлтый</td>\n",
       "      <td>Левый</td>\n",
       "      <td>3 или более</td>\n",
       "      <td>...</td>\n",
       "      <td>Nexia I Рестайлинг</td>\n",
       "      <td>Россошь</td>\n",
       "      <td>1.50</td>\n",
       "      <td>80.00</td>\n",
       "      <td>Бензин</td>\n",
       "      <td>150000</td>\n",
       "      <td>2018-06-25</td>\n",
       "      <td>60</td>\n",
       "      <td>438.00</td>\n",
       "      <td>7.30</td>\n",
       "    </tr>\n",
       "    <tr>\n",
       "      <th>4</th>\n",
       "      <td>2011.00</td>\n",
       "      <td>механическая</td>\n",
       "      <td>передний</td>\n",
       "      <td>159000.00</td>\n",
       "      <td>хэтчбек 5 дв.</td>\n",
       "      <td>Не требует ремонта</td>\n",
       "      <td>NaN</td>\n",
       "      <td>красный</td>\n",
       "      <td>Левый</td>\n",
       "      <td>3 или более</td>\n",
       "      <td>...</td>\n",
       "      <td>C4 II</td>\n",
       "      <td>Воронеж</td>\n",
       "      <td>1.60</td>\n",
       "      <td>120.00</td>\n",
       "      <td>Бензин</td>\n",
       "      <td>410000</td>\n",
       "      <td>2018-06-25</td>\n",
       "      <td>60</td>\n",
       "      <td>442.00</td>\n",
       "      <td>7.37</td>\n",
       "    </tr>\n",
       "  </tbody>\n",
       "</table>\n",
       "<p>5 rows × 23 columns</p>\n",
       "</div>"
      ],
      "text/plain": [
       "   Год выпуска             КПП    Привод    Пробег         Тип кузова  \\\n",
       "0      2012.00    механическая  передний 141000.00  внедорожник 5 дв.   \n",
       "1      2014.00  автоматическая    полный  80189.00  внедорожник 5 дв.   \n",
       "2      2010.00    механическая  передний 143000.00              седан   \n",
       "3      2009.00    механическая  передний 126000.00              седан   \n",
       "4      2011.00    механическая  передний 159000.00      хэтчбек 5 дв.   \n",
       "\n",
       "            Состояние Срок владения     Цвет   Руль    Владельцы  \\\n",
       "0  Не требует ремонта           NaN    белый  Левый  2 владельца   \n",
       "1  Не требует ремонта           NaN    белый  Левый  3 или более   \n",
       "2  Не требует ремонта           NaN  бежевый  Левый  3 или более   \n",
       "3  Не требует ремонта           NaN   жёлтый  Левый  3 или более   \n",
       "4  Не требует ремонта           NaN  красный  Левый  3 или более   \n",
       "\n",
       "         ...                            Модель    Город Объем двигателя  \\\n",
       "0        ...                            ix35 I  Воронеж            2.00   \n",
       "1        ...         X1 I (E84) Рестайлинг 20d   Москва            2.00   \n",
       "2        ...                Logan I Рестайлинг  Воронеж            1.40   \n",
       "3        ...                Nexia I Рестайлинг  Россошь            1.50   \n",
       "4        ...                             C4 II  Воронеж            1.60   \n",
       "\n",
       "  Мощность двигателя Двигатель     Цена        Дата Количество дней  \\\n",
       "0             150.00    Бензин   790000  2018-06-25              60   \n",
       "1             184.00    Дизель  1368000  2018-06-25              60   \n",
       "2              75.00    Бензин   320000  2018-06-25              60   \n",
       "3              80.00    Бензин   150000  2018-06-25              60   \n",
       "4             120.00    Бензин   410000  2018-06-25              60   \n",
       "\n",
       "   Просмотров всего Просмотров в день  \n",
       "0            387.00              6.45  \n",
       "1            657.00             10.95  \n",
       "2            470.00              7.83  \n",
       "3            438.00              7.30  \n",
       "4            442.00              7.37  \n",
       "\n",
       "[5 rows x 23 columns]"
      ]
     },
     "execution_count": 2,
     "metadata": {},
     "output_type": "execute_result"
    }
   ],
   "source": [
    "print(df.shape)\n",
    "df.head()"
   ]
  },
  {
   "cell_type": "markdown",
   "metadata": {},
   "source": [
    "### Популярнось объявления\n",
    "<font color=darkblue>Определять популярное объявление или нет мы будем по среднему количеству просмотров в день. Необходимо разделить выборку на 2 части. Для начала заполним пропущенные данные по просмотрам нулями.   "
   ]
  },
  {
   "cell_type": "code",
   "execution_count": 3,
   "metadata": {},
   "outputs": [],
   "source": [
    "df['Просмотров в день']=df['Просмотров в день'].fillna(0).astype(int)"
   ]
  },
  {
   "cell_type": "markdown",
   "metadata": {},
   "source": [
    "<font color=darkblue>Разделить выборку на равные части поможет процедура  describe(). \n",
    "Можно заметить, что граница 50% проходит на 10 просмотрах в день.\n"
   ]
  },
  {
   "cell_type": "code",
   "execution_count": 4,
   "metadata": {},
   "outputs": [
    {
     "data": {
      "text/html": [
       "<div>\n",
       "<style scoped>\n",
       "    .dataframe tbody tr th:only-of-type {\n",
       "        vertical-align: middle;\n",
       "    }\n",
       "\n",
       "    .dataframe tbody tr th {\n",
       "        vertical-align: top;\n",
       "    }\n",
       "\n",
       "    .dataframe thead th {\n",
       "        text-align: right;\n",
       "    }\n",
       "</style>\n",
       "<table border=\"1\" class=\"dataframe\">\n",
       "  <thead>\n",
       "    <tr style=\"text-align: right;\">\n",
       "      <th></th>\n",
       "      <th>Год выпуска</th>\n",
       "      <th>Пробег</th>\n",
       "      <th>Объем двигателя</th>\n",
       "      <th>Мощность двигателя</th>\n",
       "      <th>Цена</th>\n",
       "      <th>Количество дней</th>\n",
       "      <th>Просмотров всего</th>\n",
       "      <th>Просмотров в день</th>\n",
       "    </tr>\n",
       "  </thead>\n",
       "  <tbody>\n",
       "    <tr>\n",
       "      <th>count</th>\n",
       "      <td>14739.00</td>\n",
       "      <td>14739.00</td>\n",
       "      <td>14738.00</td>\n",
       "      <td>14738.00</td>\n",
       "      <td>20237.00</td>\n",
       "      <td>20237.00</td>\n",
       "      <td>14738.00</td>\n",
       "      <td>20237.00</td>\n",
       "    </tr>\n",
       "    <tr>\n",
       "      <th>mean</th>\n",
       "      <td>2009.28</td>\n",
       "      <td>120236.89</td>\n",
       "      <td>2.04</td>\n",
       "      <td>147.37</td>\n",
       "      <td>1104596.17</td>\n",
       "      <td>21.09</td>\n",
       "      <td>672.09</td>\n",
       "      <td>14.58</td>\n",
       "    </tr>\n",
       "    <tr>\n",
       "      <th>std</th>\n",
       "      <td>5.75</td>\n",
       "      <td>77274.61</td>\n",
       "      <td>0.78</td>\n",
       "      <td>70.78</td>\n",
       "      <td>4807902.68</td>\n",
       "      <td>40.32</td>\n",
       "      <td>2391.36</td>\n",
       "      <td>21.38</td>\n",
       "    </tr>\n",
       "    <tr>\n",
       "      <th>min</th>\n",
       "      <td>1951.00</td>\n",
       "      <td>1.00</td>\n",
       "      <td>0.60</td>\n",
       "      <td>23.00</td>\n",
       "      <td>10000.00</td>\n",
       "      <td>1.00</td>\n",
       "      <td>1.00</td>\n",
       "      <td>0.00</td>\n",
       "    </tr>\n",
       "    <tr>\n",
       "      <th>25%</th>\n",
       "      <td>2007.00</td>\n",
       "      <td>70000.00</td>\n",
       "      <td>1.60</td>\n",
       "      <td>102.00</td>\n",
       "      <td>370000.00</td>\n",
       "      <td>1.00</td>\n",
       "      <td>113.00</td>\n",
       "      <td>0.00</td>\n",
       "    </tr>\n",
       "    <tr>\n",
       "      <th>50%</th>\n",
       "      <td>2011.00</td>\n",
       "      <td>108519.00</td>\n",
       "      <td>1.80</td>\n",
       "      <td>130.00</td>\n",
       "      <td>659900.00</td>\n",
       "      <td>11.00</td>\n",
       "      <td>246.00</td>\n",
       "      <td>10.00</td>\n",
       "    </tr>\n",
       "    <tr>\n",
       "      <th>75%</th>\n",
       "      <td>2013.00</td>\n",
       "      <td>158000.00</td>\n",
       "      <td>2.30</td>\n",
       "      <td>170.00</td>\n",
       "      <td>1249999.00</td>\n",
       "      <td>18.00</td>\n",
       "      <td>575.00</td>\n",
       "      <td>19.00</td>\n",
       "    </tr>\n",
       "    <tr>\n",
       "      <th>max</th>\n",
       "      <td>2018.00</td>\n",
       "      <td>1000000.00</td>\n",
       "      <td>6.60</td>\n",
       "      <td>612.00</td>\n",
       "      <td>661299008.00</td>\n",
       "      <td>772.00</td>\n",
       "      <td>99950.00</td>\n",
       "      <td>512.00</td>\n",
       "    </tr>\n",
       "  </tbody>\n",
       "</table>\n",
       "</div>"
      ],
      "text/plain": [
       "       Год выпуска     Пробег  Объем двигателя  Мощность двигателя  \\\n",
       "count     14739.00   14739.00         14738.00            14738.00   \n",
       "mean       2009.28  120236.89             2.04              147.37   \n",
       "std           5.75   77274.61             0.78               70.78   \n",
       "min        1951.00       1.00             0.60               23.00   \n",
       "25%        2007.00   70000.00             1.60              102.00   \n",
       "50%        2011.00  108519.00             1.80              130.00   \n",
       "75%        2013.00  158000.00             2.30              170.00   \n",
       "max        2018.00 1000000.00             6.60              612.00   \n",
       "\n",
       "              Цена  Количество дней  Просмотров всего  Просмотров в день  \n",
       "count     20237.00         20237.00          14738.00           20237.00  \n",
       "mean    1104596.17            21.09            672.09              14.58  \n",
       "std     4807902.68            40.32           2391.36              21.38  \n",
       "min       10000.00             1.00              1.00               0.00  \n",
       "25%      370000.00             1.00            113.00               0.00  \n",
       "50%      659900.00            11.00            246.00              10.00  \n",
       "75%     1249999.00            18.00            575.00              19.00  \n",
       "max   661299008.00           772.00          99950.00             512.00  "
      ]
     },
     "execution_count": 4,
     "metadata": {},
     "output_type": "execute_result"
    }
   ],
   "source": [
    "df.describe()"
   ]
  },
  {
   "cell_type": "markdown",
   "metadata": {},
   "source": [
    "<font color=darkblue> Произведем дискретизацию, преобразуем непрерыную величину к двум классам. "
   ]
  },
  {
   "cell_type": "code",
   "execution_count": 5,
   "metadata": {},
   "outputs": [],
   "source": [
    "import numpy as np\n",
    "df['Популярно'] = np.where(df['Просмотров в день'] >= 10, 'yes', 'no')\n"
   ]
  },
  {
   "cell_type": "markdown",
   "metadata": {},
   "source": [
    "<font color=darkblue>Перемешаем данные(функция pd.sample , параметр frac позволяет получить случайную подвыборку, для ускорения времени обучения). \n",
    "\n",
    "Проверим разбиение разбивает выборку пополам   "
   ]
  },
  {
   "cell_type": "code",
   "execution_count": 6,
   "metadata": {},
   "outputs": [
    {
     "data": {
      "text/plain": [
       "yes    2562\n",
       "no     2497\n",
       "Name: Популярно, dtype: int64"
      ]
     },
     "execution_count": 6,
     "metadata": {},
     "output_type": "execute_result"
    }
   ],
   "source": [
    "df = df.sample(frac=0.25, random_state=0).reset_index(drop=True)\n",
    "df['Популярно'].value_counts()"
   ]
  },
  {
   "cell_type": "markdown",
   "metadata": {},
   "source": [
    "<font color=darkblue>Удалим прогнозируемую колонку из набора обучающих данных"
   ]
  },
  {
   "cell_type": "code",
   "execution_count": 7,
   "metadata": {},
   "outputs": [],
   "source": [
    "y=df['Популярно']\n",
    "df=df.drop(columns=['Популярно'])"
   ]
  },
  {
   "cell_type": "markdown",
   "metadata": {},
   "source": [
    "## 2. Преобразуем наш датафрейм в массив признаков \n",
    "<font color=darkblue>воспользуемся dummy кодированием. Оно игнорирует числовые колонки, оставляя их без изменения и не включает текстовые атрибуты. \n",
    "\n",
    "Дополнительно создадим колонку с числом символов в объявлении, подробный текст может влиять на просматриваемость. "
   ]
  },
  {
   "cell_type": "code",
   "execution_count": 8,
   "metadata": {},
   "outputs": [
    {
     "data": {
      "text/plain": [
       "Index(['Тип кузова_фургон', 'Тип кузова_хэтчбек 3 дв.',\n",
       "       'Тип кузова_хэтчбек 4 дв.', 'Тип кузова_хэтчбек 5 дв.',\n",
       "       'Состояние_Не требует ремонта', 'Срок владения_1 год',\n",
       "       'Срок владения_1 год и 1 месяц', 'Срок владения_1 год и 10 месяцев',\n",
       "       'Срок владения_1 год и 11 месяцев', 'Срок владения_1 год и 2 месяца',\n",
       "       ...\n",
       "       'Дата_2018-08-08', 'Дата_2018-08-09', 'Дата_2018-08-10',\n",
       "       'Дата_2018-08-11', 'Дата_2018-08-12', 'Дата_2018-08-13',\n",
       "       'Дата_2018-08-14', 'Дата_2018-08-15', 'Дата_2018-08-16',\n",
       "       'Дата_2018-08-23'],\n",
       "      dtype='object', length=6211)"
      ]
     },
     "execution_count": 8,
     "metadata": {},
     "output_type": "execute_result"
    }
   ],
   "source": [
    "df['Символов в объявлении']=df['Комментарий'].str.len()\n",
    "df_dummy = pd.get_dummies(df)\n",
    "df_dummy=df_dummy.fillna(0)\n",
    "df_dummy.columns[33:]"
   ]
  },
  {
   "cell_type": "markdown",
   "metadata": {},
   "source": [
    "<font color=darkblue>Разобьем массив получившихся признаков на 2 части. на обучающий набор и на тестовый"
   ]
  },
  {
   "cell_type": "code",
   "execution_count": 9,
   "metadata": {},
   "outputs": [
    {
     "data": {
      "text/plain": [
       "(4047, 6244)"
      ]
     },
     "execution_count": 9,
     "metadata": {},
     "output_type": "execute_result"
    }
   ],
   "source": [
    "from sklearn.model_selection import train_test_split\n",
    "X_train, X_test, y_train, y_test = train_test_split(df_dummy, y, test_size=0.2,random_state=0)\n",
    "X_train.shape"
   ]
  },
  {
   "cell_type": "code",
   "execution_count": 10,
   "metadata": {},
   "outputs": [
    {
     "data": {
      "text/plain": [
       "(1012, 6244)"
      ]
     },
     "execution_count": 10,
     "metadata": {},
     "output_type": "execute_result"
    }
   ],
   "source": [
    "X_test.shape"
   ]
  },
  {
   "cell_type": "markdown",
   "metadata": {},
   "source": [
    "<font color=darkblue>применим логистическую регрессию и анализируем результат "
   ]
  },
  {
   "cell_type": "code",
   "execution_count": 11,
   "metadata": {},
   "outputs": [
    {
     "name": "stdout",
     "output_type": "stream",
     "text": [
      "              precision    recall  f1-score   support\n",
      "\n",
      "          no       1.00      1.00      1.00       515\n",
      "         yes       1.00      1.00      1.00       497\n",
      "\n",
      "   micro avg       1.00      1.00      1.00      1012\n",
      "   macro avg       1.00      1.00      1.00      1012\n",
      "weighted avg       1.00      1.00      1.00      1012\n",
      "\n",
      "Accuracy 1.0\n"
     ]
    }
   ],
   "source": [
    "from sklearn.linear_model import LogisticRegression\n",
    "from sklearn.metrics import classification_report, accuracy_score\n",
    "clf = LogisticRegression(penalty='l1')\n",
    "clf.fit(X_train, y_train)\n",
    "\n",
    "y_predicted = clf.predict(X_test)\n",
    "print(classification_report(y_predicted, y_test))\n",
    "print('Accuracy',accuracy_score(y_predicted, y_test)) "
   ]
  },
  {
   "cell_type": "markdown",
   "metadata": {},
   "source": [
    "### Мы достигли максимальной точности , алгоритм не дает ни одной ошибки. Отличный результат!!! \n",
    "<font color=darkblue>НО, скорее всего существуют признаки от которых зависит целевая переменная Y, алгоритму машинного обучения очень просто обнаружить такие зависимости. "
   ]
  },
  {
   "cell_type": "code",
   "execution_count": 107,
   "metadata": {},
   "outputs": [
    {
     "data": {
      "text/plain": [
       "Index(['Год выпуска', 'КПП', 'Привод', 'Пробег', 'Тип кузова', 'Состояние',\n",
       "       'Срок владения', 'Цвет', 'Руль', 'Владельцы', 'ПТС', 'Комментарий',\n",
       "       'Марка', 'Модель', 'Город', 'Объем двигателя', 'Мощность двигателя',\n",
       "       'Двигатель', 'Цена', 'Дата', 'Количество дней', 'Просмотров всего',\n",
       "       'Просмотров в день', 'Символов в объявлении'],\n",
       "      dtype='object')"
      ]
     },
     "execution_count": 107,
     "metadata": {},
     "output_type": "execute_result"
    }
   ],
   "source": [
    "df.columns"
   ]
  },
  {
   "cell_type": "markdown",
   "metadata": {},
   "source": [
    "<font color=darkblue>Проверим список колонок и удалим те которые могут яным образом влиять на результат. "
   ]
  },
  {
   "cell_type": "code",
   "execution_count": 108,
   "metadata": {},
   "outputs": [],
   "source": [
    "df = df.drop(columns=['Просмотров в день','Просмотров всего','Количество дней','Дата'])"
   ]
  },
  {
   "cell_type": "code",
   "execution_count": 109,
   "metadata": {},
   "outputs": [],
   "source": [
    "df_dummy = pd.get_dummies(df).fillna(0)\n",
    "X_train, X_test, y_train, y_test = train_test_split(df_dummy, y, test_size=0.2,random_state=0)"
   ]
  },
  {
   "cell_type": "code",
   "execution_count": 110,
   "metadata": {},
   "outputs": [
    {
     "name": "stdout",
     "output_type": "stream",
     "text": [
      "              precision    recall  f1-score   support\n",
      "\n",
      "          no       0.70      0.84      0.77       428\n",
      "         yes       0.87      0.74      0.80       584\n",
      "\n",
      "   micro avg       0.78      0.78      0.78      1012\n",
      "   macro avg       0.78      0.79      0.78      1012\n",
      "weighted avg       0.80      0.78      0.78      1012\n",
      "\n",
      "Accuracy 0.7816205533596838\n"
     ]
    }
   ],
   "source": [
    "clf = LogisticRegression(penalty='l1')\n",
    "\n",
    "clf.fit(X_train, y_train)\n",
    "\n",
    "y_predicted = clf.predict(X_test)\n",
    "print(classification_report(y_predicted, y_test))\n",
    "print('Accuracy',accuracy_score(y_predicted, y_test)) "
   ]
  },
  {
   "cell_type": "markdown",
   "metadata": {},
   "source": [
    "<font color=darkblue>Давайте перепопробуем все алгоритмы со значениями по умолчанию и сравним результат:\n",
    "- \"k-ближайших соседей\"\n",
    "- \"Линейный SVM\" \n",
    "- \"наивный баес\"\n",
    "- \"Решающие деревья\" \n",
    "- \"Случайный лес\"\n",
    "- \"Нейронные сети\"\n",
    "- \"Логистическая регрессия\"\n",
    "\n",
    "Подключим библиотеки алгоритмов"
   ]
  },
  {
   "cell_type": "code",
   "execution_count": 111,
   "metadata": {},
   "outputs": [],
   "source": [
    "from sklearn.svm import LinearSVC\n",
    "from sklearn.linear_model import SGDClassifier \n",
    "from sklearn.tree import DecisionTreeClassifier\n",
    "from sklearn.ensemble import RandomForestClassifier\n",
    "from sklearn.naive_bayes import GaussianNB\n",
    "from sklearn.neighbors import KNeighborsClassifier\n",
    "from sklearn.neural_network import MLPClassifier"
   ]
  },
  {
   "cell_type": "markdown",
   "metadata": {},
   "source": [
    "<font color=darkblue>С алгоритмами можно работать универсальным образом, что очень удобно, проверим время выполнения каждого. Сравните время выполнения и качество прогноза с параметрами по умолчанию. "
   ]
  },
  {
   "cell_type": "code",
   "execution_count": 112,
   "metadata": {},
   "outputs": [],
   "source": [
    "import time\n",
    "names = [\"k-Соседей\",\n",
    "    \"Линейный SVM\", \"Наивный баес\",\n",
    "         \"Решающие деревья\", \"Случайный лес\", \"Нейронные сети\", \"Логистическая регрессия\"]\n",
    "\n",
    "classifiers = [\n",
    "    KNeighborsClassifier(),\n",
    "    LinearSVC(),GaussianNB(),DecisionTreeClassifier(),\n",
    "    RandomForestClassifier(),MLPClassifier(hidden_layer_sizes=(50,)),LogisticRegression()]\n",
    "\n",
    "scores=[]\n",
    "scores_train=[]\n",
    "times=[]\n",
    "for name, clf in zip(names, classifiers): \n",
    "    start_time=time.time()\n",
    "    clf.fit(X_train, y_train)\n",
    "    y_predicted = clf.predict(X_test)\n",
    "    scores.append( accuracy_score(y_predicted, y_test)  )\n",
    "    scores_train.append( accuracy_score(clf.predict(X_train), y_train) )\n",
    "    times.append(time.time() -start_time )"
   ]
  },
  {
   "cell_type": "markdown",
   "metadata": {},
   "source": [
    "<font color=darkblue>Визуализируем результаты показателя \"accuracy\". причем отобразим одновременно и резульаты на обучающей выборке(синим) и на тестовой. Какие алгоритмы переобучились?   "
   ]
  },
  {
   "cell_type": "code",
   "execution_count": 113,
   "metadata": {
    "scrolled": true
   },
   "outputs": [
    {
     "data": {
      "image/png": "[encoded data removed]",
      "text/plain": [
       "<Figure size 432x288 with 1 Axes>"
      ]
     },
     "metadata": {},
     "output_type": "display_data"
    }
   ],
   "source": [
    "%matplotlib inline\n",
    "from matplotlib import pylab as plt\n",
    "plt.barh(names,scores_train)\n",
    "for i, v in enumerate(scores_train):\n",
    "    plt.text(v , i , str(round(v,2)), color='black', fontweight='bold')\n",
    "plt.barh(names,scores)\n",
    "for i, v in enumerate(scores):\n",
    "    plt.text(v , i , str(round(v,2)), color='blue', fontweight='bold')"
   ]
  },
  {
   "cell_type": "markdown",
   "metadata": {},
   "source": [
    "<font color=darkblue>Время выполнения каждого алгоритма. Сравните их между собой(если увеличить размер обучающей выборки то пропорция значительно поменяется)"
   ]
  },
  {
   "cell_type": "code",
   "execution_count": 114,
   "metadata": {},
   "outputs": [
    {
     "data": {
      "text/plain": [
       "<BarContainer object of 7 artists>"
      ]
     },
     "execution_count": 114,
     "metadata": {},
     "output_type": "execute_result"
    },
    {
     "data": {
      "image/png": "[encoded data removed]",
      "text/plain": [
       "<Figure size 432x288 with 1 Axes>"
      ]
     },
     "metadata": {},
     "output_type": "display_data"
    }
   ],
   "source": [
    "plt.barh(names,times)"
   ]
  },
  {
   "cell_type": "markdown",
   "metadata": {},
   "source": [
    "# 3. Получили baseline который попробуем улучшить \n",
    "<font color=darkblue>Обратите внимание что все алгоритмы дают примерно одинаковый результат на тесте, SVM (очень мощного алгоритма)\n",
    "проблема линейного алгоритма в том что вещественный признаки отличаются по масштабу от большинства справочных данных, закодированных Dummy.  "
   ]
  },
  {
   "cell_type": "markdown",
   "metadata": {},
   "source": [
    "## 3.1. Заполнение пустых значений в данных "
   ]
  },
  {
   "cell_type": "markdown",
   "metadata": {},
   "source": [
    "<font color=darkblue>проверим кол-во пустых значений, если данных достуточно то часто используют удаление строк где есть хоть одно пустое \n",
    "значение атрибута "
   ]
  },
  {
   "cell_type": "code",
   "execution_count": 115,
   "metadata": {},
   "outputs": [
    {
     "name": "stdout",
     "output_type": "stream",
     "text": [
      "Год выпуска          - 1365 пустых значений.\n",
      "КПП                  - 1365 пустых значений.\n",
      "Привод               - 1365 пустых значений.\n",
      "Пробег               - 1365 пустых значений.\n",
      "Тип кузова           - 1365 пустых значений.\n",
      "Состояние            - 1365 пустых значений.\n",
      "Срок владения        - 3490 пустых значений.\n",
      "Цвет                 - 1365 пустых значений.\n",
      "Руль                 - 1521 пустых значений.\n",
      "Владельцы            - 1425 пустых значений.\n",
      "ПТС                  - 1365 пустых значений.\n",
      "Комментарий          - 239 пустых значений.\n",
      "Марка                - 0 пустых значений.\n",
      "Модель               - 0 пустых значений.\n",
      "Город                - 103 пустых значений.\n",
      "Объем двигателя      - 1366 пустых значений.\n",
      "Мощность двигателя   - 1366 пустых значений.\n",
      "Двигатель            - 1366 пустых значений.\n",
      "Цена                 - 0 пустых значений.\n",
      "Символов в объявлении - 239 пустых значений.\n"
     ]
    }
   ],
   "source": [
    "for feature in df.columns:\n",
    "    number = len(df) - len(df[df.isnull().apply(lambda x: not(x[feature]), axis=1)])\n",
    "    print(\"{0:20} - {1} пустых значений.\".format(feature, number))"
   ]
  },
  {
   "cell_type": "markdown",
   "metadata": {},
   "source": [
    " ### 3.1.1. Категориальные признаки\n",
    "<font color=darkblue> Заполнение пустых значений у категориальных признаков на отдельное значение справочника\n",
    " \n",
    " Также возможно применение стратегии замены на самое частоиспользуемое значение.\n",
    "  "
   ]
  },
  {
   "cell_type": "code",
   "execution_count": 116,
   "metadata": {},
   "outputs": [],
   "source": [
    "df[\"КПП\"] = df[\"КПП\"].fillna(\"empty\")\n",
    "df[\"Привод\"] = df[\"Привод\"].fillna(\"empty\")\n",
    "df[\"Тип кузова\"] = df[\"Тип кузова\"].fillna(\"empty\")\n",
    "df[\"Состояние\"] = df[\"Состояние\"].fillna(\"empty\")\n",
    "df[\"Цвет\"] = df[\"Цвет\"].fillna(\"empty\")\n",
    "df[\"Руль\"] = df[\"Руль\"].fillna(\"empty\")\n",
    "df[\"Владельцы\"] = df[\"Владельцы\"].fillna(\"empty\")\n",
    "df[\"ПТС\"] = df[\"ПТС\"].fillna(\"empty\")\n",
    "df[\"Город\"] = df[\"Город\"].fillna(\"empty\")\n",
    "df[\"Двигатель\"] = df[\"Двигатель\"].fillna(\"empty\")\n",
    "df[\"Срок владения\"] = df[\"Срок владения\"].fillna(\"empty\")"
   ]
  },
  {
   "cell_type": "markdown",
   "metadata": {},
   "source": [
    "### 3.1.2. Вещественные признаки\n",
    "<font color=darkblue>существует множество вариантов, самые популярные:\n",
    "- замена средним значением по всей выборке \n",
    "- матричные преобразования\n",
    "- замена значением по методу k-ближайших значений \n",
    "- замена нулем \n",
    "- em-алшоритм\n",
    "- интерполяция "
   ]
  },
  {
   "cell_type": "markdown",
   "metadata": {},
   "source": [
    "#### 3.1.2.1 Применим dummy кодирование\n",
    "<font color=darkblue>для этого нужно перевести вещественные признаки к строковому значению. и тогда NaN будет отдельным признаком "
   ]
  },
  {
   "cell_type": "code",
   "execution_count": 117,
   "metadata": {},
   "outputs": [
    {
     "data": {
      "text/plain": [
       "(5059, 11699)"
      ]
     },
     "execution_count": 117,
     "metadata": {},
     "output_type": "execute_result"
    }
   ],
   "source": [
    "df_allstr=df.astype(str)\n",
    "df_allstr = pd.get_dummies(df_allstr)\n",
    "df_allstr.shape"
   ]
  },
  {
   "cell_type": "markdown",
   "metadata": {},
   "source": [
    "<font color=darkblue>Почти в 2 раза увеличилось число признаков, но посчитаем на тестовой выборке для всех моделей "
   ]
  },
  {
   "cell_type": "code",
   "execution_count": 118,
   "metadata": {},
   "outputs": [
    {
     "data": {
      "image/png": "[encoded data removed]",
      "text/plain": [
       "<Figure size 432x288 with 1 Axes>"
      ]
     },
     "metadata": {},
     "output_type": "display_data"
    }
   ],
   "source": [
    "X_train, X_test, y_train, y_test = train_test_split(df_allstr, y, test_size=0.2,random_state=0)\n",
    "\n",
    "scores=[]\n",
    "times=[]\n",
    "for name, clf in zip(names, classifiers):\n",
    "    start_time=time.time() \n",
    "    clf.fit(X_train, y_train)\n",
    "    y_predicted = clf.predict(X_test)\n",
    "    scores.append( accuracy_score(y_predicted, y_test)  ) \n",
    "    \n",
    "    times.append(time.time() -start_time )\n",
    "\n",
    "plt.barh(names,scores_train)\n",
    "for i, v in enumerate(scores_train):\n",
    "    plt.text(v , i , str(round(v,2)), color='black', fontweight='bold')\n",
    "    \n",
    "plt.barh(names,scores)\n",
    "for i, v in enumerate(scores):\n",
    "    plt.text(v , i , str(round(v,2)), color='blue', fontweight='bold')\n"
   ]
  },
  {
   "cell_type": "code",
   "execution_count": 119,
   "metadata": {},
   "outputs": [
    {
     "data": {
      "text/plain": [
       "<BarContainer object of 7 artists>"
      ]
     },
     "execution_count": 119,
     "metadata": {},
     "output_type": "execute_result"
    },
    {
     "data": {
      "image/png": "[encoded data removed]",
      "text/plain": [
       "<Figure size 432x288 with 1 Axes>"
      ]
     },
     "metadata": {},
     "output_type": "display_data"
    }
   ],
   "source": [
    "plt.barh(names,times)"
   ]
  },
  {
   "cell_type": "markdown",
   "metadata": {},
   "source": [
    "<font color=darkblue>Линейные методы значительно улучшили свои показатели особенно(SVN), но время выполнения стало очень длительным из-за числа признаков, необходимо сократить их, выполняя отбор признаков"
   ]
  },
  {
   "cell_type": "code",
   "execution_count": 120,
   "metadata": {},
   "outputs": [
    {
     "name": "stdout",
     "output_type": "stream",
     "text": [
      "Количество признаков 11699\n"
     ]
    }
   ],
   "source": [
    "print('Количество признаков', df_allstr.columns.shape[0])"
   ]
  },
  {
   "cell_type": "markdown",
   "metadata": {},
   "source": [
    "#### 1.2.2 Применим интерполяцию преобразование числовых признаков \n",
    "<font color=darkblue>- замену пустых на интерполированное значение\n",
    "\n",
    "<font color=darkblue>- преобразование к отрезку (0,1)"
   ]
  },
  {
   "cell_type": "markdown",
   "metadata": {},
   "source": [
    "<font color=darkblue>Воспользуемся методом interpolate который входит в состав библиотеки pandas для замены пустых значений"
   ]
  },
  {
   "cell_type": "code",
   "execution_count": 121,
   "metadata": {},
   "outputs": [
    {
     "data": {
      "text/html": [
       "<div>\n",
       "<style scoped>\n",
       "    .dataframe tbody tr th:only-of-type {\n",
       "        vertical-align: middle;\n",
       "    }\n",
       "\n",
       "    .dataframe tbody tr th {\n",
       "        vertical-align: top;\n",
       "    }\n",
       "\n",
       "    .dataframe thead th {\n",
       "        text-align: right;\n",
       "    }\n",
       "</style>\n",
       "<table border=\"1\" class=\"dataframe\">\n",
       "  <thead>\n",
       "    <tr style=\"text-align: right;\">\n",
       "      <th></th>\n",
       "      <th>Цена</th>\n",
       "      <th>Пробег</th>\n",
       "      <th>Год выпуска</th>\n",
       "      <th>Объем двигателя</th>\n",
       "      <th>Мощность двигателя</th>\n",
       "      <th>Символов в объявлении</th>\n",
       "    </tr>\n",
       "  </thead>\n",
       "  <tbody>\n",
       "    <tr>\n",
       "      <th>1193</th>\n",
       "      <td>8776882</td>\n",
       "      <td>nan</td>\n",
       "      <td>nan</td>\n",
       "      <td>nan</td>\n",
       "      <td>nan</td>\n",
       "      <td>6627.00</td>\n",
       "    </tr>\n",
       "    <tr>\n",
       "      <th>3185</th>\n",
       "      <td>9770000</td>\n",
       "      <td>nan</td>\n",
       "      <td>nan</td>\n",
       "      <td>nan</td>\n",
       "      <td>nan</td>\n",
       "      <td>2801.00</td>\n",
       "    </tr>\n",
       "    <tr>\n",
       "      <th>2214</th>\n",
       "      <td>10024680</td>\n",
       "      <td>nan</td>\n",
       "      <td>nan</td>\n",
       "      <td>nan</td>\n",
       "      <td>nan</td>\n",
       "      <td>1563.00</td>\n",
       "    </tr>\n",
       "    <tr>\n",
       "      <th>1444</th>\n",
       "      <td>10052855</td>\n",
       "      <td>2206.00</td>\n",
       "      <td>2018.00</td>\n",
       "      <td>3.00</td>\n",
       "      <td>367.00</td>\n",
       "      <td>3552.00</td>\n",
       "    </tr>\n",
       "    <tr>\n",
       "      <th>464</th>\n",
       "      <td>13700000</td>\n",
       "      <td>7016.00</td>\n",
       "      <td>2016.00</td>\n",
       "      <td>5.20</td>\n",
       "      <td>610.00</td>\n",
       "      <td>1138.00</td>\n",
       "    </tr>\n",
       "  </tbody>\n",
       "</table>\n",
       "</div>"
      ],
      "text/plain": [
       "          Цена  Пробег  Год выпуска  Объем двигателя  Мощность двигателя  \\\n",
       "1193   8776882     nan          nan              nan                 nan   \n",
       "3185   9770000     nan          nan              nan                 nan   \n",
       "2214  10024680     nan          nan              nan                 nan   \n",
       "1444  10052855 2206.00      2018.00             3.00              367.00   \n",
       "464   13700000 7016.00      2016.00             5.20              610.00   \n",
       "\n",
       "      Символов в объявлении  \n",
       "1193                6627.00  \n",
       "3185                2801.00  \n",
       "2214                1563.00  \n",
       "1444                3552.00  \n",
       "464                 1138.00  "
      ]
     },
     "execution_count": 121,
     "metadata": {},
     "output_type": "execute_result"
    }
   ],
   "source": [
    "interp = df[[\"Цена\", \"Пробег\", \"Год выпуска\", \"Объем двигателя\", \"Мощность двигателя\",\"Символов в объявлении\"]]\n",
    "\n",
    "interp = interp.sort_values(by=\"Цена\")\n",
    "interp.tail()"
   ]
  },
  {
   "cell_type": "code",
   "execution_count": 122,
   "metadata": {},
   "outputs": [
    {
     "data": {
      "text/html": [
       "<div>\n",
       "<style scoped>\n",
       "    .dataframe tbody tr th:only-of-type {\n",
       "        vertical-align: middle;\n",
       "    }\n",
       "\n",
       "    .dataframe tbody tr th {\n",
       "        vertical-align: top;\n",
       "    }\n",
       "\n",
       "    .dataframe thead th {\n",
       "        text-align: right;\n",
       "    }\n",
       "</style>\n",
       "<table border=\"1\" class=\"dataframe\">\n",
       "  <thead>\n",
       "    <tr style=\"text-align: right;\">\n",
       "      <th></th>\n",
       "      <th>Цена</th>\n",
       "      <th>Пробег</th>\n",
       "      <th>Год выпуска</th>\n",
       "      <th>Объем двигателя</th>\n",
       "      <th>Мощность двигателя</th>\n",
       "      <th>Символов в объявлении</th>\n",
       "    </tr>\n",
       "  </thead>\n",
       "  <tbody>\n",
       "    <tr>\n",
       "      <th>1193</th>\n",
       "      <td>8776882</td>\n",
       "      <td>8850.77</td>\n",
       "      <td>2017.54</td>\n",
       "      <td>3.39</td>\n",
       "      <td>387.31</td>\n",
       "      <td>6627.00</td>\n",
       "    </tr>\n",
       "    <tr>\n",
       "      <th>3185</th>\n",
       "      <td>9770000</td>\n",
       "      <td>6635.85</td>\n",
       "      <td>2017.69</td>\n",
       "      <td>3.26</td>\n",
       "      <td>380.54</td>\n",
       "      <td>2801.00</td>\n",
       "    </tr>\n",
       "    <tr>\n",
       "      <th>2214</th>\n",
       "      <td>10024680</td>\n",
       "      <td>4420.92</td>\n",
       "      <td>2017.85</td>\n",
       "      <td>3.13</td>\n",
       "      <td>373.77</td>\n",
       "      <td>1563.00</td>\n",
       "    </tr>\n",
       "    <tr>\n",
       "      <th>1444</th>\n",
       "      <td>10052855</td>\n",
       "      <td>2206.00</td>\n",
       "      <td>2018.00</td>\n",
       "      <td>3.00</td>\n",
       "      <td>367.00</td>\n",
       "      <td>3552.00</td>\n",
       "    </tr>\n",
       "    <tr>\n",
       "      <th>464</th>\n",
       "      <td>13700000</td>\n",
       "      <td>7016.00</td>\n",
       "      <td>2016.00</td>\n",
       "      <td>5.20</td>\n",
       "      <td>610.00</td>\n",
       "      <td>1138.00</td>\n",
       "    </tr>\n",
       "  </tbody>\n",
       "</table>\n",
       "</div>"
      ],
      "text/plain": [
       "          Цена  Пробег  Год выпуска  Объем двигателя  Мощность двигателя  \\\n",
       "1193   8776882 8850.77      2017.54             3.39              387.31   \n",
       "3185   9770000 6635.85      2017.69             3.26              380.54   \n",
       "2214  10024680 4420.92      2017.85             3.13              373.77   \n",
       "1444  10052855 2206.00      2018.00             3.00              367.00   \n",
       "464   13700000 7016.00      2016.00             5.20              610.00   \n",
       "\n",
       "      Символов в объявлении  \n",
       "1193                6627.00  \n",
       "3185                2801.00  \n",
       "2214                1563.00  \n",
       "1444                3552.00  \n",
       "464                 1138.00  "
      ]
     },
     "execution_count": 122,
     "metadata": {},
     "output_type": "execute_result"
    }
   ],
   "source": [
    "interp = interp.interpolate(method=\"linear\")\n",
    "interp.tail()"
   ]
  },
  {
   "cell_type": "markdown",
   "metadata": {},
   "source": [
    "<font color=darkblue>для приведения к отрезку (0,1) воспользуемся метод MinMaxScaler"
   ]
  },
  {
   "cell_type": "code",
   "execution_count": 123,
   "metadata": {},
   "outputs": [],
   "source": [
    "from sklearn.preprocessing import MinMaxScaler\n",
    "scaler = MinMaxScaler()\n",
    "scaler.fit(interp)\n",
    "interp = pd.DataFrame(scaler.transform(interp), columns=[\"Цена\", \"Пробег\", \"Год выпуска\", \"Объем двигателя\", \"Мощность двигателя\",\"Символов в объявлении\"])"
   ]
  },
  {
   "cell_type": "markdown",
   "metadata": {},
   "source": [
    "<font color=darkblue>Заменим исходные колонки на преобразованные "
   ]
  },
  {
   "cell_type": "code",
   "execution_count": 124,
   "metadata": {},
   "outputs": [
    {
     "data": {
      "text/html": [
       "<div>\n",
       "<style scoped>\n",
       "    .dataframe tbody tr th:only-of-type {\n",
       "        vertical-align: middle;\n",
       "    }\n",
       "\n",
       "    .dataframe tbody tr th {\n",
       "        vertical-align: top;\n",
       "    }\n",
       "\n",
       "    .dataframe thead th {\n",
       "        text-align: right;\n",
       "    }\n",
       "</style>\n",
       "<table border=\"1\" class=\"dataframe\">\n",
       "  <thead>\n",
       "    <tr style=\"text-align: right;\">\n",
       "      <th></th>\n",
       "      <th>Год выпуска</th>\n",
       "      <th>КПП</th>\n",
       "      <th>Привод</th>\n",
       "      <th>Пробег</th>\n",
       "      <th>Тип кузова</th>\n",
       "      <th>Состояние</th>\n",
       "      <th>Срок владения</th>\n",
       "      <th>Цвет</th>\n",
       "      <th>Руль</th>\n",
       "      <th>Владельцы</th>\n",
       "      <th>ПТС</th>\n",
       "      <th>Комментарий</th>\n",
       "      <th>Марка</th>\n",
       "      <th>Модель</th>\n",
       "      <th>Город</th>\n",
       "      <th>Объем двигателя</th>\n",
       "      <th>Мощность двигателя</th>\n",
       "      <th>Двигатель</th>\n",
       "      <th>Цена</th>\n",
       "      <th>Символов в объявлении</th>\n",
       "    </tr>\n",
       "  </thead>\n",
       "  <tbody>\n",
       "    <tr>\n",
       "      <th>0</th>\n",
       "      <td>0.58</td>\n",
       "      <td>empty</td>\n",
       "      <td>empty</td>\n",
       "      <td>0.13</td>\n",
       "      <td>empty</td>\n",
       "      <td>empty</td>\n",
       "      <td>empty</td>\n",
       "      <td>empty</td>\n",
       "      <td>empty</td>\n",
       "      <td>empty</td>\n",
       "      <td>empty</td>\n",
       "      <td>выгода до 200000 руб. по программе трейд-ин+кр...</td>\n",
       "      <td>Toyota</td>\n",
       "      <td>RAV 4 IV (CA40) Рестайлинг</td>\n",
       "      <td>Санкт-Петербург</td>\n",
       "      <td>0.07</td>\n",
       "      <td>0.02</td>\n",
       "      <td>empty</td>\n",
       "      <td>0.00</td>\n",
       "      <td>0.03</td>\n",
       "    </tr>\n",
       "    <tr>\n",
       "      <th>1</th>\n",
       "      <td>0.52</td>\n",
       "      <td>empty</td>\n",
       "      <td>empty</td>\n",
       "      <td>0.23</td>\n",
       "      <td>empty</td>\n",
       "      <td>empty</td>\n",
       "      <td>empty</td>\n",
       "      <td>empty</td>\n",
       "      <td>empty</td>\n",
       "      <td>empty</td>\n",
       "      <td>empty</td>\n",
       "      <td>Комплектация КЛАССИК.- Ручки дверей, зеркала з...</td>\n",
       "      <td>УАЗ</td>\n",
       "      <td>Pickup I Рестайлинг 2</td>\n",
       "      <td>Красноярск</td>\n",
       "      <td>0.10</td>\n",
       "      <td>0.04</td>\n",
       "      <td>empty</td>\n",
       "      <td>0.00</td>\n",
       "      <td>0.00</td>\n",
       "    </tr>\n",
       "    <tr>\n",
       "      <th>2</th>\n",
       "      <td>0.29</td>\n",
       "      <td>empty</td>\n",
       "      <td>empty</td>\n",
       "      <td>0.15</td>\n",
       "      <td>empty</td>\n",
       "      <td>empty</td>\n",
       "      <td>empty</td>\n",
       "      <td>empty</td>\n",
       "      <td>empty</td>\n",
       "      <td>empty</td>\n",
       "      <td>empty</td>\n",
       "      <td>Автосалон Модус официальный дилер Nissan в гор...</td>\n",
       "      <td>Nissan</td>\n",
       "      <td>Qashqai II</td>\n",
       "      <td>Сочи</td>\n",
       "      <td>0.08</td>\n",
       "      <td>0.04</td>\n",
       "      <td>empty</td>\n",
       "      <td>0.00</td>\n",
       "      <td>0.01</td>\n",
       "    </tr>\n",
       "    <tr>\n",
       "      <th>3</th>\n",
       "      <td>0.57</td>\n",
       "      <td>механическая</td>\n",
       "      <td>передний</td>\n",
       "      <td>0.10</td>\n",
       "      <td>хэтчбек 5 дв.</td>\n",
       "      <td>Не требует ремонта</td>\n",
       "      <td>empty</td>\n",
       "      <td>серебристый</td>\n",
       "      <td>Левый</td>\n",
       "      <td>3 или более</td>\n",
       "      <td>Оригинал</td>\n",
       "      <td>В отличном состоянии. Автомобиль обслуживался ...</td>\n",
       "      <td>Ford</td>\n",
       "      <td>Focus II Рестайлинг</td>\n",
       "      <td>Москва</td>\n",
       "      <td>0.10</td>\n",
       "      <td>0.04</td>\n",
       "      <td>Бензин</td>\n",
       "      <td>0.00</td>\n",
       "      <td>0.00</td>\n",
       "    </tr>\n",
       "    <tr>\n",
       "      <th>4</th>\n",
       "      <td>0.75</td>\n",
       "      <td>empty</td>\n",
       "      <td>empty</td>\n",
       "      <td>0.00</td>\n",
       "      <td>empty</td>\n",
       "      <td>empty</td>\n",
       "      <td>empty</td>\n",
       "      <td>empty</td>\n",
       "      <td>empty</td>\n",
       "      <td>empty</td>\n",
       "      <td>empty</td>\n",
       "      <td>Экстерьер: Топливный бак 66 л,Интерьер: Индика...</td>\n",
       "      <td>Mercedes-Benz</td>\n",
       "      <td>GLC Coupe C253 250 d</td>\n",
       "      <td>Краснодар</td>\n",
       "      <td>0.15</td>\n",
       "      <td>0.09</td>\n",
       "      <td>empty</td>\n",
       "      <td>0.00</td>\n",
       "      <td>0.00</td>\n",
       "    </tr>\n",
       "  </tbody>\n",
       "</table>\n",
       "</div>"
      ],
      "text/plain": [
       "   Год выпуска           КПП    Привод  Пробег     Тип кузова  \\\n",
       "0         0.58         empty     empty    0.13          empty   \n",
       "1         0.52         empty     empty    0.23          empty   \n",
       "2         0.29         empty     empty    0.15          empty   \n",
       "3         0.57  механическая  передний    0.10  хэтчбек 5 дв.   \n",
       "4         0.75         empty     empty    0.00          empty   \n",
       "\n",
       "            Состояние Срок владения         Цвет   Руль    Владельцы  \\\n",
       "0               empty         empty        empty  empty        empty   \n",
       "1               empty         empty        empty  empty        empty   \n",
       "2               empty         empty        empty  empty        empty   \n",
       "3  Не требует ремонта         empty  серебристый  Левый  3 или более   \n",
       "4               empty         empty        empty  empty        empty   \n",
       "\n",
       "        ПТС                                        Комментарий          Марка  \\\n",
       "0     empty  выгода до 200000 руб. по программе трейд-ин+кр...         Toyota   \n",
       "1     empty  Комплектация КЛАССИК.- Ручки дверей, зеркала з...            УАЗ   \n",
       "2     empty  Автосалон Модус официальный дилер Nissan в гор...         Nissan   \n",
       "3  Оригинал  В отличном состоянии. Автомобиль обслуживался ...           Ford   \n",
       "4     empty  Экстерьер: Топливный бак 66 л,Интерьер: Индика...  Mercedes-Benz   \n",
       "\n",
       "                       Модель            Город  Объем двигателя  \\\n",
       "0  RAV 4 IV (CA40) Рестайлинг  Санкт-Петербург             0.07   \n",
       "1       Pickup I Рестайлинг 2       Красноярск             0.10   \n",
       "2                  Qashqai II             Сочи             0.08   \n",
       "3         Focus II Рестайлинг           Москва             0.10   \n",
       "4        GLC Coupe C253 250 d        Краснодар             0.15   \n",
       "\n",
       "   Мощность двигателя Двигатель  Цена  Символов в объявлении  \n",
       "0                0.02     empty  0.00                   0.03  \n",
       "1                0.04     empty  0.00                   0.00  \n",
       "2                0.04     empty  0.00                   0.01  \n",
       "3                0.04    Бензин  0.00                   0.00  \n",
       "4                0.09     empty  0.00                   0.00  "
      ]
     },
     "execution_count": 124,
     "metadata": {},
     "output_type": "execute_result"
    }
   ],
   "source": [
    "df_interp = df.copy()\n",
    "df_interp[[\"Цена\", \"Пробег\", \"Год выпуска\", \"Объем двигателя\", \"Мощность двигателя\",\"Символов в объявлении\"]] =\\\n",
    "    interp[[\"Цена\", \"Пробег\", \"Год выпуска\", \"Объем двигателя\", \"Мощность двигателя\",\"Символов в объявлении\"]]\n",
    "df_interp.head()"
   ]
  },
  {
   "cell_type": "code",
   "execution_count": 125,
   "metadata": {},
   "outputs": [
    {
     "name": "stdout",
     "output_type": "stream",
     "text": [
      "Количество признаков 6056\n"
     ]
    }
   ],
   "source": [
    "df_interp = pd.get_dummies(df_interp)\n",
    "print('Количество признаков', df_interp.columns.shape[0])"
   ]
  },
  {
   "cell_type": "markdown",
   "metadata": {},
   "source": [
    "<font color=darkblue>Количество признаков как в исходном случае. расчитаем точность для всех алгоритмов "
   ]
  },
  {
   "cell_type": "code",
   "execution_count": 126,
   "metadata": {},
   "outputs": [],
   "source": [
    "X_train, X_test, y_train, y_test = train_test_split(df_interp, y, test_size=0.2,random_state=0)\n",
    "\n",
    "scores=[]\n",
    "times=[]\n",
    "for name, clf in zip(names, classifiers):\n",
    "    start_time=time.time() \n",
    "    clf.fit(X_train, y_train)\n",
    "    y_predicted = clf.predict(X_test)\n",
    "    scores.append( accuracy_score(y_predicted, y_test)  ) \n",
    "    times.append(time.time() -start_time )\n"
   ]
  },
  {
   "cell_type": "code",
   "execution_count": 127,
   "metadata": {},
   "outputs": [
    {
     "data": {
      "image/png": "[encoded data removed]",
      "text/plain": [
       "<Figure size 432x288 with 1 Axes>"
      ]
     },
     "metadata": {},
     "output_type": "display_data"
    }
   ],
   "source": [
    "plt.barh(names,scores)\n",
    "for i, v in enumerate(scores):\n",
    "    plt.text(v , i , str(round(v,2)), color='blue', fontweight='bold')"
   ]
  },
  {
   "cell_type": "markdown",
   "metadata": {},
   "source": [
    "<font color=darkblue>Дополнительно можно проводить биндинг и дискретизацию вещественных значений, когда мы признаком делаем не каждое число,\n",
    "а диапазон. Но в данном примере это не приволит к улучшению. "
   ]
  },
  {
   "cell_type": "markdown",
   "metadata": {},
   "source": [
    "## 3.2. Отбор признаков на основании модели \n",
    "<font color=darkblue>отбор признаков может проводиться на основании:\n",
    "- одномерных статистик \n",
    "- отбор признаков на основании модели \n",
    "- итерационный отбор признаков(итерационный отбор применяется для небольшого числа признаков, метод очень трудоемок) \n",
    "\n",
    "Применим отбор \"признаков на основании модели(feature_selection.SelectFromModel)\" с применением классификатора RandomForestClassifier. \n",
    "на вход подставляем данные df_allstr (пример где мы закодировали вещественные признаки отдельными справочниками) и ограничим количество признаков до значения 200 "
   ]
  },
  {
   "cell_type": "code",
   "execution_count": 128,
   "metadata": {},
   "outputs": [
    {
     "name": "stdout",
     "output_type": "stream",
     "text": [
      "CPU times: user 1.34 s, sys: 86 ms, total: 1.42 s\n",
      "Wall time: 1.3 s\n"
     ]
    },
    {
     "data": {
      "text/plain": [
       "SelectFromModel(estimator=RandomForestClassifier(bootstrap=True, class_weight=None, criterion='gini',\n",
       "            max_depth=None, max_features='auto', max_leaf_nodes=None,\n",
       "            min_impurity_decrease=0.0, min_impurity_split=None,\n",
       "            min_samples_leaf=1, min_samples_split=2,\n",
       "            min_weight_fraction_leaf=0.0, n_estimators='warn', n_jobs=None,\n",
       "            oob_score=False, random_state=None, verbose=0,\n",
       "            warm_start=False),\n",
       "        max_features=200, norm_order=1, prefit=False, threshold=None)"
      ]
     },
     "execution_count": 128,
     "metadata": {},
     "output_type": "execute_result"
    }
   ],
   "source": [
    "X_train, X_test, y_train, y_test = train_test_split(df_allstr, y, test_size=0.2,random_state=0)\n",
    "\n",
    "from sklearn.feature_selection import SelectFromModel\n",
    "\n",
    "select = SelectFromModel(RandomForestClassifier(),max_features=200)\n",
    "\n",
    "%time select.fit(X_train,y_train)"
   ]
  },
  {
   "cell_type": "code",
   "execution_count": 129,
   "metadata": {},
   "outputs": [
    {
     "name": "stdout",
     "output_type": "stream",
     "text": [
      "отобрано признаков:  200\n"
     ]
    }
   ],
   "source": [
    "print('отобрано признаков: ',np.count_nonzero(select.get_support()==True))"
   ]
  },
  {
   "cell_type": "code",
   "execution_count": 130,
   "metadata": {},
   "outputs": [
    {
     "data": {
      "text/plain": [
       "LogisticRegression(C=1.0, class_weight=None, dual=False, fit_intercept=True,\n",
       "          intercept_scaling=1, max_iter=100, multi_class='warn',\n",
       "          n_jobs=None, penalty='l2', random_state=None, solver='warn',\n",
       "          tol=0.0001, verbose=0, warm_start=False)"
      ]
     },
     "execution_count": 130,
     "metadata": {},
     "output_type": "execute_result"
    }
   ],
   "source": [
    "clf"
   ]
  },
  {
   "cell_type": "markdown",
   "metadata": {},
   "source": [
    "## 4. Проверим качество на отобранных признаках выберем модель для оптимизации"
   ]
  },
  {
   "cell_type": "code",
   "execution_count": 131,
   "metadata": {},
   "outputs": [],
   "source": [
    "X_train_select=select.transform(X_train)\n",
    "X_test_select=select.transform(X_test)"
   ]
  },
  {
   "cell_type": "code",
   "execution_count": 132,
   "metadata": {},
   "outputs": [],
   "source": [
    "scores=[]\n",
    "times=[]\n",
    "for name, clf in zip(names, classifiers):\n",
    "    start_time=time.time() \n",
    "    clf.fit(X_train_select, y_train)\n",
    "    y_predicted = clf.predict(X_test_select)\n",
    "    scores.append( accuracy_score(y_predicted, y_test)  ) \n",
    "    times.append(time.time() -start_time )"
   ]
  },
  {
   "cell_type": "code",
   "execution_count": 133,
   "metadata": {},
   "outputs": [
    {
     "data": {
      "image/png": "[encoded data removed]",
      "text/plain": [
       "<Figure size 432x288 with 1 Axes>"
      ]
     },
     "metadata": {},
     "output_type": "display_data"
    }
   ],
   "source": [
    "plt.barh(names,scores)\n",
    "for i, v in enumerate(scores):\n",
    "    plt.text(v , i , str(round(v,2)), color='blue', fontweight='bold')"
   ]
  },
  {
   "cell_type": "code",
   "execution_count": 134,
   "metadata": {},
   "outputs": [
    {
     "data": {
      "text/plain": [
       "(4047, 200)"
      ]
     },
     "execution_count": 134,
     "metadata": {},
     "output_type": "execute_result"
    }
   ],
   "source": [
    "X_train_select.shape"
   ]
  },
  {
   "cell_type": "markdown",
   "metadata": {},
   "source": [
    "## 5 Проведем поиск по гиперпараметрам (gridsearch)\n",
    "<font color=darkblue>возьмем для оптимизацию логистическую регресию с, зададим массив параметров  "
   ]
  },
  {
   "cell_type": "code",
   "execution_count": 135,
   "metadata": {},
   "outputs": [
    {
     "data": {
      "text/plain": [
       "0.8065233506300964"
      ]
     },
     "execution_count": 135,
     "metadata": {},
     "output_type": "execute_result"
    }
   ],
   "source": [
    "from sklearn.model_selection import GridSearchCV\n",
    "svc = LogisticRegression()\n",
    "parameters = [{\"penalty\": [\"l1\",\"l2\"],\n",
    "              \"C\": [10**i for i in range(-3, 4)],\n",
    "              \"solver\": [  \"liblinear\",  \"saga\"]}]\n",
    "\n",
    "svc_clf = GridSearchCV(svc, parameters, cv=3)\n",
    "svc_clf.fit(X_train_select, y_train)\n",
    "svc_clf.best_score_"
   ]
  },
  {
   "cell_type": "markdown",
   "metadata": {},
   "source": [
    "<font color=darkblue>Лучшие параметры модели:"
   ]
  },
  {
   "cell_type": "code",
   "execution_count": 136,
   "metadata": {},
   "outputs": [
    {
     "data": {
      "text/plain": [
       "{'C': 1000, 'penalty': 'l2', 'solver': 'liblinear'}"
      ]
     },
     "execution_count": 136,
     "metadata": {},
     "output_type": "execute_result"
    }
   ],
   "source": [
    "svc_clf.best_params_"
   ]
  },
  {
   "cell_type": "markdown",
   "metadata": {},
   "source": [
    "<font color=darkblue>Результат необходимо проверить на тестовой(контрольной) выборке. "
   ]
  },
  {
   "cell_type": "code",
   "execution_count": 153,
   "metadata": {},
   "outputs": [
    {
     "data": {
      "text/plain": [
       "0.7984189723320159"
      ]
     },
     "execution_count": 153,
     "metadata": {},
     "output_type": "execute_result"
    }
   ],
   "source": [
    "clf=LogisticRegression(**svc_clf.best_params_)\n",
    "clf.fit(X_train_select, y_train)\n",
    "y_predicted = clf.predict(X_test_select)\n",
    "accuracy_score(y_predicted, y_test)  \n"
   ]
  },
  {
   "cell_type": "markdown",
   "metadata": {},
   "source": [
    "## 6. Применим популярные промышленные решения \n",
    "<font color=darkblue>xgboost и catboost от Яндекс, который позволяют в том числе использовать GPU \n",
    "\n",
    "загрузим библиотеки "
   ]
  },
  {
   "cell_type": "code",
   "execution_count": 154,
   "metadata": {},
   "outputs": [],
   "source": [
    "from xgboost import XGBClassifier\n",
    "from catboost import CatBoostClassifier"
   ]
  },
  {
   "cell_type": "markdown",
   "metadata": {},
   "source": [
    "#### XGBoost\n",
    "<font color=darkblue>на вход подадим отобранные признаки "
   ]
  },
  {
   "cell_type": "code",
   "execution_count": 155,
   "metadata": {
    "scrolled": true
   },
   "outputs": [
    {
     "name": "stdout",
     "output_type": "stream",
     "text": [
      "              precision    recall  f1-score   support\n",
      "\n",
      "          no       0.63      0.95      0.76       346\n",
      "         yes       0.96      0.72      0.82       666\n",
      "\n",
      "   micro avg       0.80      0.80      0.80      1012\n",
      "   macro avg       0.80      0.83      0.79      1012\n",
      "weighted avg       0.85      0.80      0.80      1012\n",
      "\n",
      "Accuracy 0.7954545454545454\n"
     ]
    }
   ],
   "source": [
    "clf = XGBClassifier()\n",
    "clf.fit(X_train_select, y_train)\n",
    "\n",
    "y_predicted = clf.predict(X_test_select)\n",
    "print(classification_report(y_predicted, y_test))\n",
    "print('Accuracy',accuracy_score(y_predicted, y_test)) "
   ]
  },
  {
   "cell_type": "markdown",
   "metadata": {},
   "source": [
    "#### CatBoost\n",
    "<font color=darkblue>Обратите внимание что catboost может работать с начальным датасетом, не проводя кодирование и преобразований, достаточно только:\n",
    "- закодировать Y числами \n",
    "- удалить поле \"Комментарий\""
   ]
  },
  {
   "cell_type": "code",
   "execution_count": 156,
   "metadata": {},
   "outputs": [],
   "source": [
    "df_train = df.iloc[y_train.index].drop(columns=[\"Комментарий\"])\n",
    "df_test = df.iloc[y_test.index].drop(columns=[\"Комментарий\"])\n",
    "y_train_01 = np.where(y_train == 'yes',1,0)\n",
    "y_test_01 = np.where(y_test == 'yes',1,0)"
   ]
  },
  {
   "cell_type": "markdown",
   "metadata": {},
   "source": [
    "<font color=darkblue>- указать cat_features - номера колонок содержащие категориальные значения\n",
    "- определить параметр nan_mode стратегию обработки пустых строк, \n",
    "\n",
    "Возможнные значения параметра nan_mode:\n",
    "- \"Forbidden\" — NaN values are not supported, their presence raises an exception.\n",
    "- \"Min\" — Each NaN float feature is processed as the minimum value from the dataset.\n",
    "- \"Max\" — Each NaN float feature is processed as the maximum value from the dataset."
   ]
  },
  {
   "cell_type": "code",
   "execution_count": 157,
   "metadata": {},
   "outputs": [
    {
     "name": "stdout",
     "output_type": "stream",
     "text": [
      "              precision    recall  f1-score   support\n",
      "\n",
      "         0.0       0.70      0.87      0.77       417\n",
      "         1.0       0.89      0.74      0.81       595\n",
      "\n",
      "   micro avg       0.79      0.79      0.79      1012\n",
      "   macro avg       0.79      0.80      0.79      1012\n",
      "weighted avg       0.81      0.79      0.79      1012\n",
      "\n",
      "Accuracy 0.7924901185770751\n"
     ]
    }
   ],
   "source": [
    "cat_features = [df_train.columns.get_loc(x) for x in [\"КПП\", \"Привод\", \"Тип кузова\", \"Состояние\", \"Срок владения\", \"Цвет\", \n",
    "                                                      \"Руль\", \"Владельцы\", \"ПТС\",\"Марка\", \"Модель\", \"Город\", \"Двигатель\"]]\n",
    "\n",
    "clf = CatBoostClassifier(nan_mode=\"Min\")\n",
    "clf.fit(df_train, y_train_01  , cat_features=cat_features, logging_level=\"Silent\")\n",
    "\n",
    "y_predicted = clf.predict(df_test)\n",
    "print(classification_report(y_predicted, y_test_01))\n",
    "print('Accuracy', accuracy_score(y_predicted, y_test_01))"
   ]
  },
  {
   "cell_type": "code",
   "execution_count": 158,
   "metadata": {},
   "outputs": [
    {
     "data": {
      "text/plain": [
       "(4047, 19)"
      ]
     },
     "execution_count": 158,
     "metadata": {},
     "output_type": "execute_result"
    }
   ],
   "source": [
    "df_train.shape"
   ]
  },
  {
   "cell_type": "markdown",
   "metadata": {},
   "source": [
    "<font color=darkblue>Мы применили catboost на исходных данных без преобразований и получили сопоставимый результат, используя только 19 начальных признаков "
   ]
  },
  {
   "cell_type": "markdown",
   "metadata": {},
   "source": [
    "## 7 Анализ точности и полноты \n",
    "<font color=darkblue>Дополнительные возможности мы получаем при анализе точности и полноты. изобразим какую точность мы может достигнуть при заданных уровнях полноты, для этого построим гривую точности и полноты для классификаторов :\n",
    "<font color=darkblue>- \"Наивный баес\"\n",
    "<font color=darkblue>- \"Решающие деревья\"\n",
    "<font color=darkblue>- \"Случайный лес\"\n",
    "<font color=darkblue>- \"Логистическая регрессия\"\n",
    "\n",
    "    "
   ]
  },
  {
   "cell_type": "code",
   "execution_count": 148,
   "metadata": {},
   "outputs": [
    {
     "data": {
      "image/png": "[encoded data removed]",
      "text/plain": [
       "<Figure size 720x720 with 1 Axes>"
      ]
     },
     "metadata": {},
     "output_type": "display_data"
    }
   ],
   "source": [
    "from sklearn.metrics import precision_recall_curve\n",
    "class_dict = dict(zip(names, classifiers))\n",
    "predict_proba_clfs = [ \"Наивный баес\", \"Решающие деревья\", \n",
    "                     \"Случайный лес\", \"Логистическая регрессия\"]\n",
    "\n",
    "plt.figure(figsize=(10, 10))\n",
    "plt.xlabel(\"Точность\")\n",
    "plt.ylabel(\"Полнота\")\n",
    "\n",
    "for i in range(7):\n",
    "    name = names[i]\n",
    "    clf = class_dict[name]\n",
    "\n",
    "    if name in predict_proba_clfs:\n",
    "        precision, recall, thresholds = precision_recall_curve(y_test_01, clf.predict_proba(X_test_select)[:, 1])\n",
    "\n",
    "        close_zero = np.argmin(np.abs(thresholds - 0.5))\n",
    "        plt.plot(precision[close_zero], recall[close_zero], 'o', markersize=10, c='k', fillstyle=\"none\", mew=2)\n",
    "        plt.plot(precision, recall, label=name)\n",
    "\n",
    "plt.legend(loc=\"best\")\n",
    "plt.show()"
   ]
  },
  {
   "cell_type": "markdown",
   "metadata": {},
   "source": [
    "<font color=darkblue> На графике черный кружок означает значение точности и полноты при пороге по умолчанию = 0.5, далее мы увидим как можно использовать порог для подбора точности или полноты. \n",
    "Предположим мы хотим поощрять за популярное объявление и нам очень важно быть уверенными что объявление действительно популярно. Проверим \"точность\" для класса \"популярно\""
   ]
  },
  {
   "cell_type": "code",
   "execution_count": 159,
   "metadata": {},
   "outputs": [
    {
     "name": "stdout",
     "output_type": "stream",
     "text": [
      "Точность 0.7984189723320159\n",
      "              precision    recall  f1-score   support\n",
      "\n",
      "           0       0.71      0.87      0.78       423\n",
      "           1       0.89      0.75      0.81       589\n",
      "\n",
      "   micro avg       0.80      0.80      0.80      1012\n",
      "   macro avg       0.80      0.81      0.80      1012\n",
      "weighted avg       0.81      0.80      0.80      1012\n",
      "\n"
     ]
    }
   ],
   "source": [
    "from sklearn.metrics import precision_recall_curve\n",
    "clf=LogisticRegression().fit(X_train_select,y_train_01)\n",
    "y_scores = clf.predict_proba(X_test_select)\n",
    "\n",
    "precisions,recalls,thresholds = precision_recall_curve(y_test_01,y_scores[:, 1])\n",
    "\n",
    "print(\"Точность\", accuracy_score(clf.predict(X_test_select), y_test_01))\n",
    "print(classification_report(clf.predict(X_test_select), y_test_01))"
   ]
  },
  {
   "cell_type": "code",
   "execution_count": 160,
   "metadata": {},
   "outputs": [
    {
     "data": {
      "text/plain": [
       "(1012, 2)"
      ]
     },
     "execution_count": 160,
     "metadata": {},
     "output_type": "execute_result"
    }
   ],
   "source": [
    "y_scores.shape"
   ]
  },
  {
   "cell_type": "markdown",
   "metadata": {},
   "source": [
    "<font color=darkblue> мы видим что предсказываем попурятный класс с вероятностью 89 процентов, нам этого недостаточно, попробуем увеличить точность, для этого построим график зависимости точности и полноты от порога. "
   ]
  },
  {
   "cell_type": "code",
   "execution_count": 161,
   "metadata": {},
   "outputs": [
    {
     "data": {
      "image/png": "[encoded data removed]",
      "text/plain": [
       "<Figure size 432x288 with 1 Axes>"
      ]
     },
     "metadata": {},
     "output_type": "display_data"
    }
   ],
   "source": [
    "def plot_precision_recall_vs_threshold(precisions,recalls,thresholds):\n",
    "    plt.plot(thresholds,precisions[:-1],'b--',label='Точность')\n",
    "    plt.plot(thresholds,recalls[:-1],'g-',label='Полнота')\n",
    "    plt.xlabel('Порог')\n",
    "    plt.legend(loc='upper left')\n",
    "    plt.ylim([0,1])\n",
    "\n",
    "\n",
    "plot_precision_recall_vs_threshold(precisions,recalls,thresholds)\n",
    "plt.show()"
   ]
  },
  {
   "cell_type": "markdown",
   "metadata": {},
   "source": [
    "<font color=darkblue> Изменяем параметр \"порог\", установим в 0.25. Обратите внимание что общая точность даже немного повысилась и мы теперь предсказываем что класс популярен с точностью 99% что является очень высоким показателем уверенности."
   ]
  },
  {
   "cell_type": "code",
   "execution_count": 162,
   "metadata": {},
   "outputs": [
    {
     "name": "stdout",
     "output_type": "stream",
     "text": [
      "Точность 0.7905138339920948\n",
      "              precision    recall  f1-score   support\n",
      "\n",
      "       False       0.60      0.98      0.75       317\n",
      "        True       0.99      0.71      0.82       695\n",
      "\n",
      "   micro avg       0.79      0.79      0.79      1012\n",
      "   macro avg       0.79      0.84      0.78      1012\n",
      "weighted avg       0.87      0.79      0.80      1012\n",
      "\n"
     ]
    }
   ],
   "source": [
    "print(\"Точность\", accuracy_score(  (clf.predict_proba(X_test_select)[:,1] >= 0.25).astype(bool) , y_test_01))\n",
    "print(classification_report((clf.predict_proba(X_test_select)[:,1] >= 0.25).astype(bool) , y_test_01))\n",
    "\n"
   ]
  },
  {
   "cell_type": "code",
   "execution_count": null,
   "metadata": {},
   "outputs": [],
   "source": []
  }
 ],
 "metadata": {
  "kernelspec": {
   "display_name": "Python 3",
   "language": "python",
   "name": "python3"
  },
  "language_info": {
   "codemirror_mode": {
    "name": "ipython",
    "version": 3
   },
   "file_extension": ".py",
   "mimetype": "text/x-python",
   "name": "python",
   "nbconvert_exporter": "python",
   "pygments_lexer": "ipython3",
   "version": "3.6.5"
  }
 },
 "nbformat": 4,
 "nbformat_minor": 2
}
