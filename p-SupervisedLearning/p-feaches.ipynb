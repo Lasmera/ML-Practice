{
 "cells": [
  {
   "cell_type": "markdown",
   "metadata": {},
   "source": [
    "# Конструирование и отбор признаков, подбор гиперпараметров модели\n",
    "<font color=darkblue>Задача: Опредлить объявление о продажи машин будет популярно или нет, по среднему количеству просмотров в день. Эта информация(одно из применений) поможет позволить размещать на популярных страницах рекламные банеры. <br/>\n",
    "Это задача бинарной классификации, т.к. классов 2 (популярно/нет). "
   ]
  },
  {
   "cell_type": "markdown",
   "metadata": {},
   "source": [
    "## 1. Подготовка данных \n",
    "<font color=darkblue>Загрузим данные по объявлениям о продажах автомобилей "
   ]
  },
  {
   "cell_type": "code",
   "execution_count": 1,
   "metadata": {},
   "outputs": [],
   "source": [
    "import warnings\n",
    "warnings.filterwarnings('ignore')\n",
    "import pandas as pd\n",
    "pd.set_option('display.float_format', lambda x: \"%.2f\" % x)\n",
    "df = pd.read_csv(u'../data/auto.ru_data.csv')"
   ]
  },
  {
   "cell_type": "code",
   "execution_count": 2,
   "metadata": {},
   "outputs": [
    {
     "name": "stdout",
     "output_type": "stream",
     "text": [
      "(20237, 23)\n"
     ]
    },
    {
     "data": {
      "text/html": [
       "<div>\n",
       "<style scoped>\n",
       "    .dataframe tbody tr th:only-of-type {\n",
       "        vertical-align: middle;\n",
       "    }\n",
       "\n",
       "    .dataframe tbody tr th {\n",
       "        vertical-align: top;\n",
       "    }\n",
       "\n",
       "    .dataframe thead th {\n",
       "        text-align: right;\n",
       "    }\n",
       "</style>\n",
       "<table border=\"1\" class=\"dataframe\">\n",
       "  <thead>\n",
       "    <tr style=\"text-align: right;\">\n",
       "      <th></th>\n",
       "      <th>Год выпуска</th>\n",
       "      <th>КПП</th>\n",
       "      <th>Привод</th>\n",
       "      <th>Пробег</th>\n",
       "      <th>Тип кузова</th>\n",
       "      <th>Состояние</th>\n",
       "      <th>Срок владения</th>\n",
       "      <th>Цвет</th>\n",
       "      <th>Руль</th>\n",
       "      <th>Владельцы</th>\n",
       "      <th>...</th>\n",
       "      <th>Модель</th>\n",
       "      <th>Город</th>\n",
       "      <th>Объем двигателя</th>\n",
       "      <th>Мощность двигателя</th>\n",
       "      <th>Двигатель</th>\n",
       "      <th>Цена</th>\n",
       "      <th>Дата</th>\n",
       "      <th>Количество дней</th>\n",
       "      <th>Просмотров всего</th>\n",
       "      <th>Просмотров в день</th>\n",
       "    </tr>\n",
       "  </thead>\n",
       "  <tbody>\n",
       "    <tr>\n",
       "      <th>0</th>\n",
       "      <td>2012.00</td>\n",
       "      <td>механическая</td>\n",
       "      <td>передний</td>\n",
       "      <td>141000.00</td>\n",
       "      <td>внедорожник 5 дв.</td>\n",
       "      <td>Не требует ремонта</td>\n",
       "      <td>NaN</td>\n",
       "      <td>белый</td>\n",
       "      <td>Левый</td>\n",
       "      <td>2 владельца</td>\n",
       "      <td>...</td>\n",
       "      <td>ix35 I</td>\n",
       "      <td>Воронеж</td>\n",
       "      <td>2.00</td>\n",
       "      <td>150.00</td>\n",
       "      <td>Бензин</td>\n",
       "      <td>790000</td>\n",
       "      <td>2018-06-25</td>\n",
       "      <td>60</td>\n",
       "      <td>387.00</td>\n",
       "      <td>6.45</td>\n",
       "    </tr>\n",
       "    <tr>\n",
       "      <th>1</th>\n",
       "      <td>2014.00</td>\n",
       "      <td>автоматическая</td>\n",
       "      <td>полный</td>\n",
       "      <td>80189.00</td>\n",
       "      <td>внедорожник 5 дв.</td>\n",
       "      <td>Не требует ремонта</td>\n",
       "      <td>NaN</td>\n",
       "      <td>белый</td>\n",
       "      <td>Левый</td>\n",
       "      <td>3 или более</td>\n",
       "      <td>...</td>\n",
       "      <td>X1 I (E84) Рестайлинг 20d</td>\n",
       "      <td>Москва</td>\n",
       "      <td>2.00</td>\n",
       "      <td>184.00</td>\n",
       "      <td>Дизель</td>\n",
       "      <td>1368000</td>\n",
       "      <td>2018-06-25</td>\n",
       "      <td>60</td>\n",
       "      <td>657.00</td>\n",
       "      <td>10.95</td>\n",
       "    </tr>\n",
       "    <tr>\n",
       "      <th>2</th>\n",
       "      <td>2010.00</td>\n",
       "      <td>механическая</td>\n",
       "      <td>передний</td>\n",
       "      <td>143000.00</td>\n",
       "      <td>седан</td>\n",
       "      <td>Не требует ремонта</td>\n",
       "      <td>NaN</td>\n",
       "      <td>бежевый</td>\n",
       "      <td>Левый</td>\n",
       "      <td>3 или более</td>\n",
       "      <td>...</td>\n",
       "      <td>Logan I Рестайлинг</td>\n",
       "      <td>Воронеж</td>\n",
       "      <td>1.40</td>\n",
       "      <td>75.00</td>\n",
       "      <td>Бензин</td>\n",
       "      <td>320000</td>\n",
       "      <td>2018-06-25</td>\n",
       "      <td>60</td>\n",
       "      <td>470.00</td>\n",
       "      <td>7.83</td>\n",
       "    </tr>\n",
       "    <tr>\n",
       "      <th>3</th>\n",
       "      <td>2009.00</td>\n",
       "      <td>механическая</td>\n",
       "      <td>передний</td>\n",
       "      <td>126000.00</td>\n",
       "      <td>седан</td>\n",
       "      <td>Не требует ремонта</td>\n",
       "      <td>NaN</td>\n",
       "      <td>жёлтый</td>\n",
       "      <td>Левый</td>\n",
       "      <td>3 или более</td>\n",
       "      <td>...</td>\n",
       "      <td>Nexia I Рестайлинг</td>\n",
       "      <td>Россошь</td>\n",
       "      <td>1.50</td>\n",
       "      <td>80.00</td>\n",
       "      <td>Бензин</td>\n",
       "      <td>150000</td>\n",
       "      <td>2018-06-25</td>\n",
       "      <td>60</td>\n",
       "      <td>438.00</td>\n",
       "      <td>7.30</td>\n",
       "    </tr>\n",
       "    <tr>\n",
       "      <th>4</th>\n",
       "      <td>2011.00</td>\n",
       "      <td>механическая</td>\n",
       "      <td>передний</td>\n",
       "      <td>159000.00</td>\n",
       "      <td>хэтчбек 5 дв.</td>\n",
       "      <td>Не требует ремонта</td>\n",
       "      <td>NaN</td>\n",
       "      <td>красный</td>\n",
       "      <td>Левый</td>\n",
       "      <td>3 или более</td>\n",
       "      <td>...</td>\n",
       "      <td>C4 II</td>\n",
       "      <td>Воронеж</td>\n",
       "      <td>1.60</td>\n",
       "      <td>120.00</td>\n",
       "      <td>Бензин</td>\n",
       "      <td>410000</td>\n",
       "      <td>2018-06-25</td>\n",
       "      <td>60</td>\n",
       "      <td>442.00</td>\n",
       "      <td>7.37</td>\n",
       "    </tr>\n",
       "  </tbody>\n",
       "</table>\n",
       "<p>5 rows × 23 columns</p>\n",
       "</div>"
      ],
      "text/plain": [
       "   Год выпуска             КПП    Привод    Пробег         Тип кузова  \\\n",
       "0      2012.00    механическая  передний 141000.00  внедорожник 5 дв.   \n",
       "1      2014.00  автоматическая    полный  80189.00  внедорожник 5 дв.   \n",
       "2      2010.00    механическая  передний 143000.00              седан   \n",
       "3      2009.00    механическая  передний 126000.00              седан   \n",
       "4      2011.00    механическая  передний 159000.00      хэтчбек 5 дв.   \n",
       "\n",
       "            Состояние Срок владения     Цвет   Руль    Владельцы  ...  \\\n",
       "0  Не требует ремонта           NaN    белый  Левый  2 владельца  ...   \n",
       "1  Не требует ремонта           NaN    белый  Левый  3 или более  ...   \n",
       "2  Не требует ремонта           NaN  бежевый  Левый  3 или более  ...   \n",
       "3  Не требует ремонта           NaN   жёлтый  Левый  3 или более  ...   \n",
       "4  Не требует ремонта           NaN  красный  Левый  3 или более  ...   \n",
       "\n",
       "                      Модель    Город Объем двигателя Мощность двигателя  \\\n",
       "0                     ix35 I  Воронеж            2.00             150.00   \n",
       "1  X1 I (E84) Рестайлинг 20d   Москва            2.00             184.00   \n",
       "2         Logan I Рестайлинг  Воронеж            1.40              75.00   \n",
       "3         Nexia I Рестайлинг  Россошь            1.50              80.00   \n",
       "4                      C4 II  Воронеж            1.60             120.00   \n",
       "\n",
       "  Двигатель     Цена        Дата Количество дней  Просмотров всего  \\\n",
       "0    Бензин   790000  2018-06-25              60            387.00   \n",
       "1    Дизель  1368000  2018-06-25              60            657.00   \n",
       "2    Бензин   320000  2018-06-25              60            470.00   \n",
       "3    Бензин   150000  2018-06-25              60            438.00   \n",
       "4    Бензин   410000  2018-06-25              60            442.00   \n",
       "\n",
       "  Просмотров в день  \n",
       "0              6.45  \n",
       "1             10.95  \n",
       "2              7.83  \n",
       "3              7.30  \n",
       "4              7.37  \n",
       "\n",
       "[5 rows x 23 columns]"
      ]
     },
     "execution_count": 2,
     "metadata": {},
     "output_type": "execute_result"
    }
   ],
   "source": [
    "print(df.shape)\n",
    "df.head()"
   ]
  },
  {
   "cell_type": "markdown",
   "metadata": {},
   "source": [
    "### Популярнось объявления\n",
    "<font color=darkblue>Определять популярное объявление или нет мы будем по среднему количеству просмотров в день. Необходимо разделить выборку на 2 части. Для начала заполним пропущенные данные по просмотрам нулями.   "
   ]
  },
  {
   "cell_type": "code",
   "execution_count": 3,
   "metadata": {},
   "outputs": [],
   "source": [
    "df['Просмотров в день']=df['Просмотров в день'].fillna(0).astype(int)"
   ]
  },
  {
   "cell_type": "markdown",
   "metadata": {},
   "source": [
    "<font color=darkblue>Разделить выборку на равные части поможет процедура  describe(). \n",
    "Можно заметить, что граница 50% проходит на 10 просмотрах в день.\n"
   ]
  },
  {
   "cell_type": "code",
   "execution_count": 4,
   "metadata": {},
   "outputs": [
    {
     "data": {
      "text/html": [
       "<div>\n",
       "<style scoped>\n",
       "    .dataframe tbody tr th:only-of-type {\n",
       "        vertical-align: middle;\n",
       "    }\n",
       "\n",
       "    .dataframe tbody tr th {\n",
       "        vertical-align: top;\n",
       "    }\n",
       "\n",
       "    .dataframe thead th {\n",
       "        text-align: right;\n",
       "    }\n",
       "</style>\n",
       "<table border=\"1\" class=\"dataframe\">\n",
       "  <thead>\n",
       "    <tr style=\"text-align: right;\">\n",
       "      <th></th>\n",
       "      <th>Год выпуска</th>\n",
       "      <th>Пробег</th>\n",
       "      <th>Объем двигателя</th>\n",
       "      <th>Мощность двигателя</th>\n",
       "      <th>Цена</th>\n",
       "      <th>Количество дней</th>\n",
       "      <th>Просмотров всего</th>\n",
       "      <th>Просмотров в день</th>\n",
       "    </tr>\n",
       "  </thead>\n",
       "  <tbody>\n",
       "    <tr>\n",
       "      <th>count</th>\n",
       "      <td>14739.00</td>\n",
       "      <td>14739.00</td>\n",
       "      <td>14738.00</td>\n",
       "      <td>14738.00</td>\n",
       "      <td>20237.00</td>\n",
       "      <td>20237.00</td>\n",
       "      <td>14738.00</td>\n",
       "      <td>20237.00</td>\n",
       "    </tr>\n",
       "    <tr>\n",
       "      <th>mean</th>\n",
       "      <td>2009.28</td>\n",
       "      <td>120236.89</td>\n",
       "      <td>2.04</td>\n",
       "      <td>147.37</td>\n",
       "      <td>1104596.17</td>\n",
       "      <td>21.09</td>\n",
       "      <td>672.09</td>\n",
       "      <td>14.58</td>\n",
       "    </tr>\n",
       "    <tr>\n",
       "      <th>std</th>\n",
       "      <td>5.75</td>\n",
       "      <td>77274.61</td>\n",
       "      <td>0.78</td>\n",
       "      <td>70.78</td>\n",
       "      <td>4807902.68</td>\n",
       "      <td>40.32</td>\n",
       "      <td>2391.36</td>\n",
       "      <td>21.38</td>\n",
       "    </tr>\n",
       "    <tr>\n",
       "      <th>min</th>\n",
       "      <td>1951.00</td>\n",
       "      <td>1.00</td>\n",
       "      <td>0.60</td>\n",
       "      <td>23.00</td>\n",
       "      <td>10000.00</td>\n",
       "      <td>1.00</td>\n",
       "      <td>1.00</td>\n",
       "      <td>0.00</td>\n",
       "    </tr>\n",
       "    <tr>\n",
       "      <th>25%</th>\n",
       "      <td>2007.00</td>\n",
       "      <td>70000.00</td>\n",
       "      <td>1.60</td>\n",
       "      <td>102.00</td>\n",
       "      <td>370000.00</td>\n",
       "      <td>1.00</td>\n",
       "      <td>113.00</td>\n",
       "      <td>0.00</td>\n",
       "    </tr>\n",
       "    <tr>\n",
       "      <th>50%</th>\n",
       "      <td>2011.00</td>\n",
       "      <td>108519.00</td>\n",
       "      <td>1.80</td>\n",
       "      <td>130.00</td>\n",
       "      <td>659900.00</td>\n",
       "      <td>11.00</td>\n",
       "      <td>246.00</td>\n",
       "      <td>10.00</td>\n",
       "    </tr>\n",
       "    <tr>\n",
       "      <th>75%</th>\n",
       "      <td>2013.00</td>\n",
       "      <td>158000.00</td>\n",
       "      <td>2.30</td>\n",
       "      <td>170.00</td>\n",
       "      <td>1249999.00</td>\n",
       "      <td>18.00</td>\n",
       "      <td>575.00</td>\n",
       "      <td>19.00</td>\n",
       "    </tr>\n",
       "    <tr>\n",
       "      <th>max</th>\n",
       "      <td>2018.00</td>\n",
       "      <td>1000000.00</td>\n",
       "      <td>6.60</td>\n",
       "      <td>612.00</td>\n",
       "      <td>661299008.00</td>\n",
       "      <td>772.00</td>\n",
       "      <td>99950.00</td>\n",
       "      <td>512.00</td>\n",
       "    </tr>\n",
       "  </tbody>\n",
       "</table>\n",
       "</div>"
      ],
      "text/plain": [
       "       Год выпуска     Пробег  Объем двигателя  Мощность двигателя  \\\n",
       "count     14739.00   14739.00         14738.00            14738.00   \n",
       "mean       2009.28  120236.89             2.04              147.37   \n",
       "std           5.75   77274.61             0.78               70.78   \n",
       "min        1951.00       1.00             0.60               23.00   \n",
       "25%        2007.00   70000.00             1.60              102.00   \n",
       "50%        2011.00  108519.00             1.80              130.00   \n",
       "75%        2013.00  158000.00             2.30              170.00   \n",
       "max        2018.00 1000000.00             6.60              612.00   \n",
       "\n",
       "              Цена  Количество дней  Просмотров всего  Просмотров в день  \n",
       "count     20237.00         20237.00          14738.00           20237.00  \n",
       "mean    1104596.17            21.09            672.09              14.58  \n",
       "std     4807902.68            40.32           2391.36              21.38  \n",
       "min       10000.00             1.00              1.00               0.00  \n",
       "25%      370000.00             1.00            113.00               0.00  \n",
       "50%      659900.00            11.00            246.00              10.00  \n",
       "75%     1249999.00            18.00            575.00              19.00  \n",
       "max   661299008.00           772.00          99950.00             512.00  "
      ]
     },
     "execution_count": 4,
     "metadata": {},
     "output_type": "execute_result"
    }
   ],
   "source": [
    "df.describe()"
   ]
  },
  {
   "cell_type": "markdown",
   "metadata": {},
   "source": [
    "<font color=darkblue> Произведем дискретизацию, преобразуем непрерыную величину к двум классам. "
   ]
  },
  {
   "cell_type": "code",
   "execution_count": 5,
   "metadata": {},
   "outputs": [],
   "source": [
    "import numpy as np\n",
    "df['Популярно'] = np.where(df['Просмотров в день'] >= 10, 'yes', 'no')\n"
   ]
  },
  {
   "cell_type": "markdown",
   "metadata": {},
   "source": [
    "<font color=darkblue>Перемешаем данные(функция pd.sample , параметр frac позволяет получить случайную подвыборку, для ускорения времени обучения). \n",
    "\n",
    "Проверим разбиение разбивает выборку пополам   "
   ]
  },
  {
   "cell_type": "code",
   "execution_count": 6,
   "metadata": {},
   "outputs": [
    {
     "data": {
      "text/plain": [
       "yes    2562\n",
       "no     2497\n",
       "Name: Популярно, dtype: int64"
      ]
     },
     "execution_count": 6,
     "metadata": {},
     "output_type": "execute_result"
    }
   ],
   "source": [
    "df = df.sample(frac=0.25, random_state=0).reset_index(drop=True)\n",
    "df['Популярно'].value_counts()"
   ]
  },
  {
   "cell_type": "markdown",
   "metadata": {},
   "source": [
    "<font color=darkblue>Удалим прогнозируемую колонку из набора обучающих данных"
   ]
  },
  {
   "cell_type": "code",
   "execution_count": 7,
   "metadata": {},
   "outputs": [],
   "source": [
    "y=df['Популярно']\n",
    "df=df.drop(columns=['Популярно'])"
   ]
  },
  {
   "cell_type": "markdown",
   "metadata": {},
   "source": [
    "## 2. Преобразуем наш датафрейм в массив признаков \n",
    "<font color=darkblue>воспользуемся dummy кодированием. Оно игнорирует числовые колонки, оставляя их без изменения и не включает текстовые атрибуты. \n",
    "\n",
    "Дополнительно создадим колонку с числом символов в объявлении, подробный текст может влиять на просматриваемость. "
   ]
  },
  {
   "cell_type": "code",
   "execution_count": 8,
   "metadata": {},
   "outputs": [
    {
     "data": {
      "text/plain": [
       "Index(['Тип кузова_фургон', 'Тип кузова_хэтчбек 3 дв.',\n",
       "       'Тип кузова_хэтчбек 4 дв.', 'Тип кузова_хэтчбек 5 дв.',\n",
       "       'Состояние_Не требует ремонта', 'Срок владения_1 год',\n",
       "       'Срок владения_1 год и 1 месяц', 'Срок владения_1 год и 10 месяцев',\n",
       "       'Срок владения_1 год и 11 месяцев', 'Срок владения_1 год и 2 месяца',\n",
       "       ...\n",
       "       'Дата_2018-08-08', 'Дата_2018-08-09', 'Дата_2018-08-10',\n",
       "       'Дата_2018-08-11', 'Дата_2018-08-12', 'Дата_2018-08-13',\n",
       "       'Дата_2018-08-14', 'Дата_2018-08-15', 'Дата_2018-08-16',\n",
       "       'Дата_2018-08-23'],\n",
       "      dtype='object', length=6211)"
      ]
     },
     "execution_count": 8,
     "metadata": {},
     "output_type": "execute_result"
    }
   ],
   "source": [
    "df['Символов в объявлении']=df['Комментарий'].str.len()\n",
    "df_dummy = pd.get_dummies(df)\n",
    "df_dummy=df_dummy.fillna(0)\n",
    "df_dummy.columns[33:]"
   ]
  },
  {
   "cell_type": "markdown",
   "metadata": {},
   "source": [
    "<font color=darkblue>Разобьем массив получившихся признаков на 2 части. на обучающий набор и на тестовый"
   ]
  },
  {
   "cell_type": "code",
   "execution_count": 9,
   "metadata": {},
   "outputs": [
    {
     "data": {
      "text/plain": [
       "(4047, 6244)"
      ]
     },
     "execution_count": 9,
     "metadata": {},
     "output_type": "execute_result"
    }
   ],
   "source": [
    "from sklearn.model_selection import train_test_split\n",
    "X_train, X_test, y_train, y_test = train_test_split(df_dummy, y, test_size=0.2,random_state=0)\n",
    "X_train.shape"
   ]
  },
  {
   "cell_type": "code",
   "execution_count": 10,
   "metadata": {},
   "outputs": [
    {
     "data": {
      "text/plain": [
       "(1012, 6244)"
      ]
     },
     "execution_count": 10,
     "metadata": {},
     "output_type": "execute_result"
    }
   ],
   "source": [
    "X_test.shape"
   ]
  },
  {
   "cell_type": "markdown",
   "metadata": {},
   "source": [
    "<font color=darkblue>применим логистическую регрессию и анализируем результат "
   ]
  },
  {
   "cell_type": "code",
   "execution_count": 11,
   "metadata": {},
   "outputs": [
    {
     "name": "stdout",
     "output_type": "stream",
     "text": [
      "              precision    recall  f1-score   support\n",
      "\n",
      "          no       1.00      0.99      1.00       519\n",
      "         yes       0.99      1.00      1.00       493\n",
      "\n",
      "   micro avg       1.00      1.00      1.00      1012\n",
      "   macro avg       1.00      1.00      1.00      1012\n",
      "weighted avg       1.00      1.00      1.00      1012\n",
      "\n",
      "Accuracy 0.9960474308300395\n"
     ]
    }
   ],
   "source": [
    "from sklearn.linear_model import LogisticRegression\n",
    "from sklearn.metrics import classification_report, accuracy_score\n",
    "clf = LogisticRegression(penalty='l1')\n",
    "clf.fit(X_train, y_train)\n",
    "\n",
    "y_predicted = clf.predict(X_test)\n",
    "print(classification_report(y_predicted, y_test))\n",
    "print('Accuracy',accuracy_score(y_predicted, y_test)) "
   ]
  },
  {
   "cell_type": "markdown",
   "metadata": {},
   "source": [
    "### Мы достигли максимальной точности , алгоритм не дает ни одной ошибки. Отличный результат!!! \n",
    "<font color=darkblue>НО, скорее всего существуют признаки от которых зависит целевая переменная Y, алгоритму машинного обучения очень просто обнаружить такие зависимости. "
   ]
  },
  {
   "cell_type": "code",
   "execution_count": 12,
   "metadata": {},
   "outputs": [
    {
     "data": {
      "text/plain": [
       "Index(['Год выпуска', 'КПП', 'Привод', 'Пробег', 'Тип кузова', 'Состояние',\n",
       "       'Срок владения', 'Цвет', 'Руль', 'Владельцы', 'ПТС', 'Комментарий',\n",
       "       'Марка', 'Модель', 'Город', 'Объем двигателя', 'Мощность двигателя',\n",
       "       'Двигатель', 'Цена', 'Дата', 'Количество дней', 'Просмотров всего',\n",
       "       'Просмотров в день', 'Символов в объявлении'],\n",
       "      dtype='object')"
      ]
     },
     "execution_count": 12,
     "metadata": {},
     "output_type": "execute_result"
    }
   ],
   "source": [
    "df.columns"
   ]
  },
  {
   "cell_type": "markdown",
   "metadata": {},
   "source": [
    "<font color=darkblue>Проверим список колонок и удалим те которые могут яным образом влиять на результат. "
   ]
  },
  {
   "cell_type": "code",
   "execution_count": 13,
   "metadata": {},
   "outputs": [],
   "source": [
    "df = df.drop(columns=['Просмотров в день','Просмотров всего','Количество дней','Дата'])"
   ]
  },
  {
   "cell_type": "code",
   "execution_count": 14,
   "metadata": {},
   "outputs": [],
   "source": [
    "df_dummy = pd.get_dummies(df).fillna(0)\n",
    "X_train, X_test, y_train, y_test = train_test_split(df_dummy, y, test_size=0.2,random_state=0)"
   ]
  },
  {
   "cell_type": "code",
   "execution_count": 15,
   "metadata": {},
   "outputs": [
    {
     "name": "stdout",
     "output_type": "stream",
     "text": [
      "              precision    recall  f1-score   support\n",
      "\n",
      "          no       0.70      0.84      0.77       430\n",
      "         yes       0.87      0.74      0.80       582\n",
      "\n",
      "   micro avg       0.78      0.78      0.78      1012\n",
      "   macro avg       0.79      0.79      0.78      1012\n",
      "weighted avg       0.80      0.78      0.78      1012\n",
      "\n",
      "Accuracy 0.7835968379446641\n"
     ]
    }
   ],
   "source": [
    "clf = LogisticRegression(penalty='l1')\n",
    "\n",
    "clf.fit(X_train, y_train)\n",
    "\n",
    "y_predicted = clf.predict(X_test)\n",
    "print(classification_report(y_predicted, y_test))\n",
    "print('Accuracy',accuracy_score(y_predicted, y_test)) "
   ]
  },
  {
   "cell_type": "markdown",
   "metadata": {},
   "source": [
    "<font color=darkblue>Давайте перепопробуем все алгоритмы со значениями по умолчанию и сравним результат:\n",
    "- \"k-ближайших соседей\"\n",
    "- \"Линейный SVM\" \n",
    "- \"наивный баес\"\n",
    "- \"Решающие деревья\" \n",
    "- \"Случайный лес\"\n",
    "- \"Нейронные сети\"\n",
    "- \"Логистическая регрессия\"\n",
    "\n",
    "Подключим библиотеки алгоритмов"
   ]
  },
  {
   "cell_type": "code",
   "execution_count": 16,
   "metadata": {},
   "outputs": [],
   "source": [
    "from sklearn.svm import LinearSVC\n",
    "from sklearn.linear_model import SGDClassifier \n",
    "from sklearn.tree import DecisionTreeClassifier\n",
    "from sklearn.ensemble import RandomForestClassifier\n",
    "from sklearn.naive_bayes import GaussianNB\n",
    "from sklearn.neighbors import KNeighborsClassifier\n",
    "from sklearn.neural_network import MLPClassifier"
   ]
  },
  {
   "cell_type": "markdown",
   "metadata": {},
   "source": [
    "<font color=darkblue>С алгоритмами можно работать универсальным образом, что очень удобно, проверим время выполнения каждого. Сравните время выполнения и качество прогноза с параметрами по умолчанию. "
   ]
  },
  {
   "cell_type": "code",
   "execution_count": 17,
   "metadata": {},
   "outputs": [],
   "source": [
    "import time\n",
    "names = [\"k-Соседей\",\n",
    "         \"Линейный SVM\", \"Наивный баес\",\n",
    "         \"Решающие деревья\", \"Случайный лес\", \"Нейронные сети\", \"Логистическая регрессия\"]\n",
    "\n",
    "classifiers = [\n",
    "    KNeighborsClassifier(),\n",
    "    LinearSVC(),GaussianNB(),DecisionTreeClassifier(),\n",
    "    RandomForestClassifier(),MLPClassifier(hidden_layer_sizes=(50,)),LogisticRegression()]\n",
    "\n",
    "scores=[]\n",
    "scores_train=[]\n",
    "times=[]\n",
    "\n",
    "for name, clf in zip(names, classifiers): \n",
    "    start_time = time.time()\n",
    "    clf.fit(X_train, y_train)\n",
    "    y_predicted = clf.predict(X_test)\n",
    "    scores.append( accuracy_score(y_predicted, y_test) )\n",
    "    scores_train.append( accuracy_score(clf.predict(X_train), y_train) )\n",
    "    times.append(time.time() - start_time)\n"
   ]
  },
  {
   "cell_type": "markdown",
   "metadata": {},
   "source": [
    "<font color=darkblue>Визуализируем результаты показателя \"accuracy\". причем отобразим одновременно и резульаты на обучающей выборке(синим) и на тестовой. Какие алгоритмы переобучились?   "
   ]
  },
  {
   "cell_type": "code",
   "execution_count": 18,
   "metadata": {
    "scrolled": true
   },
   "outputs": [
    {
     "data": {
      "image/png": "[encoded data removed]",
      "text/plain": [
       "<Figure size 432x288 with 1 Axes>"
      ]
     },
     "metadata": {
      "needs_background": "light"
     },
     "output_type": "display_data"
    }
   ],
   "source": [
    "%matplotlib inline\n",
    "from matplotlib import pylab as plt\n",
    "plt.barh(names,scores_train)\n",
    "for i, v in enumerate(scores_train):\n",
    "    plt.text(v , i , str(round(v,2)), color='black', fontweight='bold')\n",
    "plt.barh(names,scores)\n",
    "for i, v in enumerate(scores):\n",
    "    plt.text(v , i , str(round(v,2)), color='blue', fontweight='bold')"
   ]
  },
  {
   "cell_type": "markdown",
   "metadata": {},
   "source": [
    "<font color=darkblue>Время выполнения каждого алгоритма. Сравните их между собой(если увеличить размер обучающей выборки то пропорция значительно поменяется)"
   ]
  },
  {
   "cell_type": "code",
   "execution_count": 19,
   "metadata": {},
   "outputs": [
    {
     "data": {
      "text/plain": [
       "<BarContainer object of 7 artists>"
      ]
     },
     "execution_count": 19,
     "metadata": {},
     "output_type": "execute_result"
    },
    {
     "data": {
      "image/png": "[encoded data removed]",
      "text/plain": [
       "<Figure size 432x288 with 1 Axes>"
      ]
     },
     "metadata": {
      "needs_background": "light"
     },
     "output_type": "display_data"
    }
   ],
   "source": [
    "plt.barh(names,times)"
   ]
  },
  {
   "cell_type": "markdown",
   "metadata": {},
   "source": [
    "# 3. Получили baseline который попробуем улучшить \n",
    "<font color=darkblue>Обратите внимание что все алгоритмы дают примерно одинаковый результат на тесте, SVM (очень мощного алгоритма)\n",
    "проблема линейного алгоритма в том что вещественный признаки отличаются по масштабу от большинства справочных данных, закодированных Dummy.  "
   ]
  },
  {
   "cell_type": "markdown",
   "metadata": {},
   "source": [
    "## 3.1. Заполнение пустых значений в данных "
   ]
  },
  {
   "cell_type": "markdown",
   "metadata": {},
   "source": [
    "<font color=darkblue>проверим кол-во пустых значений, если данных достуточно то часто используют удаление строк где есть хоть одно пустое \n",
    "значение атрибута "
   ]
  },
  {
   "cell_type": "code",
   "execution_count": 20,
   "metadata": {},
   "outputs": [
    {
     "name": "stdout",
     "output_type": "stream",
     "text": [
      "Год выпуска          - 1365 пустых значений.\n",
      "КПП                  - 1365 пустых значений.\n",
      "Привод               - 1365 пустых значений.\n",
      "Пробег               - 1365 пустых значений.\n",
      "Тип кузова           - 1365 пустых значений.\n",
      "Состояние            - 1365 пустых значений.\n",
      "Срок владения        - 3490 пустых значений.\n",
      "Цвет                 - 1365 пустых значений.\n",
      "Руль                 - 1521 пустых значений.\n",
      "Владельцы            - 1425 пустых значений.\n",
      "ПТС                  - 1365 пустых значений.\n",
      "Комментарий          - 239 пустых значений.\n",
      "Марка                - 0 пустых значений.\n",
      "Модель               - 0 пустых значений.\n",
      "Город                - 103 пустых значений.\n",
      "Объем двигателя      - 1366 пустых значений.\n",
      "Мощность двигателя   - 1366 пустых значений.\n",
      "Двигатель            - 1366 пустых значений.\n",
      "Цена                 - 0 пустых значений.\n",
      "Символов в объявлении - 239 пустых значений.\n"
     ]
    }
   ],
   "source": [
    "for feature in df.columns:\n",
    "    number = len(df) - len(df[df.isnull().apply(lambda x: not(x[feature]), axis=1)])\n",
    "    print(\"{0:20} - {1} пустых значений.\".format(feature, number))"
   ]
  },
  {
   "cell_type": "markdown",
   "metadata": {},
   "source": [
    " ### 3.1.1. Категориальные признаки\n",
    "<font color=darkblue> Заполнение пустых значений у категориальных признаков на отдельное значение справочника\n",
    " \n",
    " Также возможно применение стратегии замены на самое частоиспользуемое значение.\n",
    "  "
   ]
  },
  {
   "cell_type": "code",
   "execution_count": 21,
   "metadata": {},
   "outputs": [],
   "source": [
    "df[\"КПП\"] = df[\"КПП\"].fillna(\"empty\")\n",
    "df[\"Привод\"] = df[\"Привод\"].fillna(\"empty\")\n",
    "df[\"Тип кузова\"] = df[\"Тип кузова\"].fillna(\"empty\")\n",
    "df[\"Состояние\"] = df[\"Состояние\"].fillna(\"empty\")\n",
    "df[\"Цвет\"] = df[\"Цвет\"].fillna(\"empty\")\n",
    "df[\"Руль\"] = df[\"Руль\"].fillna(\"empty\")\n",
    "df[\"Владельцы\"] = df[\"Владельцы\"].fillna(\"empty\")\n",
    "df[\"ПТС\"] = df[\"ПТС\"].fillna(\"empty\")\n",
    "df[\"Город\"] = df[\"Город\"].fillna(\"empty\")\n",
    "df[\"Двигатель\"] = df[\"Двигатель\"].fillna(\"empty\")\n",
    "df[\"Срок владения\"] = df[\"Срок владения\"].fillna(\"empty\")"
   ]
  },
  {
   "cell_type": "markdown",
   "metadata": {},
   "source": [
    "### 3.1.2. Вещественные признаки\n",
    "<font color=darkblue>существует множество вариантов, самые популярные:\n",
    "- замена средним значением по всей выборке \n",
    "- матричные преобразования\n",
    "- замена значением по методу k-ближайших значений \n",
    "- замена нулем \n",
    "- em-алшоритм\n",
    "- интерполяция "
   ]
  },
  {
   "cell_type": "markdown",
   "metadata": {},
   "source": [
    "#### 3.1.2.1 Применим dummy кодирование\n",
    "<font color=darkblue>для этого нужно перевести вещественные признаки к строковому значению. и тогда NaN будет отдельным признаком "
   ]
  },
  {
   "cell_type": "code",
   "execution_count": 22,
   "metadata": {},
   "outputs": [
    {
     "data": {
      "text/plain": [
       "(5059, 11699)"
      ]
     },
     "execution_count": 22,
     "metadata": {},
     "output_type": "execute_result"
    }
   ],
   "source": [
    "df_allstr=df.astype(str)\n",
    "df_allstr = pd.get_dummies(df_allstr)\n",
    "df_allstr.shape"
   ]
  },
  {
   "cell_type": "markdown",
   "metadata": {},
   "source": [
    "<font color=darkblue>Почти в 2 раза увеличилось число признаков, но посчитаем на тестовой выборке для всех моделей "
   ]
  },
  {
   "cell_type": "code",
   "execution_count": 23,
   "metadata": {},
   "outputs": [
    {
     "data": {
      "image/png": "[encoded data removed]",
      "text/plain": [
       "<Figure size 432x288 with 1 Axes>"
      ]
     },
     "metadata": {
      "needs_background": "light"
     },
     "output_type": "display_data"
    }
   ],
   "source": [
    "X_train, X_test, y_train, y_test = train_test_split(df_allstr, y, test_size=0.2,random_state=0)\n",
    "\n",
    "scores=[]\n",
    "times=[]\n",
    "for name, clf in zip(names, classifiers):\n",
    "    start_time=time.time() \n",
    "    clf.fit(X_train, y_train)\n",
    "    y_predicted = clf.predict(X_test)\n",
    "    scores.append( accuracy_score(y_predicted, y_test)  ) \n",
    "    \n",
    "    times.append(time.time() -start_time )\n",
    "\n",
    "plt.barh(names,scores_train)\n",
    "for i, v in enumerate(scores_train):\n",
    "    plt.text(v , i , str(round(v,2)), color='black', fontweight='bold')\n",
    "    \n",
    "plt.barh(names,scores)\n",
    "for i, v in enumerate(scores):\n",
    "    plt.text(v , i , str(round(v,2)), color='blue', fontweight='bold')\n"
   ]
  },
  {
   "cell_type": "code",
   "execution_count": 24,
   "metadata": {},
   "outputs": [
    {
     "data": {
      "text/plain": [
       "<BarContainer object of 7 artists>"
      ]
     },
     "execution_count": 24,
     "metadata": {},
     "output_type": "execute_result"
    },
    {
     "data": {
      "image/png": "[encoded data removed]",
      "text/plain": [
       "<Figure size 432x288 with 1 Axes>"
      ]
     },
     "metadata": {
      "needs_background": "light"
     },
     "output_type": "display_data"
    }
   ],
   "source": [
    "plt.barh(names,times)"
   ]
  },
  {
   "cell_type": "markdown",
   "metadata": {},
   "source": [
    "<font color=darkblue>Линейные методы значительно улучшили свои показатели особенно(SVN), но время выполнения стало очень длительным из-за числа признаков, необходимо сократить их, выполняя отбор признаков"
   ]
  },
  {
   "cell_type": "code",
   "execution_count": 25,
   "metadata": {},
   "outputs": [
    {
     "name": "stdout",
     "output_type": "stream",
     "text": [
      "Количество признаков 11699\n"
     ]
    }
   ],
   "source": [
    "print('Количество признаков', df_allstr.columns.shape[0])"
   ]
  },
  {
   "cell_type": "markdown",
   "metadata": {},
   "source": [
    "#### 1.2.2 Применим интерполяцию преобразование числовых признаков \n",
    "<font color=darkblue>- замену пустых на интерполированное значение\n",
    "\n",
    "<font color=darkblue>- преобразование к отрезку (0,1)"
   ]
  },
  {
   "cell_type": "markdown",
   "metadata": {},
   "source": [
    "<font color=darkblue>Воспользуемся методом interpolate который входит в состав библиотеки pandas для замены пустых значений"
   ]
  },
  {
   "cell_type": "code",
   "execution_count": 26,
   "metadata": {},
   "outputs": [
    {
     "data": {
      "text/html": [
       "<div>\n",
       "<style scoped>\n",
       "    .dataframe tbody tr th:only-of-type {\n",
       "        vertical-align: middle;\n",
       "    }\n",
       "\n",
       "    .dataframe tbody tr th {\n",
       "        vertical-align: top;\n",
       "    }\n",
       "\n",
       "    .dataframe thead th {\n",
       "        text-align: right;\n",
       "    }\n",
       "</style>\n",
       "<table border=\"1\" class=\"dataframe\">\n",
       "  <thead>\n",
       "    <tr style=\"text-align: right;\">\n",
       "      <th></th>\n",
       "      <th>Цена</th>\n",
       "      <th>Пробег</th>\n",
       "      <th>Год выпуска</th>\n",
       "      <th>Объем двигателя</th>\n",
       "      <th>Мощность двигателя</th>\n",
       "      <th>Символов в объявлении</th>\n",
       "    </tr>\n",
       "  </thead>\n",
       "  <tbody>\n",
       "    <tr>\n",
       "      <th>1193</th>\n",
       "      <td>8776882</td>\n",
       "      <td>nan</td>\n",
       "      <td>nan</td>\n",
       "      <td>nan</td>\n",
       "      <td>nan</td>\n",
       "      <td>6627.00</td>\n",
       "    </tr>\n",
       "    <tr>\n",
       "      <th>3185</th>\n",
       "      <td>9770000</td>\n",
       "      <td>nan</td>\n",
       "      <td>nan</td>\n",
       "      <td>nan</td>\n",
       "      <td>nan</td>\n",
       "      <td>2801.00</td>\n",
       "    </tr>\n",
       "    <tr>\n",
       "      <th>2214</th>\n",
       "      <td>10024680</td>\n",
       "      <td>nan</td>\n",
       "      <td>nan</td>\n",
       "      <td>nan</td>\n",
       "      <td>nan</td>\n",
       "      <td>1563.00</td>\n",
       "    </tr>\n",
       "    <tr>\n",
       "      <th>1444</th>\n",
       "      <td>10052855</td>\n",
       "      <td>2206.00</td>\n",
       "      <td>2018.00</td>\n",
       "      <td>3.00</td>\n",
       "      <td>367.00</td>\n",
       "      <td>3552.00</td>\n",
       "    </tr>\n",
       "    <tr>\n",
       "      <th>464</th>\n",
       "      <td>13700000</td>\n",
       "      <td>7016.00</td>\n",
       "      <td>2016.00</td>\n",
       "      <td>5.20</td>\n",
       "      <td>610.00</td>\n",
       "      <td>1138.00</td>\n",
       "    </tr>\n",
       "  </tbody>\n",
       "</table>\n",
       "</div>"
      ],
      "text/plain": [
       "          Цена  Пробег  Год выпуска  Объем двигателя  Мощность двигателя  \\\n",
       "1193   8776882     nan          nan              nan                 nan   \n",
       "3185   9770000     nan          nan              nan                 nan   \n",
       "2214  10024680     nan          nan              nan                 nan   \n",
       "1444  10052855 2206.00      2018.00             3.00              367.00   \n",
       "464   13700000 7016.00      2016.00             5.20              610.00   \n",
       "\n",
       "      Символов в объявлении  \n",
       "1193                6627.00  \n",
       "3185                2801.00  \n",
       "2214                1563.00  \n",
       "1444                3552.00  \n",
       "464                 1138.00  "
      ]
     },
     "execution_count": 26,
     "metadata": {},
     "output_type": "execute_result"
    }
   ],
   "source": [
    "interp = df[[\"Цена\", \"Пробег\", \"Год выпуска\", \"Объем двигателя\", \"Мощность двигателя\",\"Символов в объявлении\"]]\n",
    "\n",
    "interp = interp.sort_values(by=\"Цена\")\n",
    "interp.tail()"
   ]
  },
  {
   "cell_type": "code",
   "execution_count": 27,
   "metadata": {},
   "outputs": [
    {
     "data": {
      "text/html": [
       "<div>\n",
       "<style scoped>\n",
       "    .dataframe tbody tr th:only-of-type {\n",
       "        vertical-align: middle;\n",
       "    }\n",
       "\n",
       "    .dataframe tbody tr th {\n",
       "        vertical-align: top;\n",
       "    }\n",
       "\n",
       "    .dataframe thead th {\n",
       "        text-align: right;\n",
       "    }\n",
       "</style>\n",
       "<table border=\"1\" class=\"dataframe\">\n",
       "  <thead>\n",
       "    <tr style=\"text-align: right;\">\n",
       "      <th></th>\n",
       "      <th>Цена</th>\n",
       "      <th>Пробег</th>\n",
       "      <th>Год выпуска</th>\n",
       "      <th>Объем двигателя</th>\n",
       "      <th>Мощность двигателя</th>\n",
       "      <th>Символов в объявлении</th>\n",
       "    </tr>\n",
       "  </thead>\n",
       "  <tbody>\n",
       "    <tr>\n",
       "      <th>1193</th>\n",
       "      <td>8776882</td>\n",
       "      <td>8850.77</td>\n",
       "      <td>2017.54</td>\n",
       "      <td>3.39</td>\n",
       "      <td>387.31</td>\n",
       "      <td>6627.00</td>\n",
       "    </tr>\n",
       "    <tr>\n",
       "      <th>3185</th>\n",
       "      <td>9770000</td>\n",
       "      <td>6635.85</td>\n",
       "      <td>2017.69</td>\n",
       "      <td>3.26</td>\n",
       "      <td>380.54</td>\n",
       "      <td>2801.00</td>\n",
       "    </tr>\n",
       "    <tr>\n",
       "      <th>2214</th>\n",
       "      <td>10024680</td>\n",
       "      <td>4420.92</td>\n",
       "      <td>2017.85</td>\n",
       "      <td>3.13</td>\n",
       "      <td>373.77</td>\n",
       "      <td>1563.00</td>\n",
       "    </tr>\n",
       "    <tr>\n",
       "      <th>1444</th>\n",
       "      <td>10052855</td>\n",
       "      <td>2206.00</td>\n",
       "      <td>2018.00</td>\n",
       "      <td>3.00</td>\n",
       "      <td>367.00</td>\n",
       "      <td>3552.00</td>\n",
       "    </tr>\n",
       "    <tr>\n",
       "      <th>464</th>\n",
       "      <td>13700000</td>\n",
       "      <td>7016.00</td>\n",
       "      <td>2016.00</td>\n",
       "      <td>5.20</td>\n",
       "      <td>610.00</td>\n",
       "      <td>1138.00</td>\n",
       "    </tr>\n",
       "  </tbody>\n",
       "</table>\n",
       "</div>"
      ],
      "text/plain": [
       "          Цена  Пробег  Год выпуска  Объем двигателя  Мощность двигателя  \\\n",
       "1193   8776882 8850.77      2017.54             3.39              387.31   \n",
       "3185   9770000 6635.85      2017.69             3.26              380.54   \n",
       "2214  10024680 4420.92      2017.85             3.13              373.77   \n",
       "1444  10052855 2206.00      2018.00             3.00              367.00   \n",
       "464   13700000 7016.00      2016.00             5.20              610.00   \n",
       "\n",
       "      Символов в объявлении  \n",
       "1193                6627.00  \n",
       "3185                2801.00  \n",
       "2214                1563.00  \n",
       "1444                3552.00  \n",
       "464                 1138.00  "
      ]
     },
     "execution_count": 27,
     "metadata": {},
     "output_type": "execute_result"
    }
   ],
   "source": [
    "interp = interp.interpolate(method=\"linear\")\n",
    "interp.tail()"
   ]
  },
  {
   "cell_type": "markdown",
   "metadata": {},
   "source": [
    "<font color=darkblue>для приведения к отрезку (0,1) воспользуемся метод MinMaxScaler"
   ]
  },
  {
   "cell_type": "code",
   "execution_count": 28,
   "metadata": {},
   "outputs": [],
   "source": [
    "from sklearn.preprocessing import MinMaxScaler\n",
    "scaler = MinMaxScaler()\n",
    "scaler.fit(interp)\n",
    "interp = pd.DataFrame(scaler.transform(interp), columns=[\"Цена\", \"Пробег\", \"Год выпуска\", \"Объем двигателя\", \"Мощность двигателя\",\"Символов в объявлении\"])"
   ]
  },
  {
   "cell_type": "markdown",
   "metadata": {},
   "source": [
    "<font color=darkblue>Заменим исходные колонки на преобразованные "
   ]
  },
  {
   "cell_type": "code",
   "execution_count": 29,
   "metadata": {},
   "outputs": [
    {
     "data": {
      "text/html": [
       "<div>\n",
       "<style scoped>\n",
       "    .dataframe tbody tr th:only-of-type {\n",
       "        vertical-align: middle;\n",
       "    }\n",
       "\n",
       "    .dataframe tbody tr th {\n",
       "        vertical-align: top;\n",
       "    }\n",
       "\n",
       "    .dataframe thead th {\n",
       "        text-align: right;\n",
       "    }\n",
       "</style>\n",
       "<table border=\"1\" class=\"dataframe\">\n",
       "  <thead>\n",
       "    <tr style=\"text-align: right;\">\n",
       "      <th></th>\n",
       "      <th>Год выпуска</th>\n",
       "      <th>КПП</th>\n",
       "      <th>Привод</th>\n",
       "      <th>Пробег</th>\n",
       "      <th>Тип кузова</th>\n",
       "      <th>Состояние</th>\n",
       "      <th>Срок владения</th>\n",
       "      <th>Цвет</th>\n",
       "      <th>Руль</th>\n",
       "      <th>Владельцы</th>\n",
       "      <th>ПТС</th>\n",
       "      <th>Комментарий</th>\n",
       "      <th>Марка</th>\n",
       "      <th>Модель</th>\n",
       "      <th>Город</th>\n",
       "      <th>Объем двигателя</th>\n",
       "      <th>Мощность двигателя</th>\n",
       "      <th>Двигатель</th>\n",
       "      <th>Цена</th>\n",
       "      <th>Символов в объявлении</th>\n",
       "    </tr>\n",
       "  </thead>\n",
       "  <tbody>\n",
       "    <tr>\n",
       "      <th>0</th>\n",
       "      <td>0.58</td>\n",
       "      <td>empty</td>\n",
       "      <td>empty</td>\n",
       "      <td>0.13</td>\n",
       "      <td>empty</td>\n",
       "      <td>empty</td>\n",
       "      <td>empty</td>\n",
       "      <td>empty</td>\n",
       "      <td>empty</td>\n",
       "      <td>empty</td>\n",
       "      <td>empty</td>\n",
       "      <td>выгода до 200000 руб. по программе трейд-ин+кр...</td>\n",
       "      <td>Toyota</td>\n",
       "      <td>RAV 4 IV (CA40) Рестайлинг</td>\n",
       "      <td>Санкт-Петербург</td>\n",
       "      <td>0.07</td>\n",
       "      <td>0.02</td>\n",
       "      <td>empty</td>\n",
       "      <td>0.00</td>\n",
       "      <td>0.03</td>\n",
       "    </tr>\n",
       "    <tr>\n",
       "      <th>1</th>\n",
       "      <td>0.52</td>\n",
       "      <td>empty</td>\n",
       "      <td>empty</td>\n",
       "      <td>0.23</td>\n",
       "      <td>empty</td>\n",
       "      <td>empty</td>\n",
       "      <td>empty</td>\n",
       "      <td>empty</td>\n",
       "      <td>empty</td>\n",
       "      <td>empty</td>\n",
       "      <td>empty</td>\n",
       "      <td>Комплектация КЛАССИК.- Ручки дверей, зеркала з...</td>\n",
       "      <td>УАЗ</td>\n",
       "      <td>Pickup I Рестайлинг 2</td>\n",
       "      <td>Красноярск</td>\n",
       "      <td>0.10</td>\n",
       "      <td>0.04</td>\n",
       "      <td>empty</td>\n",
       "      <td>0.00</td>\n",
       "      <td>0.00</td>\n",
       "    </tr>\n",
       "    <tr>\n",
       "      <th>2</th>\n",
       "      <td>0.29</td>\n",
       "      <td>empty</td>\n",
       "      <td>empty</td>\n",
       "      <td>0.15</td>\n",
       "      <td>empty</td>\n",
       "      <td>empty</td>\n",
       "      <td>empty</td>\n",
       "      <td>empty</td>\n",
       "      <td>empty</td>\n",
       "      <td>empty</td>\n",
       "      <td>empty</td>\n",
       "      <td>Автосалон Модус официальный дилер Nissan в гор...</td>\n",
       "      <td>Nissan</td>\n",
       "      <td>Qashqai II</td>\n",
       "      <td>Сочи</td>\n",
       "      <td>0.08</td>\n",
       "      <td>0.04</td>\n",
       "      <td>empty</td>\n",
       "      <td>0.00</td>\n",
       "      <td>0.01</td>\n",
       "    </tr>\n",
       "    <tr>\n",
       "      <th>3</th>\n",
       "      <td>0.57</td>\n",
       "      <td>механическая</td>\n",
       "      <td>передний</td>\n",
       "      <td>0.10</td>\n",
       "      <td>хэтчбек 5 дв.</td>\n",
       "      <td>Не требует ремонта</td>\n",
       "      <td>empty</td>\n",
       "      <td>серебристый</td>\n",
       "      <td>Левый</td>\n",
       "      <td>3 или более</td>\n",
       "      <td>Оригинал</td>\n",
       "      <td>В отличном состоянии. Автомобиль обслуживался ...</td>\n",
       "      <td>Ford</td>\n",
       "      <td>Focus II Рестайлинг</td>\n",
       "      <td>Москва</td>\n",
       "      <td>0.10</td>\n",
       "      <td>0.04</td>\n",
       "      <td>Бензин</td>\n",
       "      <td>0.00</td>\n",
       "      <td>0.00</td>\n",
       "    </tr>\n",
       "    <tr>\n",
       "      <th>4</th>\n",
       "      <td>0.75</td>\n",
       "      <td>empty</td>\n",
       "      <td>empty</td>\n",
       "      <td>0.00</td>\n",
       "      <td>empty</td>\n",
       "      <td>empty</td>\n",
       "      <td>empty</td>\n",
       "      <td>empty</td>\n",
       "      <td>empty</td>\n",
       "      <td>empty</td>\n",
       "      <td>empty</td>\n",
       "      <td>Экстерьер: Топливный бак 66 л,Интерьер: Индика...</td>\n",
       "      <td>Mercedes-Benz</td>\n",
       "      <td>GLC Coupe C253 250 d</td>\n",
       "      <td>Краснодар</td>\n",
       "      <td>0.15</td>\n",
       "      <td>0.09</td>\n",
       "      <td>empty</td>\n",
       "      <td>0.00</td>\n",
       "      <td>0.00</td>\n",
       "    </tr>\n",
       "  </tbody>\n",
       "</table>\n",
       "</div>"
      ],
      "text/plain": [
       "   Год выпуска           КПП    Привод  Пробег     Тип кузова  \\\n",
       "0         0.58         empty     empty    0.13          empty   \n",
       "1         0.52         empty     empty    0.23          empty   \n",
       "2         0.29         empty     empty    0.15          empty   \n",
       "3         0.57  механическая  передний    0.10  хэтчбек 5 дв.   \n",
       "4         0.75         empty     empty    0.00          empty   \n",
       "\n",
       "            Состояние Срок владения         Цвет   Руль    Владельцы  \\\n",
       "0               empty         empty        empty  empty        empty   \n",
       "1               empty         empty        empty  empty        empty   \n",
       "2               empty         empty        empty  empty        empty   \n",
       "3  Не требует ремонта         empty  серебристый  Левый  3 или более   \n",
       "4               empty         empty        empty  empty        empty   \n",
       "\n",
       "        ПТС                                        Комментарий          Марка  \\\n",
       "0     empty  выгода до 200000 руб. по программе трейд-ин+кр...         Toyota   \n",
       "1     empty  Комплектация КЛАССИК.- Ручки дверей, зеркала з...            УАЗ   \n",
       "2     empty  Автосалон Модус официальный дилер Nissan в гор...         Nissan   \n",
       "3  Оригинал  В отличном состоянии. Автомобиль обслуживался ...           Ford   \n",
       "4     empty  Экстерьер: Топливный бак 66 л,Интерьер: Индика...  Mercedes-Benz   \n",
       "\n",
       "                       Модель            Город  Объем двигателя  \\\n",
       "0  RAV 4 IV (CA40) Рестайлинг  Санкт-Петербург             0.07   \n",
       "1       Pickup I Рестайлинг 2       Красноярск             0.10   \n",
       "2                  Qashqai II             Сочи             0.08   \n",
       "3         Focus II Рестайлинг           Москва             0.10   \n",
       "4        GLC Coupe C253 250 d        Краснодар             0.15   \n",
       "\n",
       "   Мощность двигателя Двигатель  Цена  Символов в объявлении  \n",
       "0                0.02     empty  0.00                   0.03  \n",
       "1                0.04     empty  0.00                   0.00  \n",
       "2                0.04     empty  0.00                   0.01  \n",
       "3                0.04    Бензин  0.00                   0.00  \n",
       "4                0.09     empty  0.00                   0.00  "
      ]
     },
     "execution_count": 29,
     "metadata": {},
     "output_type": "execute_result"
    }
   ],
   "source": [
    "df_interp = df.copy()\n",
    "df_interp[[\"Цена\", \"Пробег\", \"Год выпуска\", \"Объем двигателя\", \"Мощность двигателя\",\"Символов в объявлении\"]] =\\\n",
    "    interp[[\"Цена\", \"Пробег\", \"Год выпуска\", \"Объем двигателя\", \"Мощность двигателя\",\"Символов в объявлении\"]]\n",
    "df_interp.head()"
   ]
  },
  {
   "cell_type": "code",
   "execution_count": 30,
   "metadata": {},
   "outputs": [
    {
     "name": "stdout",
     "output_type": "stream",
     "text": [
      "Количество признаков 6056\n"
     ]
    }
   ],
   "source": [
    "df_interp = pd.get_dummies(df_interp)\n",
    "print('Количество признаков', df_interp.columns.shape[0])"
   ]
  },
  {
   "cell_type": "markdown",
   "metadata": {},
   "source": [
    "<font color=darkblue>Количество признаков как в исходном случае. расчитаем точность для всех алгоритмов "
   ]
  },
  {
   "cell_type": "code",
   "execution_count": 31,
   "metadata": {},
   "outputs": [],
   "source": [
    "X_train, X_test, y_train, y_test = train_test_split(df_interp, y, test_size=0.2,random_state=0)\n",
    "\n",
    "scores=[]\n",
    "times=[]\n",
    "for name, clf in zip(names, classifiers):\n",
    "    start_time=time.time() \n",
    "    clf.fit(X_train, y_train)\n",
    "    y_predicted = clf.predict(X_test)\n",
    "    scores.append( accuracy_score(y_predicted, y_test)  ) \n",
    "    times.append(time.time() -start_time )\n"
   ]
  },
  {
   "cell_type": "code",
   "execution_count": 32,
   "metadata": {},
   "outputs": [
    {
     "data": {
      "image/png": "[encoded data removed]",
      "text/plain": [
       "<Figure size 432x288 with 1 Axes>"
      ]
     },
     "metadata": {
      "needs_background": "light"
     },
     "output_type": "display_data"
    }
   ],
   "source": [
    "plt.barh(names,scores)\n",
    "for i, v in enumerate(scores):\n",
    "    plt.text(v , i , str(round(v,2)), color='blue', fontweight='bold')"
   ]
  },
  {
   "cell_type": "markdown",
   "metadata": {},
   "source": [
    "<font color=darkblue>Дополнительно можно проводить биндинг и дискретизацию вещественных значений, когда мы признаком делаем не каждое число,\n",
    "а диапазон. Но в данном примере это не приволит к улучшению. "
   ]
  },
  {
   "cell_type": "markdown",
   "metadata": {},
   "source": [
    "## 3.2. Отбор признаков на основании модели \n",
    "<font color=darkblue>отбор признаков может проводиться на основании:\n",
    "- одномерных статистик \n",
    "- отбор признаков на основании модели \n",
    "- итерационный отбор признаков(итерационный отбор применяется для небольшого числа признаков, метод очень трудоемок) \n",
    "\n",
    "Применим отбор \"признаков на основании модели(feature_selection.SelectFromModel)\" с применением классификатора RandomForestClassifier. \n",
    "на вход подставляем данные df_allstr (пример где мы закодировали вещественные признаки отдельными справочниками) и ограничим количество признаков до значения 200 "
   ]
  },
  {
   "cell_type": "code",
   "execution_count": 33,
   "metadata": {},
   "outputs": [
    {
     "name": "stdout",
     "output_type": "stream",
     "text": [
      "CPU times: user 1.47 s, sys: 101 ms, total: 1.57 s\n",
      "Wall time: 1.57 s\n"
     ]
    },
    {
     "data": {
      "text/plain": [
       "SelectFromModel(estimator=RandomForestClassifier(bootstrap=True, class_weight=None, criterion='gini',\n",
       "            max_depth=None, max_features='auto', max_leaf_nodes=None,\n",
       "            min_impurity_decrease=0.0, min_impurity_split=None,\n",
       "            min_samples_leaf=1, min_samples_split=2,\n",
       "            min_weight_fraction_leaf=0.0, n_estimators='warn', n_jobs=None,\n",
       "            oob_score=False, random_state=None, verbose=0,\n",
       "            warm_start=False),\n",
       "        max_features=200, norm_order=1, prefit=False, threshold=None)"
      ]
     },
     "execution_count": 33,
     "metadata": {},
     "output_type": "execute_result"
    }
   ],
   "source": [
    "X_train, X_test, y_train, y_test = train_test_split(df_allstr, y, test_size=0.2,random_state=0)\n",
    "\n",
    "from sklearn.feature_selection import SelectFromModel\n",
    "\n",
    "select = SelectFromModel(RandomForestClassifier(),max_features=200)\n",
    "\n",
    "%time select.fit(X_train,y_train)"
   ]
  },
  {
   "cell_type": "code",
   "execution_count": 34,
   "metadata": {},
   "outputs": [
    {
     "name": "stdout",
     "output_type": "stream",
     "text": [
      "отобрано признаков:  200\n"
     ]
    }
   ],
   "source": [
    "print('отобрано признаков: ',np.count_nonzero(select.get_support()==True))"
   ]
  },
  {
   "cell_type": "code",
   "execution_count": 35,
   "metadata": {},
   "outputs": [
    {
     "data": {
      "text/plain": [
       "LogisticRegression(C=1.0, class_weight=None, dual=False, fit_intercept=True,\n",
       "          intercept_scaling=1, max_iter=100, multi_class='warn',\n",
       "          n_jobs=None, penalty='l2', random_state=None, solver='warn',\n",
       "          tol=0.0001, verbose=0, warm_start=False)"
      ]
     },
     "execution_count": 35,
     "metadata": {},
     "output_type": "execute_result"
    }
   ],
   "source": [
    "clf"
   ]
  },
  {
   "cell_type": "markdown",
   "metadata": {},
   "source": [
    "## 4. Проверим качество на отобранных признаках выберем модель для оптимизации"
   ]
  },
  {
   "cell_type": "code",
   "execution_count": 36,
   "metadata": {},
   "outputs": [],
   "source": [
    "X_train_select=select.transform(X_train)\n",
    "X_test_select=select.transform(X_test)"
   ]
  },
  {
   "cell_type": "code",
   "execution_count": 37,
   "metadata": {},
   "outputs": [],
   "source": [
    "scores=[]\n",
    "times=[]\n",
    "for name, clf in zip(names, classifiers):\n",
    "    start_time=time.time() \n",
    "    clf.fit(X_train_select, y_train)\n",
    "    y_predicted = clf.predict(X_test_select)\n",
    "    scores.append( accuracy_score(y_predicted, y_test)  ) \n",
    "    times.append(time.time() -start_time )"
   ]
  },
  {
   "cell_type": "code",
   "execution_count": 38,
   "metadata": {},
   "outputs": [
    {
     "data": {
      "image/png": "[encoded data removed]",
      "text/plain": [
       "<Figure size 432x288 with 1 Axes>"
      ]
     },
     "metadata": {
      "needs_background": "light"
     },
     "output_type": "display_data"
    }
   ],
   "source": [
    "plt.barh(names,scores)\n",
    "for i, v in enumerate(scores):\n",
    "    plt.text(v , i , str(round(v,2)), color='blue', fontweight='bold')"
   ]
  },
  {
   "cell_type": "code",
   "execution_count": 39,
   "metadata": {},
   "outputs": [
    {
     "data": {
      "text/plain": [
       "(4047, 200)"
      ]
     },
     "execution_count": 39,
     "metadata": {},
     "output_type": "execute_result"
    }
   ],
   "source": [
    "X_train_select.shape"
   ]
  },
  {
   "cell_type": "markdown",
   "metadata": {},
   "source": [
    "## 5 Проведем поиск по гиперпараметрам (gridsearch)\n",
    "<font color=darkblue>возьмем для оптимизацию логистическую регресию с, зададим массив параметров  "
   ]
  },
  {
   "cell_type": "code",
   "execution_count": 40,
   "metadata": {},
   "outputs": [
    {
     "data": {
      "text/plain": [
       "0.8089943167778602"
      ]
     },
     "execution_count": 40,
     "metadata": {},
     "output_type": "execute_result"
    }
   ],
   "source": [
    "from sklearn.model_selection import GridSearchCV\n",
    "svc = LogisticRegression()\n",
    "parameters = [{\"penalty\": [\"l1\",\"l2\"],\n",
    "              \"C\": [10**i for i in range(-3, 4)],\n",
    "              \"solver\": [  \"liblinear\",  \"saga\"]}]\n",
    "\n",
    "svc_clf = GridSearchCV(svc, parameters, cv=3)\n",
    "svc_clf.fit(X_train_select, y_train)\n",
    "svc_clf.best_score_"
   ]
  },
  {
   "cell_type": "markdown",
   "metadata": {},
   "source": [
    "<font color=darkblue>Лучшие параметры модели:"
   ]
  },
  {
   "cell_type": "code",
   "execution_count": 41,
   "metadata": {},
   "outputs": [
    {
     "data": {
      "text/plain": [
       "{'C': 1, 'penalty': 'l2', 'solver': 'liblinear'}"
      ]
     },
     "execution_count": 41,
     "metadata": {},
     "output_type": "execute_result"
    }
   ],
   "source": [
    "svc_clf.best_params_"
   ]
  },
  {
   "cell_type": "markdown",
   "metadata": {},
   "source": [
    "<font color=darkblue>Результат необходимо проверить на тестовой(контрольной) выборке. "
   ]
  },
  {
   "cell_type": "code",
   "execution_count": 42,
   "metadata": {},
   "outputs": [
    {
     "data": {
      "text/plain": [
       "0.7875494071146245"
      ]
     },
     "execution_count": 42,
     "metadata": {},
     "output_type": "execute_result"
    }
   ],
   "source": [
    "clf=LogisticRegression(**svc_clf.best_params_)\n",
    "clf.fit(X_train_select, y_train)\n",
    "y_predicted = clf.predict(X_test_select)\n",
    "accuracy_score(y_predicted, y_test)\n"
   ]
  },
  {
   "cell_type": "markdown",
   "metadata": {},
   "source": [
    "## 6. Применим популярные промышленные решения \n",
    "<font color=darkblue>xgboost и catboost от Яндекс, который позволяют в том числе использовать GPU \n",
    "\n",
    "загрузим библиотеки "
   ]
  },
  {
   "cell_type": "code",
   "execution_count": 43,
   "metadata": {},
   "outputs": [],
   "source": [
    "from xgboost import XGBClassifier\n",
    "from catboost import CatBoostClassifier"
   ]
  },
  {
   "cell_type": "markdown",
   "metadata": {},
   "source": [
    "#### XGBoost\n",
    "<font color=darkblue>на вход подадим отобранные признаки "
   ]
  },
  {
   "cell_type": "code",
   "execution_count": 44,
   "metadata": {
    "scrolled": true
   },
   "outputs": [
    {
     "name": "stdout",
     "output_type": "stream",
     "text": [
      "              precision    recall  f1-score   support\n",
      "\n",
      "          no       0.64      0.93      0.76       354\n",
      "         yes       0.95      0.72      0.82       658\n",
      "\n",
      "   micro avg       0.79      0.79      0.79      1012\n",
      "   macro avg       0.80      0.83      0.79      1012\n",
      "weighted avg       0.84      0.79      0.80      1012\n",
      "\n",
      "Accuracy 0.7934782608695652\n"
     ]
    }
   ],
   "source": [
    "clf = XGBClassifier()\n",
    "clf.fit(X_train_select, y_train)\n",
    "\n",
    "y_predicted = clf.predict(X_test_select)\n",
    "print(classification_report(y_predicted, y_test))\n",
    "print('Accuracy',accuracy_score(y_predicted, y_test)) "
   ]
  },
  {
   "cell_type": "markdown",
   "metadata": {},
   "source": [
    "#### CatBoost\n",
    "<font color=darkblue>Обратите внимание что catboost может работать с начальным датасетом, не проводя кодирование и преобразований, достаточно только:\n",
    "- закодировать Y числами \n",
    "- удалить поле \"Комментарий\""
   ]
  },
  {
   "cell_type": "code",
   "execution_count": 45,
   "metadata": {},
   "outputs": [],
   "source": [
    "df_train = df.iloc[y_train.index].drop(columns=[\"Комментарий\"])\n",
    "df_test = df.iloc[y_test.index].drop(columns=[\"Комментарий\"])\n",
    "y_train_01 = np.where(y_train == 'yes',1,0)\n",
    "y_test_01 = np.where(y_test == 'yes',1,0)"
   ]
  },
  {
   "cell_type": "markdown",
   "metadata": {},
   "source": [
    "<font color=darkblue>- указать cat_features - номера колонок содержащие категориальные значения\n",
    "- определить параметр nan_mode стратегию обработки пустых строк, \n",
    "\n",
    "Возможнные значения параметра nan_mode:\n",
    "- \"Forbidden\" — NaN values are not supported, their presence raises an exception.\n",
    "- \"Min\" — Each NaN float feature is processed as the minimum value from the dataset.\n",
    "- \"Max\" — Each NaN float feature is processed as the maximum value from the dataset."
   ]
  },
  {
   "cell_type": "code",
   "execution_count": 46,
   "metadata": {},
   "outputs": [
    {
     "name": "stdout",
     "output_type": "stream",
     "text": [
      "              precision    recall  f1-score   support\n",
      "\n",
      "         0.0       0.70      0.88      0.78       408\n",
      "         1.0       0.90      0.74      0.81       604\n",
      "\n",
      "   micro avg       0.80      0.80      0.80      1012\n",
      "   macro avg       0.80      0.81      0.79      1012\n",
      "weighted avg       0.82      0.80      0.80      1012\n",
      "\n",
      "Accuracy 0.7954545454545454\n"
     ]
    }
   ],
   "source": [
    "cat_features = [df_train.columns.get_loc(x) for x in [\"КПП\", \"Привод\", \"Тип кузова\", \"Состояние\", \"Срок владения\", \"Цвет\", \n",
    "                                                      \"Руль\", \"Владельцы\", \"ПТС\",\"Марка\", \"Модель\", \"Город\", \"Двигатель\"]]\n",
    "\n",
    "clf = CatBoostClassifier(nan_mode=\"Min\")\n",
    "clf.fit(df_train, y_train_01  , cat_features=cat_features, logging_level=\"Silent\")\n",
    "\n",
    "y_predicted = clf.predict(df_test)\n",
    "print(classification_report(y_predicted, y_test_01))\n",
    "print('Accuracy', accuracy_score(y_predicted, y_test_01))"
   ]
  },
  {
   "cell_type": "code",
   "execution_count": 47,
   "metadata": {},
   "outputs": [
    {
     "data": {
      "text/plain": [
       "(4047, 19)"
      ]
     },
     "execution_count": 47,
     "metadata": {},
     "output_type": "execute_result"
    }
   ],
   "source": [
    "df_train.shape"
   ]
  },
  {
   "cell_type": "markdown",
   "metadata": {},
   "source": [
    "<font color=darkblue>Мы применили catboost на исходных данных без преобразований и получили сопоставимый результат, используя только 19 начальных признаков "
   ]
  },
  {
   "cell_type": "markdown",
   "metadata": {},
   "source": [
    "## 7 Анализ точности и полноты \n",
    "<font color=darkblue>Дополнительные возможности мы получаем при анализе точности и полноты. изобразим какую точность мы может достигнуть при заданных уровнях полноты, для этого построим гривую точности и полноты для классификаторов :\n",
    "<font color=darkblue>- \"Наивный баес\"\n",
    "<font color=darkblue>- \"Решающие деревья\"\n",
    "<font color=darkblue>- \"Случайный лес\"\n",
    "<font color=darkblue>- \"Логистическая регрессия\"\n",
    "\n",
    "    "
   ]
  },
  {
   "cell_type": "code",
   "execution_count": 48,
   "metadata": {},
   "outputs": [
    {
     "data": {
      "image/png": "[encoded data removed]",
      "text/plain": [
       "<Figure size 720x720 with 1 Axes>"
      ]
     },
     "metadata": {
      "needs_background": "light"
     },
     "output_type": "display_data"
    }
   ],
   "source": [
    "from sklearn.metrics import precision_recall_curve\n",
    "class_dict = dict(zip(names, classifiers))\n",
    "predict_proba_clfs = [ \"Наивный баес\", \"Решающие деревья\", \n",
    "                     \"Случайный лес\", \"Логистическая регрессия\"]\n",
    "\n",
    "plt.figure(figsize=(10, 10))\n",
    "plt.xlabel(\"Точность\")\n",
    "plt.ylabel(\"Полнота\")\n",
    "\n",
    "for i in range(7):\n",
    "    name = names[i]\n",
    "    clf = class_dict[name]\n",
    "\n",
    "    if name in predict_proba_clfs:\n",
    "        precision, recall, thresholds = precision_recall_curve(y_test_01, clf.predict_proba(X_test_select)[:, 1])\n",
    "\n",
    "        close_zero = np.argmin(np.abs(thresholds - 0.5))\n",
    "        plt.plot(precision[close_zero], recall[close_zero], 'o', markersize=10, c='k', fillstyle=\"none\", mew=2)\n",
    "        plt.plot(precision, recall, label=name)\n",
    "\n",
    "plt.legend(loc=\"best\")\n",
    "plt.show()"
   ]
  },
  {
   "cell_type": "markdown",
   "metadata": {},
   "source": [
    "<font color=darkblue> На графике черный кружок означает значение точности и полноты при пороге по умолчанию = 0.5, далее мы увидим как можно использовать порог для подбора точности или полноты. \n",
    "Предположим мы хотим поощрять за популярное объявление и нам очень важно быть уверенными что объявление действительно популярно. Проверим \"точность\" для класса \"популярно\""
   ]
  },
  {
   "cell_type": "code",
   "execution_count": 49,
   "metadata": {},
   "outputs": [
    {
     "name": "stdout",
     "output_type": "stream",
     "text": [
      "Точность 0.7875494071146245\n",
      "              precision    recall  f1-score   support\n",
      "\n",
      "           0       0.71      0.85      0.77       428\n",
      "           1       0.87      0.74      0.80       584\n",
      "\n",
      "   micro avg       0.79      0.79      0.79      1012\n",
      "   macro avg       0.79      0.80      0.79      1012\n",
      "weighted avg       0.80      0.79      0.79      1012\n",
      "\n"
     ]
    }
   ],
   "source": [
    "from sklearn.metrics import precision_recall_curve\n",
    "clf=LogisticRegression().fit(X_train_select,y_train_01)\n",
    "y_scores = clf.predict_proba(X_test_select)\n",
    "\n",
    "precisions,recalls,thresholds = precision_recall_curve(y_test_01,y_scores[:, 1])\n",
    "\n",
    "print(\"Точность\", accuracy_score(clf.predict(X_test_select), y_test_01))\n",
    "print(classification_report(clf.predict(X_test_select), y_test_01))"
   ]
  },
  {
   "cell_type": "code",
   "execution_count": 50,
   "metadata": {},
   "outputs": [
    {
     "data": {
      "text/plain": [
       "(1012, 2)"
      ]
     },
     "execution_count": 50,
     "metadata": {},
     "output_type": "execute_result"
    }
   ],
   "source": [
    "y_scores.shape"
   ]
  },
  {
   "cell_type": "markdown",
   "metadata": {},
   "source": [
    "<font color=darkblue> мы видим что предсказываем попурятный класс с вероятностью 89 процентов, нам этого недостаточно, попробуем увеличить точность, для этого построим график зависимости точности и полноты от порога. "
   ]
  },
  {
   "cell_type": "code",
   "execution_count": 51,
   "metadata": {},
   "outputs": [
    {
     "data": {
      "image/png": "[encoded data removed]",
      "text/plain": [
       "<Figure size 432x288 with 1 Axes>"
      ]
     },
     "metadata": {
      "needs_background": "light"
     },
     "output_type": "display_data"
    }
   ],
   "source": [
    "def plot_precision_recall_vs_threshold(precisions,recalls,thresholds):\n",
    "    plt.plot(thresholds,precisions[:-1],'b--',label='Точность')\n",
    "    plt.plot(thresholds,recalls[:-1],'g-',label='Полнота')\n",
    "    plt.xlabel('Порог')\n",
    "    plt.legend(loc='upper left')\n",
    "    plt.ylim([0,1])\n",
    "\n",
    "\n",
    "plot_precision_recall_vs_threshold(precisions,recalls,thresholds)\n",
    "plt.show()"
   ]
  },
  {
   "cell_type": "markdown",
   "metadata": {},
   "source": [
    "<font color=darkblue> Изменяем параметр \"порог\", установим в 0.25. Обратите внимание что общая точность даже немного повысилась и мы теперь предсказываем что класс популярен с точностью 99% что является очень высоким показателем уверенности."
   ]
  },
  {
   "cell_type": "code",
   "execution_count": 52,
   "metadata": {},
   "outputs": [
    {
     "name": "stdout",
     "output_type": "stream",
     "text": [
      "Точность 0.7875494071146245\n",
      "              precision    recall  f1-score   support\n",
      "\n",
      "       False       0.60      0.97      0.74       318\n",
      "        True       0.98      0.70      0.82       694\n",
      "\n",
      "   micro avg       0.79      0.79      0.79      1012\n",
      "   macro avg       0.79      0.84      0.78      1012\n",
      "weighted avg       0.86      0.79      0.80      1012\n",
      "\n"
     ]
    }
   ],
   "source": [
    "print(\"Точность\", accuracy_score(  (clf.predict_proba(X_test_select)[:,1] >= 0.25).astype(bool) , y_test_01))\n",
    "print(classification_report((clf.predict_proba(X_test_select)[:,1] >= 0.25).astype(bool) , y_test_01))\n"
   ]
  },
  {
   "cell_type": "code",
   "execution_count": null,
   "metadata": {},
   "outputs": [],
   "source": []
  },
  {
   "cell_type": "markdown",
   "metadata": {},
   "source": [
    "## 8 Кодирование значений (mean encoding)"
   ]
  },
  {
   "cell_type": "markdown",
   "metadata": {},
   "source": [
    "Здесь мы рассмотрим такую мощную технику как **mean encoding** (также известную как **likelihood encoding** , **impact coding**, **target coding**).\n",
    "\n",
    "Основная идея данной техники:\n",
    "> _Добавление новых переменных, основанных на некоторых признаках и цели (target)_.\n",
    "\n",
    "Простейший случай:\n",
    "> Кодирование каждой категориальной переменной с соответствующим ей средним значением _целевой переменной_ (_target_).\n"
   ]
  },
  {
   "cell_type": "markdown",
   "metadata": {},
   "source": [
    "Рассмотрим следующий пример:\n",
    "\n",
    "<img src=\"../images/part02/mean_encoding-01.png\">\n"
   ]
  },
  {
   "cell_type": "markdown",
   "metadata": {},
   "source": [
    "Для предоставленных данных задачей будет _бинарная классификация_.\n",
    "\n",
    "В данном случае _категориальной переменной_ (или _признаком_) будет **feature**, в которой хранятся имена городов.\n",
    "\n",
    "Именно эту переменную мы и будем кодировать.\n"
   ]
  },
  {
   "cell_type": "markdown",
   "metadata": {},
   "source": [
    "Мы будем кодировать каждый город с соответствующим _средним значением цели_.\n",
    "\n",
    "Рассмотрим пример для города **Москва** (_Moscow_):\n",
    "\n",
    "В предоставленной таблице имеется 5 строк с этим городом:\n",
    "* 3 строки с целью (target) = **0**;\n",
    "* 2 строки с целью (target) = **1**;\n",
    "\n",
    "Формула вычисления кодированного значения:\n",
    "\n",
    "$$\n",
    "encode = \\frac{positive}{nrows},\n",
    "$$\n",
    "\n",
    "где:\n",
    "* $positive$ - это количество _позитивных_ значений _цели_ для данного города (в данном случае $positive = 2$),\n",
    "* $nrows$ - это количество строк с данным городом (в данном случае $nrows = 5$).\n",
    "\n",
    "В нашем случае, результатом будет следующее значение:\n",
    "\n",
    "$$\n",
    "\\frac{2}{5} = 0.4\n",
    "$$\n",
    "\n",
    "Аналогичным образом кодируем оставшиеся имена городов.\n"
   ]
  },
  {
   "cell_type": "markdown",
   "metadata": {},
   "source": [
    "Примечание:\n",
    "> _Вы можете применить данный подход не только для задачи **бинарной классификации**, но и для множества других задач, ведь основная идея не изменится._\n"
   ]
  },
  {
   "cell_type": "markdown",
   "metadata": {},
   "source": [
    "Далее Вы узнаете как:\n",
    "* _конструировать **mean encodings**_\n",
    "* _правильно их проверить_\n",
    "* _их расширить_\n"
   ]
  },
  {
   "cell_type": "markdown",
   "metadata": {},
   "source": [
    "Способы кодирования значений:\n"
   ]
  },
  {
   "cell_type": "markdown",
   "metadata": {},
   "source": [
    "* $Likelihood = \\frac{Goods}{Goods + Bads} = mean\\left(target\\right)$\n"
   ]
  },
  {
   "cell_type": "markdown",
   "metadata": {},
   "source": [
    "* $Weight\\hspace{5pt}of\\hspace{5pt}Evidence = \\ln{\\left(\\frac{Goods}{Bads}\\right)} * 100$\n"
   ]
  },
  {
   "cell_type": "markdown",
   "metadata": {},
   "source": [
    "* $Count = Goods = sum\\left(target\\right)$\n"
   ]
  },
  {
   "cell_type": "markdown",
   "metadata": {},
   "source": [
    "* $Diff = Goods - Bads$\n"
   ]
  },
  {
   "cell_type": "markdown",
   "metadata": {},
   "source": [
    "Приступим к конструированию признаков.\n",
    "\n",
    "Предположим, что мы уже разделили данные на _обучающие (тренировочные)_ и _проверочные (тестовые)_ (**X_tr, X_val** соответственно).\n",
    "\n",
    "Следующая часть кода показывает, как конструировать _mean encoding_ для произвольной колонки, и поместить полученные значения в _DataFrame_ (**train_new, val_new** соответственно):\n",
    "\n",
    "```python\n",
    "means = X_tr.groupby(col)['target'].mean()\n",
    "train_new[col + 'mean_target'] = train_new[col].map(means)\n",
    "val_new[col + 'mean_target'] = val_new[col].map(means)\n",
    "\n",
    "means\n",
    "```\n"
   ]
  },
  {
   "cell_type": "markdown",
   "metadata": {},
   "source": [
    "После выполнения данной части кода над каждой колонки мы можем начать обучение XGBoost-модели используя новые данные.\n",
    "\n",
    "Ниже расположен код обучения модели на новых данных:\n",
    "\n",
    "```python\n",
    "dtrain = xgb.DMatrix(train_new, label=y_tr)\n",
    "dvalid = xgb.DMatrix(val_new, label=y_val)\n",
    "\n",
    "evallist = [(dtrain, 'train'), (dvalid, 'eval')]\n",
    "evals_result3 = {}\n",
    "model = xgb.train(xgb_par, dtrain, 3000, evals=evallist, verbose_eval=30, evals_result=evals_result3, early_stopping_rounds=50)\n",
    "```\n",
    "\n",
    "Вот результат обучения модели (используя код выше):\n",
    "<img src=\"../images/part02/mean_encoding-02.png\">\n",
    "\n",
    "На этом графике что-то не так.\n",
    "После нескольких эпох показатель _ROC AUC_ для тренировочных данных очень близок к **1**, когда у проверочных данных, данный показатель, около **0.55**.\n",
    "\n",
    "Это явный знак ужасного _переобучения_.\n",
    "\n",
    "Это произошло из-за того, что мы сначала разделили данные на _тренировочный_ и _проверочный_ наборы данных, а потом уже применили **mean encoding**.\n",
    "Если бы в первую очередь применили **mean encoding**, а только потом разделили бы на _тренировочный_ и _проверочный_ наборы данных, то мы бы не получили такое ужасное _переобучение_.\n"
   ]
  },
  {
   "cell_type": "markdown",
   "metadata": {},
   "source": [
    "### Итог:\n"
   ]
  },
  {
   "cell_type": "markdown",
   "metadata": {},
   "source": [
    "Мы рассмотрели концепцию **mean encoding** и применили её на простом примере, который, очевидно, не может использовать полученные значения.\n",
    "\n",
    "Сначала нам нужно разобраться с _переобучением_, нам нужна какая-то _регуляризация_.\n",
    "\n",
    "Далее мы рассмотрим несколько методов _регуляризации_.\n"
   ]
  },
  {
   "cell_type": "code",
   "execution_count": null,
   "metadata": {},
   "outputs": [],
   "source": []
  },
  {
   "cell_type": "markdown",
   "metadata": {},
   "source": [
    "### Напоминание про правильную проверку"
   ]
  },
  {
   "cell_type": "markdown",
   "metadata": {},
   "source": [
    "Прежде чем мы приступим рассмотрению методов _регуляризации_, давайте вспомним как правильно выполнять проверку результатов:\n",
    "* Локальные эксперименты (_Local experiments_):\n",
    "    * Разделить данные на _тренировочный_ (**X_tr**) и _проверочный_ (**X_val**) наборы (_Split the data in **X tr** and **X val** parts_)\n",
    "    * Выполнить оценку кодирования на **X_tr** (_Estimate encodings on **X tr**_)\n",
    "    * Выполнить сопоставление с **X_tr** и **X_val** (_Map them to **X tr** and **X val**_)\n",
    "    * Применить _регуляризацию_ на **X_tr** (_Regularize them on **X tr**_)\n",
    "    * Проверить модель на **X_tr** и **X_val** (_Validate model on **X tr**/**X val** split_)\n",
    "\n",
    "Даже не думайте об _оценке кодировок_ (**estimating encodings**) до разделения данных!\n",
    "\n",
    "* Представление (_Submission_):\n",
    "    * Выполнить оценку кодирования по всему _тренировочному_ набору (_Estimate encodings on whole **train** data_)\n",
    "    * Выполнить сопоставление с _тренировочным_ и _тестовым_ наборами (_Map them to **train** and **test**_)\n",
    "    * Применить _регуляризацию_ на **тренировочном** наборе (_Regularize on **train**_)\n",
    "    * Обучить на _тренировочном_ наборе (_Fit on **train**_)\n",
    "\n",
    "\n",
    "\n",
    "<img src=\"../images/part02/mean_encoding-05.png\">\n"
   ]
  },
  {
   "cell_type": "code",
   "execution_count": null,
   "metadata": {},
   "outputs": [],
   "source": []
  },
  {
   "cell_type": "markdown",
   "metadata": {},
   "source": [
    "### Regularization (Регуляризация)"
   ]
  },
  {
   "cell_type": "markdown",
   "metadata": {},
   "source": [
    "Только что, мы, с Вами, поняли, что **mean encoding** не может использоваться \"как есть\".\n",
    "\n",
    "Для применения данной техники, необходима какая-либо _регуляризация_.\n",
    "\n",
    "В данном разделе мы разберём несколько вариантов _регуляризации **mean encoding**_, а именно:\n",
    "* **Cross-validation loop** (**CV loop**);\n",
    "* **Smoothing**;\n",
    "* **Adding random noise**;\n",
    "* **Sorting and calculating expanding mean**.\n"
   ]
  },
  {
   "cell_type": "markdown",
   "metadata": {},
   "source": [
    "#### Настройка общих параметров"
   ]
  },
  {
   "cell_type": "markdown",
   "metadata": {},
   "source": [
    "Для начала настроим несколько параметров, для проверки применения _регуляризации_.\n"
   ]
  },
  {
   "cell_type": "markdown",
   "metadata": {},
   "source": [
    "Имя целевой колонки (_target_)"
   ]
  },
  {
   "cell_type": "code",
   "execution_count": 53,
   "metadata": {},
   "outputs": [],
   "source": [
    "target_col_name = 'Популярно'\n",
    "suffix = '_mean_target'\n"
   ]
  },
  {
   "cell_type": "markdown",
   "metadata": {},
   "source": [
    "В качестве набора данных будем использовать данные полученные в разделе \"**3.1.1. Категориальные признаки**\""
   ]
  },
  {
   "cell_type": "code",
   "execution_count": 54,
   "metadata": {},
   "outputs": [],
   "source": [
    "y_tmp = y.map({'no': 0, 'yes': 1,})\n",
    "\n",
    "df_tmp = df.copy(True)\n",
    "df_tmp = df_tmp.drop(columns=['Комментарий'])\n",
    "df_tmp[target_col_name] = y_tmp\n"
   ]
  },
  {
   "cell_type": "code",
   "execution_count": 55,
   "metadata": {},
   "outputs": [
    {
     "name": "stdout",
     "output_type": "stream",
     "text": [
      "(5059, 20)\n",
      "(3548, 20)\n"
     ]
    }
   ],
   "source": [
    "print(df_tmp.shape)\n",
    "\n",
    "df_tmp = df_tmp.dropna(axis='index', how='any')\n",
    "y_tmp = df_tmp[target_col_name]\n",
    "\n",
    "print(df_tmp.shape)"
   ]
  },
  {
   "cell_type": "markdown",
   "metadata": {},
   "source": [
    "Загрузим класс _K-кратной стратифицированной перекрестной проверки_ (**Stratified K-Fold cross-validation**).\n"
   ]
  },
  {
   "cell_type": "code",
   "execution_count": 56,
   "metadata": {},
   "outputs": [],
   "source": [
    "from sklearn.model_selection import StratifiedKFold\n",
    "from sklearn.preprocessing import LabelEncoder\n"
   ]
  },
  {
   "cell_type": "code",
   "execution_count": 57,
   "metadata": {},
   "outputs": [],
   "source": [
    "skf = StratifiedKFold(n_splits=5, shuffle=True, random_state=123)\n",
    "le = LabelEncoder()\n"
   ]
  },
  {
   "cell_type": "markdown",
   "metadata": {},
   "source": [
    "Выберем колонки, к которым будем применять **mean encoding** и _регуляризацию_.\n",
    "\n",
    "И создаём экземпляр класса **StratifiedKFold**.\n"
   ]
  },
  {
   "cell_type": "code",
   "execution_count": 58,
   "metadata": {},
   "outputs": [
    {
     "data": {
      "text/plain": [
       "['КПП',\n",
       " 'Привод',\n",
       " 'Тип кузова',\n",
       " 'Состояние',\n",
       " 'Срок владения',\n",
       " 'Цвет',\n",
       " 'Руль',\n",
       " 'Владельцы',\n",
       " 'ПТС',\n",
       " 'Марка',\n",
       " 'Модель',\n",
       " 'Город',\n",
       " 'Двигатель']"
      ]
     },
     "execution_count": 58,
     "metadata": {},
     "output_type": "execute_result"
    }
   ],
   "source": [
    "cols = [ col_name for col_name in df_tmp.columns if (df_tmp[col_name].dtype == object) ]\n",
    "cols\n"
   ]
  },
  {
   "cell_type": "code",
   "execution_count": null,
   "metadata": {},
   "outputs": [],
   "source": []
  },
  {
   "cell_type": "markdown",
   "metadata": {},
   "source": [
    "Создадим функцию, котороая будет получать на вход _набор данных_ (уже с **mean encoding**) и _ответы_ (_target_).\n",
    "\n",
    "Получив _набор данных_, функция выполнаяет _dummy-преобразование_, после чего разделяет результат преобразования на _тренировочный_ и _тестовый_ наборы данных.\n",
    "\n",
    "В конце, данная функция, возвращает преобразованный _набор данных_, _тренировочный_ и _тестовый_ _наборы данных_.\n"
   ]
  },
  {
   "cell_type": "code",
   "execution_count": 59,
   "metadata": {},
   "outputs": [],
   "source": [
    "def prepare_and_split_df(df, y, enc_cols):\n",
    "    df_new = df.copy(True)\n",
    "    \n",
    "    for col in enc_cols:\n",
    "        le.fit(df_new[col].unique())\n",
    "        # df_new[col+'_label'] = le.transform(df_new[col])\n",
    "        df_new[col] = le.transform(df_new[col])\n",
    "    \n",
    "    X_train, X_test, y_train, y_test = train_test_split(df_new, y, test_size=0.2, random_state=0)\n",
    "    return df_new, X_train, X_test, y_train, y_test\n",
    "    \n",
    "    # if needs to select most important faetures\n",
    "    # select = SelectFromModel(RandomForestClassifier(), max_features=200)\n",
    "    # select.fit(X_train, y_train)\n",
    "    \n",
    "    # X_train_select = select.transform(X_train)\n",
    "    # X_test_select = select.transform(X_test)\n",
    "    \n",
    "    # return df_new, X_train_select, X_test_select, y_train, y_test\n"
   ]
  },
  {
   "cell_type": "markdown",
   "metadata": {},
   "source": [
    "Создадим функцию, которая на вход получает _тренировочные_ и, если необходимо выполнить проверку на _точность_ обучения, _проверочные_ данные.\n",
    "\n",
    "Получив необходимые данные, функция начинает _обучение_ модели _Логистической Регрессии_ с применением _перекрёстной проверки_ (_cross-validation_) различных параметров модели, для выбора наилучших параметров.\n",
    "\n",
    "После нахождения лучших параметров, функция повторно _обучает_ модель, но теперь уже с применением найденных лучших параметров.\n",
    "\n",
    "Затем, если переданы _проверочные_ данные, выполняет _оценку_ результата обучения модели.\n",
    "\n",
    "В конце, функция возвращает обученную модель.\n"
   ]
  },
  {
   "cell_type": "code",
   "execution_count": 60,
   "metadata": {},
   "outputs": [],
   "source": [
    "def train_model_on_reg_data(X_train, y_train, X_test=None, y_test=None):\n",
    "    # apply Grid Search for finding the best parameters.\n",
    "    svc = LogisticRegression()\n",
    "    parameters = [{\"penalty\": [\"l1\",\"l2\"],\n",
    "                  \"C\": [10**i for i in range(-3, 4)],\n",
    "                  \"solver\": [\"liblinear\",  \"saga\"]}]\n",
    "\n",
    "    svc_clf = GridSearchCV(svc, parameters, cv=3)\n",
    "    svc_clf.fit(X_train, y_train)\n",
    "    \n",
    "    # print information about best score and best parameters\n",
    "    print('best score: {0}'.format(svc_clf.best_score_))\n",
    "    print('best param: {0}'.format(svc_clf.best_params_))\n",
    "    \n",
    "    # training our model with best parameters\n",
    "    clf = LogisticRegression(**svc_clf.best_params_)\n",
    "    clf.fit(X_train, y_train)\n",
    "    \n",
    "    if (X_test is not None) and (y_test is not None):\n",
    "        y_predicted = clf.predict(X_test)\n",
    "        print('accuracy: {0}'.format(accuracy_score(y_predicted, y_test)))\n",
    "        print(classification_report(y_predicted, y_test))\n",
    "    \n",
    "    return clf\n"
   ]
  },
  {
   "cell_type": "markdown",
   "metadata": {},
   "source": [
    "Создадим ещё одну функцию, которая на вход получает _функцию регуляризации_, _исходный набор данных_ (в котором находятся и _ответы_ (_target_)), _имена колонок, для которых нужно применить **mean encoding**_, и _вспомогательные параметры, которые могут понадобиться методу **регуляризации**_.\n",
    "\n",
    "Получив необходимые данные, функция выделяет _ответы_ (_target_) в отдельную переменную и удаляет эту колонку (с _ответами_) из набора данных.\n",
    "\n",
    "Затем, функция вызывает, ранее созданную, функцию **prepare_and_split_df**, для разделения на _тренировочный_ и _тестовый_ наборы данных.\n",
    "\n",
    "После этого, функция вызывает, ранее созданную, функцию **train_model_on_reg_data**, для обучения модели.\n",
    "\n",
    "В конце, функция возвращает обученную модель.\n"
   ]
  },
  {
   "cell_type": "code",
   "execution_count": 61,
   "metadata": {},
   "outputs": [],
   "source": [
    "def get_model_with_regularization(func, df, enc_cols, *args, **kwargs):\n",
    "    df_new = df.copy(True)\n",
    "    y_new = df_new[target_col_name]\n",
    "    # df_new = df_new.drop(columns=[target_col_name])\n",
    "    \n",
    "    df_reg, X_train, X_test, y_train, y_test = prepare_and_split_df(df_new, y_new, enc_cols)\n",
    "    X_train = func(X_train, enc_cols, *args, **kwargs)\n",
    "    \n",
    "    for col in enc_cols:\n",
    "        means = X_train.groupby(col)[col + suffix].mean()\n",
    "        # X_train[col + suffix] = X_train[col].map(means)\n",
    "        X_test[col + suffix] = X_test[col].map(means)\n",
    "        \n",
    "        # fill NaN a global mean value\n",
    "        X_test[col + suffix].fillna(X_train[col].mean(), inplace=True)\n",
    "    \n",
    "    # some information about new data\n",
    "    # print('new shape: ', df_reg.shape)\n",
    "    # print('some columns:')\n",
    "    # print(sorted(list(df_reg.columns))[:15])\n",
    "    \n",
    "    # drop target column\n",
    "    X_train = X_train.drop(columns=[target_col_name])\n",
    "    X_test = X_test.drop(columns=[target_col_name])\n",
    "    \n",
    "    # training model with new data.\n",
    "    res_model = train_model_on_reg_data(X_train, y_train, X_test, y_test)\n",
    "    return res_model"
   ]
  },
  {
   "cell_type": "code",
   "execution_count": null,
   "metadata": {},
   "outputs": [],
   "source": []
  },
  {
   "cell_type": "markdown",
   "metadata": {},
   "source": [
    "Давайте начнём подробное рассмотрение методов _регуляризации **mean encoding**_.\n",
    "\n",
    "Мы начнём с **CV loop** _регуляризации_.\n"
   ]
  },
  {
   "cell_type": "markdown",
   "metadata": {},
   "source": [
    "#### Cross-validation loop (CV loop)\n"
   ]
  },
  {
   "cell_type": "markdown",
   "metadata": {},
   "source": [
    "Это очень интуитивный и надёжный метод.\n",
    "\n",
    "Для данной точки данных мы не хотим использовать целевую переменную (_target_) этой точки данных.\n",
    "\n",
    "Таким образом, мы разделяем данные на _K непересекающиеся подмножества_ - **folds** (см. рисунок ниже).\n",
    "\n",
    "<img src=\"../images/part02/mean_encoding-03.png\">\n"
   ]
  },
  {
   "cell_type": "markdown",
   "metadata": {},
   "source": [
    "Чтобы получить **mean encoding** для некоторого подмножества, мы не используем точки данных из этого подмножества и оцениваем кодирование только на остальной части подмножества.\n",
    "\n",
    "Мы итеративно проходим через все подмножества данных.\n",
    "\n",
    "Обычно, 4-5 _подмножеств_ (_folds_) достаточно, чтобы получить неплохие результаты, и Вам не нужно настраивать это число.\n"
   ]
  },
  {
   "cell_type": "markdown",
   "metadata": {},
   "source": [
    "А сейчас мы узнаем как применяется данный метод на практике.\n",
    "\n",
    "Предположим, что наши _тренировочные_ данные расположены в переменной **df_tr**, которая имеет тип **pandas.DataFrame**, и рассмотрим код ниже:\n",
    "\n",
    "```python\n",
    "y_tr = df_tr['target'].values  # target variable\n",
    "skf = StratifiedKFold(n_splits=5, shuffle=True, random_state=123)\n",
    "\n",
    "skf_values = skf.split(np.zeros(y_tr.shape[0]), y_tr)\n",
    "for tr_ind, cal_ind in skf_values:\n",
    "    X_tr, X_val = df_tr.iloc[tr_ind], df_tr.iloc[val_ind]\n",
    "    \n",
    "    for col in cols:  # iterate though the columns we want to encode\n",
    "        means = X_val[col].map(X_tr.groupby(col)['target'].mean())\n",
    "        X_val[col+'_mean_target'] = means\n",
    "    train_new.iloc[val_ind] = X_val\n",
    "\n",
    "prior = df_tr['target'].mean()  # global mean\n",
    "train_new.fillna(prior, inplace=True)  # fill NaNs with global mean\n",
    "```\n"
   ]
  },
  {
   "cell_type": "markdown",
   "metadata": {},
   "source": [
    "Добавим средние значения признаков (_mean encoded features_) в новую тренировочную переменную **train_new**, которая имеет тип **pandas.DataFrame**.\n",
    "Во внешнем цикле мы перебираем стратифицированные K-fold итератор, чтобы разделить _тренировочные_ данные на части (_chunks_).\n",
    "\n",
    "**X_tr** используется для оценки кодировки.\n",
    "**X_val** используется для применения оценивающей кодировки.\n",
    "\n",
    "После этого мы перебираем все столбцы и сопоставляем оценочные кодировки с **X_val**.\n",
    "В конце внешнего цикла мы заполняем **train_new** полученным результатом.\n",
    "Однако, некоторые редкие категории могут присутствовать только в одном _подмножестве_ (_fold_).\n",
    "Поэтому, у нас нет данных для оценки _целевого среднего_ (_target mean_) для них.\n",
    "Вот почему у нас есть **NaN**-значения.\n",
    "Мы можем заполнить их _глобальным средним_ (_global mean_).\n",
    "\n",
    "Как видите, процесс довольно простой.\n"
   ]
  },
  {
   "cell_type": "markdown",
   "metadata": {},
   "source": [
    "А сейчас зададимся вопросом:\n",
    "> _Теряем ли мы информацию о **целевой переменной** (**target**) или нет?_\n",
    "\n",
    "Рассмотрим следующий пример:\n",
    "<img src=\"../images/part02/mean_encoding-04.png\">\n"
   ]
  },
  {
   "cell_type": "markdown",
   "metadata": {},
   "source": [
    "Здесь мы хотим кодировать **Москву** по схеме [**leave-one-out CV** (**LOO**)](http://www.machinelearning.ru/wiki/index.php?title=CV#.D0.9A.D0.BE.D0.BD.D1.82.D1.80.D0.BE.D0.BB.D1.8C_.D0.BF.D0.BE_.D0.BE.D1.82.D0.B4.D0.B5.D0.BB.D1.8C.D0.BD.D1.8B.D0.BC_.D0.BE.D0.B1.D1.8A.D0.B5.D0.BA.D1.82.D0.B0.D0.BC_.28leave-one-out_CV.29).\n",
    "\n",
    "Для первой строки мы получаем **0.5**, потому что в остальных строках есть две **1** и два **0**:\n",
    "\n",
    "$$\n",
    "\\frac{1 + 1 + 0 + 0}{4} = \\frac{2}{4} = 0.5\n",
    "$$\n",
    "\n",
    "Аналогичным образом получаем **0.25** для 2-ой строки, и т.д.\n",
    "\n",
    "Однако, если присмотреться, то видно, что данные идеально разделены, строки со _средним значением функции_ (*featur_mean*) $\\geq$ **0.5** имеют _цель_ (_target_) __0__, а остальные строки имеют _цель_ (_target_) **1**.\n",
    "\n",
    "Мы явно не использовали _целевую переменную_ (_target_), однако наша кодировка предвзята.\n",
    "Кроме того, этот эффект остаётся действительным даже для **KFold-схемы**, только мягче.\n",
    "\n",
    "В связи с этим, можно было подумать, что этот тип _регуляризации_ бесполезен, но это не так.\n",
    "\n",
    "На практике, если у Вас достаточно данных и Вы используете 4 или 5 _подмножеств_ (_folds_), кодирование будет отлично работать с данной стратегией _регуляризации_.\n",
    "Просто будьте осторожны и используйте правильную проверку.\n"
   ]
  },
  {
   "cell_type": "markdown",
   "metadata": {},
   "source": [
    "Ниже представлена функция, которая реализует данный метод _регуляризации_."
   ]
  },
  {
   "cell_type": "code",
   "execution_count": 62,
   "metadata": {},
   "outputs": [],
   "source": [
    "def reg_cv_loop(df, enc_cols):\n",
    "    df_new = df.copy(True)\n",
    "    \n",
    "    nrows = df_new.shape[0]\n",
    "    prior = df_new[target_col_name].mean()  # global mean\n",
    "    \n",
    "    for col in enc_cols:\n",
    "        df_new[col + suffix] = np.nan\n",
    "\n",
    "    skf_values = skf.split(np.zeros(nrows), df_new[target_col_name])\n",
    "    for tr_ind, val_ind in skf_values:\n",
    "        X_tr, X_val = df_new.iloc[tr_ind], df_new.iloc[val_ind]\n",
    "        \n",
    "        for col in enc_cols:\n",
    "            means = X_val[col].map(X_tr.groupby(col)[target_col_name].mean())\n",
    "            X_val[col + suffix] = means\n",
    "        \n",
    "        df_new.iloc[val_ind] = X_val\n",
    "    \n",
    "    df_new.fillna(prior, inplace=True)  # fill NANs with global mean\n",
    "    return df_new\n"
   ]
  },
  {
   "cell_type": "code",
   "execution_count": null,
   "metadata": {},
   "outputs": [],
   "source": []
  },
  {
   "cell_type": "markdown",
   "metadata": {},
   "source": [
    "Запускаем обучение с данным видом _регуляризации_."
   ]
  },
  {
   "cell_type": "code",
   "execution_count": 63,
   "metadata": {},
   "outputs": [
    {
     "name": "stdout",
     "output_type": "stream",
     "text": [
      "best score: 0.7251585623678647\n",
      "best param: {'C': 1000, 'penalty': 'l1', 'solver': 'liblinear'}\n",
      "accuracy: 0.6985915492957746\n",
      "              precision    recall  f1-score   support\n",
      "\n",
      "           0       0.17      0.54      0.26        68\n",
      "           1       0.94      0.71      0.81       642\n",
      "\n",
      "   micro avg       0.70      0.70      0.70       710\n",
      "   macro avg       0.55      0.63      0.53       710\n",
      "weighted avg       0.86      0.70      0.76       710\n",
      "\n"
     ]
    }
   ],
   "source": [
    "res_model = get_model_with_regularization(func=reg_cv_loop, df=df_tmp, enc_cols=cols)\n"
   ]
  },
  {
   "cell_type": "code",
   "execution_count": null,
   "metadata": {},
   "outputs": [],
   "source": []
  },
  {
   "cell_type": "markdown",
   "metadata": {},
   "source": [
    "#### Smoothing (Сглаживание)"
   ]
  },
  {
   "cell_type": "markdown",
   "metadata": {},
   "source": [
    "Данный стратегия _регуляризации_ основана на следующей идее:\n",
    "> Если категория имеет много точек данных, то мы можем доверять этой оценочной кодировке (_estimating encoding_), но если категория имее мало точек данных - всё наоборот.\n",
    "\n",
    "Следующая формула использует данную идею:\n",
    "\n",
    "$$\n",
    "\\frac{mean\\left(target\\right) * nrows + globalmean * alpha}{nrows + alpha}\n",
    "$$\n",
    "\n",
    "Данная формула имеет гипер-параметр **alpha**, который контролирует степень _регуляризации_.\n",
    "Когда **alpha** равна __0__, у нас нет _регуляризации_, а когда **alpha** стремится к $\\infty$ (бесконечности), всё превращается в _глобальное среднее_ (_globalmean_).\n",
    "В некотором смысле **alpha** равна размеру категории, которой мы можем доверять.\n"
   ]
  },
  {
   "cell_type": "markdown",
   "metadata": {},
   "source": [
    "Также можно использовать другую формулу.\n",
    "\n",
    "В основном всё, что \"наказывает\" категории для кодирования, можно считать _сглаживанием_ (_smoothing_).\n",
    "\n",
    "_Сглаживание_, очевидно, не будет работать само по себе, но мы можем объединить его, например, с _**CV loop**-регуляризацией_.\n"
   ]
  },
  {
   "cell_type": "markdown",
   "metadata": {},
   "source": [
    "Ниже представлена функция, которая реализует данный метод _регуляризации_.\n"
   ]
  },
  {
   "cell_type": "code",
   "execution_count": 64,
   "metadata": {},
   "outputs": [],
   "source": [
    "# with possible using \"skf\" (StratifiedKFold).\n",
    "def reg_smoothing(df, enc_cols, alpha:float=0.5, use_skf:bool=True):\n",
    "    df_new = df.copy(True)\n",
    "    \n",
    "    nrows = df_new.shape[0]\n",
    "    prior = df_new[target_col_name].mean()  # global mean\n",
    "    \n",
    "    def apply_to_chunk(X_tr, X_val):\n",
    "        result = X_val.copy(True)\n",
    "        \n",
    "        for col in enc_cols:\n",
    "            means_and_counts = X_tr[[col, target_col_name]].groupby(col)[target_col_name].agg(['mean', 'count'])\n",
    "\n",
    "            means = []\n",
    "            for mean, count in means_and_counts[['mean', 'count']].values:\n",
    "                # rows count that contain current value\n",
    "                # tmp_val = ((mean * count) + (prior * alpha)) / (count + alpha)\n",
    "                \n",
    "                # all rows count\n",
    "                tmp_val = ((mean * nrows) + (prior * alpha)) / (nrows + alpha)\n",
    "                \n",
    "                means.append(tmp_val)\n",
    "\n",
    "            means_lst = []\n",
    "            means_lst.append(means_and_counts.index.values)\n",
    "            means_lst.append(means)\n",
    "\n",
    "            # means = X_tr.groupby(col)[target_col_name].mean()\n",
    "            means = pd.Series(means_lst[1], index=means_lst[0], name=target_col_name)\n",
    "            \n",
    "            means = X_val[col].map(means)\n",
    "            result[col + suffix] = means\n",
    "        \n",
    "        return result\n",
    "    \n",
    "    for col in enc_cols:\n",
    "        df_new[col + suffix] = np.nan\n",
    "    \n",
    "    if use_skf:\n",
    "        skf_values = skf.split(np.zeros(nrows), df_new[target_col_name])\n",
    "        for tr_ind, val_ind in skf_values:\n",
    "            X_tr, X_val = df_new.iloc[tr_ind], df_new.iloc[val_ind]\n",
    "            df_new.iloc[val_ind] = apply_to_chunk(X_tr, X_val)\n",
    "        \n",
    "    else:\n",
    "        df_new = apply_to_chunk(df_new, df_new)\n",
    "\n",
    "    df_new.fillna(prior, inplace=True)  # fill NANs with global mean\n",
    "    return df_new\n"
   ]
  },
  {
   "cell_type": "markdown",
   "metadata": {},
   "source": [
    "Настраиваем значение **alpha**"
   ]
  },
  {
   "cell_type": "code",
   "execution_count": 65,
   "metadata": {},
   "outputs": [],
   "source": [
    "alpha = 0.5"
   ]
  },
  {
   "cell_type": "markdown",
   "metadata": {},
   "source": [
    "Используя **StratifiedKFold**"
   ]
  },
  {
   "cell_type": "code",
   "execution_count": 66,
   "metadata": {},
   "outputs": [
    {
     "name": "stdout",
     "output_type": "stream",
     "text": [
      "best score: 0.7241014799154334\n",
      "best param: {'C': 10, 'penalty': 'l1', 'solver': 'liblinear'}\n",
      "accuracy: 0.6985915492957746\n",
      "              precision    recall  f1-score   support\n",
      "\n",
      "           0       0.17      0.54      0.26        70\n",
      "           1       0.93      0.72      0.81       640\n",
      "\n",
      "   micro avg       0.70      0.70      0.70       710\n",
      "   macro avg       0.55      0.63      0.54       710\n",
      "weighted avg       0.86      0.70      0.76       710\n",
      "\n"
     ]
    }
   ],
   "source": [
    "res_model = get_model_with_regularization(func=reg_smoothing, df=df_tmp, enc_cols=cols, alpha=alpha, use_skf=True)"
   ]
  },
  {
   "cell_type": "markdown",
   "metadata": {},
   "source": [
    "Не используя **StratifiedKFold**"
   ]
  },
  {
   "cell_type": "code",
   "execution_count": 67,
   "metadata": {},
   "outputs": [
    {
     "name": "stdout",
     "output_type": "stream",
     "text": [
      "best score: 0.8463706835799859\n",
      "best param: {'C': 10, 'penalty': 'l1', 'solver': 'liblinear'}\n",
      "accuracy: 0.6647887323943662\n",
      "              precision    recall  f1-score   support\n",
      "\n",
      "           0       0.28      0.44      0.34       142\n",
      "           1       0.84      0.72      0.78       568\n",
      "\n",
      "   micro avg       0.66      0.66      0.66       710\n",
      "   macro avg       0.56      0.58      0.56       710\n",
      "weighted avg       0.73      0.66      0.69       710\n",
      "\n"
     ]
    }
   ],
   "source": [
    "res_model = get_model_with_regularization(func=reg_smoothing, df=df_tmp, enc_cols=cols, alpha=alpha, use_skf=False)"
   ]
  },
  {
   "cell_type": "code",
   "execution_count": null,
   "metadata": {},
   "outputs": [],
   "source": []
  },
  {
   "cell_type": "markdown",
   "metadata": {},
   "source": [
    "#### Noise (Шум)"
   ]
  },
  {
   "cell_type": "markdown",
   "metadata": {},
   "source": [
    "Ещё один способ _регуляризации_ **mean encodings** - добавить некоторый _шум_ (_noise_).\n",
    "Без _регуляризации_ **mean encodings** имеют лучшее качество для _тренировочных_ данных, чем для _тестовых_ данных.\n",
    "\n",
    "Добавляя _шум_, мы просто ухудшаем качество кодирования на _обучающих_ данных.\n",
    "\n",
    "Этот метод довольно нестабилен, его трудно заставить работать.\n",
    "Основная проблема заключается в количестве _шума_, который нужно добавить.\n",
    "\n",
    "Слишком много _шума_ превратит функцию в мусор, в то время как слишком мало шума означает плохую _регуляризацию_.\n",
    "\n",
    "Этот метод обычно используется вместе с [**leave-one-out CV** (**LOO**)](http://www.machinelearning.ru/wiki/index.php?title=CV#.D0.9A.D0.BE.D0.BD.D1.82.D1.80.D0.BE.D0.BB.D1.8C_.D0.BF.D0.BE_.D0.BE.D1.82.D0.B4.D0.B5.D0.BB.D1.8C.D0.BD.D1.8B.D0.BC_.D0.BE.D0.B1.D1.8A.D0.B5.D0.BA.D1.82.D0.B0.D0.BC_.28leave-one-out_CV.29) _регуляризацией_.\n",
    "\n",
    "Нужно аккуратно его настраивать.\n",
    "Таким образом, это, вероятно, не лучший вариант, если у Вас немного времени.\n"
   ]
  },
  {
   "cell_type": "markdown",
   "metadata": {},
   "source": [
    "Ниже представлена функция, которая реализует данный метод _регуляризации_ совместно с **CV loop** _регуляризацией_.\n"
   ]
  },
  {
   "cell_type": "code",
   "execution_count": 68,
   "metadata": {},
   "outputs": [],
   "source": [
    "import random"
   ]
  },
  {
   "cell_type": "code",
   "execution_count": 69,
   "metadata": {},
   "outputs": [],
   "source": [
    "# with possible using \"skf\" (StratifiedKFold).\n",
    "def reg_noise(df, enc_cols, alpha:float=0.0008, use_skf:bool=True):\n",
    "    df_new = df.copy(True)\n",
    "    \n",
    "    nrows = df_new.shape[0]\n",
    "    prior = df_new[target_col_name].mean()  # global mean\n",
    "    \n",
    "    def apply_to_chunk(X_tr, X_val):\n",
    "        # result = X_val.copy(True)\n",
    "        \n",
    "        # apply CV loop regularization\n",
    "        result = reg_cv_loop(X_val, enc_cols)\n",
    "        \n",
    "        seq = [i for i in range(nrows)]\n",
    "        for col in enc_cols:\n",
    "            new_col_name = col + suffix\n",
    "            \n",
    "            # noise_arr = np.random.normal(0, 1, 100)\n",
    "            # noise_arr = alpha * np.array(random.choice(seq))\n",
    "            noise_arr = alpha * np.array(random.sample(seq, result.shape[0]))\n",
    "            result[new_col_name] = result[new_col_name].values + noise_arr\n",
    "        \n",
    "        return result\n",
    "    \n",
    "    for col in enc_cols:\n",
    "        df_new[col + suffix] = np.nan\n",
    "    \n",
    "    if use_skf:\n",
    "        skf_values = skf.split(np.zeros(nrows), df_new[target_col_name])\n",
    "        for tr_ind, val_ind in skf_values:\n",
    "            X_tr, X_val = df_new.iloc[tr_ind], df_new.iloc[val_ind]\n",
    "            df_new.iloc[val_ind] = apply_to_chunk(X_tr, X_val)\n",
    "        \n",
    "    else:\n",
    "        df_new = apply_to_chunk(df_new, df_new)\n",
    "\n",
    "    df_new.fillna(prior, inplace=True)  # fill NANs with global mean\n",
    "    return df_new\n"
   ]
  },
  {
   "cell_type": "markdown",
   "metadata": {},
   "source": [
    "Настройка параметра **alpha**"
   ]
  },
  {
   "cell_type": "code",
   "execution_count": 70,
   "metadata": {},
   "outputs": [],
   "source": [
    "alpha = 0.0008"
   ]
  },
  {
   "cell_type": "markdown",
   "metadata": {},
   "source": [
    "Используя **StratifiedKFold**"
   ]
  },
  {
   "cell_type": "code",
   "execution_count": 71,
   "metadata": {},
   "outputs": [
    {
     "name": "stdout",
     "output_type": "stream",
     "text": [
      "best score: 0.7142353770260746\n",
      "best param: {'C': 0.1, 'penalty': 'l2', 'solver': 'liblinear'}\n",
      "accuracy: 0.6901408450704225\n",
      "              precision    recall  f1-score   support\n",
      "\n",
      "           0       0.00      0.00      0.00         0\n",
      "           1       1.00      0.69      0.82       710\n",
      "\n",
      "   micro avg       0.69      0.69      0.69       710\n",
      "   macro avg       0.50      0.35      0.41       710\n",
      "weighted avg       1.00      0.69      0.82       710\n",
      "\n"
     ]
    }
   ],
   "source": [
    "res_model = get_model_with_regularization(func=reg_noise, df=df_tmp, enc_cols=cols, alpha=alpha, use_skf=True)"
   ]
  },
  {
   "cell_type": "markdown",
   "metadata": {},
   "source": [
    "Не используя **StratifiedKFold**"
   ]
  },
  {
   "cell_type": "code",
   "execution_count": 72,
   "metadata": {},
   "outputs": [
    {
     "name": "stdout",
     "output_type": "stream",
     "text": [
      "best score: 0.7177589852008457\n",
      "best param: {'C': 1, 'penalty': 'l1', 'solver': 'liblinear'}\n",
      "accuracy: 0.6943661971830986\n",
      "              precision    recall  f1-score   support\n",
      "\n",
      "           0       0.05      0.57      0.10        21\n",
      "           1       0.98      0.70      0.82       689\n",
      "\n",
      "   micro avg       0.69      0.69      0.69       710\n",
      "   macro avg       0.52      0.63      0.46       710\n",
      "weighted avg       0.95      0.69      0.79       710\n",
      "\n"
     ]
    }
   ],
   "source": [
    "res_model = get_model_with_regularization(func=reg_noise, df=df_tmp, enc_cols=cols, alpha=alpha, use_skf=False)"
   ]
  },
  {
   "cell_type": "code",
   "execution_count": null,
   "metadata": {},
   "outputs": [],
   "source": []
  },
  {
   "cell_type": "markdown",
   "metadata": {},
   "source": [
    "#### Expanding mean (Расширение среднего)"
   ]
  },
  {
   "cell_type": "markdown",
   "metadata": {},
   "source": [
    "Последний метод _регуляризации_, который мы рассмотрим, основан на _расширении среднего_ (_expanding mean_).\n",
    "Идея очень простая.\n",
    "\n",
    "Мы фиксируем некоторый порядок сортировки наших данных и используем только строки от __0__ до $n - 1$ для вычисления _кодировки_ для строки $n$.\n",
    "Вы можете проверить простую _pandas-реализацию_ реализованную во фрагменте кода ниже:\n",
    "\n",
    "```python\n",
    "cumsum = df_tr.groupby(col)['target'].cumsum() - df_tr['target']\n",
    "cumcnt = df_tr.groupby(col).cumcount()\n",
    "train_new[col+'_mean_target'] = cumsum / cumcnt\n",
    "```\n",
    "\n",
    "**Cumsum** хранит [кумулятивную сумму (_cumulative sum_)](https://ru.wikipedia.org/wiki/%D0%9F%D1%80%D0%BE%D0%BC%D0%B5%D0%B6%D1%83%D1%82%D0%BE%D1%87%D0%BD%D0%B0%D1%8F_%D1%81%D1%83%D0%BC%D0%BC%D0%B0) _целевой переменной_ (_target_) до данной строки, а **cumcnt** хранит кумулятивный счётчик (_cumulative count_).\n",
    "\n",
    "Этот метод вводит наименьшее количество утечки из _целевой переменной_ (_target_) и не требует настройки гипер-параметров.\n",
    "Единственным недостатком является то, что качество признака неоднородно.\n",
    "Но ничего страшного.\n",
    "\n",
    "Мы можем усреднять модели по кодировкам, рассчитанным из разных перестановок данных.\n",
    "Также стоит отметить, что метод _расширения среднего_ (_expanding mean_) используется в **CatBoost gradient boosting trees library**, которая великолепно работает с наборами данных с категориальными признаками.\n"
   ]
  },
  {
   "cell_type": "markdown",
   "metadata": {},
   "source": [
    "Ниже представлена функция, которая реализует данный метод _регуляризации_.\n"
   ]
  },
  {
   "cell_type": "code",
   "execution_count": 73,
   "metadata": {},
   "outputs": [],
   "source": [
    "def reg_expanding_mean(df, enc_cols, use_skf:bool=True):\n",
    "    df_new = df.copy(True)\n",
    "    \n",
    "    nrows = df_new.shape[0]\n",
    "    prior = df_new[target_col_name].mean()  # global mean\n",
    "    \n",
    "    def apply_to_chunk(X_tr, X_val):\n",
    "        result = X_val.copy(True)\n",
    "        \n",
    "        for col in enc_cols:\n",
    "            cumsum = X_tr.groupby(col)[target_col_name].cumsum() - X_tr[target_col_name]\n",
    "            cumcnt = X_tr.groupby(col).cumcount()\n",
    "\n",
    "            result[col + suffix] = cumsum / cumcnt\n",
    "                    \n",
    "        return result\n",
    "    \n",
    "    for col in enc_cols:\n",
    "        df_new[col + suffix] = np.nan\n",
    "    \n",
    "    if use_skf:\n",
    "        skf_values = skf.split(np.zeros(nrows), df_new[target_col_name])\n",
    "        for tr_ind, val_ind in skf_values:\n",
    "            X_tr, X_val = df_new.iloc[tr_ind], df_new.iloc[val_ind]\n",
    "            df_new.iloc[val_ind] = apply_to_chunk(X_tr, X_val)\n",
    "        \n",
    "    else:\n",
    "        df_new = apply_to_chunk(df_new, df_new)\n",
    "\n",
    "    df_new.fillna(prior, inplace=True)  # fill NANs with global mean\n",
    "    return df_new\n"
   ]
  },
  {
   "cell_type": "markdown",
   "metadata": {},
   "source": [
    "Используя **StratifiedKFold**"
   ]
  },
  {
   "cell_type": "code",
   "execution_count": 74,
   "metadata": {},
   "outputs": [
    {
     "name": "stdout",
     "output_type": "stream",
     "text": [
      "best score: 0.7142353770260746\n",
      "best param: {'C': 10, 'penalty': 'l2', 'solver': 'liblinear'}\n",
      "accuracy: 0.6971830985915493\n",
      "              precision    recall  f1-score   support\n",
      "\n",
      "           0       0.04      0.73      0.07        11\n",
      "           1       0.99      0.70      0.82       699\n",
      "\n",
      "   micro avg       0.70      0.70      0.70       710\n",
      "   macro avg       0.52      0.71      0.44       710\n",
      "weighted avg       0.98      0.70      0.81       710\n",
      "\n"
     ]
    }
   ],
   "source": [
    "res_model = get_model_with_regularization(func=reg_noise, df=df_tmp, enc_cols=cols, alpha=alpha, use_skf=True)"
   ]
  },
  {
   "cell_type": "markdown",
   "metadata": {},
   "source": [
    "Не используя **StratifiedKFold**"
   ]
  },
  {
   "cell_type": "code",
   "execution_count": 75,
   "metadata": {},
   "outputs": [
    {
     "name": "stdout",
     "output_type": "stream",
     "text": [
      "best score: 0.7156448202959831\n",
      "best param: {'C': 0.1, 'penalty': 'l1', 'solver': 'liblinear'}\n",
      "accuracy: 0.6901408450704225\n",
      "              precision    recall  f1-score   support\n",
      "\n",
      "           0       0.04      0.50      0.08        18\n",
      "           1       0.98      0.70      0.81       692\n",
      "\n",
      "   micro avg       0.69      0.69      0.69       710\n",
      "   macro avg       0.51      0.60      0.44       710\n",
      "weighted avg       0.96      0.69      0.80       710\n",
      "\n"
     ]
    }
   ],
   "source": [
    "res_model = get_model_with_regularization(func=reg_noise, df=df_tmp, enc_cols=cols, alpha=alpha, use_skf=False)"
   ]
  },
  {
   "cell_type": "code",
   "execution_count": null,
   "metadata": {},
   "outputs": [],
   "source": []
  },
  {
   "cell_type": "markdown",
   "metadata": {},
   "source": [
    "#### Итог"
   ]
  },
  {
   "cell_type": "markdown",
   "metadata": {},
   "source": [
    "Мы рассмотрели 4 различных типа _регуляризации_.\n",
    "\n",
    "Каждый метод имеет свои преимущества и недостатки.\n",
    "\n",
    "Для практических задач рекомендуется применять _**CV loop**-регуляризацию_ или метод **расширения среднего** (**expanding mean**).\n",
    "\n",
    "Они самые надежные и легконастраиваемые.\n"
   ]
  },
  {
   "cell_type": "markdown",
   "metadata": {},
   "source": [
    "#### Основные преимущества и недостатки mean encodings"
   ]
  },
  {
   "cell_type": "markdown",
   "metadata": {},
   "source": [
    "* Преимущества:\n",
    "    * Компактное преобразование категориальных переменных (_Compact transformation of categorical variables_)\n",
    "    * Мощное основание для проектирования признаков (_Powerful basis for feature engineering_)\n",
    "\n",
    "\n",
    "* Недостатки:\n",
    "    * Необходима тщательная проверка, потому как существует множество способов для _переобучения_ (_Need careful validation, there a lot of ways to overfit_)\n",
    "    * Значительные улучшения только для некоторых наборов данных (_Significant improvements only on specific datasets_)\n"
   ]
  },
  {
   "cell_type": "code",
   "execution_count": null,
   "metadata": {},
   "outputs": [],
   "source": []
  }
 ],
 "metadata": {
  "kernelspec": {
   "display_name": "venv_ml_practice",
   "language": "python",
   "name": "venv_ml_practice"
  },
  "language_info": {
   "codemirror_mode": {
    "name": "ipython",
    "version": 3
   },
   "file_extension": ".py",
   "mimetype": "text/x-python",
   "name": "python",
   "nbconvert_exporter": "python",
   "pygments_lexer": "ipython3",
   "version": "3.6.7"
  }
 },
 "nbformat": 4,
 "nbformat_minor": 2
}
