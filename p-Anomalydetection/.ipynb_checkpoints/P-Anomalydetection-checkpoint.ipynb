{
 "cells": [
  {
   "cell_type": "markdown",
   "metadata": {},
   "source": [
    "# Обнаружение аномалий в данных\n",
    "<font color=darkblue>Рассмотрим набор данных статистики по регионам и обнаружим аномальные месяцы в данных</font>"
   ]
  },
  {
   "cell_type": "code",
   "execution_count": 1,
   "metadata": {},
   "outputs": [
    {
     "name": "stderr",
     "output_type": "stream",
     "text": [
      "c:\\users\\user\\anaconda3\\lib\\site-packages\\IPython\\html.py:14: ShimWarning: The `IPython.html` package has been deprecated since IPython 4.0. You should import from `notebook` instead. `IPython.html.widgets` has moved to `ipywidgets`.\n",
      "  \"`IPython.html.widgets` has moved to `ipywidgets`.\", ShimWarning)\n"
     ]
    }
   ],
   "source": [
    "#import warnings\n",
    "#warnings.filterwarnings(\"ignore\")\n",
    "\n",
    "import numpy as np\n",
    "np.set_printoptions(precision=2, suppress=True)\n",
    "from sklearn.preprocessing import StandardScaler, MinMaxScaler, LabelEncoder\n",
    "from sklearn.neighbors import LocalOutlierFactor\n",
    "from sklearn.decomposition import PCA\n",
    "from sklearn.manifold import TSNE\n",
    "\n",
    "from IPython.html import widgets\n",
    "from IPython.display import display, clear_output, HTML\n",
    "from ipywidgets import HBox, VBox, Layout, Output\n",
    "\n",
    "import mpld3\n",
    "import matplotlib.pyplot as plt\n",
    "%matplotlib inline"
   ]
  },
  {
   "cell_type": "markdown",
   "metadata": {},
   "source": [
    "<font color=darkblue>Загрузка данных</font>"
   ]
  },
  {
   "cell_type": "code",
   "execution_count": 2,
   "metadata": {
    "scrolled": true
   },
   "outputs": [
    {
     "data": {
      "text/html": [
       "<div>\n",
       "<style scoped>\n",
       "    .dataframe tbody tr th:only-of-type {\n",
       "        vertical-align: middle;\n",
       "    }\n",
       "\n",
       "    .dataframe tbody tr th {\n",
       "        vertical-align: top;\n",
       "    }\n",
       "\n",
       "    .dataframe thead th {\n",
       "        text-align: right;\n",
       "    }\n",
       "</style>\n",
       "<table border=\"1\" class=\"dataframe\">\n",
       "  <thead>\n",
       "    <tr style=\"text-align: right;\">\n",
       "      <th></th>\n",
       "      <th>В среднем депозитов в руб. на человека</th>\n",
       "      <th>В среднем руб. на текущем счете на человека</th>\n",
       "      <th>Количество заявок на ипотечные кредиты</th>\n",
       "      <th>Количество заявок на потребительские кредиты</th>\n",
       "      <th>Количество новых депозитов</th>\n",
       "      <th>Средние расходы по картам</th>\n",
       "      <th>Средние траты в ресторане</th>\n",
       "      <th>Средние траты в ресторане фастфуд</th>\n",
       "      <th>Средний чек в формате Ресторан</th>\n",
       "      <th>Средний чек в формате Фастфуд</th>\n",
       "      <th>Средняя зарплата</th>\n",
       "      <th>Средняя пенсия</th>\n",
       "      <th>Средняя сумма заявки на ипотечный кредит</th>\n",
       "      <th>Средняя сумма заявки на потребительский кредит</th>\n",
       "      <th>Средняя сумма нового депозита</th>\n",
       "    </tr>\n",
       "  </thead>\n",
       "  <tbody>\n",
       "    <tr>\n",
       "      <th>count</th>\n",
       "      <td>4452.00</td>\n",
       "      <td>4452.00</td>\n",
       "      <td>5459.00</td>\n",
       "      <td>5460.00</td>\n",
       "      <td>4452.00</td>\n",
       "      <td>4452.00</td>\n",
       "      <td>3444.00</td>\n",
       "      <td>3444.00</td>\n",
       "      <td>3444.00</td>\n",
       "      <td>3444.00</td>\n",
       "      <td>3444.00</td>\n",
       "      <td>4452.00</td>\n",
       "      <td>5459.00</td>\n",
       "      <td>5460.00</td>\n",
       "      <td>4452.00</td>\n",
       "    </tr>\n",
       "    <tr>\n",
       "      <th>mean</th>\n",
       "      <td>390008.71</td>\n",
       "      <td>19895.50</td>\n",
       "      <td>2346.24</td>\n",
       "      <td>20427.10</td>\n",
       "      <td>46512.28</td>\n",
       "      <td>8544.97</td>\n",
       "      <td>1548.04</td>\n",
       "      <td>922.69</td>\n",
       "      <td>589.73</td>\n",
       "      <td>340.93</td>\n",
       "      <td>28250.19</td>\n",
       "      <td>14024.36</td>\n",
       "      <td>1512325.01</td>\n",
       "      <td>224534.39</td>\n",
       "      <td>282162.04</td>\n",
       "    </tr>\n",
       "    <tr>\n",
       "      <th>std</th>\n",
       "      <td>230240.70</td>\n",
       "      <td>10547.91</td>\n",
       "      <td>11162.33</td>\n",
       "      <td>95041.21</td>\n",
       "      <td>224030.21</td>\n",
       "      <td>4164.34</td>\n",
       "      <td>448.34</td>\n",
       "      <td>223.32</td>\n",
       "      <td>189.02</td>\n",
       "      <td>60.98</td>\n",
       "      <td>12922.41</td>\n",
       "      <td>4002.18</td>\n",
       "      <td>463815.18</td>\n",
       "      <td>69153.20</td>\n",
       "      <td>174739.30</td>\n",
       "    </tr>\n",
       "    <tr>\n",
       "      <th>min</th>\n",
       "      <td>163332.00</td>\n",
       "      <td>5081.00</td>\n",
       "      <td>1.00</td>\n",
       "      <td>1.00</td>\n",
       "      <td>148.00</td>\n",
       "      <td>2334.00</td>\n",
       "      <td>715.00</td>\n",
       "      <td>482.00</td>\n",
       "      <td>239.00</td>\n",
       "      <td>199.00</td>\n",
       "      <td>7726.00</td>\n",
       "      <td>1440.00</td>\n",
       "      <td>300000.00</td>\n",
       "      <td>116468.00</td>\n",
       "      <td>77830.00</td>\n",
       "    </tr>\n",
       "    <tr>\n",
       "      <th>25%</th>\n",
       "      <td>272306.75</td>\n",
       "      <td>13615.75</td>\n",
       "      <td>352.00</td>\n",
       "      <td>4107.25</td>\n",
       "      <td>6806.00</td>\n",
       "      <td>5573.00</td>\n",
       "      <td>1244.75</td>\n",
       "      <td>760.00</td>\n",
       "      <td>455.00</td>\n",
       "      <td>301.00</td>\n",
       "      <td>20470.50</td>\n",
       "      <td>11817.00</td>\n",
       "      <td>1197482.50</td>\n",
       "      <td>180213.50</td>\n",
       "      <td>197419.75</td>\n",
       "    </tr>\n",
       "    <tr>\n",
       "      <th>50%</th>\n",
       "      <td>331575.50</td>\n",
       "      <td>16882.00</td>\n",
       "      <td>744.00</td>\n",
       "      <td>7727.50</td>\n",
       "      <td>16387.50</td>\n",
       "      <td>7615.00</td>\n",
       "      <td>1462.00</td>\n",
       "      <td>881.00</td>\n",
       "      <td>560.00</td>\n",
       "      <td>332.00</td>\n",
       "      <td>24308.50</td>\n",
       "      <td>13284.50</td>\n",
       "      <td>1379216.00</td>\n",
       "      <td>205114.00</td>\n",
       "      <td>244455.50</td>\n",
       "    </tr>\n",
       "    <tr>\n",
       "      <th>75%</th>\n",
       "      <td>417426.25</td>\n",
       "      <td>21563.00</td>\n",
       "      <td>1491.00</td>\n",
       "      <td>13909.00</td>\n",
       "      <td>30262.00</td>\n",
       "      <td>10386.00</td>\n",
       "      <td>1744.00</td>\n",
       "      <td>1042.00</td>\n",
       "      <td>691.00</td>\n",
       "      <td>372.00</td>\n",
       "      <td>31560.00</td>\n",
       "      <td>15466.75</td>\n",
       "      <td>1661994.50</td>\n",
       "      <td>243138.25</td>\n",
       "      <td>318988.00</td>\n",
       "    </tr>\n",
       "    <tr>\n",
       "      <th>max</th>\n",
       "      <td>2093545.00</td>\n",
       "      <td>87331.00</td>\n",
       "      <td>170936.00</td>\n",
       "      <td>1249665.00</td>\n",
       "      <td>4732173.00</td>\n",
       "      <td>28101.00</td>\n",
       "      <td>3484.00</td>\n",
       "      <td>2190.00</td>\n",
       "      <td>1594.00</td>\n",
       "      <td>624.00</td>\n",
       "      <td>121765.00</td>\n",
       "      <td>43521.00</td>\n",
       "      <td>4600000.00</td>\n",
       "      <td>875000.00</td>\n",
       "      <td>6631650.00</td>\n",
       "    </tr>\n",
       "  </tbody>\n",
       "</table>\n",
       "</div>"
      ],
      "text/plain": [
       "       В среднем депозитов в руб. на человека  \\\n",
       "count                                 4452.00   \n",
       "mean                                390008.71   \n",
       "std                                 230240.70   \n",
       "min                                 163332.00   \n",
       "25%                                 272306.75   \n",
       "50%                                 331575.50   \n",
       "75%                                 417426.25   \n",
       "max                                2093545.00   \n",
       "\n",
       "       В среднем руб. на текущем счете на человека  \\\n",
       "count                                      4452.00   \n",
       "mean                                      19895.50   \n",
       "std                                       10547.91   \n",
       "min                                        5081.00   \n",
       "25%                                       13615.75   \n",
       "50%                                       16882.00   \n",
       "75%                                       21563.00   \n",
       "max                                       87331.00   \n",
       "\n",
       "       Количество заявок на ипотечные кредиты  \\\n",
       "count                                 5459.00   \n",
       "mean                                  2346.24   \n",
       "std                                  11162.33   \n",
       "min                                      1.00   \n",
       "25%                                    352.00   \n",
       "50%                                    744.00   \n",
       "75%                                   1491.00   \n",
       "max                                 170936.00   \n",
       "\n",
       "       Количество заявок на потребительские кредиты  \\\n",
       "count                                       5460.00   \n",
       "mean                                       20427.10   \n",
       "std                                        95041.21   \n",
       "min                                            1.00   \n",
       "25%                                         4107.25   \n",
       "50%                                         7727.50   \n",
       "75%                                        13909.00   \n",
       "max                                      1249665.00   \n",
       "\n",
       "       Количество новых депозитов  Средние расходы по картам  \\\n",
       "count                     4452.00                    4452.00   \n",
       "mean                     46512.28                    8544.97   \n",
       "std                     224030.21                    4164.34   \n",
       "min                        148.00                    2334.00   \n",
       "25%                       6806.00                    5573.00   \n",
       "50%                      16387.50                    7615.00   \n",
       "75%                      30262.00                   10386.00   \n",
       "max                    4732173.00                   28101.00   \n",
       "\n",
       "       Средние траты в ресторане  Средние траты в ресторане фастфуд  \\\n",
       "count                    3444.00                            3444.00   \n",
       "mean                     1548.04                             922.69   \n",
       "std                       448.34                             223.32   \n",
       "min                       715.00                             482.00   \n",
       "25%                      1244.75                             760.00   \n",
       "50%                      1462.00                             881.00   \n",
       "75%                      1744.00                            1042.00   \n",
       "max                      3484.00                            2190.00   \n",
       "\n",
       "       Средний чек в формате Ресторан  Средний чек в формате Фастфуд  \\\n",
       "count                         3444.00                        3444.00   \n",
       "mean                           589.73                         340.93   \n",
       "std                            189.02                          60.98   \n",
       "min                            239.00                         199.00   \n",
       "25%                            455.00                         301.00   \n",
       "50%                            560.00                         332.00   \n",
       "75%                            691.00                         372.00   \n",
       "max                           1594.00                         624.00   \n",
       "\n",
       "       Средняя зарплата  Средняя пенсия  \\\n",
       "count           3444.00         4452.00   \n",
       "mean           28250.19        14024.36   \n",
       "std            12922.41         4002.18   \n",
       "min             7726.00         1440.00   \n",
       "25%            20470.50        11817.00   \n",
       "50%            24308.50        13284.50   \n",
       "75%            31560.00        15466.75   \n",
       "max           121765.00        43521.00   \n",
       "\n",
       "       Средняя сумма заявки на ипотечный кредит  \\\n",
       "count                                   5459.00   \n",
       "mean                                 1512325.01   \n",
       "std                                   463815.18   \n",
       "min                                   300000.00   \n",
       "25%                                  1197482.50   \n",
       "50%                                  1379216.00   \n",
       "75%                                  1661994.50   \n",
       "max                                  4600000.00   \n",
       "\n",
       "       Средняя сумма заявки на потребительский кредит  \\\n",
       "count                                         5460.00   \n",
       "mean                                        224534.39   \n",
       "std                                          69153.20   \n",
       "min                                         116468.00   \n",
       "25%                                         180213.50   \n",
       "50%                                         205114.00   \n",
       "75%                                         243138.25   \n",
       "max                                         875000.00   \n",
       "\n",
       "       Средняя сумма нового депозита  \n",
       "count                        4452.00  \n",
       "mean                       282162.04  \n",
       "std                        174739.30  \n",
       "min                         77830.00  \n",
       "25%                        197419.75  \n",
       "50%                        244455.50  \n",
       "75%                        318988.00  \n",
       "max                       6631650.00  "
      ]
     },
     "execution_count": 2,
     "metadata": {},
     "output_type": "execute_result"
    }
   ],
   "source": [
    "import pandas as pd\n",
    "pd.options.display.float_format = '{:.2f}'.format\n",
    "df = pd.read_csv(u'../data/sberbank.csv')\n",
    "df.describe()"
   ]
  },
  {
   "cell_type": "markdown",
   "metadata": {},
   "source": [
    "<font color=darkblue>Сформируем переменные признаков и метки регионов и дат. Даты и регионы будем использовать для подсветки значений</font>"
   ]
  },
  {
   "cell_type": "code",
   "execution_count": 3,
   "metadata": {},
   "outputs": [],
   "source": [
    "features = df.columns.values.tolist()\n",
    "features.remove(\"date\")\n",
    "features.remove(\"region\")\n",
    "regions = sorted(df[\"region\"].value_counts().index.tolist())\n",
    "dates = sorted(df[\"date\"].value_counts().index.tolist())"
   ]
  },
  {
   "cell_type": "markdown",
   "metadata": {},
   "source": [
    "<font color=darkblue>Сформируем строку подпись для точек</font>"
   ]
  },
  {
   "cell_type": "code",
   "execution_count": 4,
   "metadata": {},
   "outputs": [
    {
     "data": {
      "text/plain": [
       "['Алтайский край, 2013-01-15',\n",
       " 'Амурская область, 2013-01-15',\n",
       " 'Архангельская область, 2013-01-15',\n",
       " 'Астраханская область, 2013-01-15',\n",
       " 'Белгородская область, 2013-01-15']"
      ]
     },
     "execution_count": 4,
     "metadata": {},
     "output_type": "execute_result"
    }
   ],
   "source": [
    "region_dates = [\"{0}, {1}\".format(x, y) for x, y in zip(df[\"region\"], df[\"date\"])]\n",
    "region_dates[:5]"
   ]
  },
  {
   "cell_type": "markdown",
   "metadata": {},
   "source": [
    "<font color=darkblue>создадим из массива признаков 2 с разными вариантами преобразования (\"MinMax\", \"StandartScaler\")</font>"
   ]
  },
  {
   "cell_type": "code",
   "execution_count": 5,
   "metadata": {},
   "outputs": [
    {
     "ename": "ValueError",
     "evalue": "Expected 2D array, got scalar array instead:\narray=184588.0.\nReshape your data either using array.reshape(-1, 1) if your data has a single feature or array.reshape(1, -1) if it contains a single sample.",
     "output_type": "error",
     "traceback": [
      "\u001b[1;31m---------------------------------------------------------------------------\u001b[0m",
      "\u001b[1;31mValueError\u001b[0m                                Traceback (most recent call last)",
      "\u001b[1;32m<ipython-input-5-1178af92aa7e>\u001b[0m in \u001b[0;36m<module>\u001b[1;34m\u001b[0m\n\u001b[0;32m      7\u001b[0m     \u001b[0mminmax_scaler\u001b[0m\u001b[1;33m.\u001b[0m\u001b[0mfit\u001b[0m\u001b[1;33m(\u001b[0m\u001b[0mnotnan_values\u001b[0m\u001b[1;33m)\u001b[0m\u001b[1;33m\u001b[0m\u001b[0m\n\u001b[0;32m      8\u001b[0m     \u001b[0mstd_scaler\u001b[0m\u001b[1;33m.\u001b[0m\u001b[0mfit\u001b[0m\u001b[1;33m(\u001b[0m\u001b[0mnotnan_values\u001b[0m\u001b[1;33m)\u001b[0m\u001b[1;33m\u001b[0m\u001b[0m\n\u001b[1;32m----> 9\u001b[1;33m     \u001b[0mdf_minmax_nan\u001b[0m\u001b[1;33m[\u001b[0m\u001b[0mfeature\u001b[0m\u001b[1;33m]\u001b[0m \u001b[1;33m=\u001b[0m \u001b[0mdf_minmax_nan\u001b[0m\u001b[1;33m[\u001b[0m\u001b[0mfeature\u001b[0m\u001b[1;33m]\u001b[0m\u001b[1;33m.\u001b[0m\u001b[0mapply\u001b[0m\u001b[1;33m(\u001b[0m\u001b[1;32mlambda\u001b[0m \u001b[0mx\u001b[0m\u001b[1;33m:\u001b[0m \u001b[0mminmax_scaler\u001b[0m\u001b[1;33m.\u001b[0m\u001b[0mtransform\u001b[0m\u001b[1;33m(\u001b[0m\u001b[0mx\u001b[0m\u001b[1;33m)\u001b[0m\u001b[1;33m[\u001b[0m\u001b[1;36m0\u001b[0m\u001b[1;33m,\u001b[0m \u001b[1;36m0\u001b[0m\u001b[1;33m]\u001b[0m \u001b[1;32mif\u001b[0m \u001b[1;32mnot\u001b[0m \u001b[0mnp\u001b[0m\u001b[1;33m.\u001b[0m\u001b[0misnan\u001b[0m\u001b[1;33m(\u001b[0m\u001b[0mx\u001b[0m\u001b[1;33m)\u001b[0m \u001b[1;32melse\u001b[0m \u001b[0mx\u001b[0m\u001b[1;33m)\u001b[0m\u001b[1;33m\u001b[0m\u001b[0m\n\u001b[0m\u001b[0;32m     10\u001b[0m     \u001b[0mdf_std_nan\u001b[0m\u001b[1;33m[\u001b[0m\u001b[0mfeature\u001b[0m\u001b[1;33m]\u001b[0m \u001b[1;33m=\u001b[0m \u001b[0mdf_std_nan\u001b[0m\u001b[1;33m[\u001b[0m\u001b[0mfeature\u001b[0m\u001b[1;33m]\u001b[0m\u001b[1;33m.\u001b[0m\u001b[0mapply\u001b[0m\u001b[1;33m(\u001b[0m\u001b[1;32mlambda\u001b[0m \u001b[0mx\u001b[0m\u001b[1;33m:\u001b[0m \u001b[0mstd_scaler\u001b[0m\u001b[1;33m.\u001b[0m\u001b[0mtransform\u001b[0m\u001b[1;33m(\u001b[0m\u001b[0mx\u001b[0m\u001b[1;33m)\u001b[0m\u001b[1;33m[\u001b[0m\u001b[1;36m0\u001b[0m\u001b[1;33m,\u001b[0m \u001b[1;36m0\u001b[0m\u001b[1;33m]\u001b[0m \u001b[1;32mif\u001b[0m \u001b[1;32mnot\u001b[0m \u001b[0mnp\u001b[0m\u001b[1;33m.\u001b[0m\u001b[0misnan\u001b[0m\u001b[1;33m(\u001b[0m\u001b[0mx\u001b[0m\u001b[1;33m)\u001b[0m \u001b[1;32melse\u001b[0m \u001b[0mx\u001b[0m\u001b[1;33m)\u001b[0m\u001b[1;33m\u001b[0m\u001b[0m\n",
      "\u001b[1;32mc:\\users\\user\\anaconda3\\lib\\site-packages\\pandas\\core\\series.py\u001b[0m in \u001b[0;36mapply\u001b[1;34m(self, func, convert_dtype, args, **kwds)\u001b[0m\n\u001b[0;32m   3192\u001b[0m             \u001b[1;32melse\u001b[0m\u001b[1;33m:\u001b[0m\u001b[1;33m\u001b[0m\u001b[0m\n\u001b[0;32m   3193\u001b[0m                 \u001b[0mvalues\u001b[0m \u001b[1;33m=\u001b[0m \u001b[0mself\u001b[0m\u001b[1;33m.\u001b[0m\u001b[0mastype\u001b[0m\u001b[1;33m(\u001b[0m\u001b[0mobject\u001b[0m\u001b[1;33m)\u001b[0m\u001b[1;33m.\u001b[0m\u001b[0mvalues\u001b[0m\u001b[1;33m\u001b[0m\u001b[0m\n\u001b[1;32m-> 3194\u001b[1;33m                 \u001b[0mmapped\u001b[0m \u001b[1;33m=\u001b[0m \u001b[0mlib\u001b[0m\u001b[1;33m.\u001b[0m\u001b[0mmap_infer\u001b[0m\u001b[1;33m(\u001b[0m\u001b[0mvalues\u001b[0m\u001b[1;33m,\u001b[0m \u001b[0mf\u001b[0m\u001b[1;33m,\u001b[0m \u001b[0mconvert\u001b[0m\u001b[1;33m=\u001b[0m\u001b[0mconvert_dtype\u001b[0m\u001b[1;33m)\u001b[0m\u001b[1;33m\u001b[0m\u001b[0m\n\u001b[0m\u001b[0;32m   3195\u001b[0m \u001b[1;33m\u001b[0m\u001b[0m\n\u001b[0;32m   3196\u001b[0m         \u001b[1;32mif\u001b[0m \u001b[0mlen\u001b[0m\u001b[1;33m(\u001b[0m\u001b[0mmapped\u001b[0m\u001b[1;33m)\u001b[0m \u001b[1;32mand\u001b[0m \u001b[0misinstance\u001b[0m\u001b[1;33m(\u001b[0m\u001b[0mmapped\u001b[0m\u001b[1;33m[\u001b[0m\u001b[1;36m0\u001b[0m\u001b[1;33m]\u001b[0m\u001b[1;33m,\u001b[0m \u001b[0mSeries\u001b[0m\u001b[1;33m)\u001b[0m\u001b[1;33m:\u001b[0m\u001b[1;33m\u001b[0m\u001b[0m\n",
      "\u001b[1;32mpandas/_libs/src\\inference.pyx\u001b[0m in \u001b[0;36mpandas._libs.lib.map_infer\u001b[1;34m()\u001b[0m\n",
      "\u001b[1;32m<ipython-input-5-1178af92aa7e>\u001b[0m in \u001b[0;36m<lambda>\u001b[1;34m(x)\u001b[0m\n\u001b[0;32m      7\u001b[0m     \u001b[0mminmax_scaler\u001b[0m\u001b[1;33m.\u001b[0m\u001b[0mfit\u001b[0m\u001b[1;33m(\u001b[0m\u001b[0mnotnan_values\u001b[0m\u001b[1;33m)\u001b[0m\u001b[1;33m\u001b[0m\u001b[0m\n\u001b[0;32m      8\u001b[0m     \u001b[0mstd_scaler\u001b[0m\u001b[1;33m.\u001b[0m\u001b[0mfit\u001b[0m\u001b[1;33m(\u001b[0m\u001b[0mnotnan_values\u001b[0m\u001b[1;33m)\u001b[0m\u001b[1;33m\u001b[0m\u001b[0m\n\u001b[1;32m----> 9\u001b[1;33m     \u001b[0mdf_minmax_nan\u001b[0m\u001b[1;33m[\u001b[0m\u001b[0mfeature\u001b[0m\u001b[1;33m]\u001b[0m \u001b[1;33m=\u001b[0m \u001b[0mdf_minmax_nan\u001b[0m\u001b[1;33m[\u001b[0m\u001b[0mfeature\u001b[0m\u001b[1;33m]\u001b[0m\u001b[1;33m.\u001b[0m\u001b[0mapply\u001b[0m\u001b[1;33m(\u001b[0m\u001b[1;32mlambda\u001b[0m \u001b[0mx\u001b[0m\u001b[1;33m:\u001b[0m \u001b[0mminmax_scaler\u001b[0m\u001b[1;33m.\u001b[0m\u001b[0mtransform\u001b[0m\u001b[1;33m(\u001b[0m\u001b[0mx\u001b[0m\u001b[1;33m)\u001b[0m\u001b[1;33m[\u001b[0m\u001b[1;36m0\u001b[0m\u001b[1;33m,\u001b[0m \u001b[1;36m0\u001b[0m\u001b[1;33m]\u001b[0m \u001b[1;32mif\u001b[0m \u001b[1;32mnot\u001b[0m \u001b[0mnp\u001b[0m\u001b[1;33m.\u001b[0m\u001b[0misnan\u001b[0m\u001b[1;33m(\u001b[0m\u001b[0mx\u001b[0m\u001b[1;33m)\u001b[0m \u001b[1;32melse\u001b[0m \u001b[0mx\u001b[0m\u001b[1;33m)\u001b[0m\u001b[1;33m\u001b[0m\u001b[0m\n\u001b[0m\u001b[0;32m     10\u001b[0m     \u001b[0mdf_std_nan\u001b[0m\u001b[1;33m[\u001b[0m\u001b[0mfeature\u001b[0m\u001b[1;33m]\u001b[0m \u001b[1;33m=\u001b[0m \u001b[0mdf_std_nan\u001b[0m\u001b[1;33m[\u001b[0m\u001b[0mfeature\u001b[0m\u001b[1;33m]\u001b[0m\u001b[1;33m.\u001b[0m\u001b[0mapply\u001b[0m\u001b[1;33m(\u001b[0m\u001b[1;32mlambda\u001b[0m \u001b[0mx\u001b[0m\u001b[1;33m:\u001b[0m \u001b[0mstd_scaler\u001b[0m\u001b[1;33m.\u001b[0m\u001b[0mtransform\u001b[0m\u001b[1;33m(\u001b[0m\u001b[0mx\u001b[0m\u001b[1;33m)\u001b[0m\u001b[1;33m[\u001b[0m\u001b[1;36m0\u001b[0m\u001b[1;33m,\u001b[0m \u001b[1;36m0\u001b[0m\u001b[1;33m]\u001b[0m \u001b[1;32mif\u001b[0m \u001b[1;32mnot\u001b[0m \u001b[0mnp\u001b[0m\u001b[1;33m.\u001b[0m\u001b[0misnan\u001b[0m\u001b[1;33m(\u001b[0m\u001b[0mx\u001b[0m\u001b[1;33m)\u001b[0m \u001b[1;32melse\u001b[0m \u001b[0mx\u001b[0m\u001b[1;33m)\u001b[0m\u001b[1;33m\u001b[0m\u001b[0m\n",
      "\u001b[1;32mc:\\users\\user\\anaconda3\\lib\\site-packages\\sklearn\\preprocessing\\data.py\u001b[0m in \u001b[0;36mtransform\u001b[1;34m(self, X)\u001b[0m\n\u001b[0;32m    383\u001b[0m \u001b[1;33m\u001b[0m\u001b[0m\n\u001b[0;32m    384\u001b[0m         X = check_array(X, copy=self.copy, dtype=FLOAT_DTYPES,\n\u001b[1;32m--> 385\u001b[1;33m                         force_all_finite=\"allow-nan\")\n\u001b[0m\u001b[0;32m    386\u001b[0m \u001b[1;33m\u001b[0m\u001b[0m\n\u001b[0;32m    387\u001b[0m         \u001b[0mX\u001b[0m \u001b[1;33m*=\u001b[0m \u001b[0mself\u001b[0m\u001b[1;33m.\u001b[0m\u001b[0mscale_\u001b[0m\u001b[1;33m\u001b[0m\u001b[0m\n",
      "\u001b[1;32mc:\\users\\user\\anaconda3\\lib\\site-packages\\sklearn\\utils\\validation.py\u001b[0m in \u001b[0;36mcheck_array\u001b[1;34m(array, accept_sparse, accept_large_sparse, dtype, order, copy, force_all_finite, ensure_2d, allow_nd, ensure_min_samples, ensure_min_features, warn_on_dtype, estimator)\u001b[0m\n\u001b[0;32m    538\u001b[0m                     \u001b[1;34m\"Reshape your data either using array.reshape(-1, 1) if \"\u001b[0m\u001b[1;33m\u001b[0m\u001b[0m\n\u001b[0;32m    539\u001b[0m                     \u001b[1;34m\"your data has a single feature or array.reshape(1, -1) \"\u001b[0m\u001b[1;33m\u001b[0m\u001b[0m\n\u001b[1;32m--> 540\u001b[1;33m                     \"if it contains a single sample.\".format(array))\n\u001b[0m\u001b[0;32m    541\u001b[0m             \u001b[1;31m# If input is 1D raise error\u001b[0m\u001b[1;33m\u001b[0m\u001b[1;33m\u001b[0m\u001b[0m\n\u001b[0;32m    542\u001b[0m             \u001b[1;32mif\u001b[0m \u001b[0marray\u001b[0m\u001b[1;33m.\u001b[0m\u001b[0mndim\u001b[0m \u001b[1;33m==\u001b[0m \u001b[1;36m1\u001b[0m\u001b[1;33m:\u001b[0m\u001b[1;33m\u001b[0m\u001b[0m\n",
      "\u001b[1;31mValueError\u001b[0m: Expected 2D array, got scalar array instead:\narray=184588.0.\nReshape your data either using array.reshape(-1, 1) if your data has a single feature or array.reshape(1, -1) if it contains a single sample."
     ]
    }
   ],
   "source": [
    "df_minmax_nan = df.copy()\n",
    "df_std_nan = df.copy()\n",
    "minmax_scaler = MinMaxScaler()\n",
    "std_scaler = StandardScaler(with_mean=False)\n",
    "for feature in features:\n",
    "    notnan_values = np.vstack(df[feature][df[feature].notnull()])\n",
    "    minmax_scaler.fit(notnan_values)\n",
    "    std_scaler.fit(notnan_values)\n",
    "    df_minmax_nan[feature] = df_minmax_nan[feature].apply(lambda x: minmax_scaler.transform(x)[0, 0] if not np.isnan(x) else x)\n",
    "    df_std_nan[feature] = df_std_nan[feature].apply(lambda x: std_scaler.transform(x)[0, 0] if not np.isnan(x) else x)    "
   ]
  },
  {
   "cell_type": "code",
   "execution_count": null,
   "metadata": {
    "scrolled": true
   },
   "outputs": [],
   "source": [
    "df_minmax.head()"
   ]
  },
  {
   "cell_type": "markdown",
   "metadata": {},
   "source": [
    "<font color=darkblue>Заполняем пустые значения средними</font>"
   ]
  },
  {
   "cell_type": "code",
   "execution_count": null,
   "metadata": {},
   "outputs": [],
   "source": [
    "df_minmax = df_minmax_nan.copy()\n",
    "df_std = df_std_nan.copy()\n",
    "for region in regions:\n",
    "    region_index = df[\"region\"] == region\n",
    "    df_minmax.loc[region_index, features] = df_minmax[features][region_index].apply(lambda x: x.fillna(x.mean()), axis=0)\n",
    "    df_std.loc[region_index, features] = df_std[features][region_index].apply(lambda x: x.fillna(x.mean()), axis=0)"
   ]
  },
  {
   "cell_type": "code",
   "execution_count": null,
   "metadata": {},
   "outputs": [],
   "source": [
    "df_minmax.head()"
   ]
  },
  {
   "cell_type": "code",
   "execution_count": null,
   "metadata": {},
   "outputs": [],
   "source": [
    "df_std.head()"
   ]
  },
  {
   "cell_type": "code",
   "execution_count": null,
   "metadata": {},
   "outputs": [],
   "source": [
    "minmax_array = np.vstack(df_minmax[features].values)\n",
    "std_array = np.vstack(df_std[features].values)\n",
    "\n",
    "print(minmax_array)\n",
    "print()\n",
    "print(std_array)"
   ]
  },
  {
   "cell_type": "markdown",
   "metadata": {},
   "source": [
    "<font color=darkblue>Закодируем название региона</font>"
   ]
  },
  {
   "cell_type": "code",
   "execution_count": null,
   "metadata": {},
   "outputs": [],
   "source": [
    "le = LabelEncoder()\n",
    "labels = le.fit_transform(df[\"region\"])\n",
    "labels"
   ]
  },
  {
   "cell_type": "markdown",
   "metadata": {},
   "source": [
    "<font color=darkblue>Применим PCA - понижение размерности по 2-х координат.</font>"
   ]
  },
  {
   "cell_type": "code",
   "execution_count": null,
   "metadata": {},
   "outputs": [],
   "source": [
    "pca = PCA(n_components=2, random_state=0, svd_solver='randomized')\n",
    "minmax_pca = pca.fit_transform(minmax_array)\n",
    "std_pca = pca.fit_transform(std_array)\n"
   ]
  },
  {
   "cell_type": "markdown",
   "metadata": {},
   "source": [
    "<font color=darkblue>Изобразим наши данные на графике, при наведении на точку всплывает подсказка.</font>"
   ]
  },
  {
   "cell_type": "code",
   "execution_count": null,
   "metadata": {},
   "outputs": [],
   "source": [
    "fig, (ax1, ax2) = plt.subplots(1, 2, figsize=(13,7))\n",
    "\n",
    "scatter1 = ax1.scatter(minmax_pca[:, 0], minmax_pca[:, 1], c=labels)\n",
    "tooltip1 = mpld3.plugins.PointLabelTooltip(scatter1, labels=region_dates)\n",
    "mpld3.plugins.connect(fig, tooltip1)\n",
    "\n",
    "scatter2 = ax2.scatter(std_pca[:, 0], std_pca[:, 1], c=labels)\n",
    "tooltip2 = mpld3.plugins.PointLabelTooltip(scatter2, labels=region_dates)\n",
    "mpld3.plugins.connect(fig, tooltip2)\n",
    "\n",
    "mpld3.display(fig)"
   ]
  },
  {
   "cell_type": "markdown",
   "metadata": {},
   "source": [
    "<font color=darkblue>Применение модели t-SNE для приведения к 2-м координатам "
   ]
  },
  {
   "cell_type": "code",
   "execution_count": null,
   "metadata": {},
   "outputs": [],
   "source": [
    "tsne = TSNE(n_components=2, init='pca', random_state=0)\n",
    "minmax_tsne = tsne.fit_transform(minmax_array)\n",
    "std_tsne = tsne.fit_transform(std_array)"
   ]
  },
  {
   "cell_type": "markdown",
   "metadata": {},
   "source": [
    "<font color=darkblue>Визаулизация данных с помощью метода t-SNE</font>"
   ]
  },
  {
   "cell_type": "code",
   "execution_count": null,
   "metadata": {},
   "outputs": [],
   "source": [
    "fig, (ax1, ax2) = plt.subplots(1, 2, figsize=(13,7))\n",
    "\n",
    "scatter1 = ax1.scatter(minmax_tsne[:, 0], minmax_tsne[:, 1], c=labels)\n",
    "tooltip1 = mpld3.plugins.PointLabelTooltip(scatter1, labels=region_dates)\n",
    "mpld3.plugins.connect(fig, tooltip1)\n",
    "\n",
    "scatter2 = ax2.scatter(std_tsne[:, 0], std_tsne[:, 1], c=labels)\n",
    "tooltip2 = mpld3.plugins.PointLabelTooltip(scatter2, labels=region_dates)\n",
    "mpld3.plugins.connect(fig, tooltip2)\n",
    "\n",
    "mpld3.display(fig)"
   ]
  },
  {
   "cell_type": "markdown",
   "metadata": {},
   "source": [
    "<font color=darkblue>Обнаружение аномалий на плоскости (после уменьшения размерности методами PCA и t-SNE)</font>"
   ]
  },
  {
   "cell_type": "code",
   "execution_count": null,
   "metadata": {},
   "outputs": [],
   "source": [
    "lof = LocalOutlierFactor(metric='euclidean',\n",
    "                         contamination=0.05)\n",
    "\n",
    "\n",
    "def show_plot(region):\n",
    "    indices = [index for (index, item) in enumerate(df[\"region\"]) if item == region]\n",
    "\n",
    "    train1 = minmax_pca[indices]\n",
    "    preds1 = lof.fit_predict(train1)\n",
    "    \n",
    "    train2 = minmax_tsne[indices]\n",
    "    preds2 = lof.fit_predict(train2)\n",
    "    \n",
    "    train3 = std_pca[indices]\n",
    "    preds3 = lof.fit_predict(train3)\n",
    "    \n",
    "    train4 = std_tsne[indices]\n",
    "    preds4 = lof.fit_predict(train4)\n",
    "    \n",
    "    with out:\n",
    "        clear_output()\n",
    "        \n",
    "        fig, axes = plt.subplots(2, 2, figsize=(12, 12))\n",
    "        scatter1 = axes[0, 0].scatter(train1[:,0], train1[:,1], c=preds1)\n",
    "        tooltip1 = mpld3.plugins.PointLabelTooltip(scatter1, labels=dates)\n",
    "        mpld3.plugins.connect(fig, tooltip1)\n",
    "        axes[0, 0].set_title('minmax, PCA')        \n",
    "        \n",
    "        scatter2 = axes[0, 1].scatter(train2[:,0], train2[:,1], c=preds2)\n",
    "        tooltip2 = mpld3.plugins.PointLabelTooltip(scatter2, labels=dates)\n",
    "        mpld3.plugins.connect(fig, tooltip2)\n",
    "        axes[0, 1].set_title('minmax, TSNE')\n",
    "        \n",
    "        scatter3 = axes[1, 0].scatter(train3[:,0], train3[:,1], c=preds3)\n",
    "        tooltip3 = mpld3.plugins.PointLabelTooltip(scatter3, labels=dates)\n",
    "        mpld3.plugins.connect(fig, tooltip3)\n",
    "        axes[1, 0].set_title('std, PCA')\n",
    "        \n",
    "        scatter4 = axes[1, 1].scatter(train4[:,0], train4[:,1], c=preds4)\n",
    "        tooltip4 = mpld3.plugins.PointLabelTooltip(scatter4, labels=dates)\n",
    "        mpld3.plugins.connect(fig, tooltip4)\n",
    "        axes[1, 1].set_title('std, TSNE')\n",
    "        \n",
    "        mpld3.enable_notebook()\n",
    "        \n",
    "\n",
    "style = {'description_width': 'initial'}\n",
    "region_list = widgets.Select(options=regions, description=\"Регион\", rows=10)\n",
    "i = widgets.interactive(show_plot, region=region_list)\n",
    "\n",
    "out = Output()\n",
    "\n",
    "VBox([i, out])"
   ]
  },
  {
   "cell_type": "markdown",
   "metadata": {},
   "source": [
    "<font color=darkblue>Обнаружение аномалий в начальном пространстве и отображение затем на плоскости методами PCA и t-SNE</font>"
   ]
  },
  {
   "cell_type": "code",
   "execution_count": null,
   "metadata": {},
   "outputs": [],
   "source": [
    "lof = LocalOutlierFactor(metric='euclidean',\n",
    "                         contamination=0.05)\n",
    "\n",
    "\n",
    "def show_plot(region):\n",
    "    indices = [index for (index, item) in enumerate(df[\"region\"]) if item == region]\n",
    "\n",
    "    train1 = minmax_array[indices]\n",
    "    preds1 = lof.fit_predict(train1)\n",
    "    \n",
    "    train2 = std_array[indices]\n",
    "    preds2 = lof.fit_predict(train2)\n",
    "    \n",
    "    data1 = minmax_pca[indices]\n",
    "    data2 = minmax_tsne[indices]\n",
    "    data3 = std_pca[indices]\n",
    "    data4 = std_tsne[indices]\n",
    "    \n",
    "    with out:\n",
    "        clear_output()\n",
    "        \n",
    "        fig, axes = plt.subplots(2, 2, figsize=(12, 12))\n",
    "        scatter1 = axes[0, 0].scatter(data1[:,0], data1[:,1], c=preds1)\n",
    "        tooltip1 = mpld3.plugins.PointLabelTooltip(scatter1, labels=dates)\n",
    "        mpld3.plugins.connect(fig, tooltip1)\n",
    "        axes[0, 0].set_title('minmax, PCA')        \n",
    "        \n",
    "        scatter2 = axes[0, 1].scatter(data2[:,0], data2[:,1], c=preds1)\n",
    "        tooltip2 = mpld3.plugins.PointLabelTooltip(scatter2, labels=dates)\n",
    "        mpld3.plugins.connect(fig, tooltip2)\n",
    "        axes[0, 1].set_title('minmax, TSNE')\n",
    "        \n",
    "        scatter3 = axes[1, 0].scatter(data3[:,0], data3[:,1], c=preds2)\n",
    "        tooltip3 = mpld3.plugins.PointLabelTooltip(scatter3, labels=dates)\n",
    "        mpld3.plugins.connect(fig, tooltip3)\n",
    "        axes[1, 0].set_title('std, PCA')\n",
    "        \n",
    "        scatter4 = axes[1, 1].scatter(data4[:,0], data4[:,1], c=preds2)\n",
    "        tooltip4 = mpld3.plugins.PointLabelTooltip(scatter4, labels=dates)\n",
    "        mpld3.plugins.connect(fig, tooltip4)\n",
    "        axes[1, 1].set_title('std, TSNE')\n",
    "        \n",
    "        mpld3.enable_notebook()\n",
    "        \n",
    "\n",
    "style = {'description_width': 'initial'}\n",
    "region_list = widgets.Select(options=regions, description=\"Регион\", rows=10)\n",
    "i = widgets.interactive(show_plot, region=region_list)\n",
    "\n",
    "out = Output()\n",
    "\n",
    "VBox([i, out])"
   ]
  },
  {
   "cell_type": "markdown",
   "metadata": {},
   "source": [
    "<font color=darkblue>Можно проверить исходные данные по определнному региону</font>"
   ]
  },
  {
   "cell_type": "code",
   "execution_count": null,
   "metadata": {},
   "outputs": [],
   "source": [
    "mpld3.disable_notebook()\n",
    "def show_plot2(region):\n",
    "    df_region_minmax = df_minmax_nan[df_minmax_nan[\"region\"] == region]\n",
    "    df_region_std = df_std_nan[df_std_nan[\"region\"] == region]\n",
    "    \n",
    "    with out:\n",
    "        fig, (ax1, ax2) = plt.subplots(2, 1, figsize=(15, 15))\n",
    "        fig.subplots_adjust(hspace=0.7)\n",
    "\n",
    "        for feature in features:\n",
    "            ax1.plot(dates, df_region_minmax[feature])\n",
    "            ax2.plot(dates, df_region_std[feature])\n",
    "        \n",
    "        plt.sca(ax1)\n",
    "        plt.xticks(dates, dates, rotation=\"vertical\")\n",
    "        ax1.set_title(\"minmax\", y=1.3)\n",
    "        \n",
    "        plt.sca(ax2)\n",
    "        plt.xticks(dates, dates, rotation=\"vertical\")\n",
    "        ax2.set_title(\"std\", y=1.3)\n",
    "\n",
    "style = {'description_width': 'initial'}\n",
    "region_list = widgets.Select(options=regions, description=\"Регион\", rows=10)\n",
    "i = widgets.interactive(show_plot2, region=region_list)\n",
    "\n",
    "out = Output()\n",
    "\n",
    "VBox([i, out])"
   ]
  },
  {
   "cell_type": "code",
   "execution_count": null,
   "metadata": {},
   "outputs": [],
   "source": []
  }
 ],
 "metadata": {
  "kernelspec": {
   "display_name": "Python 3",
   "language": "python",
   "name": "python3"
  },
  "language_info": {
   "codemirror_mode": {
    "name": "ipython",
    "version": 3
   },
   "file_extension": ".py",
   "mimetype": "text/x-python",
   "name": "python",
   "nbconvert_exporter": "python",
   "pygments_lexer": "ipython3",
   "version": "3.6.5"
  }
 },
 "nbformat": 4,
 "nbformat_minor": 1
}
