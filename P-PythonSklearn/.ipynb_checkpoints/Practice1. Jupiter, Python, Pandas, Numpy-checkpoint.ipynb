{
 "cells": [
  {
   "cell_type": "markdown",
   "metadata": {},
   "source": [
    "# Jupyter Notebook"
   ]
  },
  {
   "cell_type": "markdown",
   "metadata": {},
   "source": [
    "## Веб приложение позволяет:\n",
    "<font color=darkblue>- редактировать Python код в браузере, с подсветкой синтаксиса, автоотступами и автодополнением;\n",
    "- запускать код в браузере;\n",
    "- отображать результаты вычислений с медиа представлением (схемы, графики);\n",
    "- работать с языком разметки Markdown и LaTeX. например $$ c = \\sqrt{a^2 + b^2} $$\n",
    "\n",
    "Ноутбуки – это файлы, в которых сохраняются исходный код, входные и выходные данные, полученные в рамках сессии. Фактически, он является записью вашей работы, но при этом позволяет заново выполнить код, присутствующий на нем. Ноутбуки можно экспортировать в форматы PDF, HTML.\n",
    "\n",
    "Код на языке Python или текст в нотации Markdown, нужно выбирать тип ячейки\n",
    "\n",
    "Для открытия справки по сочетаниям клавиш нажмите “Help->Keyboard Shortcuts”\n",
    "\n",
    "%lsmagic - магические команды</font>\n",
    "\n",
    "\n",
    "## Запуск и прерывание выполнения кода\n",
    "<font color=darkblue>Если ваша программа зависла, то можно прервать ее выполнение выбрав на панели меню пункт Kernel -> Interrupt.\n",
    "Для добавления новой ячейки используйте Insert->Insert Cell Above и Insert->Insert Cell Below.\n",
    "Для запуска ячейки используете команды из меню Cell, либо следующие сочетания клавиш:\n",
    "Ctrl+Enter – выполнить содержимое ячейки.\n",
    "Shift+Enter – выполнить содержимое ячейки и перейти на ячейку ниже.\n",
    "Alt+Enter – выполнить содержимое ячейки и вставить новую ячейку ниже.</font>"
   ]
  },
  {
   "cell_type": "markdown",
   "metadata": {},
   "source": [
    "# Работа с массивами Numpy\n",
    "<font color=darkblue>подключим библиотеку Nympy"
   ]
  },
  {
   "cell_type": "code",
   "execution_count": 1,
   "metadata": {},
   "outputs": [],
   "source": [
    "import numpy as np\n",
    "np.set_printoptions(precision=1, suppress=True)"
   ]
  },
  {
   "cell_type": "code",
   "execution_count": 2,
   "metadata": {},
   "outputs": [
    {
     "name": "stdout",
     "output_type": "stream",
     "text": [
      "1.14.3\n"
     ]
    }
   ],
   "source": [
    "print(np.__version__)"
   ]
  },
  {
   "cell_type": "markdown",
   "metadata": {},
   "source": [
    "### 1) создание вектора"
   ]
  },
  {
   "cell_type": "code",
   "execution_count": 3,
   "metadata": {},
   "outputs": [
    {
     "name": "stdout",
     "output_type": "stream",
     "text": [
      "Вектор:\n",
      " [1 2 3 4]\n"
     ]
    }
   ],
   "source": [
    "Z = np.array([1, 2, 3, 4])\n",
    "print ('Вектор:\\n', Z)"
   ]
  },
  {
   "cell_type": "markdown",
   "metadata": {},
   "source": [
    "<font color=darkblue>Создаем вектор (одномерный массив) размера 10, заполненный нулями"
   ]
  },
  {
   "cell_type": "code",
   "execution_count": 4,
   "metadata": {},
   "outputs": [
    {
     "data": {
      "text/plain": [
       "array([0., 0., 0., 0., 0., 0., 0., 0., 0., 0.])"
      ]
     },
     "execution_count": 4,
     "metadata": {},
     "output_type": "execute_result"
    }
   ],
   "source": [
    "Z = np.zeros(10) # np.ones (единицы) \n",
    "Z"
   ]
  },
  {
   "cell_type": "markdown",
   "metadata": {},
   "source": [
    "<font color=darkblue>случайные значения, многомерный массив"
   ]
  },
  {
   "cell_type": "code",
   "execution_count": 5,
   "metadata": {},
   "outputs": [
    {
     "data": {
      "text/plain": [
       "array([[0.6, 0.1, 0.1, 1. ],\n",
       "       [0.2, 1. , 0.1, 0.1],\n",
       "       [0.4, 0.8, 0.7, 0.5]])"
      ]
     },
     "execution_count": 5,
     "metadata": {},
     "output_type": "execute_result"
    }
   ],
   "source": [
    "Z = np.random.random((3,4))\n",
    "Z"
   ]
  },
  {
   "cell_type": "markdown",
   "metadata": {},
   "source": [
    "<font color=darkblue>размерность массива "
   ]
  },
  {
   "cell_type": "code",
   "execution_count": 6,
   "metadata": {},
   "outputs": [
    {
     "name": "stdout",
     "output_type": "stream",
     "text": [
      "Размерность: (3, 4)\n",
      "Функция len:  3\n",
      "Строки: 3\n",
      "Столбцы: 4\n"
     ]
    }
   ],
   "source": [
    "print('Размерность:',Z.shape)\n",
    "print('Функция len: ',len(Z))\n",
    "print('Строки:',Z.shape[0])\n",
    "print('Столбцы:',Z.shape[1])"
   ]
  },
  {
   "cell_type": "markdown",
   "metadata": {},
   "source": [
    "<font color=darkblue>Обращение к элементам "
   ]
  },
  {
   "cell_type": "code",
   "execution_count": 7,
   "metadata": {},
   "outputs": [
    {
     "name": "stdout",
     "output_type": "stream",
     "text": [
      "К элементу 0.626020973400358\n",
      "К диапазону [0.6 0.1 0.1]\n",
      "К строке [0.6 0.1 0.1 1. ]\n",
      "К столбцу [0.6 0.2 0.4]\n"
     ]
    }
   ],
   "source": [
    "print('К элементу',Z[0,0])\n",
    "print('К диапазону',Z[0,0:3])\n",
    "print('К строке',Z[0])\n",
    "print('К столбцу',Z[:,0])"
   ]
  },
  {
   "cell_type": "markdown",
   "metadata": {},
   "source": [
    "<font color=darkblue>Другим способом задания вектора является функция __`numpy.arange(([start, ]stop, [step, ]...)`__, которая задает последовательность чисел заданного типа из промежутка __[`start`, `stop`)__ через шаг __`step`__:"
   ]
  },
  {
   "cell_type": "code",
   "execution_count": 8,
   "metadata": {},
   "outputs": [
    {
     "name": "stdout",
     "output_type": "stream",
     "text": [
      "Вещественный вектор чисел от 0 до 1 с шагом 0.3:\n",
      " [0.  0.3 0.6 0.9]\n"
     ]
    }
   ],
   "source": [
    "Z = np.arange(start=0, stop=1, step=0.3, dtype=float)\n",
    "print('Вещественный вектор чисел от 0 до 1 с шагом 0.3:\\n', Z)"
   ]
  },
  {
   "cell_type": "markdown",
   "metadata": {},
   "source": [
    "<font color=darkblue>Функция numpy.linespace(start, stop, num) - равномерно задает num значений  "
   ]
  },
  {
   "cell_type": "code",
   "execution_count": 9,
   "metadata": {},
   "outputs": [
    {
     "data": {
      "text/plain": [
       "array([-3. , -2.3, -1.7, -1. , -0.3,  0.3,  1. ,  1.7,  2.3,  3. ])"
      ]
     },
     "execution_count": 9,
     "metadata": {},
     "output_type": "execute_result"
    }
   ],
   "source": [
    "Z = np.linspace(-3, 3, 10)\n",
    "Z"
   ]
  },
  {
   "cell_type": "markdown",
   "metadata": {},
   "source": [
    "### 2) NumPy Функции и скорость работы \n",
    "\n",
    "<font color=darkblue>на порядок быстрее "
   ]
  },
  {
   "cell_type": "code",
   "execution_count": 10,
   "metadata": {},
   "outputs": [],
   "source": [
    "import time\n",
    "x = np.linspace(-30, 30, 1000000)"
   ]
  },
  {
   "cell_type": "code",
   "execution_count": 11,
   "metadata": {},
   "outputs": [
    {
     "name": "stdout",
     "output_type": "stream",
     "text": [
      "--- 0.03610706329345703 Numpy время в секундах ---\n"
     ]
    }
   ],
   "source": [
    "y=[]\n",
    "start_time = time.time()\n",
    "y = np.power(x, 2)\n",
    "print(\"--- %s Numpy время в секундах ---\" %(time.time() - start_time)) "
   ]
  },
  {
   "cell_type": "code",
   "execution_count": 12,
   "metadata": {},
   "outputs": [
    {
     "name": "stdout",
     "output_type": "stream",
     "text": [
      "--- 0.3976130485534668 время в секундах ---\n"
     ]
    }
   ],
   "source": [
    "y=[]\n",
    "start_time = time.time()\n",
    "for i in range(1000000):\n",
    "    y.append(i**2) \n",
    "print(\"--- %s время в секундах ---\" % (time.time() - start_time))"
   ]
  },
  {
   "cell_type": "markdown",
   "metadata": {},
   "source": [
    "### 3) Операции над матрицами"
   ]
  },
  {
   "cell_type": "code",
   "execution_count": 13,
   "metadata": {},
   "outputs": [],
   "source": [
    "Z=np.random.random(12).reshape((3,4))"
   ]
  },
  {
   "cell_type": "code",
   "execution_count": 14,
   "metadata": {},
   "outputs": [
    {
     "data": {
      "text/plain": [
       "array([[0.7, 0.4, 0.1, 0.7],\n",
       "       [0.5, 0.8, 0.6, 0.9],\n",
       "       [0.4, 0.7, 0.1, 1. ]])"
      ]
     },
     "execution_count": 14,
     "metadata": {},
     "output_type": "execute_result"
    }
   ],
   "source": [
    "Z"
   ]
  },
  {
   "cell_type": "markdown",
   "metadata": {},
   "source": [
    "<font color=darkblue>Транспонирование"
   ]
  },
  {
   "cell_type": "code",
   "execution_count": 15,
   "metadata": {},
   "outputs": [
    {
     "data": {
      "text/plain": [
       "array([[0.7, 0.5, 0.4],\n",
       "       [0.4, 0.8, 0.7],\n",
       "       [0.1, 0.6, 0.1],\n",
       "       [0.7, 0.9, 1. ]])"
      ]
     },
     "execution_count": 15,
     "metadata": {},
     "output_type": "execute_result"
    }
   ],
   "source": [
    "Z.T"
   ]
  },
  {
   "cell_type": "markdown",
   "metadata": {},
   "source": [
    "<font color=darkblue>Покоординатное сложение "
   ]
  },
  {
   "cell_type": "code",
   "execution_count": 16,
   "metadata": {},
   "outputs": [
    {
     "data": {
      "text/plain": [
       "array([[2.4, 1.8, 1.3, 2.5],\n",
       "       [1.9, 2.7, 2.3, 2.8],\n",
       "       [1.8, 2.3, 1.1, 3. ]])"
      ]
     },
     "execution_count": 16,
     "metadata": {},
     "output_type": "execute_result"
    }
   ],
   "source": [
    "Z+Z+1"
   ]
  },
  {
   "cell_type": "markdown",
   "metadata": {},
   "source": [
    "<font color=darkblue>Покоординатное умножение"
   ]
  },
  {
   "cell_type": "code",
   "execution_count": 17,
   "metadata": {},
   "outputs": [
    {
     "data": {
      "text/plain": [
       "array([[ 9.3,  3.4,  0.4, 10.9],\n",
       "       [ 4.1, 13.9,  8.1, 15.7],\n",
       "       [ 3.3,  9.1,  0.1, 19.1]])"
      ]
     },
     "execution_count": 17,
     "metadata": {},
     "output_type": "execute_result"
    }
   ],
   "source": [
    "Z*Z*20"
   ]
  },
  {
   "cell_type": "markdown",
   "metadata": {},
   "source": [
    "<font color=darkblue>Умножение матриц (скалярное произведение в случае 2-х векторов)</font>\n",
    "$$\n",
    "\\langle x, y \\rangle = \\sum_{i=1}^n x_{i} y_{i}.\n",
    "$$"
   ]
  },
  {
   "cell_type": "code",
   "execution_count": 18,
   "metadata": {},
   "outputs": [
    {
     "data": {
      "text/plain": [
       "array([[1.2, 1.4, 1.3],\n",
       "       [1.4, 2.1, 1.7],\n",
       "       [1.3, 1.7, 1.6]])"
      ]
     },
     "execution_count": 18,
     "metadata": {},
     "output_type": "execute_result"
    }
   ],
   "source": [
    "np.dot(Z,Z.T)"
   ]
  },
  {
   "cell_type": "markdown",
   "metadata": {},
   "source": [
    "<font color=darkblue>Норма (длина вектора)</font>\n",
    "$$\n",
    "\\left| x \\right| = \\sqrt{\\langle x, x \\rangle} = \\sqrt{\\sum_{i=1}^n x_{i}^2} =  \\left\\Vert x \\right\\Vert_{2}.\n",
    "$$"
   ]
  },
  {
   "cell_type": "code",
   "execution_count": 19,
   "metadata": {},
   "outputs": [
    {
     "data": {
      "text/plain": [
       "1.0965791287271116"
      ]
     },
     "execution_count": 19,
     "metadata": {},
     "output_type": "execute_result"
    }
   ],
   "source": [
    "np.linalg.norm(Z[0])"
   ]
  },
  {
   "cell_type": "markdown",
   "metadata": {},
   "source": [
    "<font color=darkblue>Косинус угла между векторами</font>\n",
    "$$\n",
    "\\langle x, y \\rangle = \\left| x \\right| | y | \\cos(\\alpha)\n",
    "\\implies \\cos(\\alpha) = \\frac{\\langle x, y \\rangle}{\\left| x \\right| | y |},\n",
    "$$"
   ]
  },
  {
   "cell_type": "code",
   "execution_count": 20,
   "metadata": {},
   "outputs": [
    {
     "name": "stdout",
     "output_type": "stream",
     "text": [
      "Косинус угла между a и b: 1.0\n",
      "Сам угол: 0.0\n"
     ]
    }
   ],
   "source": [
    "V1,V2=Z[0],Z[0]\n",
    "cos_angle = np.dot(V1, V2) / np.linalg.norm(V1) / np.linalg.norm(V2)\n",
    "print('Косинус угла между a и b:', cos_angle)\n",
    "print('Сам угол:', np.arccos(cos_angle))"
   ]
  },
  {
   "cell_type": "code",
   "execution_count": 21,
   "metadata": {},
   "outputs": [
    {
     "name": "stdout",
     "output_type": "stream",
     "text": [
      "Косинус угла между a и b: 0.8812714222843292\n",
      "Сам угол: 0.4922506253922203\n"
     ]
    }
   ],
   "source": [
    "V1,V2=Z[0],Z[1]\n",
    "cos_angle = np.dot(V1, V2) / np.linalg.norm(V1) / np.linalg.norm(V2)\n",
    "print('Косинус угла между a и b:', cos_angle)\n",
    "print('Сам угол:', np.arccos(cos_angle))"
   ]
  },
  {
   "cell_type": "markdown",
   "metadata": {},
   "source": [
    "### 4) Визуализация matplotlib"
   ]
  },
  {
   "cell_type": "markdown",
   "metadata": {},
   "source": [
    "<font color=darkblue>подключение библиотеки "
   ]
  },
  {
   "cell_type": "code",
   "execution_count": 22,
   "metadata": {},
   "outputs": [],
   "source": [
    "%matplotlib inline\n",
    "from matplotlib import pylab as plt"
   ]
  },
  {
   "cell_type": "code",
   "execution_count": 23,
   "metadata": {},
   "outputs": [],
   "source": [
    "x=np.linspace(-10,10,150)"
   ]
  },
  {
   "cell_type": "code",
   "execution_count": 24,
   "metadata": {},
   "outputs": [],
   "source": [
    "y=np.sin(x)/x"
   ]
  },
  {
   "cell_type": "markdown",
   "metadata": {},
   "source": [
    "<font color=darkblue>График (x, y)"
   ]
  },
  {
   "cell_type": "code",
   "execution_count": 25,
   "metadata": {
    "scrolled": true
   },
   "outputs": [
    {
     "data": {
      "text/plain": [
       "[<matplotlib.lines.Line2D at 0x118fa22b0>]"
      ]
     },
     "execution_count": 25,
     "metadata": {},
     "output_type": "execute_result"
    },
    {
     "data": {
      "image/png": "[encoded data removed]",
      "text/plain": [
       "<Figure size 432x288 with 1 Axes>"
      ]
     },
     "metadata": {},
     "output_type": "display_data"
    }
   ],
   "source": [
    "plt.plot(x,y)"
   ]
  },
  {
   "cell_type": "markdown",
   "metadata": {},
   "source": [
    "<font color=darkblue>график с разметкой "
   ]
  },
  {
   "cell_type": "code",
   "execution_count": 26,
   "metadata": {
    "scrolled": false
   },
   "outputs": [
    {
     "name": "stderr",
     "output_type": "stream",
     "text": [
      "/Users/alexanderkulikov/anaconda3/lib/python3.6/site-packages/ipykernel_launcher.py:2: RuntimeWarning: invalid value encountered in true_divide\n",
      "  \n"
     ]
    },
    {
     "data": {
      "text/plain": [
       "[<matplotlib.lines.Line2D at 0x1106f6a58>,\n",
       " <matplotlib.lines.Line2D at 0x1106f6cc0>]"
      ]
     },
     "execution_count": 26,
     "metadata": {},
     "output_type": "execute_result"
    },
    {
     "data": {
      "image/png": "[encoded data removed]",
      "text/plain": [
       "<Figure size 432x288 with 1 Axes>"
      ]
     },
     "metadata": {},
     "output_type": "display_data"
    }
   ],
   "source": [
    "xnew = np.linspace(-10,10,21)\n",
    "ynew=np.sin(xnew)/xnew\n",
    "plt.plot(x,y,'',xnew,ynew,'o')"
   ]
  },
  {
   "cell_type": "markdown",
   "metadata": {},
   "source": [
    "<font color=darkblue>Случайные точки"
   ]
  },
  {
   "cell_type": "code",
   "execution_count": 27,
   "metadata": {
    "scrolled": false
   },
   "outputs": [
    {
     "data": {
      "text/plain": [
       "<matplotlib.collections.PathCollection at 0x1107a1d68>"
      ]
     },
     "execution_count": 27,
     "metadata": {},
     "output_type": "execute_result"
    },
    {
     "data": {
      "image/png": "[encoded data removed]",
      "text/plain": [
       "<Figure size 432x288 with 1 Axes>"
      ]
     },
     "metadata": {},
     "output_type": "display_data"
    }
   ],
   "source": [
    "y=np.random.RandomState(24).rand( len(x) )*2-1\n",
    "plt.scatter(x, y )"
   ]
  },
  {
   "cell_type": "markdown",
   "metadata": {},
   "source": [
    "<font color=darkblue>Можно сложить случайные величины "
   ]
  },
  {
   "cell_type": "code",
   "execution_count": 28,
   "metadata": {},
   "outputs": [
    {
     "data": {
      "text/plain": [
       "<matplotlib.collections.PathCollection at 0x11265d630>"
      ]
     },
     "execution_count": 28,
     "metadata": {},
     "output_type": "execute_result"
    },
    {
     "data": {
      "image/png": "[encoded data removed]",
      "text/plain": [
       "<Figure size 432x288 with 1 Axes>"
      ]
     },
     "metadata": {},
     "output_type": "display_data"
    }
   ],
   "source": [
    "plt.scatter(x, y.cumsum() )"
   ]
  },
  {
   "cell_type": "markdown",
   "metadata": {},
   "source": [
    "### 5) Pandas"
   ]
  },
  {
   "cell_type": "markdown",
   "metadata": {},
   "source": [
    "<font color=darkblue>подключение библиотеки "
   ]
  },
  {
   "cell_type": "code",
   "execution_count": 29,
   "metadata": {},
   "outputs": [],
   "source": [
    "import pandas as pd"
   ]
  },
  {
   "cell_type": "markdown",
   "metadata": {},
   "source": [
    "<font color=darkblue>Загрузка данных из файла"
   ]
  },
  {
   "cell_type": "code",
   "execution_count": 74,
   "metadata": {},
   "outputs": [],
   "source": [
    "df = pd.read_csv(u'../data/auto.ru_data.csv')"
   ]
  },
  {
   "cell_type": "markdown",
   "metadata": {},
   "source": [
    "<font color=darkblue>размерность dataframe"
   ]
  },
  {
   "cell_type": "code",
   "execution_count": 75,
   "metadata": {},
   "outputs": [
    {
     "data": {
      "text/plain": [
       "(20237, 23)"
      ]
     },
     "execution_count": 75,
     "metadata": {},
     "output_type": "execute_result"
    }
   ],
   "source": [
    "df.shape"
   ]
  },
  {
   "cell_type": "markdown",
   "metadata": {},
   "source": [
    "<font color=darkblue>Первые записи"
   ]
  },
  {
   "cell_type": "code",
   "execution_count": 76,
   "metadata": {
    "scrolled": true
   },
   "outputs": [
    {
     "data": {
      "text/html": [
       "<div>\n",
       "<style scoped>\n",
       "    .dataframe tbody tr th:only-of-type {\n",
       "        vertical-align: middle;\n",
       "    }\n",
       "\n",
       "    .dataframe tbody tr th {\n",
       "        vertical-align: top;\n",
       "    }\n",
       "\n",
       "    .dataframe thead th {\n",
       "        text-align: right;\n",
       "    }\n",
       "</style>\n",
       "<table border=\"1\" class=\"dataframe\">\n",
       "  <thead>\n",
       "    <tr style=\"text-align: right;\">\n",
       "      <th></th>\n",
       "      <th>Год выпуска</th>\n",
       "      <th>КПП</th>\n",
       "      <th>Привод</th>\n",
       "      <th>Пробег</th>\n",
       "      <th>Тип кузова</th>\n",
       "      <th>Состояние</th>\n",
       "      <th>Срок владения</th>\n",
       "      <th>Цвет</th>\n",
       "      <th>Руль</th>\n",
       "      <th>Владельцы</th>\n",
       "      <th>...</th>\n",
       "      <th>Модель</th>\n",
       "      <th>Город</th>\n",
       "      <th>Объем двигателя</th>\n",
       "      <th>Мощность двигателя</th>\n",
       "      <th>Двигатель</th>\n",
       "      <th>Цена</th>\n",
       "      <th>Дата</th>\n",
       "      <th>Количество дней</th>\n",
       "      <th>Просмотров всего</th>\n",
       "      <th>Просмотров в день</th>\n",
       "    </tr>\n",
       "  </thead>\n",
       "  <tbody>\n",
       "    <tr>\n",
       "      <th>0</th>\n",
       "      <td>2012.0</td>\n",
       "      <td>механическая</td>\n",
       "      <td>передний</td>\n",
       "      <td>141000.0</td>\n",
       "      <td>внедорожник 5 дв.</td>\n",
       "      <td>Не требует ремонта</td>\n",
       "      <td>NaN</td>\n",
       "      <td>белый</td>\n",
       "      <td>Левый</td>\n",
       "      <td>2 владельца</td>\n",
       "      <td>...</td>\n",
       "      <td>ix35 I</td>\n",
       "      <td>Воронеж</td>\n",
       "      <td>2.0</td>\n",
       "      <td>150.0</td>\n",
       "      <td>Бензин</td>\n",
       "      <td>790000</td>\n",
       "      <td>2018-06-25</td>\n",
       "      <td>60</td>\n",
       "      <td>387.0</td>\n",
       "      <td>6.450000</td>\n",
       "    </tr>\n",
       "    <tr>\n",
       "      <th>1</th>\n",
       "      <td>2014.0</td>\n",
       "      <td>автоматическая</td>\n",
       "      <td>полный</td>\n",
       "      <td>80189.0</td>\n",
       "      <td>внедорожник 5 дв.</td>\n",
       "      <td>Не требует ремонта</td>\n",
       "      <td>NaN</td>\n",
       "      <td>белый</td>\n",
       "      <td>Левый</td>\n",
       "      <td>3 или более</td>\n",
       "      <td>...</td>\n",
       "      <td>X1 I (E84) Рестайлинг 20d</td>\n",
       "      <td>Москва</td>\n",
       "      <td>2.0</td>\n",
       "      <td>184.0</td>\n",
       "      <td>Дизель</td>\n",
       "      <td>1368000</td>\n",
       "      <td>2018-06-25</td>\n",
       "      <td>60</td>\n",
       "      <td>657.0</td>\n",
       "      <td>10.950000</td>\n",
       "    </tr>\n",
       "    <tr>\n",
       "      <th>2</th>\n",
       "      <td>2010.0</td>\n",
       "      <td>механическая</td>\n",
       "      <td>передний</td>\n",
       "      <td>143000.0</td>\n",
       "      <td>седан</td>\n",
       "      <td>Не требует ремонта</td>\n",
       "      <td>NaN</td>\n",
       "      <td>бежевый</td>\n",
       "      <td>Левый</td>\n",
       "      <td>3 или более</td>\n",
       "      <td>...</td>\n",
       "      <td>Logan I Рестайлинг</td>\n",
       "      <td>Воронеж</td>\n",
       "      <td>1.4</td>\n",
       "      <td>75.0</td>\n",
       "      <td>Бензин</td>\n",
       "      <td>320000</td>\n",
       "      <td>2018-06-25</td>\n",
       "      <td>60</td>\n",
       "      <td>470.0</td>\n",
       "      <td>7.833333</td>\n",
       "    </tr>\n",
       "    <tr>\n",
       "      <th>3</th>\n",
       "      <td>2009.0</td>\n",
       "      <td>механическая</td>\n",
       "      <td>передний</td>\n",
       "      <td>126000.0</td>\n",
       "      <td>седан</td>\n",
       "      <td>Не требует ремонта</td>\n",
       "      <td>NaN</td>\n",
       "      <td>жёлтый</td>\n",
       "      <td>Левый</td>\n",
       "      <td>3 или более</td>\n",
       "      <td>...</td>\n",
       "      <td>Nexia I Рестайлинг</td>\n",
       "      <td>Россошь</td>\n",
       "      <td>1.5</td>\n",
       "      <td>80.0</td>\n",
       "      <td>Бензин</td>\n",
       "      <td>150000</td>\n",
       "      <td>2018-06-25</td>\n",
       "      <td>60</td>\n",
       "      <td>438.0</td>\n",
       "      <td>7.300000</td>\n",
       "    </tr>\n",
       "    <tr>\n",
       "      <th>4</th>\n",
       "      <td>2011.0</td>\n",
       "      <td>механическая</td>\n",
       "      <td>передний</td>\n",
       "      <td>159000.0</td>\n",
       "      <td>хэтчбек 5 дв.</td>\n",
       "      <td>Не требует ремонта</td>\n",
       "      <td>NaN</td>\n",
       "      <td>красный</td>\n",
       "      <td>Левый</td>\n",
       "      <td>3 или более</td>\n",
       "      <td>...</td>\n",
       "      <td>C4 II</td>\n",
       "      <td>Воронеж</td>\n",
       "      <td>1.6</td>\n",
       "      <td>120.0</td>\n",
       "      <td>Бензин</td>\n",
       "      <td>410000</td>\n",
       "      <td>2018-06-25</td>\n",
       "      <td>60</td>\n",
       "      <td>442.0</td>\n",
       "      <td>7.366667</td>\n",
       "    </tr>\n",
       "  </tbody>\n",
       "</table>\n",
       "<p>5 rows × 23 columns</p>\n",
       "</div>"
      ],
      "text/plain": [
       "   Год выпуска             КПП    Привод    Пробег         Тип кузова  \\\n",
       "0       2012.0    механическая  передний  141000.0  внедорожник 5 дв.   \n",
       "1       2014.0  автоматическая    полный   80189.0  внедорожник 5 дв.   \n",
       "2       2010.0    механическая  передний  143000.0              седан   \n",
       "3       2009.0    механическая  передний  126000.0              седан   \n",
       "4       2011.0    механическая  передний  159000.0      хэтчбек 5 дв.   \n",
       "\n",
       "            Состояние Срок владения     Цвет   Руль    Владельцы  \\\n",
       "0  Не требует ремонта           NaN    белый  Левый  2 владельца   \n",
       "1  Не требует ремонта           NaN    белый  Левый  3 или более   \n",
       "2  Не требует ремонта           NaN  бежевый  Левый  3 или более   \n",
       "3  Не требует ремонта           NaN   жёлтый  Левый  3 или более   \n",
       "4  Не требует ремонта           NaN  красный  Левый  3 или более   \n",
       "\n",
       "         ...                            Модель    Город Объем двигателя  \\\n",
       "0        ...                            ix35 I  Воронеж             2.0   \n",
       "1        ...         X1 I (E84) Рестайлинг 20d   Москва             2.0   \n",
       "2        ...                Logan I Рестайлинг  Воронеж             1.4   \n",
       "3        ...                Nexia I Рестайлинг  Россошь             1.5   \n",
       "4        ...                             C4 II  Воронеж             1.6   \n",
       "\n",
       "  Мощность двигателя Двигатель     Цена        Дата Количество дней  \\\n",
       "0              150.0    Бензин   790000  2018-06-25              60   \n",
       "1              184.0    Дизель  1368000  2018-06-25              60   \n",
       "2               75.0    Бензин   320000  2018-06-25              60   \n",
       "3               80.0    Бензин   150000  2018-06-25              60   \n",
       "4              120.0    Бензин   410000  2018-06-25              60   \n",
       "\n",
       "   Просмотров всего Просмотров в день  \n",
       "0             387.0          6.450000  \n",
       "1             657.0         10.950000  \n",
       "2             470.0          7.833333  \n",
       "3             438.0          7.300000  \n",
       "4             442.0          7.366667  \n",
       "\n",
       "[5 rows x 23 columns]"
      ]
     },
     "execution_count": 76,
     "metadata": {},
     "output_type": "execute_result"
    }
   ],
   "source": [
    "df.head()"
   ]
  },
  {
   "cell_type": "markdown",
   "metadata": {},
   "source": [
    "<font color=darkblue>последние записи"
   ]
  },
  {
   "cell_type": "code",
   "execution_count": 77,
   "metadata": {
    "scrolled": true
   },
   "outputs": [
    {
     "data": {
      "text/html": [
       "<div>\n",
       "<style scoped>\n",
       "    .dataframe tbody tr th:only-of-type {\n",
       "        vertical-align: middle;\n",
       "    }\n",
       "\n",
       "    .dataframe tbody tr th {\n",
       "        vertical-align: top;\n",
       "    }\n",
       "\n",
       "    .dataframe thead th {\n",
       "        text-align: right;\n",
       "    }\n",
       "</style>\n",
       "<table border=\"1\" class=\"dataframe\">\n",
       "  <thead>\n",
       "    <tr style=\"text-align: right;\">\n",
       "      <th></th>\n",
       "      <th>Год выпуска</th>\n",
       "      <th>КПП</th>\n",
       "      <th>Привод</th>\n",
       "      <th>Пробег</th>\n",
       "      <th>Тип кузова</th>\n",
       "      <th>Состояние</th>\n",
       "      <th>Срок владения</th>\n",
       "      <th>Цвет</th>\n",
       "      <th>Руль</th>\n",
       "      <th>Владельцы</th>\n",
       "      <th>...</th>\n",
       "      <th>Модель</th>\n",
       "      <th>Город</th>\n",
       "      <th>Объем двигателя</th>\n",
       "      <th>Мощность двигателя</th>\n",
       "      <th>Двигатель</th>\n",
       "      <th>Цена</th>\n",
       "      <th>Дата</th>\n",
       "      <th>Количество дней</th>\n",
       "      <th>Просмотров всего</th>\n",
       "      <th>Просмотров в день</th>\n",
       "    </tr>\n",
       "  </thead>\n",
       "  <tbody>\n",
       "    <tr>\n",
       "      <th>0</th>\n",
       "      <td>2012.0</td>\n",
       "      <td>механическая</td>\n",
       "      <td>передний</td>\n",
       "      <td>141000.0</td>\n",
       "      <td>внедорожник 5 дв.</td>\n",
       "      <td>Не требует ремонта</td>\n",
       "      <td>NaN</td>\n",
       "      <td>белый</td>\n",
       "      <td>Левый</td>\n",
       "      <td>2 владельца</td>\n",
       "      <td>...</td>\n",
       "      <td>ix35 I</td>\n",
       "      <td>Воронеж</td>\n",
       "      <td>2.0</td>\n",
       "      <td>150.0</td>\n",
       "      <td>Бензин</td>\n",
       "      <td>790000</td>\n",
       "      <td>2018-06-25</td>\n",
       "      <td>60</td>\n",
       "      <td>387.0</td>\n",
       "      <td>6.450000</td>\n",
       "    </tr>\n",
       "    <tr>\n",
       "      <th>1</th>\n",
       "      <td>2014.0</td>\n",
       "      <td>автоматическая</td>\n",
       "      <td>полный</td>\n",
       "      <td>80189.0</td>\n",
       "      <td>внедорожник 5 дв.</td>\n",
       "      <td>Не требует ремонта</td>\n",
       "      <td>NaN</td>\n",
       "      <td>белый</td>\n",
       "      <td>Левый</td>\n",
       "      <td>3 или более</td>\n",
       "      <td>...</td>\n",
       "      <td>X1 I (E84) Рестайлинг 20d</td>\n",
       "      <td>Москва</td>\n",
       "      <td>2.0</td>\n",
       "      <td>184.0</td>\n",
       "      <td>Дизель</td>\n",
       "      <td>1368000</td>\n",
       "      <td>2018-06-25</td>\n",
       "      <td>60</td>\n",
       "      <td>657.0</td>\n",
       "      <td>10.950000</td>\n",
       "    </tr>\n",
       "    <tr>\n",
       "      <th>2</th>\n",
       "      <td>2010.0</td>\n",
       "      <td>механическая</td>\n",
       "      <td>передний</td>\n",
       "      <td>143000.0</td>\n",
       "      <td>седан</td>\n",
       "      <td>Не требует ремонта</td>\n",
       "      <td>NaN</td>\n",
       "      <td>бежевый</td>\n",
       "      <td>Левый</td>\n",
       "      <td>3 или более</td>\n",
       "      <td>...</td>\n",
       "      <td>Logan I Рестайлинг</td>\n",
       "      <td>Воронеж</td>\n",
       "      <td>1.4</td>\n",
       "      <td>75.0</td>\n",
       "      <td>Бензин</td>\n",
       "      <td>320000</td>\n",
       "      <td>2018-06-25</td>\n",
       "      <td>60</td>\n",
       "      <td>470.0</td>\n",
       "      <td>7.833333</td>\n",
       "    </tr>\n",
       "    <tr>\n",
       "      <th>3</th>\n",
       "      <td>2009.0</td>\n",
       "      <td>механическая</td>\n",
       "      <td>передний</td>\n",
       "      <td>126000.0</td>\n",
       "      <td>седан</td>\n",
       "      <td>Не требует ремонта</td>\n",
       "      <td>NaN</td>\n",
       "      <td>жёлтый</td>\n",
       "      <td>Левый</td>\n",
       "      <td>3 или более</td>\n",
       "      <td>...</td>\n",
       "      <td>Nexia I Рестайлинг</td>\n",
       "      <td>Россошь</td>\n",
       "      <td>1.5</td>\n",
       "      <td>80.0</td>\n",
       "      <td>Бензин</td>\n",
       "      <td>150000</td>\n",
       "      <td>2018-06-25</td>\n",
       "      <td>60</td>\n",
       "      <td>438.0</td>\n",
       "      <td>7.300000</td>\n",
       "    </tr>\n",
       "    <tr>\n",
       "      <th>4</th>\n",
       "      <td>2011.0</td>\n",
       "      <td>механическая</td>\n",
       "      <td>передний</td>\n",
       "      <td>159000.0</td>\n",
       "      <td>хэтчбек 5 дв.</td>\n",
       "      <td>Не требует ремонта</td>\n",
       "      <td>NaN</td>\n",
       "      <td>красный</td>\n",
       "      <td>Левый</td>\n",
       "      <td>3 или более</td>\n",
       "      <td>...</td>\n",
       "      <td>C4 II</td>\n",
       "      <td>Воронеж</td>\n",
       "      <td>1.6</td>\n",
       "      <td>120.0</td>\n",
       "      <td>Бензин</td>\n",
       "      <td>410000</td>\n",
       "      <td>2018-06-25</td>\n",
       "      <td>60</td>\n",
       "      <td>442.0</td>\n",
       "      <td>7.366667</td>\n",
       "    </tr>\n",
       "  </tbody>\n",
       "</table>\n",
       "<p>5 rows × 23 columns</p>\n",
       "</div>"
      ],
      "text/plain": [
       "   Год выпуска             КПП    Привод    Пробег         Тип кузова  \\\n",
       "0       2012.0    механическая  передний  141000.0  внедорожник 5 дв.   \n",
       "1       2014.0  автоматическая    полный   80189.0  внедорожник 5 дв.   \n",
       "2       2010.0    механическая  передний  143000.0              седан   \n",
       "3       2009.0    механическая  передний  126000.0              седан   \n",
       "4       2011.0    механическая  передний  159000.0      хэтчбек 5 дв.   \n",
       "\n",
       "            Состояние Срок владения     Цвет   Руль    Владельцы  \\\n",
       "0  Не требует ремонта           NaN    белый  Левый  2 владельца   \n",
       "1  Не требует ремонта           NaN    белый  Левый  3 или более   \n",
       "2  Не требует ремонта           NaN  бежевый  Левый  3 или более   \n",
       "3  Не требует ремонта           NaN   жёлтый  Левый  3 или более   \n",
       "4  Не требует ремонта           NaN  красный  Левый  3 или более   \n",
       "\n",
       "         ...                            Модель    Город Объем двигателя  \\\n",
       "0        ...                            ix35 I  Воронеж             2.0   \n",
       "1        ...         X1 I (E84) Рестайлинг 20d   Москва             2.0   \n",
       "2        ...                Logan I Рестайлинг  Воронеж             1.4   \n",
       "3        ...                Nexia I Рестайлинг  Россошь             1.5   \n",
       "4        ...                             C4 II  Воронеж             1.6   \n",
       "\n",
       "  Мощность двигателя Двигатель     Цена        Дата Количество дней  \\\n",
       "0              150.0    Бензин   790000  2018-06-25              60   \n",
       "1              184.0    Дизель  1368000  2018-06-25              60   \n",
       "2               75.0    Бензин   320000  2018-06-25              60   \n",
       "3               80.0    Бензин   150000  2018-06-25              60   \n",
       "4              120.0    Бензин   410000  2018-06-25              60   \n",
       "\n",
       "   Просмотров всего Просмотров в день  \n",
       "0             387.0          6.450000  \n",
       "1             657.0         10.950000  \n",
       "2             470.0          7.833333  \n",
       "3             438.0          7.300000  \n",
       "4             442.0          7.366667  \n",
       "\n",
       "[5 rows x 23 columns]"
      ]
     },
     "execution_count": 77,
     "metadata": {},
     "output_type": "execute_result"
    }
   ],
   "source": [
    "df[:5]"
   ]
  },
  {
   "cell_type": "markdown",
   "metadata": {},
   "source": [
    "<font color=darkblue>список колонок"
   ]
  },
  {
   "cell_type": "code",
   "execution_count": 78,
   "metadata": {},
   "outputs": [
    {
     "data": {
      "text/plain": [
       "Index(['Год выпуска', 'КПП', 'Привод', 'Пробег', 'Тип кузова', 'Состояние',\n",
       "       'Срок владения', 'Цвет', 'Руль', 'Владельцы', 'ПТС', 'Комментарий',\n",
       "       'Марка', 'Модель', 'Город', 'Объем двигателя', 'Мощность двигателя',\n",
       "       'Двигатель', 'Цена', 'Дата', 'Количество дней', 'Просмотров всего',\n",
       "       'Просмотров в день'],\n",
       "      dtype='object')"
      ]
     },
     "execution_count": 78,
     "metadata": {},
     "output_type": "execute_result"
    }
   ],
   "source": [
    "df.columns"
   ]
  },
  {
   "cell_type": "markdown",
   "metadata": {},
   "source": [
    "<font color=darkblue>удаление колонок"
   ]
  },
  {
   "cell_type": "code",
   "execution_count": 79,
   "metadata": {},
   "outputs": [],
   "source": [
    "df=df.drop(columns=['Дата', 'Количество дней', 'Просмотров всего']) "
   ]
  },
  {
   "cell_type": "markdown",
   "metadata": {},
   "source": [
    "<font color=darkblue>статистика по вещественным колонкам "
   ]
  },
  {
   "cell_type": "code",
   "execution_count": 80,
   "metadata": {
    "scrolled": true
   },
   "outputs": [
    {
     "data": {
      "text/html": [
       "<div>\n",
       "<style scoped>\n",
       "    .dataframe tbody tr th:only-of-type {\n",
       "        vertical-align: middle;\n",
       "    }\n",
       "\n",
       "    .dataframe tbody tr th {\n",
       "        vertical-align: top;\n",
       "    }\n",
       "\n",
       "    .dataframe thead th {\n",
       "        text-align: right;\n",
       "    }\n",
       "</style>\n",
       "<table border=\"1\" class=\"dataframe\">\n",
       "  <thead>\n",
       "    <tr style=\"text-align: right;\">\n",
       "      <th></th>\n",
       "      <th>Год выпуска</th>\n",
       "      <th>Пробег</th>\n",
       "      <th>Объем двигателя</th>\n",
       "      <th>Мощность двигателя</th>\n",
       "      <th>Цена</th>\n",
       "      <th>Просмотров в день</th>\n",
       "    </tr>\n",
       "  </thead>\n",
       "  <tbody>\n",
       "    <tr>\n",
       "      <th>count</th>\n",
       "      <td>14739.000000</td>\n",
       "      <td>14739.000000</td>\n",
       "      <td>14738.000000</td>\n",
       "      <td>14738.000000</td>\n",
       "      <td>2.023700e+04</td>\n",
       "      <td>14738.000000</td>\n",
       "    </tr>\n",
       "    <tr>\n",
       "      <th>mean</th>\n",
       "      <td>2009.283262</td>\n",
       "      <td>120236.893887</td>\n",
       "      <td>2.041213</td>\n",
       "      <td>147.366807</td>\n",
       "      <td>1.104596e+06</td>\n",
       "      <td>20.484696</td>\n",
       "    </tr>\n",
       "    <tr>\n",
       "      <th>std</th>\n",
       "      <td>5.747305</td>\n",
       "      <td>77274.606665</td>\n",
       "      <td>0.779978</td>\n",
       "      <td>70.780555</td>\n",
       "      <td>4.807903e+06</td>\n",
       "      <td>22.772318</td>\n",
       "    </tr>\n",
       "    <tr>\n",
       "      <th>min</th>\n",
       "      <td>1951.000000</td>\n",
       "      <td>1.000000</td>\n",
       "      <td>0.600000</td>\n",
       "      <td>23.000000</td>\n",
       "      <td>1.000000e+04</td>\n",
       "      <td>0.111111</td>\n",
       "    </tr>\n",
       "    <tr>\n",
       "      <th>25%</th>\n",
       "      <td>2007.000000</td>\n",
       "      <td>70000.000000</td>\n",
       "      <td>1.600000</td>\n",
       "      <td>102.000000</td>\n",
       "      <td>3.700000e+05</td>\n",
       "      <td>8.700000</td>\n",
       "    </tr>\n",
       "    <tr>\n",
       "      <th>50%</th>\n",
       "      <td>2011.000000</td>\n",
       "      <td>108519.000000</td>\n",
       "      <td>1.800000</td>\n",
       "      <td>130.000000</td>\n",
       "      <td>6.599000e+05</td>\n",
       "      <td>14.400000</td>\n",
       "    </tr>\n",
       "    <tr>\n",
       "      <th>75%</th>\n",
       "      <td>2013.000000</td>\n",
       "      <td>158000.000000</td>\n",
       "      <td>2.300000</td>\n",
       "      <td>170.000000</td>\n",
       "      <td>1.249999e+06</td>\n",
       "      <td>24.132895</td>\n",
       "    </tr>\n",
       "    <tr>\n",
       "      <th>max</th>\n",
       "      <td>2018.000000</td>\n",
       "      <td>1000000.000000</td>\n",
       "      <td>6.600000</td>\n",
       "      <td>612.000000</td>\n",
       "      <td>6.612990e+08</td>\n",
       "      <td>512.015873</td>\n",
       "    </tr>\n",
       "  </tbody>\n",
       "</table>\n",
       "</div>"
      ],
      "text/plain": [
       "        Год выпуска          Пробег  Объем двигателя  Мощность двигателя  \\\n",
       "count  14739.000000    14739.000000     14738.000000        14738.000000   \n",
       "mean    2009.283262   120236.893887         2.041213          147.366807   \n",
       "std        5.747305    77274.606665         0.779978           70.780555   \n",
       "min     1951.000000        1.000000         0.600000           23.000000   \n",
       "25%     2007.000000    70000.000000         1.600000          102.000000   \n",
       "50%     2011.000000   108519.000000         1.800000          130.000000   \n",
       "75%     2013.000000   158000.000000         2.300000          170.000000   \n",
       "max     2018.000000  1000000.000000         6.600000          612.000000   \n",
       "\n",
       "               Цена  Просмотров в день  \n",
       "count  2.023700e+04       14738.000000  \n",
       "mean   1.104596e+06          20.484696  \n",
       "std    4.807903e+06          22.772318  \n",
       "min    1.000000e+04           0.111111  \n",
       "25%    3.700000e+05           8.700000  \n",
       "50%    6.599000e+05          14.400000  \n",
       "75%    1.249999e+06          24.132895  \n",
       "max    6.612990e+08         512.015873  "
      ]
     },
     "execution_count": 80,
     "metadata": {},
     "output_type": "execute_result"
    }
   ],
   "source": [
    "df.describe()"
   ]
  },
  {
   "cell_type": "markdown",
   "metadata": {},
   "source": [
    "<font color=darkblue>создание новых колонок, вычисления без прохода по массиву"
   ]
  },
  {
   "cell_type": "code",
   "execution_count": 81,
   "metadata": {},
   "outputs": [],
   "source": [
    "df[\"Цена\"]=df[\"Цена\"]/1000\n",
    "df[\"Пробег в год\"] = df[\"Пробег\"]/( 2019 - df[\"Год выпуска\"] )"
   ]
  },
  {
   "cell_type": "markdown",
   "metadata": {},
   "source": [
    "<font color=darkblue>Топ 20 значений "
   ]
  },
  {
   "cell_type": "code",
   "execution_count": 84,
   "metadata": {},
   "outputs": [
    {
     "data": {
      "text/plain": [
       "LADA             2200\n",
       "Hyundai          1601\n",
       "Volkswagen       1505\n",
       "Toyota           1228\n",
       "Nissan           1216\n",
       "Kia              1102\n",
       "Mercedes-Benz    1043\n",
       "Ford             1015\n",
       "Renault           955\n",
       "BMW               919\n",
       "Skoda             720\n",
       "Mitsubishi        666\n",
       "Chevrolet         625\n",
       "Audi              625\n",
       "Opel              531\n",
       "Land Rover        491\n",
       "Mazda             443\n",
       "Honda             306\n",
       "Lexus             303\n",
       "Peugeot           294\n",
       "Name: Марка, dtype: int64"
      ]
     },
     "execution_count": 84,
     "metadata": {},
     "output_type": "execute_result"
    }
   ],
   "source": [
    "df[\"Марка\"].value_counts()[:20]"
   ]
  },
  {
   "cell_type": "code",
   "execution_count": 85,
   "metadata": {},
   "outputs": [
    {
     "data": {
      "text/plain": [
       "Index(['Год выпуска', 'КПП', 'Привод', 'Пробег', 'Тип кузова', 'Состояние',\n",
       "       'Срок владения', 'Цвет', 'Руль', 'Владельцы', 'ПТС', 'Комментарий',\n",
       "       'Марка', 'Модель', 'Город', 'Объем двигателя', 'Мощность двигателя',\n",
       "       'Двигатель', 'Цена', 'Просмотров в день', 'Пробег в год'],\n",
       "      dtype='object')"
      ]
     },
     "execution_count": 85,
     "metadata": {},
     "output_type": "execute_result"
    }
   ],
   "source": [
    "df.columns\n"
   ]
  },
  {
   "cell_type": "markdown",
   "metadata": {},
   "source": [
    "<font color=darkblue>Фильтрация данных"
   ]
  },
  {
   "cell_type": "code",
   "execution_count": 86,
   "metadata": {
    "scrolled": true
   },
   "outputs": [
    {
     "data": {
      "text/html": [
       "<div>\n",
       "<style scoped>\n",
       "    .dataframe tbody tr th:only-of-type {\n",
       "        vertical-align: middle;\n",
       "    }\n",
       "\n",
       "    .dataframe tbody tr th {\n",
       "        vertical-align: top;\n",
       "    }\n",
       "\n",
       "    .dataframe thead th {\n",
       "        text-align: right;\n",
       "    }\n",
       "</style>\n",
       "<table border=\"1\" class=\"dataframe\">\n",
       "  <thead>\n",
       "    <tr style=\"text-align: right;\">\n",
       "      <th></th>\n",
       "      <th>Год выпуска</th>\n",
       "      <th>КПП</th>\n",
       "      <th>Привод</th>\n",
       "      <th>Пробег</th>\n",
       "      <th>Тип кузова</th>\n",
       "      <th>Состояние</th>\n",
       "      <th>Срок владения</th>\n",
       "      <th>Цвет</th>\n",
       "      <th>Руль</th>\n",
       "      <th>Владельцы</th>\n",
       "      <th>...</th>\n",
       "      <th>Комментарий</th>\n",
       "      <th>Марка</th>\n",
       "      <th>Модель</th>\n",
       "      <th>Город</th>\n",
       "      <th>Объем двигателя</th>\n",
       "      <th>Мощность двигателя</th>\n",
       "      <th>Двигатель</th>\n",
       "      <th>Цена</th>\n",
       "      <th>Просмотров в день</th>\n",
       "      <th>Пробег в год</th>\n",
       "    </tr>\n",
       "  </thead>\n",
       "  <tbody>\n",
       "    <tr>\n",
       "      <th>2279</th>\n",
       "      <td>2013.0</td>\n",
       "      <td>механическая</td>\n",
       "      <td>передний</td>\n",
       "      <td>71.0</td>\n",
       "      <td>универсал 5 дв.</td>\n",
       "      <td>Не требует ремонта</td>\n",
       "      <td>1 год и 7 месяцев</td>\n",
       "      <td>синий</td>\n",
       "      <td>Левый</td>\n",
       "      <td>2 владельца</td>\n",
       "      <td>...</td>\n",
       "      <td>автомобиль в хорошем состоянии все работает ес...</td>\n",
       "      <td>LADA</td>\n",
       "      <td>(ВАЗ) Kalina I</td>\n",
       "      <td>Воронеж</td>\n",
       "      <td>1.6</td>\n",
       "      <td>81.0</td>\n",
       "      <td>Бензин</td>\n",
       "      <td>195.0</td>\n",
       "      <td>20.500000</td>\n",
       "      <td>11.833333</td>\n",
       "    </tr>\n",
       "    <tr>\n",
       "      <th>9432</th>\n",
       "      <td>2017.0</td>\n",
       "      <td>робот</td>\n",
       "      <td>передний</td>\n",
       "      <td>28.0</td>\n",
       "      <td>хэтчбек 5 дв.</td>\n",
       "      <td>Не требует ремонта</td>\n",
       "      <td>NaN</td>\n",
       "      <td>серебристый</td>\n",
       "      <td>Левый</td>\n",
       "      <td>NaN</td>\n",
       "      <td>...</td>\n",
       "      <td>Наши специалисты осмотрели кузов и салон, пров...</td>\n",
       "      <td>LADA</td>\n",
       "      <td>(ВАЗ) XRAY I</td>\n",
       "      <td>Краснодар</td>\n",
       "      <td>1.8</td>\n",
       "      <td>122.0</td>\n",
       "      <td>Бензин</td>\n",
       "      <td>593.2</td>\n",
       "      <td>10.454545</td>\n",
       "      <td>14.000000</td>\n",
       "    </tr>\n",
       "    <tr>\n",
       "      <th>12189</th>\n",
       "      <td>2017.0</td>\n",
       "      <td>механическая</td>\n",
       "      <td>передний</td>\n",
       "      <td>27.0</td>\n",
       "      <td>седан</td>\n",
       "      <td>Не требует ремонта</td>\n",
       "      <td>NaN</td>\n",
       "      <td>белый</td>\n",
       "      <td>Левый</td>\n",
       "      <td>NaN</td>\n",
       "      <td>...</td>\n",
       "      <td>Наши специалисты осмотрели кузов и салон, пров...</td>\n",
       "      <td>LADA</td>\n",
       "      <td>(ВАЗ) Granta</td>\n",
       "      <td>Тахтамукай</td>\n",
       "      <td>1.6</td>\n",
       "      <td>106.0</td>\n",
       "      <td>Бензин</td>\n",
       "      <td>543.4</td>\n",
       "      <td>1.900000</td>\n",
       "      <td>13.500000</td>\n",
       "    </tr>\n",
       "    <tr>\n",
       "      <th>12213</th>\n",
       "      <td>2016.0</td>\n",
       "      <td>механическая</td>\n",
       "      <td>передний</td>\n",
       "      <td>40.0</td>\n",
       "      <td>седан</td>\n",
       "      <td>Не требует ремонта</td>\n",
       "      <td>NaN</td>\n",
       "      <td>белый</td>\n",
       "      <td>Левый</td>\n",
       "      <td>NaN</td>\n",
       "      <td>...</td>\n",
       "      <td>Наши специалисты осмотрели кузов и салон, пров...</td>\n",
       "      <td>LADA</td>\n",
       "      <td>(ВАЗ) Granta</td>\n",
       "      <td>Новороссийск</td>\n",
       "      <td>1.6</td>\n",
       "      <td>106.0</td>\n",
       "      <td>Бензин</td>\n",
       "      <td>532.5</td>\n",
       "      <td>2.700000</td>\n",
       "      <td>13.333333</td>\n",
       "    </tr>\n",
       "    <tr>\n",
       "      <th>12229</th>\n",
       "      <td>2012.0</td>\n",
       "      <td>механическая</td>\n",
       "      <td>полный</td>\n",
       "      <td>85.0</td>\n",
       "      <td>внедорожник 3 дв.</td>\n",
       "      <td>Не требует ремонта</td>\n",
       "      <td>NaN</td>\n",
       "      <td>зелёный</td>\n",
       "      <td>Левый</td>\n",
       "      <td>NaN</td>\n",
       "      <td>...</td>\n",
       "      <td>Наши специалисты осмотрели кузов и салон, пров...</td>\n",
       "      <td>LADA</td>\n",
       "      <td>(ВАЗ) 2121 (4x4) Рысь</td>\n",
       "      <td>Краснодар</td>\n",
       "      <td>1.7</td>\n",
       "      <td>83.0</td>\n",
       "      <td>Бензин</td>\n",
       "      <td>210.1</td>\n",
       "      <td>11.200000</td>\n",
       "      <td>12.142857</td>\n",
       "    </tr>\n",
       "    <tr>\n",
       "      <th>12230</th>\n",
       "      <td>2016.0</td>\n",
       "      <td>механическая</td>\n",
       "      <td>полный</td>\n",
       "      <td>1.0</td>\n",
       "      <td>внедорожник 3 дв.</td>\n",
       "      <td>Не требует ремонта</td>\n",
       "      <td>NaN</td>\n",
       "      <td>белый</td>\n",
       "      <td>Левый</td>\n",
       "      <td>NaN</td>\n",
       "      <td>...</td>\n",
       "      <td>Наши специалисты осмотрели кузов и салон, пров...</td>\n",
       "      <td>LADA</td>\n",
       "      <td>(ВАЗ) 2121 (4x4) Рысь</td>\n",
       "      <td>Краснодар</td>\n",
       "      <td>1.7</td>\n",
       "      <td>83.0</td>\n",
       "      <td>Бензин</td>\n",
       "      <td>422.3</td>\n",
       "      <td>4.900000</td>\n",
       "      <td>0.333333</td>\n",
       "    </tr>\n",
       "    <tr>\n",
       "      <th>12232</th>\n",
       "      <td>2017.0</td>\n",
       "      <td>робот</td>\n",
       "      <td>передний</td>\n",
       "      <td>20.0</td>\n",
       "      <td>седан</td>\n",
       "      <td>Не требует ремонта</td>\n",
       "      <td>NaN</td>\n",
       "      <td>чёрный</td>\n",
       "      <td>Левый</td>\n",
       "      <td>NaN</td>\n",
       "      <td>...</td>\n",
       "      <td>Наши специалисты осмотрели кузов и салон, пров...</td>\n",
       "      <td>LADA</td>\n",
       "      <td>(ВАЗ) Vesta I</td>\n",
       "      <td>Новороссийск</td>\n",
       "      <td>1.8</td>\n",
       "      <td>122.0</td>\n",
       "      <td>Бензин</td>\n",
       "      <td>665.7</td>\n",
       "      <td>2.300000</td>\n",
       "      <td>10.000000</td>\n",
       "    </tr>\n",
       "    <tr>\n",
       "      <th>12901</th>\n",
       "      <td>2015.0</td>\n",
       "      <td>робот</td>\n",
       "      <td>передний</td>\n",
       "      <td>96.0</td>\n",
       "      <td>седан</td>\n",
       "      <td>Не требует ремонта</td>\n",
       "      <td>NaN</td>\n",
       "      <td>белый</td>\n",
       "      <td>Левый</td>\n",
       "      <td>NaN</td>\n",
       "      <td>...</td>\n",
       "      <td>Наши специалисты осмотрели кузов и салон, пров...</td>\n",
       "      <td>LADA</td>\n",
       "      <td>(ВАЗ) Granta</td>\n",
       "      <td>Тахтамукай</td>\n",
       "      <td>1.6</td>\n",
       "      <td>106.0</td>\n",
       "      <td>Бензин</td>\n",
       "      <td>379.5</td>\n",
       "      <td>9.615385</td>\n",
       "      <td>24.000000</td>\n",
       "    </tr>\n",
       "    <tr>\n",
       "      <th>12941</th>\n",
       "      <td>2011.0</td>\n",
       "      <td>механическая</td>\n",
       "      <td>полный</td>\n",
       "      <td>118.0</td>\n",
       "      <td>внедорожник 3 дв.</td>\n",
       "      <td>Не требует ремонта</td>\n",
       "      <td>NaN</td>\n",
       "      <td>белый</td>\n",
       "      <td>Левый</td>\n",
       "      <td>NaN</td>\n",
       "      <td>...</td>\n",
       "      <td>Наши специалисты осмотрели кузов и салон, пров...</td>\n",
       "      <td>LADA</td>\n",
       "      <td>(ВАЗ) 2121 (4x4) Фора</td>\n",
       "      <td>Новороссийск</td>\n",
       "      <td>1.7</td>\n",
       "      <td>83.0</td>\n",
       "      <td>Бензин</td>\n",
       "      <td>215.0</td>\n",
       "      <td>17.461538</td>\n",
       "      <td>14.750000</td>\n",
       "    </tr>\n",
       "    <tr>\n",
       "      <th>13032</th>\n",
       "      <td>2016.0</td>\n",
       "      <td>робот</td>\n",
       "      <td>передний</td>\n",
       "      <td>83.0</td>\n",
       "      <td>хэтчбек 5 дв.</td>\n",
       "      <td>Не требует ремонта</td>\n",
       "      <td>NaN</td>\n",
       "      <td>чёрный</td>\n",
       "      <td>Левый</td>\n",
       "      <td>NaN</td>\n",
       "      <td>...</td>\n",
       "      <td>Наши специалисты осмотрели кузов и салон, пров...</td>\n",
       "      <td>LADA</td>\n",
       "      <td>(ВАЗ) XRAY I</td>\n",
       "      <td>Тахтамукай</td>\n",
       "      <td>1.8</td>\n",
       "      <td>122.0</td>\n",
       "      <td>Бензин</td>\n",
       "      <td>521.7</td>\n",
       "      <td>8.166667</td>\n",
       "      <td>27.666667</td>\n",
       "    </tr>\n",
       "    <tr>\n",
       "      <th>13035</th>\n",
       "      <td>2016.0</td>\n",
       "      <td>робот</td>\n",
       "      <td>передний</td>\n",
       "      <td>15.0</td>\n",
       "      <td>седан</td>\n",
       "      <td>Не требует ремонта</td>\n",
       "      <td>NaN</td>\n",
       "      <td>белый</td>\n",
       "      <td>Левый</td>\n",
       "      <td>NaN</td>\n",
       "      <td>...</td>\n",
       "      <td>Наши специалисты осмотрели кузов и салон, пров...</td>\n",
       "      <td>LADA</td>\n",
       "      <td>(ВАЗ) Vesta I</td>\n",
       "      <td>Тахтамукай</td>\n",
       "      <td>1.8</td>\n",
       "      <td>122.0</td>\n",
       "      <td>Бензин</td>\n",
       "      <td>542.7</td>\n",
       "      <td>11.250000</td>\n",
       "      <td>5.000000</td>\n",
       "    </tr>\n",
       "    <tr>\n",
       "      <th>13043</th>\n",
       "      <td>2016.0</td>\n",
       "      <td>робот</td>\n",
       "      <td>передний</td>\n",
       "      <td>45.0</td>\n",
       "      <td>хэтчбек 5 дв.</td>\n",
       "      <td>Не требует ремонта</td>\n",
       "      <td>NaN</td>\n",
       "      <td>белый</td>\n",
       "      <td>Левый</td>\n",
       "      <td>NaN</td>\n",
       "      <td>...</td>\n",
       "      <td>Наши специалисты осмотрели кузов и салон, пров...</td>\n",
       "      <td>LADA</td>\n",
       "      <td>(ВАЗ) XRAY I</td>\n",
       "      <td>Тахтамукай</td>\n",
       "      <td>1.8</td>\n",
       "      <td>122.0</td>\n",
       "      <td>Бензин</td>\n",
       "      <td>549.4</td>\n",
       "      <td>9.666667</td>\n",
       "      <td>15.000000</td>\n",
       "    </tr>\n",
       "    <tr>\n",
       "      <th>14424</th>\n",
       "      <td>2017.0</td>\n",
       "      <td>механическая</td>\n",
       "      <td>передний</td>\n",
       "      <td>32.0</td>\n",
       "      <td>хэтчбек 5 дв.</td>\n",
       "      <td>Не требует ремонта</td>\n",
       "      <td>NaN</td>\n",
       "      <td>белый</td>\n",
       "      <td>Левый</td>\n",
       "      <td>1 владелец</td>\n",
       "      <td>...</td>\n",
       "      <td>Автомобиль продается официальным дилером Ford,...</td>\n",
       "      <td>LADA</td>\n",
       "      <td>(ВАЗ) XRAY I</td>\n",
       "      <td>Санкт-Петербург</td>\n",
       "      <td>1.6</td>\n",
       "      <td>106.0</td>\n",
       "      <td>Бензин</td>\n",
       "      <td>595.0</td>\n",
       "      <td>26.266667</td>\n",
       "      <td>16.000000</td>\n",
       "    </tr>\n",
       "  </tbody>\n",
       "</table>\n",
       "<p>13 rows × 21 columns</p>\n",
       "</div>"
      ],
      "text/plain": [
       "       Год выпуска           КПП    Привод  Пробег         Тип кузова  \\\n",
       "2279        2013.0  механическая  передний    71.0    универсал 5 дв.   \n",
       "9432        2017.0         робот  передний    28.0      хэтчбек 5 дв.   \n",
       "12189       2017.0  механическая  передний    27.0              седан   \n",
       "12213       2016.0  механическая  передний    40.0              седан   \n",
       "12229       2012.0  механическая    полный    85.0  внедорожник 3 дв.   \n",
       "12230       2016.0  механическая    полный     1.0  внедорожник 3 дв.   \n",
       "12232       2017.0         робот  передний    20.0              седан   \n",
       "12901       2015.0         робот  передний    96.0              седан   \n",
       "12941       2011.0  механическая    полный   118.0  внедорожник 3 дв.   \n",
       "13032       2016.0         робот  передний    83.0      хэтчбек 5 дв.   \n",
       "13035       2016.0         робот  передний    15.0              седан   \n",
       "13043       2016.0         робот  передний    45.0      хэтчбек 5 дв.   \n",
       "14424       2017.0  механическая  передний    32.0      хэтчбек 5 дв.   \n",
       "\n",
       "                Состояние      Срок владения         Цвет   Руль    Владельцы  \\\n",
       "2279   Не требует ремонта  1 год и 7 месяцев        синий  Левый  2 владельца   \n",
       "9432   Не требует ремонта                NaN  серебристый  Левый          NaN   \n",
       "12189  Не требует ремонта                NaN        белый  Левый          NaN   \n",
       "12213  Не требует ремонта                NaN        белый  Левый          NaN   \n",
       "12229  Не требует ремонта                NaN      зелёный  Левый          NaN   \n",
       "12230  Не требует ремонта                NaN        белый  Левый          NaN   \n",
       "12232  Не требует ремонта                NaN       чёрный  Левый          NaN   \n",
       "12901  Не требует ремонта                NaN        белый  Левый          NaN   \n",
       "12941  Не требует ремонта                NaN        белый  Левый          NaN   \n",
       "13032  Не требует ремонта                NaN       чёрный  Левый          NaN   \n",
       "13035  Не требует ремонта                NaN        белый  Левый          NaN   \n",
       "13043  Не требует ремонта                NaN        белый  Левый          NaN   \n",
       "14424  Не требует ремонта                NaN        белый  Левый   1 владелец   \n",
       "\n",
       "           ...                                             Комментарий Марка  \\\n",
       "2279       ...       автомобиль в хорошем состоянии все работает ес...  LADA   \n",
       "9432       ...       Наши специалисты осмотрели кузов и салон, пров...  LADA   \n",
       "12189      ...       Наши специалисты осмотрели кузов и салон, пров...  LADA   \n",
       "12213      ...       Наши специалисты осмотрели кузов и салон, пров...  LADA   \n",
       "12229      ...       Наши специалисты осмотрели кузов и салон, пров...  LADA   \n",
       "12230      ...       Наши специалисты осмотрели кузов и салон, пров...  LADA   \n",
       "12232      ...       Наши специалисты осмотрели кузов и салон, пров...  LADA   \n",
       "12901      ...       Наши специалисты осмотрели кузов и салон, пров...  LADA   \n",
       "12941      ...       Наши специалисты осмотрели кузов и салон, пров...  LADA   \n",
       "13032      ...       Наши специалисты осмотрели кузов и салон, пров...  LADA   \n",
       "13035      ...       Наши специалисты осмотрели кузов и салон, пров...  LADA   \n",
       "13043      ...       Наши специалисты осмотрели кузов и салон, пров...  LADA   \n",
       "14424      ...       Автомобиль продается официальным дилером Ford,...  LADA   \n",
       "\n",
       "                      Модель            Город Объем двигателя  \\\n",
       "2279          (ВАЗ) Kalina I          Воронеж             1.6   \n",
       "9432            (ВАЗ) XRAY I        Краснодар             1.8   \n",
       "12189           (ВАЗ) Granta       Тахтамукай             1.6   \n",
       "12213           (ВАЗ) Granta     Новороссийск             1.6   \n",
       "12229  (ВАЗ) 2121 (4x4) Рысь        Краснодар             1.7   \n",
       "12230  (ВАЗ) 2121 (4x4) Рысь        Краснодар             1.7   \n",
       "12232          (ВАЗ) Vesta I     Новороссийск             1.8   \n",
       "12901           (ВАЗ) Granta       Тахтамукай             1.6   \n",
       "12941  (ВАЗ) 2121 (4x4) Фора     Новороссийск             1.7   \n",
       "13032           (ВАЗ) XRAY I       Тахтамукай             1.8   \n",
       "13035          (ВАЗ) Vesta I       Тахтамукай             1.8   \n",
       "13043           (ВАЗ) XRAY I       Тахтамукай             1.8   \n",
       "14424           (ВАЗ) XRAY I  Санкт-Петербург             1.6   \n",
       "\n",
       "       Мощность двигателя  Двигатель   Цена  Просмотров в день  Пробег в год  \n",
       "2279                 81.0     Бензин  195.0          20.500000     11.833333  \n",
       "9432                122.0     Бензин  593.2          10.454545     14.000000  \n",
       "12189               106.0     Бензин  543.4           1.900000     13.500000  \n",
       "12213               106.0     Бензин  532.5           2.700000     13.333333  \n",
       "12229                83.0     Бензин  210.1          11.200000     12.142857  \n",
       "12230                83.0     Бензин  422.3           4.900000      0.333333  \n",
       "12232               122.0     Бензин  665.7           2.300000     10.000000  \n",
       "12901               106.0     Бензин  379.5           9.615385     24.000000  \n",
       "12941                83.0     Бензин  215.0          17.461538     14.750000  \n",
       "13032               122.0     Бензин  521.7           8.166667     27.666667  \n",
       "13035               122.0     Бензин  542.7          11.250000      5.000000  \n",
       "13043               122.0     Бензин  549.4           9.666667     15.000000  \n",
       "14424               106.0     Бензин  595.0          26.266667     16.000000  \n",
       "\n",
       "[13 rows x 21 columns]"
      ]
     },
     "execution_count": 86,
     "metadata": {},
     "output_type": "execute_result"
    }
   ],
   "source": [
    "df[(df[\"Пробег\"] < 200) & (df[\"Год выпуска\"] > 2010) & (df[\"Марка\"]=='LADA') ]"
   ]
  },
  {
   "cell_type": "markdown",
   "metadata": {},
   "source": [
    "### 5) Визуализация Seaborn\n"
   ]
  },
  {
   "cell_type": "code",
   "execution_count": 87,
   "metadata": {},
   "outputs": [],
   "source": [
    "import seaborn as sns\n",
    "sns.set()"
   ]
  },
  {
   "cell_type": "code",
   "execution_count": 88,
   "metadata": {},
   "outputs": [],
   "source": [
    "df=df[:1000]"
   ]
  },
  {
   "cell_type": "code",
   "execution_count": 89,
   "metadata": {},
   "outputs": [
    {
     "data": {
      "text/plain": [
       "<matplotlib.collections.PathCollection at 0x1a1e00cf98>"
      ]
     },
     "execution_count": 89,
     "metadata": {},
     "output_type": "execute_result"
    },
    {
     "data": {
      "image/png": "[encoded data removed]",
      "text/plain": [
       "<Figure size 432x288 with 1 Axes>"
      ]
     },
     "metadata": {},
     "output_type": "display_data"
    }
   ],
   "source": [
    "plt.scatter(df[\"Объем двигателя\"],df[\"Мощность двигателя\"])"
   ]
  },
  {
   "cell_type": "code",
   "execution_count": 90,
   "metadata": {},
   "outputs": [
    {
     "data": {
      "image/png": "[encoded data removed]",
      "text/plain": [
       "<Figure size 1371.12x1260 with 56 Axes>"
      ]
     },
     "metadata": {},
     "output_type": "display_data"
    }
   ],
   "source": [
    "sns.pairplot(df[df['Марка']=='Toyota'], hue='КПП', size=2.5); "
   ]
  },
  {
   "cell_type": "code",
   "execution_count": 91,
   "metadata": {},
   "outputs": [
    {
     "data": {
      "image/png": "[encoded data removed]",
      "text/plain": [
       "<Figure size 576x576 with 1 Axes>"
      ]
     },
     "metadata": {},
     "output_type": "display_data"
    }
   ],
   "source": [
    "with sns.axes_style(style='whitegrid'):\n",
    "    g = sns.factorplot(\"Двигатель\", \"Цена\", data=df, kind=\"box\", size=8)\n",
    "    g.fig.get_axes()[0].set_yscale('log')"
   ]
  },
  {
   "cell_type": "code",
   "execution_count": 92,
   "metadata": {},
   "outputs": [
    {
     "data": {
      "image/png": "[encoded data removed]",
      "text/plain": [
       "<Figure size 720x720 with 3 Axes>"
      ]
     },
     "metadata": {},
     "output_type": "display_data"
    }
   ],
   "source": [
    "filter_df = df[(df[\"Пробег\"] < 250000) & (df[\"Год выпуска\"] > 2010) & (df[\"Марка\"]=='Toyota') ]\n",
    "with sns.axes_style(style='whitegrid'):\n",
    "    sns.set_style(style=\"ticks\")\n",
    "    g = sns.jointplot(\"Пробег\", \"Год выпуска\", filter_df, kind=\"kde\", size=10)"
   ]
  },
  {
   "cell_type": "markdown",
   "metadata": {},
   "source": [
    "### 6) Группировка и Pivot"
   ]
  },
  {
   "cell_type": "code",
   "execution_count": 93,
   "metadata": {},
   "outputs": [
    {
     "data": {
      "text/html": [
       "<div>\n",
       "<style scoped>\n",
       "    .dataframe tbody tr th:only-of-type {\n",
       "        vertical-align: middle;\n",
       "    }\n",
       "\n",
       "    .dataframe tbody tr th {\n",
       "        vertical-align: top;\n",
       "    }\n",
       "\n",
       "    .dataframe thead th {\n",
       "        text-align: right;\n",
       "    }\n",
       "</style>\n",
       "<table border=\"1\" class=\"dataframe\">\n",
       "  <thead>\n",
       "    <tr style=\"text-align: right;\">\n",
       "      <th></th>\n",
       "      <th>date</th>\n",
       "      <th>region</th>\n",
       "      <th>В среднем депозитов в руб. на человека</th>\n",
       "      <th>В среднем руб. на текущем счете на человека</th>\n",
       "      <th>Количество заявок на ипотечные кредиты</th>\n",
       "      <th>Количество заявок на потребительские кредиты</th>\n",
       "      <th>Количество новых депозитов</th>\n",
       "      <th>Средние расходы по картам</th>\n",
       "      <th>Средние траты в ресторане</th>\n",
       "      <th>Средние траты в ресторане фастфуд</th>\n",
       "      <th>Средний чек в формате Ресторан</th>\n",
       "      <th>Средний чек в формате Фастфуд</th>\n",
       "      <th>Средняя зарплата</th>\n",
       "      <th>Средняя пенсия</th>\n",
       "      <th>Средняя сумма заявки на ипотечный кредит</th>\n",
       "      <th>Средняя сумма заявки на потребительский кредит</th>\n",
       "      <th>Средняя сумма нового депозита</th>\n",
       "    </tr>\n",
       "  </thead>\n",
       "  <tbody>\n",
       "    <tr>\n",
       "      <th>5000</th>\n",
       "      <td>2017-12-15</td>\n",
       "      <td>Республика Башкортостан</td>\n",
       "      <td>329789.0</td>\n",
       "      <td>16852.0</td>\n",
       "      <td>5372.0</td>\n",
       "      <td>34957.0</td>\n",
       "      <td>72601.0</td>\n",
       "      <td>10203.0</td>\n",
       "      <td>1287.0</td>\n",
       "      <td>1005.0</td>\n",
       "      <td>411.0</td>\n",
       "      <td>277.0</td>\n",
       "      <td>39222.0</td>\n",
       "      <td>14473.0</td>\n",
       "      <td>1589040.0</td>\n",
       "      <td>251660.0</td>\n",
       "      <td>314762.0</td>\n",
       "    </tr>\n",
       "    <tr>\n",
       "      <th>5001</th>\n",
       "      <td>2017-12-15</td>\n",
       "      <td>Республика Бурятия</td>\n",
       "      <td>333754.0</td>\n",
       "      <td>15081.0</td>\n",
       "      <td>729.0</td>\n",
       "      <td>9365.0</td>\n",
       "      <td>13579.0</td>\n",
       "      <td>12077.0</td>\n",
       "      <td>1306.0</td>\n",
       "      <td>862.0</td>\n",
       "      <td>408.0</td>\n",
       "      <td>259.0</td>\n",
       "      <td>43723.0</td>\n",
       "      <td>20649.0</td>\n",
       "      <td>1586129.0</td>\n",
       "      <td>243619.0</td>\n",
       "      <td>353016.0</td>\n",
       "    </tr>\n",
       "    <tr>\n",
       "      <th>5002</th>\n",
       "      <td>2017-12-15</td>\n",
       "      <td>Республика Дагестан</td>\n",
       "      <td>457614.0</td>\n",
       "      <td>21688.0</td>\n",
       "      <td>283.0</td>\n",
       "      <td>7818.0</td>\n",
       "      <td>9853.0</td>\n",
       "      <td>4486.0</td>\n",
       "      <td>2034.0</td>\n",
       "      <td>1317.0</td>\n",
       "      <td>879.0</td>\n",
       "      <td>405.0</td>\n",
       "      <td>33638.0</td>\n",
       "      <td>14631.0</td>\n",
       "      <td>1940925.0</td>\n",
       "      <td>273818.0</td>\n",
       "      <td>471378.0</td>\n",
       "    </tr>\n",
       "    <tr>\n",
       "      <th>5003</th>\n",
       "      <td>2017-12-15</td>\n",
       "      <td>Республика Ингушетия</td>\n",
       "      <td>380426.0</td>\n",
       "      <td>16668.0</td>\n",
       "      <td>38.0</td>\n",
       "      <td>1222.0</td>\n",
       "      <td>278.0</td>\n",
       "      <td>3482.0</td>\n",
       "      <td>2133.0</td>\n",
       "      <td>1423.0</td>\n",
       "      <td>903.0</td>\n",
       "      <td>409.0</td>\n",
       "      <td>43693.0</td>\n",
       "      <td>33066.0</td>\n",
       "      <td>1684812.0</td>\n",
       "      <td>197612.0</td>\n",
       "      <td>408297.0</td>\n",
       "    </tr>\n",
       "    <tr>\n",
       "      <th>5004</th>\n",
       "      <td>2017-12-15</td>\n",
       "      <td>Республика Калмыкия</td>\n",
       "      <td>284787.0</td>\n",
       "      <td>14335.0</td>\n",
       "      <td>218.0</td>\n",
       "      <td>3292.0</td>\n",
       "      <td>2822.0</td>\n",
       "      <td>7116.0</td>\n",
       "      <td>1070.0</td>\n",
       "      <td>1096.0</td>\n",
       "      <td>456.0</td>\n",
       "      <td>330.0</td>\n",
       "      <td>32704.0</td>\n",
       "      <td>13829.0</td>\n",
       "      <td>1553310.0</td>\n",
       "      <td>258190.0</td>\n",
       "      <td>314747.0</td>\n",
       "    </tr>\n",
       "  </tbody>\n",
       "</table>\n",
       "</div>"
      ],
      "text/plain": [
       "            date                   region  \\\n",
       "5000  2017-12-15  Республика Башкортостан   \n",
       "5001  2017-12-15       Республика Бурятия   \n",
       "5002  2017-12-15      Республика Дагестан   \n",
       "5003  2017-12-15     Республика Ингушетия   \n",
       "5004  2017-12-15      Республика Калмыкия   \n",
       "\n",
       "      В среднем депозитов в руб. на человека  \\\n",
       "5000                                329789.0   \n",
       "5001                                333754.0   \n",
       "5002                                457614.0   \n",
       "5003                                380426.0   \n",
       "5004                                284787.0   \n",
       "\n",
       "      В среднем руб. на текущем счете на человека  \\\n",
       "5000                                      16852.0   \n",
       "5001                                      15081.0   \n",
       "5002                                      21688.0   \n",
       "5003                                      16668.0   \n",
       "5004                                      14335.0   \n",
       "\n",
       "      Количество заявок на ипотечные кредиты  \\\n",
       "5000                                  5372.0   \n",
       "5001                                   729.0   \n",
       "5002                                   283.0   \n",
       "5003                                    38.0   \n",
       "5004                                   218.0   \n",
       "\n",
       "      Количество заявок на потребительские кредиты  \\\n",
       "5000                                       34957.0   \n",
       "5001                                        9365.0   \n",
       "5002                                        7818.0   \n",
       "5003                                        1222.0   \n",
       "5004                                        3292.0   \n",
       "\n",
       "      Количество новых депозитов  Средние расходы по картам  \\\n",
       "5000                     72601.0                    10203.0   \n",
       "5001                     13579.0                    12077.0   \n",
       "5002                      9853.0                     4486.0   \n",
       "5003                       278.0                     3482.0   \n",
       "5004                      2822.0                     7116.0   \n",
       "\n",
       "      Средние траты в ресторане  Средние траты в ресторане фастфуд  \\\n",
       "5000                     1287.0                             1005.0   \n",
       "5001                     1306.0                              862.0   \n",
       "5002                     2034.0                             1317.0   \n",
       "5003                     2133.0                             1423.0   \n",
       "5004                     1070.0                             1096.0   \n",
       "\n",
       "      Средний чек в формате Ресторан  Средний чек в формате Фастфуд  \\\n",
       "5000                           411.0                          277.0   \n",
       "5001                           408.0                          259.0   \n",
       "5002                           879.0                          405.0   \n",
       "5003                           903.0                          409.0   \n",
       "5004                           456.0                          330.0   \n",
       "\n",
       "      Средняя зарплата  Средняя пенсия  \\\n",
       "5000           39222.0         14473.0   \n",
       "5001           43723.0         20649.0   \n",
       "5002           33638.0         14631.0   \n",
       "5003           43693.0         33066.0   \n",
       "5004           32704.0         13829.0   \n",
       "\n",
       "      Средняя сумма заявки на ипотечный кредит  \\\n",
       "5000                                 1589040.0   \n",
       "5001                                 1586129.0   \n",
       "5002                                 1940925.0   \n",
       "5003                                 1684812.0   \n",
       "5004                                 1553310.0   \n",
       "\n",
       "      Средняя сумма заявки на потребительский кредит  \\\n",
       "5000                                        251660.0   \n",
       "5001                                        243619.0   \n",
       "5002                                        273818.0   \n",
       "5003                                        197612.0   \n",
       "5004                                        258190.0   \n",
       "\n",
       "      Средняя сумма нового депозита  \n",
       "5000                       314762.0  \n",
       "5001                       353016.0  \n",
       "5002                       471378.0  \n",
       "5003                       408297.0  \n",
       "5004                       314747.0  "
      ]
     },
     "execution_count": 93,
     "metadata": {},
     "output_type": "execute_result"
    }
   ],
   "source": [
    "df = pd.read_csv(u'../data/sberbank.csv', sep=',', encoding='UTF8')\n",
    "df[5000:].head()"
   ]
  },
  {
   "cell_type": "code",
   "execution_count": 94,
   "metadata": {},
   "outputs": [],
   "source": [
    "#Добавим столбцы с годом и месяцом, удалим столбец date\n",
    "df[\"Год\"] = df[\"date\"].apply(lambda x: int(x.split(\"-\")[0]))\n",
    "df[\"Месяц\"] = df[\"date\"].apply(lambda x: int(x.split(\"-\")[1]))\n",
    "\n",
    "dellist = [\"date\"]\n",
    "df = df.drop(dellist, 1)"
   ]
  },
  {
   "cell_type": "code",
   "execution_count": 95,
   "metadata": {},
   "outputs": [
    {
     "data": {
      "text/html": [
       "<div>\n",
       "<style scoped>\n",
       "    .dataframe tbody tr th:only-of-type {\n",
       "        vertical-align: middle;\n",
       "    }\n",
       "\n",
       "    .dataframe tbody tr th {\n",
       "        vertical-align: top;\n",
       "    }\n",
       "\n",
       "    .dataframe thead th {\n",
       "        text-align: right;\n",
       "    }\n",
       "</style>\n",
       "<table border=\"1\" class=\"dataframe\">\n",
       "  <thead>\n",
       "    <tr style=\"text-align: right;\">\n",
       "      <th></th>\n",
       "      <th>Количество заявок на ипотечные кредиты</th>\n",
       "      <th>Количество новых депозитов</th>\n",
       "    </tr>\n",
       "    <tr>\n",
       "      <th>Год</th>\n",
       "      <th></th>\n",
       "      <th></th>\n",
       "    </tr>\n",
       "  </thead>\n",
       "  <tbody>\n",
       "    <tr>\n",
       "      <th>2013</th>\n",
       "      <td>70313.0</td>\n",
       "      <td>0.0</td>\n",
       "    </tr>\n",
       "    <tr>\n",
       "      <th>2014</th>\n",
       "      <td>112467.0</td>\n",
       "      <td>2045213.0</td>\n",
       "    </tr>\n",
       "    <tr>\n",
       "      <th>2015</th>\n",
       "      <td>70296.0</td>\n",
       "      <td>2537606.0</td>\n",
       "    </tr>\n",
       "    <tr>\n",
       "      <th>2016</th>\n",
       "      <td>75858.0</td>\n",
       "      <td>2423435.0</td>\n",
       "    </tr>\n",
       "    <tr>\n",
       "      <th>2017</th>\n",
       "      <td>108460.0</td>\n",
       "      <td>2801250.0</td>\n",
       "    </tr>\n",
       "  </tbody>\n",
       "</table>\n",
       "</div>"
      ],
      "text/plain": [
       "      Количество заявок на ипотечные кредиты  Количество новых депозитов\n",
       "Год                                                                     \n",
       "2013                                 70313.0                         0.0\n",
       "2014                                112467.0                   2045213.0\n",
       "2015                                 70296.0                   2537606.0\n",
       "2016                                 75858.0                   2423435.0\n",
       "2017                                108460.0                   2801250.0"
      ]
     },
     "execution_count": 95,
     "metadata": {},
     "output_type": "execute_result"
    }
   ],
   "source": [
    "#Суммарное значение заявок на ипотеку в Москве по годам\n",
    "df_moscow = df[(df.region == \"Москва\")]\n",
    "df_moscow_gb = df_moscow.groupby([\"Год\"])[\"Количество заявок на ипотечные кредиты\", \"Количество новых депозитов\"].sum()\n",
    "df_moscow_gb.head()"
   ]
  },
  {
   "cell_type": "code",
   "execution_count": 96,
   "metadata": {},
   "outputs": [
    {
     "data": {
      "text/plain": [
       "Год   region               \n",
       "2015  Алтайский край           37015.000000\n",
       "      Амурская область          8166.500000\n",
       "      Архангельская область    21300.833333\n",
       "      Астраханская область     16143.083333\n",
       "      Белгородская область     28440.833333\n",
       "Name: Количество новых депозитов, dtype: float64"
      ]
     },
     "execution_count": 96,
     "metadata": {},
     "output_type": "execute_result"
    }
   ],
   "source": [
    "#среднее количество новых депозитов в месяц с группировкой по годям и регионам c 2015 года\n",
    "df_gb = df[(df.Год > 2014)].groupby([\"Год\", \"region\"])[\"Количество новых депозитов\"].mean()\n",
    "df_gb.head()"
   ]
  },
  {
   "cell_type": "code",
   "execution_count": 97,
   "metadata": {},
   "outputs": [
    {
     "data": {
      "text/html": [
       "<div>\n",
       "<style scoped>\n",
       "    .dataframe tbody tr th:only-of-type {\n",
       "        vertical-align: middle;\n",
       "    }\n",
       "\n",
       "    .dataframe tbody tr th {\n",
       "        vertical-align: top;\n",
       "    }\n",
       "\n",
       "    .dataframe thead th {\n",
       "        text-align: right;\n",
       "    }\n",
       "</style>\n",
       "<table border=\"1\" class=\"dataframe\">\n",
       "  <thead>\n",
       "    <tr style=\"text-align: right;\">\n",
       "      <th></th>\n",
       "      <th></th>\n",
       "      <th>В среднем депозитов в руб. на человека</th>\n",
       "      <th>В среднем руб. на текущем счете на человека</th>\n",
       "      <th>Количество заявок на ипотечные кредиты</th>\n",
       "      <th>Количество заявок на потребительские кредиты</th>\n",
       "      <th>Количество новых депозитов</th>\n",
       "      <th>Месяц</th>\n",
       "      <th>Средние расходы по картам</th>\n",
       "      <th>Средние траты в ресторане</th>\n",
       "      <th>Средние траты в ресторане фастфуд</th>\n",
       "      <th>Средний чек в формате Ресторан</th>\n",
       "      <th>Средний чек в формате Фастфуд</th>\n",
       "      <th>Средняя зарплата</th>\n",
       "      <th>Средняя пенсия</th>\n",
       "      <th>Средняя сумма заявки на ипотечный кредит</th>\n",
       "      <th>Средняя сумма заявки на потребительский кредит</th>\n",
       "      <th>Средняя сумма нового депозита</th>\n",
       "    </tr>\n",
       "    <tr>\n",
       "      <th>Год</th>\n",
       "      <th>region</th>\n",
       "      <th></th>\n",
       "      <th></th>\n",
       "      <th></th>\n",
       "      <th></th>\n",
       "      <th></th>\n",
       "      <th></th>\n",
       "      <th></th>\n",
       "      <th></th>\n",
       "      <th></th>\n",
       "      <th></th>\n",
       "      <th></th>\n",
       "      <th></th>\n",
       "      <th></th>\n",
       "      <th></th>\n",
       "      <th></th>\n",
       "      <th></th>\n",
       "    </tr>\n",
       "  </thead>\n",
       "  <tbody>\n",
       "    <tr>\n",
       "      <th rowspan=\"5\" valign=\"top\">2015</th>\n",
       "      <th>Алтайский край</th>\n",
       "      <td>237763.916667</td>\n",
       "      <td>11771.416667</td>\n",
       "      <td>1084.083333</td>\n",
       "      <td>13940.083333</td>\n",
       "      <td>37015.000000</td>\n",
       "      <td>6.5</td>\n",
       "      <td>5629.500000</td>\n",
       "      <td>1002.916667</td>\n",
       "      <td>685.333333</td>\n",
       "      <td>419.333333</td>\n",
       "      <td>314.583333</td>\n",
       "      <td>16353.250000</td>\n",
       "      <td>12852.250000</td>\n",
       "      <td>1.110618e+06</td>\n",
       "      <td>126757.000000</td>\n",
       "      <td>158110.000000</td>\n",
       "    </tr>\n",
       "    <tr>\n",
       "      <th>Амурская область</th>\n",
       "      <td>316999.416667</td>\n",
       "      <td>16534.500000</td>\n",
       "      <td>379.750000</td>\n",
       "      <td>4731.666667</td>\n",
       "      <td>8166.500000</td>\n",
       "      <td>6.5</td>\n",
       "      <td>8156.833333</td>\n",
       "      <td>1390.916667</td>\n",
       "      <td>760.500000</td>\n",
       "      <td>475.083333</td>\n",
       "      <td>293.916667</td>\n",
       "      <td>28327.000000</td>\n",
       "      <td>14497.500000</td>\n",
       "      <td>1.668677e+06</td>\n",
       "      <td>185677.833333</td>\n",
       "      <td>255908.416667</td>\n",
       "    </tr>\n",
       "    <tr>\n",
       "      <th>Архангельская область</th>\n",
       "      <td>343512.250000</td>\n",
       "      <td>27539.916667</td>\n",
       "      <td>976.000000</td>\n",
       "      <td>8109.500000</td>\n",
       "      <td>21300.833333</td>\n",
       "      <td>6.5</td>\n",
       "      <td>9682.833333</td>\n",
       "      <td>1417.916667</td>\n",
       "      <td>758.333333</td>\n",
       "      <td>454.083333</td>\n",
       "      <td>329.916667</td>\n",
       "      <td>30217.000000</td>\n",
       "      <td>16512.083333</td>\n",
       "      <td>1.379261e+06</td>\n",
       "      <td>210893.000000</td>\n",
       "      <td>231906.833333</td>\n",
       "    </tr>\n",
       "    <tr>\n",
       "      <th>Астраханская область</th>\n",
       "      <td>282937.333333</td>\n",
       "      <td>15922.583333</td>\n",
       "      <td>504.583333</td>\n",
       "      <td>6348.333333</td>\n",
       "      <td>16143.083333</td>\n",
       "      <td>6.5</td>\n",
       "      <td>6401.416667</td>\n",
       "      <td>1647.916667</td>\n",
       "      <td>723.083333</td>\n",
       "      <td>715.166667</td>\n",
       "      <td>337.416667</td>\n",
       "      <td>20606.083333</td>\n",
       "      <td>12516.916667</td>\n",
       "      <td>1.293410e+06</td>\n",
       "      <td>171080.250000</td>\n",
       "      <td>187669.166667</td>\n",
       "    </tr>\n",
       "    <tr>\n",
       "      <th>Белгородская область</th>\n",
       "      <td>380639.750000</td>\n",
       "      <td>14631.916667</td>\n",
       "      <td>627.916667</td>\n",
       "      <td>10248.916667</td>\n",
       "      <td>28440.833333</td>\n",
       "      <td>6.5</td>\n",
       "      <td>5453.083333</td>\n",
       "      <td>1363.083333</td>\n",
       "      <td>691.416667</td>\n",
       "      <td>591.500000</td>\n",
       "      <td>340.083333</td>\n",
       "      <td>20855.083333</td>\n",
       "      <td>12155.916667</td>\n",
       "      <td>1.166677e+06</td>\n",
       "      <td>157150.083333</td>\n",
       "      <td>201585.166667</td>\n",
       "    </tr>\n",
       "  </tbody>\n",
       "</table>\n",
       "</div>"
      ],
      "text/plain": [
       "                            В среднем депозитов в руб. на человека  \\\n",
       "Год  region                                                          \n",
       "2015 Алтайский край                                  237763.916667   \n",
       "     Амурская область                                316999.416667   \n",
       "     Архангельская область                           343512.250000   \n",
       "     Астраханская область                            282937.333333   \n",
       "     Белгородская область                            380639.750000   \n",
       "\n",
       "                            В среднем руб. на текущем счете на человека  \\\n",
       "Год  region                                                               \n",
       "2015 Алтайский край                                        11771.416667   \n",
       "     Амурская область                                      16534.500000   \n",
       "     Архангельская область                                 27539.916667   \n",
       "     Астраханская область                                  15922.583333   \n",
       "     Белгородская область                                  14631.916667   \n",
       "\n",
       "                            Количество заявок на ипотечные кредиты  \\\n",
       "Год  region                                                          \n",
       "2015 Алтайский край                                    1084.083333   \n",
       "     Амурская область                                   379.750000   \n",
       "     Архангельская область                              976.000000   \n",
       "     Астраханская область                               504.583333   \n",
       "     Белгородская область                               627.916667   \n",
       "\n",
       "                            Количество заявок на потребительские кредиты  \\\n",
       "Год  region                                                                \n",
       "2015 Алтайский край                                         13940.083333   \n",
       "     Амурская область                                        4731.666667   \n",
       "     Архангельская область                                   8109.500000   \n",
       "     Астраханская область                                    6348.333333   \n",
       "     Белгородская область                                   10248.916667   \n",
       "\n",
       "                            Количество новых депозитов  Месяц  \\\n",
       "Год  region                                                     \n",
       "2015 Алтайский край                       37015.000000    6.5   \n",
       "     Амурская область                      8166.500000    6.5   \n",
       "     Архангельская область                21300.833333    6.5   \n",
       "     Астраханская область                 16143.083333    6.5   \n",
       "     Белгородская область                 28440.833333    6.5   \n",
       "\n",
       "                            Средние расходы по картам  \\\n",
       "Год  region                                             \n",
       "2015 Алтайский край                       5629.500000   \n",
       "     Амурская область                     8156.833333   \n",
       "     Архангельская область                9682.833333   \n",
       "     Астраханская область                 6401.416667   \n",
       "     Белгородская область                 5453.083333   \n",
       "\n",
       "                            Средние траты в ресторане  \\\n",
       "Год  region                                             \n",
       "2015 Алтайский край                       1002.916667   \n",
       "     Амурская область                     1390.916667   \n",
       "     Архангельская область                1417.916667   \n",
       "     Астраханская область                 1647.916667   \n",
       "     Белгородская область                 1363.083333   \n",
       "\n",
       "                            Средние траты в ресторане фастфуд  \\\n",
       "Год  region                                                     \n",
       "2015 Алтайский край                                685.333333   \n",
       "     Амурская область                              760.500000   \n",
       "     Архангельская область                         758.333333   \n",
       "     Астраханская область                          723.083333   \n",
       "     Белгородская область                          691.416667   \n",
       "\n",
       "                            Средний чек в формате Ресторан  \\\n",
       "Год  region                                                  \n",
       "2015 Алтайский край                             419.333333   \n",
       "     Амурская область                           475.083333   \n",
       "     Архангельская область                      454.083333   \n",
       "     Астраханская область                       715.166667   \n",
       "     Белгородская область                       591.500000   \n",
       "\n",
       "                            Средний чек в формате Фастфуд  Средняя зарплата  \\\n",
       "Год  region                                                                   \n",
       "2015 Алтайский край                            314.583333      16353.250000   \n",
       "     Амурская область                          293.916667      28327.000000   \n",
       "     Архангельская область                     329.916667      30217.000000   \n",
       "     Астраханская область                      337.416667      20606.083333   \n",
       "     Белгородская область                      340.083333      20855.083333   \n",
       "\n",
       "                            Средняя пенсия  \\\n",
       "Год  region                                  \n",
       "2015 Алтайский край           12852.250000   \n",
       "     Амурская область         14497.500000   \n",
       "     Архангельская область    16512.083333   \n",
       "     Астраханская область     12516.916667   \n",
       "     Белгородская область     12155.916667   \n",
       "\n",
       "                            Средняя сумма заявки на ипотечный кредит  \\\n",
       "Год  region                                                            \n",
       "2015 Алтайский край                                     1.110618e+06   \n",
       "     Амурская область                                   1.668677e+06   \n",
       "     Архангельская область                              1.379261e+06   \n",
       "     Астраханская область                               1.293410e+06   \n",
       "     Белгородская область                               1.166677e+06   \n",
       "\n",
       "                            Средняя сумма заявки на потребительский кредит  \\\n",
       "Год  region                                                                  \n",
       "2015 Алтайский край                                          126757.000000   \n",
       "     Амурская область                                        185677.833333   \n",
       "     Архангельская область                                   210893.000000   \n",
       "     Астраханская область                                    171080.250000   \n",
       "     Белгородская область                                    157150.083333   \n",
       "\n",
       "                            Средняя сумма нового депозита  \n",
       "Год  region                                                \n",
       "2015 Алтайский край                         158110.000000  \n",
       "     Амурская область                       255908.416667  \n",
       "     Архангельская область                  231906.833333  \n",
       "     Астраханская область                   187669.166667  \n",
       "     Белгородская область                   201585.166667  "
      ]
     },
     "execution_count": 97,
     "metadata": {},
     "output_type": "execute_result"
    }
   ],
   "source": [
    "#Сводная таблица.Среднемесячные значения показателей в разрезе года и региона\n",
    "pt = pd.pivot_table(df[(df.Год > 2014)], index=[\"Год\", \"region\"], aggfunc=\"mean\")\n",
    "pt.head()"
   ]
  },
  {
   "cell_type": "code",
   "execution_count": 98,
   "metadata": {},
   "outputs": [
    {
     "data": {
      "text/html": [
       "<div>\n",
       "<style scoped>\n",
       "    .dataframe tbody tr th:only-of-type {\n",
       "        vertical-align: middle;\n",
       "    }\n",
       "\n",
       "    .dataframe tbody tr th {\n",
       "        vertical-align: top;\n",
       "    }\n",
       "\n",
       "    .dataframe thead th {\n",
       "        text-align: right;\n",
       "    }\n",
       "</style>\n",
       "<table border=\"1\" class=\"dataframe\">\n",
       "  <thead>\n",
       "    <tr style=\"text-align: right;\">\n",
       "      <th></th>\n",
       "      <th></th>\n",
       "      <th>Количество заявок на потребительские кредиты</th>\n",
       "      <th>Количество новых депозитов</th>\n",
       "    </tr>\n",
       "    <tr>\n",
       "      <th>region</th>\n",
       "      <th>Год</th>\n",
       "      <th></th>\n",
       "      <th></th>\n",
       "    </tr>\n",
       "  </thead>\n",
       "  <tbody>\n",
       "    <tr>\n",
       "      <th rowspan=\"4\" valign=\"top\">Алтайский край</th>\n",
       "      <th>2015</th>\n",
       "      <td>167281.0</td>\n",
       "      <td>444180.0</td>\n",
       "    </tr>\n",
       "    <tr>\n",
       "      <th>2016</th>\n",
       "      <td>195284.0</td>\n",
       "      <td>394963.0</td>\n",
       "    </tr>\n",
       "    <tr>\n",
       "      <th>2017</th>\n",
       "      <td>218190.0</td>\n",
       "      <td>411012.0</td>\n",
       "    </tr>\n",
       "    <tr>\n",
       "      <th>2018</th>\n",
       "      <td>102929.0</td>\n",
       "      <td>155547.0</td>\n",
       "    </tr>\n",
       "    <tr>\n",
       "      <th rowspan=\"4\" valign=\"top\">Амурская область</th>\n",
       "      <th>2015</th>\n",
       "      <td>56780.0</td>\n",
       "      <td>97998.0</td>\n",
       "    </tr>\n",
       "    <tr>\n",
       "      <th>2016</th>\n",
       "      <td>73999.0</td>\n",
       "      <td>77489.0</td>\n",
       "    </tr>\n",
       "    <tr>\n",
       "      <th>2017</th>\n",
       "      <td>79444.0</td>\n",
       "      <td>85472.0</td>\n",
       "    </tr>\n",
       "    <tr>\n",
       "      <th>2018</th>\n",
       "      <td>36216.0</td>\n",
       "      <td>37390.0</td>\n",
       "    </tr>\n",
       "    <tr>\n",
       "      <th rowspan=\"4\" valign=\"top\">Архангельская область</th>\n",
       "      <th>2015</th>\n",
       "      <td>97314.0</td>\n",
       "      <td>255610.0</td>\n",
       "    </tr>\n",
       "    <tr>\n",
       "      <th>2016</th>\n",
       "      <td>111363.0</td>\n",
       "      <td>213886.0</td>\n",
       "    </tr>\n",
       "    <tr>\n",
       "      <th>2017</th>\n",
       "      <td>119113.0</td>\n",
       "      <td>226359.0</td>\n",
       "    </tr>\n",
       "    <tr>\n",
       "      <th>2018</th>\n",
       "      <td>56794.0</td>\n",
       "      <td>110681.0</td>\n",
       "    </tr>\n",
       "    <tr>\n",
       "      <th rowspan=\"3\" valign=\"top\">Астраханская область</th>\n",
       "      <th>2015</th>\n",
       "      <td>76180.0</td>\n",
       "      <td>193717.0</td>\n",
       "    </tr>\n",
       "    <tr>\n",
       "      <th>2016</th>\n",
       "      <td>98947.0</td>\n",
       "      <td>154630.0</td>\n",
       "    </tr>\n",
       "    <tr>\n",
       "      <th>2017</th>\n",
       "      <td>94018.0</td>\n",
       "      <td>171238.0</td>\n",
       "    </tr>\n",
       "  </tbody>\n",
       "</table>\n",
       "</div>"
      ],
      "text/plain": [
       "                            Количество заявок на потребительские кредиты  \\\n",
       "region                Год                                                  \n",
       "Алтайский край        2015                                      167281.0   \n",
       "                      2016                                      195284.0   \n",
       "                      2017                                      218190.0   \n",
       "                      2018                                      102929.0   \n",
       "Амурская область      2015                                       56780.0   \n",
       "                      2016                                       73999.0   \n",
       "                      2017                                       79444.0   \n",
       "                      2018                                       36216.0   \n",
       "Архангельская область 2015                                       97314.0   \n",
       "                      2016                                      111363.0   \n",
       "                      2017                                      119113.0   \n",
       "                      2018                                       56794.0   \n",
       "Астраханская область  2015                                       76180.0   \n",
       "                      2016                                       98947.0   \n",
       "                      2017                                       94018.0   \n",
       "\n",
       "                            Количество новых депозитов  \n",
       "region                Год                               \n",
       "Алтайский край        2015                    444180.0  \n",
       "                      2016                    394963.0  \n",
       "                      2017                    411012.0  \n",
       "                      2018                    155547.0  \n",
       "Амурская область      2015                     97998.0  \n",
       "                      2016                     77489.0  \n",
       "                      2017                     85472.0  \n",
       "                      2018                     37390.0  \n",
       "Архангельская область 2015                    255610.0  \n",
       "                      2016                    213886.0  \n",
       "                      2017                    226359.0  \n",
       "                      2018                    110681.0  \n",
       "Астраханская область  2015                    193717.0  \n",
       "                      2016                    154630.0  \n",
       "                      2017                    171238.0  "
      ]
     },
     "execution_count": 98,
     "metadata": {},
     "output_type": "execute_result"
    }
   ],
   "source": [
    "#Сводная таблица.Суммарные значения показателей в разрезе региона и года\n",
    "pt = pd.pivot_table(df[(df.Год > 2014)], index=[\"region\", \"Год\"], aggfunc=\"sum\")\n",
    "pt[[\"Количество заявок на потребительские кредиты\", \"Количество новых депозитов\"]].head(15)"
   ]
  },
  {
   "cell_type": "code",
   "execution_count": 99,
   "metadata": {},
   "outputs": [
    {
     "data": {
      "image/png": "[encoded data removed]",
      "text/plain": [
       "<Figure size 432x288 with 2 Axes>"
      ]
     },
     "metadata": {},
     "output_type": "display_data"
    }
   ],
   "source": [
    "fig, ax = plt.subplots(2)\n",
    "ax[0].plot(df_moscow_gb[[\"Количество заявок на ипотечные кредиты\"]],label = \"Количество заявок на ипотечные кредиты\")\n",
    "ax[1].plot(df_moscow_gb[[\"Количество новых депозитов\"]], \"-g\", label = \"Количество новых депозитов\")\n",
    "fig.legend();"
   ]
  },
  {
   "cell_type": "markdown",
   "metadata": {},
   "source": [
    "### 7) Циклы"
   ]
  },
  {
   "cell_type": "code",
   "execution_count": 100,
   "metadata": {},
   "outputs": [],
   "source": [
    "x = np.arange(10)"
   ]
  },
  {
   "cell_type": "code",
   "execution_count": 101,
   "metadata": {},
   "outputs": [
    {
     "name": "stdout",
     "output_type": "stream",
     "text": [
      "[0, 1, 4, 9, 16, 25, 36, 49, 64, 81] "
     ]
    }
   ],
   "source": [
    "y=[]\n",
    "for i in np.arange(10):\n",
    "    y.append(i**2)\n",
    "print(y, end=' ')"
   ]
  },
  {
   "cell_type": "code",
   "execution_count": 102,
   "metadata": {},
   "outputs": [
    {
     "name": "stdout",
     "output_type": "stream",
     "text": [
      "[0, 1, 4, 9, 16, 25, 36, 49, 64, 81] "
     ]
    }
   ],
   "source": [
    "y=[]\n",
    "y = [i**2 for i in np.arange(10)]\n",
    "print(y, end=' ')"
   ]
  },
  {
   "cell_type": "code",
   "execution_count": 103,
   "metadata": {},
   "outputs": [
    {
     "name": "stdout",
     "output_type": "stream",
     "text": [
      "[0, 1, 4, 9, 16, 25, 36, 49, 64, 81] "
     ]
    }
   ],
   "source": [
    "def dub(x):\n",
    "    return x**2\n",
    "y=[]\n",
    "y = [dub(i) for i in np.arange(10)]\n",
    "print(y, end=' ')"
   ]
  },
  {
   "cell_type": "code",
   "execution_count": 104,
   "metadata": {},
   "outputs": [
    {
     "name": "stdout",
     "output_type": "stream",
     "text": [
      "[ 0  1  4  9 16 25 36 49 64 81] "
     ]
    }
   ],
   "source": [
    "y=[]\n",
    "y=dub(np.arange(10))\n",
    "print(y, end=' ')"
   ]
  },
  {
   "cell_type": "code",
   "execution_count": 105,
   "metadata": {},
   "outputs": [
    {
     "name": "stdout",
     "output_type": "stream",
     "text": [
      "[ 0  1  4  9 16 25 36 49 64 81] "
     ]
    }
   ],
   "source": [
    "y=(lambda i: i**2)(np.arange(10))\n",
    "print(y, end=' ')"
   ]
  },
  {
   "cell_type": "markdown",
   "metadata": {},
   "source": [
    "<font color=darkblue>мониторинг исполнения цикла"
   ]
  },
  {
   "cell_type": "code",
   "execution_count": 106,
   "metadata": {},
   "outputs": [],
   "source": [
    "from tqdm import tqdm_notebook as tqdm"
   ]
  },
  {
   "cell_type": "code",
   "execution_count": 107,
   "metadata": {},
   "outputs": [],
   "source": [
    "for i in np.arange(100):\n",
    "    time.sleep(0.1)"
   ]
  },
  {
   "cell_type": "code",
   "execution_count": 108,
   "metadata": {},
   "outputs": [
    {
     "data": {
      "application/vnd.jupyter.widget-view+json": {
       "model_id": "83934916244a4570af64bbf290a2fdd5",
       "version_major": 2,
       "version_minor": 0
      },
      "text/plain": [
       "HBox(children=(IntProgress(value=0), HTML(value='')))"
      ]
     },
     "metadata": {},
     "output_type": "display_data"
    },
    {
     "name": "stdout",
     "output_type": "stream",
     "text": [
      "\n"
     ]
    }
   ],
   "source": [
    "for i in tqdm(np.arange(100)):\n",
    "    time.sleep(0.1)"
   ]
  },
  {
   "cell_type": "markdown",
   "metadata": {},
   "source": [
    "### 8) Библиотека машинного обучения  Scikit-learn\n",
    "<font color=darkblue>sklearn - проект с открытым исходным кодом. Проект scikit-learn постоянно развивается и совершенствуется, и у него очень активное сообщество пользователей. Он содержит ряд современных алгоритмов машинного обучения, а также полную документацию по каждому алгоритму. scikit-learn – очень популярный инструмент и самая известная питоновская библиотека для машинного обучения. Она широко используется в промышленности и науке, а в интернете имеется богатый выбор обучающих материалов и примеров программного кода\n",
    "\n",
    "Подключим бибилиотеку"
   ]
  },
  {
   "cell_type": "code",
   "execution_count": 109,
   "metadata": {},
   "outputs": [],
   "source": [
    "import sklearn"
   ]
  },
  {
   "attachments": {
    "image.jpeg": {
     "image/jpeg": "[encoded data removed]"
    }
   },
   "cell_type": "markdown",
   "metadata": {},
   "source": [
    "<font color=darkblue>Библиотека имеет в том числе и данные для загрузки и самостоятельного обучения, рассмотрим набор данных Iris, классический набор данных в машинном обучении и статистике. Он уже включен в модуль datasets библиотеки scikit-learn. Его можно загрузить, вызвав функцию load_iris \n",
    "![image.jpeg](attachment:image.jpeg)\n",
    "собранные данные по длине и ширине лепестков, а также длине и ширине чашелистиков, помогают определить принадлежность к сортам setosa, versicolor и virginica"
   ]
  },
  {
   "cell_type": "code",
   "execution_count": 110,
   "metadata": {},
   "outputs": [],
   "source": [
    "from sklearn.datasets import load_iris\n",
    "iris_dataset = load_iris()"
   ]
  },
  {
   "cell_type": "code",
   "execution_count": 111,
   "metadata": {},
   "outputs": [],
   "source": [
    "iris = pd.DataFrame(iris_dataset['data'], columns=iris_dataset.feature_names)\n",
    "iris['target']=iris_dataset['target']"
   ]
  },
  {
   "cell_type": "markdown",
   "metadata": {},
   "source": [
    "<font color=darkblue>Визуализируем данные, зависимость класса от 4-х измерений. Видим что один класс четко отделим "
   ]
  },
  {
   "cell_type": "code",
   "execution_count": 112,
   "metadata": {},
   "outputs": [
    {
     "data": {
      "image/png": "[encoded data removed]",
      "text/plain": [
       "<Figure size 941.625x900 with 30 Axes>"
      ]
     },
     "metadata": {},
     "output_type": "display_data"
    }
   ],
   "source": [
    "sns.pairplot(iris, hue='target', size=2.5); "
   ]
  },
  {
   "cell_type": "markdown",
   "metadata": {},
   "source": [
    "<font color=darkblue>Построим модель \"Решающего дерева\" и прогноз и посчитаем точность.\n"
   ]
  },
  {
   "cell_type": "code",
   "execution_count": 113,
   "metadata": {},
   "outputs": [],
   "source": [
    "from sklearn import tree\n",
    "clf = tree.DecisionTreeClassifier(max_depth=4).fit(iris_dataset['data'], iris_dataset['target'])"
   ]
  },
  {
   "cell_type": "markdown",
   "metadata": {},
   "source": [
    "<font color=darkblue>Визуализируем наше решающее дерево в виде красивой интуитивно-понятной виуализации.\n",
    "\n",
    "Показано дерево где на каждом узле ветвления показывает:\n",
    "- сравнение параметра с порогом.\n",
    "- (samples) процентное соотнощение объектов попавшие в левую или правую ветвь\n",
    "- (value) соотношение классов на кажлом узле (градиент цвета показывает какого класса больше, если белый, то равенство)\n",
    "\n"
   ]
  },
  {
   "cell_type": "code",
   "execution_count": 68,
   "metadata": {},
   "outputs": [
    {
     "data": {
      "image/svg+xml": [
       "<?xml version=\"1.0\" encoding=\"UTF-8\" standalone=\"no\"?>\n",
       "<!DOCTYPE svg PUBLIC \"-//W3C//DTD SVG 1.1//EN\"\n",
       " \"http://www.w3.org/Graphics/SVG/1.1/DTD/svg11.dtd\">\n",
       "<!-- Generated by graphviz version 2.40.1 (20161225.0304)\n",
       " -->\n",
       "<!-- Title: Tree Pages: 1 -->\n",
       "<svg width=\"824pt\" height=\"402pt\"\n",
       " viewBox=\"0.00 0.00 824.00 402.00\" xmlns=\"http://www.w3.org/2000/svg\" xmlns:xlink=\"http://www.w3.org/1999/xlink\">\n",
       "<g id=\"graph0\" class=\"graph\" transform=\"scale(1 1) rotate(0) translate(4 398)\">\n",
       "<title>Tree</title>\n",
       "<polygon fill=\"#ffffff\" stroke=\"transparent\" points=\"-4,4 -4,-398 820,-398 820,4 -4,4\"/>\n",
       "<!-- 0 -->\n",
       "<g id=\"node1\" class=\"node\">\n",
       "<title>0</title>\n",
       "<path fill=\"transparent\" stroke=\"#000000\" d=\"M500.5,-394C500.5,-394 374.5,-394 374.5,-394 368.5,-394 362.5,-388 362.5,-382 362.5,-382 362.5,-353 362.5,-353 362.5,-347 368.5,-341 374.5,-341 374.5,-341 500.5,-341 500.5,-341 506.5,-341 512.5,-347 512.5,-353 512.5,-353 512.5,-382 512.5,-382 512.5,-388 506.5,-394 500.5,-394\"/>\n",
       "<text text-anchor=\"middle\" x=\"437.5\" y=\"-378.8\" font-family=\"Helvetica,sans-Serif\" font-size=\"14.00\" fill=\"#000000\">petal width (cm) &lt;= 0.8</text>\n",
       "<text text-anchor=\"middle\" x=\"437.5\" y=\"-363.8\" font-family=\"Helvetica,sans-Serif\" font-size=\"14.00\" fill=\"#000000\">samples = 100.0%</text>\n",
       "<text text-anchor=\"middle\" x=\"437.5\" y=\"-348.8\" font-family=\"Helvetica,sans-Serif\" font-size=\"14.00\" fill=\"#000000\">value = [0.333, 0.333, 0.333]</text>\n",
       "</g>\n",
       "<!-- 1 -->\n",
       "<g id=\"node2\" class=\"node\">\n",
       "<title>1</title>\n",
       "<path fill=\"#e58139\" stroke=\"#000000\" d=\"M413,-297.5C413,-297.5 322,-297.5 322,-297.5 316,-297.5 310,-291.5 310,-285.5 310,-285.5 310,-271.5 310,-271.5 310,-265.5 316,-259.5 322,-259.5 322,-259.5 413,-259.5 413,-259.5 419,-259.5 425,-265.5 425,-271.5 425,-271.5 425,-285.5 425,-285.5 425,-291.5 419,-297.5 413,-297.5\"/>\n",
       "<text text-anchor=\"middle\" x=\"367.5\" y=\"-282.3\" font-family=\"Helvetica,sans-Serif\" font-size=\"14.00\" fill=\"#000000\">samples = 33.3%</text>\n",
       "<text text-anchor=\"middle\" x=\"367.5\" y=\"-267.3\" font-family=\"Helvetica,sans-Serif\" font-size=\"14.00\" fill=\"#000000\">value = [1.0, 0.0, 0.0]</text>\n",
       "</g>\n",
       "<!-- 0&#45;&gt;1 -->\n",
       "<g id=\"edge1\" class=\"edge\">\n",
       "<title>0&#45;&gt;1</title>\n",
       "<path fill=\"none\" stroke=\"#000000\" d=\"M416.4977,-340.7971C407.7689,-329.699 397.6494,-316.8328 388.881,-305.6844\"/>\n",
       "<polygon fill=\"#000000\" stroke=\"#000000\" points=\"391.4177,-303.2482 382.4845,-297.5518 385.9156,-307.5757 391.4177,-303.2482\"/>\n",
       "<text text-anchor=\"middle\" x=\"379.5182\" y=\"-318.6752\" font-family=\"Helvetica,sans-Serif\" font-size=\"14.00\" fill=\"#000000\">True</text>\n",
       "</g>\n",
       "<!-- 2 -->\n",
       "<g id=\"node3\" class=\"node\">\n",
       "<title>2</title>\n",
       "<path fill=\"transparent\" stroke=\"#000000\" d=\"M560,-305C560,-305 455,-305 455,-305 449,-305 443,-299 443,-293 443,-293 443,-264 443,-264 443,-258 449,-252 455,-252 455,-252 560,-252 560,-252 566,-252 572,-258 572,-264 572,-264 572,-293 572,-293 572,-299 566,-305 560,-305\"/>\n",
       "<text text-anchor=\"middle\" x=\"507.5\" y=\"-289.8\" font-family=\"Helvetica,sans-Serif\" font-size=\"14.00\" fill=\"#000000\">petal width (cm) &lt;= 1.75</text>\n",
       "<text text-anchor=\"middle\" x=\"507.5\" y=\"-274.8\" font-family=\"Helvetica,sans-Serif\" font-size=\"14.00\" fill=\"#000000\">samples = 66.7%</text>\n",
       "<text text-anchor=\"middle\" x=\"507.5\" y=\"-259.8\" font-family=\"Helvetica,sans-Serif\" font-size=\"14.00\" fill=\"#000000\">value = [0.0, 0.5, 0.5]</text>\n",
       "</g>\n",
       "<!-- 0&#45;&gt;2 -->\n",
       "<g id=\"edge2\" class=\"edge\">\n",
       "<title>0&#45;&gt;2</title>\n",
       "<path fill=\"none\" stroke=\"#000000\" d=\"M458.5023,-340.7971C465.3547,-332.0847 473.0642,-322.2826 480.3042,-313.0775\"/>\n",
       "<polygon fill=\"#000000\" stroke=\"#000000\" points=\"483.0814,-315.208 486.5125,-305.1841 477.5793,-310.8805 483.0814,-315.208\"/>\n",
       "<text text-anchor=\"middle\" x=\"489.4788\" y=\"-326.3075\" font-family=\"Helvetica,sans-Serif\" font-size=\"14.00\" fill=\"#000000\">False</text>\n",
       "</g>\n",
       "<!-- 3 -->\n",
       "<g id=\"node4\" class=\"node\">\n",
       "<title>3</title>\n",
       "<path fill=\"#39e581\" fill-opacity=\"0.898039\" stroke=\"#000000\" d=\"M458.5,-216C458.5,-216 344.5,-216 344.5,-216 338.5,-216 332.5,-210 332.5,-204 332.5,-204 332.5,-175 332.5,-175 332.5,-169 338.5,-163 344.5,-163 344.5,-163 458.5,-163 458.5,-163 464.5,-163 470.5,-169 470.5,-175 470.5,-175 470.5,-204 470.5,-204 470.5,-210 464.5,-216 458.5,-216\"/>\n",
       "<text text-anchor=\"middle\" x=\"401.5\" y=\"-200.8\" font-family=\"Helvetica,sans-Serif\" font-size=\"14.00\" fill=\"#000000\">petal length (cm) &lt;= 4.95</text>\n",
       "<text text-anchor=\"middle\" x=\"401.5\" y=\"-185.8\" font-family=\"Helvetica,sans-Serif\" font-size=\"14.00\" fill=\"#000000\">samples = 36.0%</text>\n",
       "<text text-anchor=\"middle\" x=\"401.5\" y=\"-170.8\" font-family=\"Helvetica,sans-Serif\" font-size=\"14.00\" fill=\"#000000\">value = [0.0, 0.907, 0.093]</text>\n",
       "</g>\n",
       "<!-- 2&#45;&gt;3 -->\n",
       "<g id=\"edge3\" class=\"edge\">\n",
       "<title>2&#45;&gt;3</title>\n",
       "<path fill=\"none\" stroke=\"#000000\" d=\"M475.6965,-251.7971C464.7959,-242.6447 452.4631,-232.2898 441.0267,-222.6875\"/>\n",
       "<polygon fill=\"#000000\" stroke=\"#000000\" points=\"443.1901,-219.9339 433.281,-216.1841 438.689,-225.2948 443.1901,-219.9339\"/>\n",
       "</g>\n",
       "<!-- 10 -->\n",
       "<g id=\"node11\" class=\"node\">\n",
       "<title>10</title>\n",
       "<path fill=\"#8139e5\" fill-opacity=\"0.976471\" stroke=\"#000000\" d=\"M670.5,-216C670.5,-216 556.5,-216 556.5,-216 550.5,-216 544.5,-210 544.5,-204 544.5,-204 544.5,-175 544.5,-175 544.5,-169 550.5,-163 556.5,-163 556.5,-163 670.5,-163 670.5,-163 676.5,-163 682.5,-169 682.5,-175 682.5,-175 682.5,-204 682.5,-204 682.5,-210 676.5,-216 670.5,-216\"/>\n",
       "<text text-anchor=\"middle\" x=\"613.5\" y=\"-200.8\" font-family=\"Helvetica,sans-Serif\" font-size=\"14.00\" fill=\"#000000\">petal length (cm) &lt;= 4.85</text>\n",
       "<text text-anchor=\"middle\" x=\"613.5\" y=\"-185.8\" font-family=\"Helvetica,sans-Serif\" font-size=\"14.00\" fill=\"#000000\">samples = 30.7%</text>\n",
       "<text text-anchor=\"middle\" x=\"613.5\" y=\"-170.8\" font-family=\"Helvetica,sans-Serif\" font-size=\"14.00\" fill=\"#000000\">value = [0.0, 0.022, 0.978]</text>\n",
       "</g>\n",
       "<!-- 2&#45;&gt;10 -->\n",
       "<g id=\"edge10\" class=\"edge\">\n",
       "<title>2&#45;&gt;10</title>\n",
       "<path fill=\"none\" stroke=\"#000000\" d=\"M539.3035,-251.7971C550.2041,-242.6447 562.5369,-232.2898 573.9733,-222.6875\"/>\n",
       "<polygon fill=\"#000000\" stroke=\"#000000\" points=\"576.311,-225.2948 581.719,-216.1841 571.8099,-219.9339 576.311,-225.2948\"/>\n",
       "</g>\n",
       "<!-- 4 -->\n",
       "<g id=\"node5\" class=\"node\">\n",
       "<title>4</title>\n",
       "<path fill=\"#39e581\" fill-opacity=\"0.980392\" stroke=\"#000000\" d=\"M247.5,-127C247.5,-127 133.5,-127 133.5,-127 127.5,-127 121.5,-121 121.5,-115 121.5,-115 121.5,-86 121.5,-86 121.5,-80 127.5,-74 133.5,-74 133.5,-74 247.5,-74 247.5,-74 253.5,-74 259.5,-80 259.5,-86 259.5,-86 259.5,-115 259.5,-115 259.5,-121 253.5,-127 247.5,-127\"/>\n",
       "<text text-anchor=\"middle\" x=\"190.5\" y=\"-111.8\" font-family=\"Helvetica,sans-Serif\" font-size=\"14.00\" fill=\"#000000\">petal width (cm) &lt;= 1.65</text>\n",
       "<text text-anchor=\"middle\" x=\"190.5\" y=\"-96.8\" font-family=\"Helvetica,sans-Serif\" font-size=\"14.00\" fill=\"#000000\">samples = 32.0%</text>\n",
       "<text text-anchor=\"middle\" x=\"190.5\" y=\"-81.8\" font-family=\"Helvetica,sans-Serif\" font-size=\"14.00\" fill=\"#000000\">value = [0.0, 0.979, 0.021]</text>\n",
       "</g>\n",
       "<!-- 3&#45;&gt;4 -->\n",
       "<g id=\"edge4\" class=\"edge\">\n",
       "<title>3&#45;&gt;4</title>\n",
       "<path fill=\"none\" stroke=\"#000000\" d=\"M338.4788,-162.9176C314.6819,-152.88 287.4234,-141.3824 262.8392,-131.0127\"/>\n",
       "<polygon fill=\"#000000\" stroke=\"#000000\" points=\"264.1349,-127.7607 253.5608,-127.0991 261.4144,-134.2104 264.1349,-127.7607\"/>\n",
       "</g>\n",
       "<!-- 7 -->\n",
       "<g id=\"node8\" class=\"node\">\n",
       "<title>7</title>\n",
       "<path fill=\"#8139e5\" fill-opacity=\"0.498039\" stroke=\"#000000\" d=\"M458.5,-127C458.5,-127 344.5,-127 344.5,-127 338.5,-127 332.5,-121 332.5,-115 332.5,-115 332.5,-86 332.5,-86 332.5,-80 338.5,-74 344.5,-74 344.5,-74 458.5,-74 458.5,-74 464.5,-74 470.5,-80 470.5,-86 470.5,-86 470.5,-115 470.5,-115 470.5,-121 464.5,-127 458.5,-127\"/>\n",
       "<text text-anchor=\"middle\" x=\"401.5\" y=\"-111.8\" font-family=\"Helvetica,sans-Serif\" font-size=\"14.00\" fill=\"#000000\">petal width (cm) &lt;= 1.55</text>\n",
       "<text text-anchor=\"middle\" x=\"401.5\" y=\"-96.8\" font-family=\"Helvetica,sans-Serif\" font-size=\"14.00\" fill=\"#000000\">samples = 4.0%</text>\n",
       "<text text-anchor=\"middle\" x=\"401.5\" y=\"-81.8\" font-family=\"Helvetica,sans-Serif\" font-size=\"14.00\" fill=\"#000000\">value = [0.0, 0.333, 0.667]</text>\n",
       "</g>\n",
       "<!-- 3&#45;&gt;7 -->\n",
       "<g id=\"edge7\" class=\"edge\">\n",
       "<title>3&#45;&gt;7</title>\n",
       "<path fill=\"none\" stroke=\"#000000\" d=\"M401.5,-162.7971C401.5,-154.7887 401.5,-145.8597 401.5,-137.3198\"/>\n",
       "<polygon fill=\"#000000\" stroke=\"#000000\" points=\"405.0001,-137.1841 401.5,-127.1841 398.0001,-137.1841 405.0001,-137.1841\"/>\n",
       "</g>\n",
       "<!-- 5 -->\n",
       "<g id=\"node6\" class=\"node\">\n",
       "<title>5</title>\n",
       "<path fill=\"#39e581\" stroke=\"#000000\" d=\"M103,-38C103,-38 12,-38 12,-38 6,-38 0,-32 0,-26 0,-26 0,-12 0,-12 0,-6 6,0 12,0 12,0 103,0 103,0 109,0 115,-6 115,-12 115,-12 115,-26 115,-26 115,-32 109,-38 103,-38\"/>\n",
       "<text text-anchor=\"middle\" x=\"57.5\" y=\"-22.8\" font-family=\"Helvetica,sans-Serif\" font-size=\"14.00\" fill=\"#000000\">samples = 31.3%</text>\n",
       "<text text-anchor=\"middle\" x=\"57.5\" y=\"-7.8\" font-family=\"Helvetica,sans-Serif\" font-size=\"14.00\" fill=\"#000000\">value = [0.0, 1.0, 0.0]</text>\n",
       "</g>\n",
       "<!-- 4&#45;&gt;5 -->\n",
       "<g id=\"edge5\" class=\"edge\">\n",
       "<title>4&#45;&gt;5</title>\n",
       "<path fill=\"none\" stroke=\"#000000\" d=\"M146.9508,-73.8139C131.1185,-64.1121 113.3078,-53.198 97.7716,-43.6777\"/>\n",
       "<polygon fill=\"#000000\" stroke=\"#000000\" points=\"99.2743,-40.4937 88.9191,-38.2531 95.6169,-46.4623 99.2743,-40.4937\"/>\n",
       "</g>\n",
       "<!-- 6 -->\n",
       "<g id=\"node7\" class=\"node\">\n",
       "<title>6</title>\n",
       "<path fill=\"#8139e5\" stroke=\"#000000\" d=\"M236,-38C236,-38 145,-38 145,-38 139,-38 133,-32 133,-26 133,-26 133,-12 133,-12 133,-6 139,0 145,0 145,0 236,0 236,0 242,0 248,-6 248,-12 248,-12 248,-26 248,-26 248,-32 242,-38 236,-38\"/>\n",
       "<text text-anchor=\"middle\" x=\"190.5\" y=\"-22.8\" font-family=\"Helvetica,sans-Serif\" font-size=\"14.00\" fill=\"#000000\">samples = 0.7%</text>\n",
       "<text text-anchor=\"middle\" x=\"190.5\" y=\"-7.8\" font-family=\"Helvetica,sans-Serif\" font-size=\"14.00\" fill=\"#000000\">value = [0.0, 0.0, 1.0]</text>\n",
       "</g>\n",
       "<!-- 4&#45;&gt;6 -->\n",
       "<g id=\"edge6\" class=\"edge\">\n",
       "<title>4&#45;&gt;6</title>\n",
       "<path fill=\"none\" stroke=\"#000000\" d=\"M190.5,-73.8139C190.5,-65.6535 190.5,-56.6354 190.5,-48.3105\"/>\n",
       "<polygon fill=\"#000000\" stroke=\"#000000\" points=\"194.0001,-48.253 190.5,-38.2531 187.0001,-48.2531 194.0001,-48.253\"/>\n",
       "</g>\n",
       "<!-- 8 -->\n",
       "<g id=\"node9\" class=\"node\">\n",
       "<title>8</title>\n",
       "<path fill=\"#8139e5\" stroke=\"#000000\" d=\"M369,-38C369,-38 278,-38 278,-38 272,-38 266,-32 266,-26 266,-26 266,-12 266,-12 266,-6 272,0 278,0 278,0 369,0 369,0 375,0 381,-6 381,-12 381,-12 381,-26 381,-26 381,-32 375,-38 369,-38\"/>\n",
       "<text text-anchor=\"middle\" x=\"323.5\" y=\"-22.8\" font-family=\"Helvetica,sans-Serif\" font-size=\"14.00\" fill=\"#000000\">samples = 2.0%</text>\n",
       "<text text-anchor=\"middle\" x=\"323.5\" y=\"-7.8\" font-family=\"Helvetica,sans-Serif\" font-size=\"14.00\" fill=\"#000000\">value = [0.0, 0.0, 1.0]</text>\n",
       "</g>\n",
       "<!-- 7&#45;&gt;8 -->\n",
       "<g id=\"edge8\" class=\"edge\">\n",
       "<title>7&#45;&gt;8</title>\n",
       "<path fill=\"none\" stroke=\"#000000\" d=\"M375.9599,-73.8139C367.2822,-64.7468 357.5911,-54.6208 348.9226,-45.5634\"/>\n",
       "<polygon fill=\"#000000\" stroke=\"#000000\" points=\"351.3691,-43.0576 341.9262,-38.2531 346.3119,-47.8976 351.3691,-43.0576\"/>\n",
       "</g>\n",
       "<!-- 9 -->\n",
       "<g id=\"node10\" class=\"node\">\n",
       "<title>9</title>\n",
       "<path fill=\"#39e581\" fill-opacity=\"0.498039\" stroke=\"#000000\" d=\"M525.5,-38C525.5,-38 411.5,-38 411.5,-38 405.5,-38 399.5,-32 399.5,-26 399.5,-26 399.5,-12 399.5,-12 399.5,-6 405.5,0 411.5,0 411.5,0 525.5,0 525.5,0 531.5,0 537.5,-6 537.5,-12 537.5,-12 537.5,-26 537.5,-26 537.5,-32 531.5,-38 525.5,-38\"/>\n",
       "<text text-anchor=\"middle\" x=\"468.5\" y=\"-22.8\" font-family=\"Helvetica,sans-Serif\" font-size=\"14.00\" fill=\"#000000\">samples = 2.0%</text>\n",
       "<text text-anchor=\"middle\" x=\"468.5\" y=\"-7.8\" font-family=\"Helvetica,sans-Serif\" font-size=\"14.00\" fill=\"#000000\">value = [0.0, 0.667, 0.333]</text>\n",
       "</g>\n",
       "<!-- 7&#45;&gt;9 -->\n",
       "<g id=\"edge9\" class=\"edge\">\n",
       "<title>7&#45;&gt;9</title>\n",
       "<path fill=\"none\" stroke=\"#000000\" d=\"M423.4383,-73.8139C430.7432,-64.9281 438.884,-55.0255 446.2148,-46.1081\"/>\n",
       "<polygon fill=\"#000000\" stroke=\"#000000\" points=\"449.0255,-48.2005 452.6723,-38.2531 443.6182,-43.7552 449.0255,-48.2005\"/>\n",
       "</g>\n",
       "<!-- 11 -->\n",
       "<g id=\"node12\" class=\"node\">\n",
       "<title>11</title>\n",
       "<path fill=\"#8139e5\" fill-opacity=\"0.498039\" stroke=\"#000000\" d=\"M670.5,-127C670.5,-127 556.5,-127 556.5,-127 550.5,-127 544.5,-121 544.5,-115 544.5,-115 544.5,-86 544.5,-86 544.5,-80 550.5,-74 556.5,-74 556.5,-74 670.5,-74 670.5,-74 676.5,-74 682.5,-80 682.5,-86 682.5,-86 682.5,-115 682.5,-115 682.5,-121 676.5,-127 670.5,-127\"/>\n",
       "<text text-anchor=\"middle\" x=\"613.5\" y=\"-111.8\" font-family=\"Helvetica,sans-Serif\" font-size=\"14.00\" fill=\"#000000\">sepal length (cm) &lt;= 5.95</text>\n",
       "<text text-anchor=\"middle\" x=\"613.5\" y=\"-96.8\" font-family=\"Helvetica,sans-Serif\" font-size=\"14.00\" fill=\"#000000\">samples = 2.0%</text>\n",
       "<text text-anchor=\"middle\" x=\"613.5\" y=\"-81.8\" font-family=\"Helvetica,sans-Serif\" font-size=\"14.00\" fill=\"#000000\">value = [0.0, 0.333, 0.667]</text>\n",
       "</g>\n",
       "<!-- 10&#45;&gt;11 -->\n",
       "<g id=\"edge11\" class=\"edge\">\n",
       "<title>10&#45;&gt;11</title>\n",
       "<path fill=\"none\" stroke=\"#000000\" d=\"M613.5,-162.7971C613.5,-154.7887 613.5,-145.8597 613.5,-137.3198\"/>\n",
       "<polygon fill=\"#000000\" stroke=\"#000000\" points=\"617.0001,-137.1841 613.5,-127.1841 610.0001,-137.1841 617.0001,-137.1841\"/>\n",
       "</g>\n",
       "<!-- 14 -->\n",
       "<g id=\"node15\" class=\"node\">\n",
       "<title>14</title>\n",
       "<path fill=\"#8139e5\" stroke=\"#000000\" d=\"M804,-119.5C804,-119.5 713,-119.5 713,-119.5 707,-119.5 701,-113.5 701,-107.5 701,-107.5 701,-93.5 701,-93.5 701,-87.5 707,-81.5 713,-81.5 713,-81.5 804,-81.5 804,-81.5 810,-81.5 816,-87.5 816,-93.5 816,-93.5 816,-107.5 816,-107.5 816,-113.5 810,-119.5 804,-119.5\"/>\n",
       "<text text-anchor=\"middle\" x=\"758.5\" y=\"-104.3\" font-family=\"Helvetica,sans-Serif\" font-size=\"14.00\" fill=\"#000000\">samples = 28.7%</text>\n",
       "<text text-anchor=\"middle\" x=\"758.5\" y=\"-89.3\" font-family=\"Helvetica,sans-Serif\" font-size=\"14.00\" fill=\"#000000\">value = [0.0, 0.0, 1.0]</text>\n",
       "</g>\n",
       "<!-- 10&#45;&gt;14 -->\n",
       "<g id=\"edge14\" class=\"edge\">\n",
       "<title>10&#45;&gt;14</title>\n",
       "<path fill=\"none\" stroke=\"#000000\" d=\"M657.0048,-162.7971C676.5927,-150.7742 699.5614,-136.6761 718.69,-124.9351\"/>\n",
       "<polygon fill=\"#000000\" stroke=\"#000000\" points=\"720.7689,-127.7659 727.4606,-119.5518 717.107,-121.8 720.7689,-127.7659\"/>\n",
       "</g>\n",
       "<!-- 12 -->\n",
       "<g id=\"node13\" class=\"node\">\n",
       "<title>12</title>\n",
       "<path fill=\"#39e581\" stroke=\"#000000\" d=\"M659,-38C659,-38 568,-38 568,-38 562,-38 556,-32 556,-26 556,-26 556,-12 556,-12 556,-6 562,0 568,0 568,0 659,0 659,0 665,0 671,-6 671,-12 671,-12 671,-26 671,-26 671,-32 665,-38 659,-38\"/>\n",
       "<text text-anchor=\"middle\" x=\"613.5\" y=\"-22.8\" font-family=\"Helvetica,sans-Serif\" font-size=\"14.00\" fill=\"#000000\">samples = 0.7%</text>\n",
       "<text text-anchor=\"middle\" x=\"613.5\" y=\"-7.8\" font-family=\"Helvetica,sans-Serif\" font-size=\"14.00\" fill=\"#000000\">value = [0.0, 1.0, 0.0]</text>\n",
       "</g>\n",
       "<!-- 11&#45;&gt;12 -->\n",
       "<g id=\"edge12\" class=\"edge\">\n",
       "<title>11&#45;&gt;12</title>\n",
       "<path fill=\"none\" stroke=\"#000000\" d=\"M613.5,-73.8139C613.5,-65.6535 613.5,-56.6354 613.5,-48.3105\"/>\n",
       "<polygon fill=\"#000000\" stroke=\"#000000\" points=\"617.0001,-48.253 613.5,-38.2531 610.0001,-48.2531 617.0001,-48.253\"/>\n",
       "</g>\n",
       "<!-- 13 -->\n",
       "<g id=\"node14\" class=\"node\">\n",
       "<title>13</title>\n",
       "<path fill=\"#8139e5\" stroke=\"#000000\" d=\"M792,-38C792,-38 701,-38 701,-38 695,-38 689,-32 689,-26 689,-26 689,-12 689,-12 689,-6 695,0 701,0 701,0 792,0 792,0 798,0 804,-6 804,-12 804,-12 804,-26 804,-26 804,-32 798,-38 792,-38\"/>\n",
       "<text text-anchor=\"middle\" x=\"746.5\" y=\"-22.8\" font-family=\"Helvetica,sans-Serif\" font-size=\"14.00\" fill=\"#000000\">samples = 1.3%</text>\n",
       "<text text-anchor=\"middle\" x=\"746.5\" y=\"-7.8\" font-family=\"Helvetica,sans-Serif\" font-size=\"14.00\" fill=\"#000000\">value = [0.0, 0.0, 1.0]</text>\n",
       "</g>\n",
       "<!-- 11&#45;&gt;13 -->\n",
       "<g id=\"edge13\" class=\"edge\">\n",
       "<title>11&#45;&gt;13</title>\n",
       "<path fill=\"none\" stroke=\"#000000\" d=\"M657.0492,-73.8139C672.8815,-64.1121 690.6922,-53.198 706.2284,-43.6777\"/>\n",
       "<polygon fill=\"#000000\" stroke=\"#000000\" points=\"708.3831,-46.4623 715.0809,-38.2531 704.7257,-40.4937 708.3831,-46.4623\"/>\n",
       "</g>\n",
       "</g>\n",
       "</svg>\n"
      ],
      "text/plain": [
       "<graphviz.files.Source at 0x1a1af67e80>"
      ]
     },
     "execution_count": 68,
     "metadata": {},
     "output_type": "execute_result"
    }
   ],
   "source": [
    "import graphviz\n",
    "graph = graphviz.Source( tree.export_graphviz(clf, feature_names=iris_dataset.feature_names, impurity=False,proportion=True,rounded=True, filled=True) )\n",
    "graph"
   ]
  },
  {
   "cell_type": "markdown",
   "metadata": {},
   "source": [
    "Проверим точность прогноза на нашей модели, как мы смогли описать деревом наши данные"
   ]
  },
  {
   "cell_type": "code",
   "execution_count": 69,
   "metadata": {},
   "outputs": [
    {
     "name": "stdout",
     "output_type": "stream",
     "text": [
      "Точность(процент данных прогноз совпал с правльным значением) : 99.33333333333333\n"
     ]
    }
   ],
   "source": [
    "print(\"Точность(процент данных прогноз совпал с правльным значением) :\",np.mean(clf.predict(iris_dataset['data'])==iris_dataset['target'])*100) \n"
   ]
  },
  {
   "cell_type": "markdown",
   "metadata": {},
   "source": [
    "<font color=darkblue>Результат выглядит замечательным!! далее на курсе мы узнаем можно ли ему доверять"
   ]
  },
  {
   "cell_type": "code",
   "execution_count": null,
   "metadata": {},
   "outputs": [],
   "source": []
  }
 ],
 "metadata": {
  "kernelspec": {
   "display_name": "Python 3",
   "language": "python",
   "name": "python3"
  },
  "language_info": {
   "codemirror_mode": {
    "name": "ipython",
    "version": 3
   },
   "file_extension": ".py",
   "mimetype": "text/x-python",
   "name": "python",
   "nbconvert_exporter": "python",
   "pygments_lexer": "ipython3",
   "version": "3.6.5"
  }
 },
 "nbformat": 4,
 "nbformat_minor": 2
}
