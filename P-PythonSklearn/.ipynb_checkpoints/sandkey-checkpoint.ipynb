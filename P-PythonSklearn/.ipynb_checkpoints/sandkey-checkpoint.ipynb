{
 "cells": [
  {
   "cell_type": "markdown",
   "metadata": {},
   "source": [
    "## Основы Python, numPy, pandas на примере данных Auto.ru"
   ]
  },
  {
   "cell_type": "markdown",
   "metadata": {},
   "source": [
    "<font color=darkblue>Импортируем нужные пакеты"
   ]
  },
  {
   "cell_type": "code",
   "execution_count": null,
   "metadata": {},
   "outputs": [],
   "source": [
    "import pandas as pd\n",
    "import numpy as np\n",
    "import re\n",
    "from datetime import date as Date\n",
    "from numpy import nan as NaN\n",
    "\n",
    "%matplotlib inline"
   ]
  },
  {
   "cell_type": "markdown",
   "metadata": {},
   "source": [
    "<font color=darkblue>Файлы с входными/выходными данными"
   ]
  },
  {
   "cell_type": "code",
   "execution_count": null,
   "metadata": {},
   "outputs": [],
   "source": [
    "INPUT_FILE = u'../data/auto.ru.csv'\n",
    "OUTPUT_FILE = u'../data/auto.ru_data1.csv'"
   ]
  },
  {
   "cell_type": "markdown",
   "metadata": {},
   "source": [
    "<font color=darkblue>Загрузка данных из csv-файла в датафрейм"
   ]
  },
  {
   "cell_type": "code",
   "execution_count": null,
   "metadata": {},
   "outputs": [],
   "source": [
    "df = pd.read_csv(u'../data/auto.ru_data.csv')"
   ]
  },
  {
   "cell_type": "markdown",
   "metadata": {},
   "source": [
    "<font color=darkblue>Вывод первых пяти строк датафрейма"
   ]
  },
  {
   "cell_type": "code",
   "execution_count": null,
   "metadata": {},
   "outputs": [],
   "source": [
    "df.head(5)"
   ]
  },
  {
   "cell_type": "markdown",
   "metadata": {},
   "source": [
    "<font color=darkblue>Количество строк в датафрейме"
   ]
  },
  {
   "cell_type": "code",
   "execution_count": null,
   "metadata": {},
   "outputs": [],
   "source": [
    "len(df)"
   ]
  },
  {
   "cell_type": "markdown",
   "metadata": {},
   "source": [
    "<font color=darkblue>Функция для разбора названия на марку и модель"
   ]
  },
  {
   "cell_type": "code",
   "execution_count": null,
   "metadata": {},
   "outputs": [],
   "source": [
    "def get_mark_and_model(name):\n",
    "    if name is NaN:\n",
    "        mark = NaN\n",
    "        model = NaN\n",
    "    else:\n",
    "        # Массив моделей с названиями из нескольких слов\n",
    "        auto_marks = [\"Great Wall\", \"Land Rover\", \"Alfa Romeo\"]\n",
    "            \n",
    "        mark = NaN\n",
    "        model = NaN\n",
    "        \n",
    "        for auto_marks in auto_marks:\n",
    "            if name.startswith(auto_marks):\n",
    "                mark = auto_marks\n",
    "                model = name[len(mark):].strip()\n",
    "        \n",
    "        if mark is NaN and model is NaN:\n",
    "            words = name.split()\n",
    "            mark = words[0]\n",
    "            model = \" \".join(words[1:])\n",
    "       \n",
    "    return mark, model"
   ]
  },
  {
   "cell_type": "markdown",
   "metadata": {},
   "source": [
    "<font color=darkblue>Использование лямбда-выражений на примере применения функции разбора названия для каждого элемента столбца \"Название\""
   ]
  },
  {
   "cell_type": "code",
   "execution_count": null,
   "metadata": {},
   "outputs": [],
   "source": [
    "df[\"Марка\"], df[\"Модель\"] = zip(*df[\"Название\"].apply(lambda x: get_mark_and_model(x)))"
   ]
  },
  {
   "cell_type": "markdown",
   "metadata": {},
   "source": [
    "<font color=darkblue>Вывод первых десяти строк определенного набора столбцов датафрейма, заданного массивом наименований"
   ]
  },
  {
   "cell_type": "code",
   "execution_count": null,
   "metadata": {},
   "outputs": [],
   "source": [
    "df[[\"Название\", \"Марка\", \"Модель\"]].head(10)"
   ]
  },
  {
   "cell_type": "markdown",
   "metadata": {},
   "source": [
    "<font color=darkblue>Получение перечня уникальных значений столбца \"Марка\""
   ]
  },
  {
   "cell_type": "code",
   "execution_count": null,
   "metadata": {},
   "outputs": [],
   "source": [
    "df.Марка.unique()"
   ]
  },
  {
   "cell_type": "markdown",
   "metadata": {},
   "source": [
    "<font color=darkblue>Функция для разбора поля \"Адрес\" на \"Город\" и остальное"
   ]
  },
  {
   "cell_type": "code",
   "execution_count": null,
   "metadata": {},
   "outputs": [],
   "source": [
    "def get_address(address):\n",
    "    if address is NaN:       \n",
    "        city = NaN\n",
    "        street = NaN\n",
    "    else:\n",
    "        words = address.split()\n",
    "        city = words[0]\n",
    "        city = city.strip(\" ,\")\n",
    "        street = \" \".join(words[1:])\n",
    "       \n",
    "    return city, street"
   ]
  },
  {
   "cell_type": "markdown",
   "metadata": {},
   "source": [
    "<font color=darkblue>Использование лямда-выражения"
   ]
  },
  {
   "cell_type": "code",
   "execution_count": null,
   "metadata": {},
   "outputs": [],
   "source": [
    "df[\"Город\"], df[\"Полный адрес\"] = zip(*df[\"Адрес\"].apply(lambda x: get_address(x)))\n",
    "df[[\"Адрес\", \"Город\", \"Полный адрес\"]].head(10)"
   ]
  },
  {
   "cell_type": "markdown",
   "metadata": {},
   "source": [
    "<font color=darkblue>Функция для разбора поля \"Тип двигателя\" на \"Объем\", \"Мощьность\" и \"Двигатель\"\n",
    "Пример использования регулярных выражений"
   ]
  },
  {
   "cell_type": "code",
   "execution_count": null,
   "metadata": {},
   "outputs": [],
   "source": [
    "def get_engine_type(engine):\n",
    "    if engine is NaN:       \n",
    "        volume = NaN\n",
    "        hp = NaN\n",
    "        engine_type = NaN\n",
    "    else:        \n",
    "        regex = re.search(\"(\\d+\\.\\d+)\\sл\\s/\\s(\\d+)\\sл\\.с\\.\\s/\\s([а-яА-яёЁ]+)\", engine)\n",
    "    \n",
    "        if regex is not None:\n",
    "            volume = float(regex.group(1))\n",
    "            hp = int(regex.group(2))\n",
    "            engine_type = regex.group(3)\n",
    "        else:           \n",
    "            volume = NaN\n",
    "            hp = NaN\n",
    "            engine_type = NaN\n",
    "       \n",
    "    return volume, hp, engine_type"
   ]
  },
  {
   "cell_type": "markdown",
   "metadata": {},
   "source": [
    "<font color=darkblue>Тип двигателя."
   ]
  },
  {
   "cell_type": "code",
   "execution_count": null,
   "metadata": {},
   "outputs": [],
   "source": [
    "df[\"Объем двигателя\"], df[\"Мощность двигателя\"], df[\"Двигатель\"] = zip(*df[\"Тип двигателя\"].apply(lambda x: get_engine_type(x)))\n",
    "df[[\"Тип двигателя\", \"Объем двигателя\", \"Мощность двигателя\", \"Двигатель\"]].head(10)"
   ]
  },
  {
   "cell_type": "markdown",
   "metadata": {},
   "source": [
    "<font color=darkblue>Функция для получения значения цены авто с преведением к типу int"
   ]
  },
  {
   "cell_type": "code",
   "execution_count": null,
   "metadata": {},
   "outputs": [],
   "source": [
    "def get_price(price_text):\n",
    "    if price_text is NaN:\n",
    "        price = NaN\n",
    "    else:\n",
    "        regex = re.search(\"[от ]*([\\d*\\s*]+)\", price_text)\n",
    "        \n",
    "        if regex is not None:\n",
    "            price = regex.group(1)\n",
    "            price = price.replace(\"\\xa0\", \"\")\n",
    "            price = int(price)        \n",
    "        else:\n",
    "            price = NaN\n",
    "    \n",
    "    return price\n",
    "\n"
   ]
  },
  {
   "cell_type": "markdown",
   "metadata": {},
   "source": [
    "<font color=darkblue>Цена."
   ]
  },
  {
   "cell_type": "code",
   "execution_count": null,
   "metadata": {},
   "outputs": [],
   "source": [
    "df[\"Цена\"] = df[\"Стоимость\"].apply(lambda x: get_price(x))\n",
    "df[[\"Стоимость\", \"Цена\"]].head(10)"
   ]
  },
  {
   "cell_type": "code",
   "execution_count": null,
   "metadata": {},
   "outputs": [],
   "source": [
    "def get_month(month_text):\n",
    "    months = {\n",
    "        \"января\": 1,\n",
    "        \"февраля\": 2,\n",
    "        \"марта\": 3,\n",
    "        \"апреля\": 4,\n",
    "        \"мая\": 5,\n",
    "        \"июня\": 6,\n",
    "        \"июля\": 7,\n",
    "        \"августа\": 8,\n",
    "        \"сентября\": 9,\n",
    "        \"октября\": 10,\n",
    "        \"ноября\": 11,\n",
    "        \"декабря\": 12\n",
    "    }\n",
    "    return months[month_text]\n",
    "\n",
    "\n",
    "def get_date_and_days(date_text, current_date):\n",
    "    if date_text is NaN:\n",
    "        date = NaN\n",
    "        days = NaN\n",
    "    else:\n",
    "        if date_text == \"Новый\":\n",
    "            date = current_date\n",
    "            days = 1\n",
    "        else:\n",
    "            regex = re.search(\"(\\d+)\\s*([а-яё]+)\\s*(\\d*)\", date_text)\n",
    "        \n",
    "            if regex is not None:\n",
    "                day = int(regex.group(1))\n",
    "                month = get_month(regex.group(2))\n",
    "                \n",
    "                if regex.group(3) == \"\":\n",
    "                    year = current_date.year\n",
    "                else:\n",
    "                    year = int(regex.group(3))\n",
    "                \n",
    "                date = Date(year, month, day)\n",
    "                days = (current_date - date).days + 1\n",
    "            else:\n",
    "                date = NaN\n",
    "                days = NaN\n",
    "        \n",
    "    return date, days"
   ]
  },
  {
   "cell_type": "markdown",
   "metadata": {},
   "source": [
    "<font color=darkblue>Количество дней, которое висит объявление."
   ]
  },
  {
   "cell_type": "code",
   "execution_count": null,
   "metadata": {},
   "outputs": [],
   "source": [
    "today = Date(2018, 8, 23)\n",
    "df[\"Дата\"], df[\"Количество дней\"] = zip(*df[\"Дата создания\"].apply(lambda x: get_date_and_days(x, today)))\n",
    "df[\"День\"], df[\"Месяц\"], df[\"Год\"] = zip(*df[\"Дата\"].apply(lambda x: (x.day, x.month, x.year)))\n",
    "df[[\"Дата создания\", \"Дата\", \"День\", \"Месяц\", \"Год\", \"Количество дней\"]].head(10)"
   ]
  },
  {
   "cell_type": "markdown",
   "metadata": {},
   "source": [
    "<font color=darkblue>Функция для получения количества присмотров объявления (всего и сегодня)"
   ]
  },
  {
   "cell_type": "code",
   "execution_count": null,
   "metadata": {},
   "outputs": [],
   "source": [
    "def get_views_count(views_text):\n",
    "    if views_text is NaN:\n",
    "        total_views = NaN\n",
    "        today_views = NaN\n",
    "    else:    \n",
    "        regex = re.search(\"(\\d+)\\s*\\((\\d+)\\sсегодня\\)\", views_text)\n",
    "    \n",
    "        if regex is not None:           \n",
    "            total_views = int(regex.group(1))\n",
    "            today_views = int(regex.group(2))\n",
    "        else:\n",
    "            total_views = NaN\n",
    "            today_views = NaN\n",
    "        \n",
    "    return total_views, today_views"
   ]
  },
  {
   "cell_type": "markdown",
   "metadata": {},
   "source": [
    "<font color=darkblue>Количество просмотров."
   ]
  },
  {
   "cell_type": "code",
   "execution_count": null,
   "metadata": {},
   "outputs": [],
   "source": [
    "df[\"Просмотров всего\"], df[\"Просмотров сегодня\"] = zip(*df[\"Кол-во просмотров\"].apply(lambda x: get_views_count(x)))\n",
    "df[[\"Кол-во просмотров\", \"Просмотров всего\", \"Просмотров сегодня\"]].head()"
   ]
  },
  {
   "cell_type": "markdown",
   "metadata": {},
   "source": [
    "<font color=darkblue>Функция для получения значения среднего количества просмотров объявления в день"
   ]
  },
  {
   "cell_type": "code",
   "execution_count": null,
   "metadata": {},
   "outputs": [],
   "source": [
    "def get_mean_of_views(row):\n",
    "    if row[\"Просмотров всего\"] is NaN or row[\"Количество дней\"] is NaN:\n",
    "        mean = NaN\n",
    "    else:\n",
    "        mean = row[\"Просмотров всего\"] / row[\"Количество дней\"]\n",
    "    return mean"
   ]
  },
  {
   "cell_type": "markdown",
   "metadata": {},
   "source": [
    "<font color=darkblue>Количество просмотров в день."
   ]
  },
  {
   "cell_type": "code",
   "execution_count": null,
   "metadata": {},
   "outputs": [],
   "source": [
    "df[\"Просмотров в день\"] = df.apply(lambda x: get_mean_of_views(x), axis=1)\n",
    "df[[\"Просмотров всего\", \"Количество дней\", \"Просмотров в день\"]].head()"
   ]
  },
  {
   "cell_type": "markdown",
   "metadata": {},
   "source": [
    "<font color=darkblue>Вывод всех наименований столбцов датафрейма"
   ]
  },
  {
   "cell_type": "code",
   "execution_count": null,
   "metadata": {},
   "outputs": [],
   "source": [
    "df.columns"
   ]
  },
  {
   "cell_type": "code",
   "execution_count": null,
   "metadata": {},
   "outputs": [],
   "source": [
    "df.head()"
   ]
  },
  {
   "cell_type": "markdown",
   "metadata": {},
   "source": [
    "<font color=darkblue>Удаление строк с пустыми значениями в определенных столбцах."
   ]
  },
  {
   "cell_type": "code",
   "execution_count": null,
   "metadata": {},
   "outputs": [],
   "source": [
    "count_before = len(df)\n",
    "df = df[df.isnull().apply(lambda x: not(x[\"Название\"] or x[\"Адрес\"] or x[\"Тип двигателя\"] or \n",
    "                                        x[\"Стоимость\"] or x[\"Дата создания\"] or x[\"Кол-во просмотров\"]), axis=1)]\n",
    "count_after = len(df)\n",
    "print(\"Удалено {0} строк, осталось {1} строк.\".format(count_before - count_after, count_after))"
   ]
  },
  {
   "cell_type": "markdown",
   "metadata": {},
   "source": [
    "<font color=darkblue>Приведем значения к нужному нам типу"
   ]
  },
  {
   "cell_type": "code",
   "execution_count": null,
   "metadata": {},
   "outputs": [],
   "source": [
    "df[\"Год выпуска\"] = df[\"Год выпуска\"].astype(int)\n",
    "df[\"Пробег\"] = df[\"Пробег\"].apply(lambda x: int(str(x)[:-3].replace(u'\\xa0',\"\"))) \n",
    "\n",
    "df[\"Владельцы\"].fillna(0, inplace=True)\n",
    "df[\"Владельцы\"] = df[\"Владельцы\"].apply(lambda x: int(str(x)[0]))"
   ]
  },
  {
   "cell_type": "markdown",
   "metadata": {},
   "source": [
    "<font color=darkblue>Добавим столбец с возрастом авто"
   ]
  },
  {
   "cell_type": "code",
   "execution_count": null,
   "metadata": {},
   "outputs": [],
   "source": [
    "df[\"Возраст\"] = 2018 - df[\"Год выпуска\"]"
   ]
  },
  {
   "cell_type": "markdown",
   "metadata": {},
   "source": [
    "<font color=darkblue>Добавим столбец \"Кузов\" (первое слово столбца \"Тип кузова\")"
   ]
  },
  {
   "cell_type": "code",
   "execution_count": null,
   "metadata": {},
   "outputs": [],
   "source": [
    "df['Кузов'] = df[\"Тип кузова\"].apply(lambda x: x.split()[0])"
   ]
  },
  {
   "cell_type": "markdown",
   "metadata": {},
   "source": [
    "<font color=darkblue>Удалим ненужные столбцы"
   ]
  },
  {
   "cell_type": "code",
   "execution_count": null,
   "metadata": {},
   "outputs": [],
   "source": [
    "dellist = [\"Название\", \"Стоимость\", \"Тип двигателя\", \"Срок владения\", \"Комментарий\", \"Тип кузова\"]\n",
    "df = df.drop(dellist, 1)\n",
    "df.head()"
   ]
  },
  {
   "cell_type": "markdown",
   "metadata": {},
   "source": [
    "<font color=darkblue>Сохраним полученный датасет."
   ]
  },
  {
   "cell_type": "code",
   "execution_count": null,
   "metadata": {},
   "outputs": [],
   "source": [
    "df.to_csv(OUTPUT_FILE, index=False, encoding=\"utf-8\")"
   ]
  },
  {
   "cell_type": "markdown",
   "metadata": {},
   "source": [
    "### Диаграмма sankey. КПП - Привод"
   ]
  },
  {
   "cell_type": "code",
   "execution_count": null,
   "metadata": {},
   "outputs": [],
   "source": [
    "import matplotlib\n",
    "import matplotlib.pyplot as plt\n",
    "\n",
    "import plotly\n",
    "import plotly.plotly as py\n",
    "\n",
    "from plotly.offline import init_notebook_mode, iplot\n",
    "init_notebook_mode(connected=True)\n",
    "\n",
    "import random\n",
    "r = lambda: random.randint(0,255)"
   ]
  },
  {
   "cell_type": "code",
   "execution_count": null,
   "metadata": {},
   "outputs": [],
   "source": [
    "def minimize_data_by_mark(df_in, auto_min_cnt):\n",
    "    #Отсечем данные по популярным маркам в продаже\n",
    "    df_temp = df_in.groupby(['Марка']).count().reset_index()\n",
    "    mark_list = df_temp[(df_temp['Год'] > auto_min_cnt)]['Марка'].tolist()\n",
    "    df_res = df_in[(df_in['Марка'].isin(mark_list))]\n",
    "    \n",
    "    return df_res"
   ]
  },
  {
   "cell_type": "markdown",
   "metadata": {},
   "source": [
    "<font color=darkblue>Функция для получения датафрейма с данными для plotly sunkey чарта"
   ]
  },
  {
   "cell_type": "code",
   "execution_count": null,
   "metadata": {},
   "outputs": [],
   "source": [
    "def prepare_sankey_data(df_in, attribute_list):\n",
    "    labels = pd.DataFrame()\n",
    "    for attr in attribute_list:\n",
    "        label = pd.DataFrame(df_in[attr].unique(), columns=['label']).reset_index(drop=True)\n",
    "        labels = pd.DataFrame(pd.concat([labels, label], axis=0))\n",
    "\n",
    "    labels['color'] = labels['label'].apply(lambda x: ('#%02X%02X%02X' % (r(),r(),r())))\n",
    "    labels = labels.reset_index(drop=True)\n",
    "    labels['ID'] = labels.index\n",
    "\n",
    "    df_res = pd.DataFrame()\n",
    "    for i, attr in enumerate(attribute_list):\n",
    "        if (i == len(attribute_list)-1):\n",
    "            break\n",
    "        df_tmp = df_in.groupby([attribute_list[i], attribute_list[i+1]]).count().reset_index()\n",
    "        df_tmp = pd.merge(df_tmp, labels, how='left', left_on=[attr], right_on=['label'])\n",
    "        df_tmp = pd.merge(df_tmp, labels, how='left', left_on=[attribute_list[i+1]], right_on=['label'])\n",
    "        df_tmp = df_tmp[['ID_x','ID_y', 'Год']]\n",
    "        df_tmp.columns = ['source_value', 'dest_value', 'amount']\n",
    "        df_res = pd.concat([df_res, df_tmp], axis=0)\n",
    "    \n",
    "    return labels, df_res"
   ]
  },
  {
   "cell_type": "markdown",
   "metadata": {},
   "source": [
    "<font color=darkblue>Функция для вормирования справочника для sankey чарта"
   ]
  },
  {
   "cell_type": "code",
   "execution_count": null,
   "metadata": {},
   "outputs": [],
   "source": [
    "def draw_sankey(labels, df_res, title):\n",
    "    data_trace = dict(\n",
    "        type='sankey',\n",
    "        domain = dict(\n",
    "          x =  [0,1],\n",
    "          y =  [0,1]\n",
    "        ),\n",
    "        orientation = \"h\",\n",
    "        valueformat = \".0f\",\n",
    "        node = dict(\n",
    "            pad = 10,\n",
    "            thickness = 30,\n",
    "            line = dict(\n",
    "            color = \"black\",\n",
    "            width = 0.5\n",
    "          ),\n",
    "        label = labels['label'].tolist(),\n",
    "        color = labels['color'].tolist(),\n",
    "        ),\n",
    "        link = dict(\n",
    "        source = df_res['source_value'].tolist(),\n",
    "        target = df_res['dest_value'].tolist(),\n",
    "        value = df_res['amount'].tolist(),\n",
    "        ),\n",
    "    )\n",
    "\n",
    "    layout =  dict(\n",
    "        title = title,\n",
    "        height = 772,\n",
    "        width = 950,\n",
    "        font = dict(\n",
    "            size = 14\n",
    "        ),    \n",
    "    )\n",
    "    \n",
    "    fig = dict(data=[data_trace], layout=layout)\n",
    "    iplot(fig, validate=False)"
   ]
  },
  {
   "cell_type": "markdown",
   "metadata": {},
   "source": [
    "<font color=darkblue>Подготовим датасет\n",
    "Разобъем пробег по классам"
   ]
  },
  {
   "cell_type": "code",
   "execution_count": null,
   "metadata": {},
   "outputs": [],
   "source": [
    "df['Пробег тип'] = ''\n",
    "df.loc[df.Пробег < 20000, 'Пробег тип'] = '0-20 тыс.'\n",
    "df.loc[(df.Пробег >= 20000) & (df.Пробег < 40000), 'Пробег тип'] = '20-40 тыс.'\n",
    "df.loc[(df.Пробег >= 40000) & (df.Пробег < 60000), 'Пробег тип'] = '40-60 тыс.'\n",
    "df.loc[(df.Пробег >= 60000) & (df.Пробег < 80000), 'Пробег тип'] = '60-80 тыс.'\n",
    "df.loc[(df.Пробег >= 80000) & (df.Пробег < 100000), 'Пробег тип'] = '80-100 тыс.'\n",
    "df.loc[df.Пробег >= 100000, 'Пробег тип'] = 'более 100 тыс.'"
   ]
  },
  {
   "cell_type": "markdown",
   "metadata": {},
   "source": [
    "<font color=darkblue>Также по количеству владельцев"
   ]
  },
  {
   "cell_type": "code",
   "execution_count": null,
   "metadata": {},
   "outputs": [],
   "source": [
    "df['Количество владельцев'] = df['Владельцы'].apply(lambda x: (\"Владельцев: %s\" % str(x)))"
   ]
  },
  {
   "cell_type": "code",
   "execution_count": null,
   "metadata": {},
   "outputs": [],
   "source": [
    "#df.loc[df['Просмотров в день'] == 'более 60'] = 60\n",
    "df['Просмотров в день тип'] = ''\n",
    "df.loc[df['Просмотров в день'] < 10, 'Просмотров в день тип'] = '0-10 просмотра'\n",
    "df.loc[(df['Просмотров в день'] >=10) & (df['Просмотров в день'] < 20), 'Просмотров в день тип'] = '10-20 просмотра'\n",
    "df.loc[(df['Просмотров в день'] >= 20) & (df['Просмотров в день'] < 30), 'Просмотров в день тип'] = '20-30 просмотра'\n",
    "df.loc[(df['Просмотров в день'] >= 30) & (df['Просмотров в день'] < 40), 'Просмотров в день тип'] = '30-40 просмотра'\n",
    "df.loc[(df['Просмотров в день'] >= 40) & (df['Просмотров в день'] < 50), 'Просмотров в день тип'] = '40-50 просмотра'\n",
    "df.loc[(df['Просмотров в день'] >= 50) & (df['Просмотров в день'] < 60), 'Просмотров в день тип'] = '50-60 просмотра'\n",
    "df.loc[(df['Просмотров в день'] >= 60), 'Просмотров в день тип'] = 'более 60'"
   ]
  },
  {
   "cell_type": "code",
   "execution_count": null,
   "metadata": {
    "scrolled": true
   },
   "outputs": [],
   "source": [
    "labels, df_res = prepare_sankey_data(df, ['КПП', 'Привод'])"
   ]
  },
  {
   "cell_type": "code",
   "execution_count": null,
   "metadata": {
    "scrolled": false
   },
   "outputs": [],
   "source": [
    "draw_sankey(labels, df_res, 'Большинство полноприводных машин с автоматической КПП<br>Большинство машин с механической КПП - переднеприводные')"
   ]
  },
  {
   "cell_type": "code",
   "execution_count": null,
   "metadata": {},
   "outputs": [],
   "source": [
    "df_temp = df[(df['Цвет'] == 'красный')]\n",
    "df_temp = minimize_data_by_mark(df_temp, 20)\n",
    "labels, df_res = prepare_sankey_data(df_temp, ['Марка', 'Кузов'])\n",
    "draw_sankey(labels, df_res, 'Красные Nissan в основном внедорожники<br>красные Ford и Renault в основном хэтчбэки<br>красные Mazda и Audi в основном седаны')"
   ]
  },
  {
   "cell_type": "code",
   "execution_count": null,
   "metadata": {},
   "outputs": [],
   "source": [
    "labels, df_res = prepare_sankey_data(df, ['Двигатель', 'Привод'])\n",
    "draw_sankey(labels, df_res, 'Заднеприводные авто в осноаном с бензиновыми двигателями<br>Дизельные машины в основном полноприводные')"
   ]
  },
  {
   "cell_type": "code",
   "execution_count": null,
   "metadata": {},
   "outputs": [],
   "source": [
    "df_temp = minimize_data_by_mark(df, 800)\n",
    "df_temp = df_temp[(df_temp['Пробег'] < 100000)]\n",
    "df_temp = df_temp[(df_temp['Владельцы'] == 1)]\n",
    "labels, df_res = prepare_sankey_data(df_temp, ['Марка', 'Пробег тип'])\n",
    "draw_sankey(labels, df_res, 'При каком пробеге владелец (купивший авто с нуля) хочет продать <br> свою машину в зависимости от марки')"
   ]
  },
  {
   "cell_type": "markdown",
   "metadata": {},
   "source": [
    "<font color=darkblue>Быстрее всего хотят продать Lada, дольше ездить ххотят на Toyota и Volkswagen"
   ]
  },
  {
   "cell_type": "code",
   "execution_count": null,
   "metadata": {},
   "outputs": [],
   "source": [
    "df_temp = minimize_data_by_mark(df, 700)\n",
    "labels, df_res = prepare_sankey_data(df_temp, ['Марка', 'Просмотров в день тип'])\n",
    "draw_sankey(labels, df_res, 'Марка - Просмотров в день (интерес к марке)')"
   ]
  },
  {
   "cell_type": "markdown",
   "metadata": {},
   "source": [
    "<font color=darkblue>Меньше всего просматривают Lada, чаще всего Mercedes и BMW"
   ]
  },
  {
   "cell_type": "code",
   "execution_count": null,
   "metadata": {},
   "outputs": [],
   "source": [
    "df_temp = minimize_data_by_mark(df, 700)\n",
    "labels, df_res = prepare_sankey_data(df_temp, ['Количество владельцев','Марка','Пробег тип'])\n",
    "draw_sankey(labels, df_res, 'Марка - Пробег - Количество владельцев')"
   ]
  },
  {
   "cell_type": "code",
   "execution_count": null,
   "metadata": {},
   "outputs": [],
   "source": []
  }
 ],
 "metadata": {
  "kernelspec": {
   "display_name": "Python 3",
   "language": "python",
   "name": "python3"
  },
  "language_info": {
   "codemirror_mode": {
    "name": "ipython",
    "version": 3
   },
   "file_extension": ".py",
   "mimetype": "text/x-python",
   "name": "python",
   "nbconvert_exporter": "python",
   "pygments_lexer": "ipython3",
   "version": "3.6.5"
  }
 },
 "nbformat": 4,
 "nbformat_minor": 2
}
