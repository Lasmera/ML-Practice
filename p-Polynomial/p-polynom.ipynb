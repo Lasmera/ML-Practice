{
 "cells": [
  {
   "cell_type": "markdown",
   "metadata": {},
   "source": [
    "# Полиномиальные преобразования для задачи регрессии \n",
    "<font color=darkblue>Попробуем спрогнозировать как зависит цена от мощности двигателя и попытаемся предсказать. \n",
    "\n",
    "Задача заключается в приближении полиномом (многочленом одной переменной) искомой функции, описывающей скрытую зависимость.\n",
    "Многочлен одной переменной имеет вид: <br/>\n",
    "$ w_0 $ - нулевой степени <br/>\n",
    "$ w_0+w_1*x $ - первой степени<br/>\n",
    "$ w_0+w_1*x+w_2*x^2 $ - второй степени<br/>\n",
    "$...$<br/>\n",
    "$ w_0+w_1*x+w_2*x^2+...+w_n*x^n  $ - степени **N** <br/>\n",
    "\n",
    "\n",
    "- зависимость степени полинома \n",
    "- деление на обучение и проверку "
   ]
  },
  {
   "cell_type": "markdown",
   "metadata": {},
   "source": [
    "## 1. Загрузка данных"
   ]
  },
  {
   "cell_type": "code",
   "execution_count": 15,
   "metadata": {},
   "outputs": [],
   "source": [
    "import pandas as pd\n",
    "import numpy as np\n",
    "import warnings\n",
    "warnings.simplefilter(\"ignore\", UserWarning)\n",
    "pd.set_option('display.float_format', lambda x: \"%.2f\" % x)\n",
    "np.set_printoptions(precision=2, suppress=True)\n"
   ]
  },
  {
   "cell_type": "code",
   "execution_count": 16,
   "metadata": {},
   "outputs": [
    {
     "data": {
      "text/html": [
       "<div>\n",
       "<style scoped>\n",
       "    .dataframe tbody tr th:only-of-type {\n",
       "        vertical-align: middle;\n",
       "    }\n",
       "\n",
       "    .dataframe tbody tr th {\n",
       "        vertical-align: top;\n",
       "    }\n",
       "\n",
       "    .dataframe thead th {\n",
       "        text-align: right;\n",
       "    }\n",
       "</style>\n",
       "<table border=\"1\" class=\"dataframe\">\n",
       "  <thead>\n",
       "    <tr style=\"text-align: right;\">\n",
       "      <th></th>\n",
       "      <th>Год выпуска</th>\n",
       "      <th>КПП</th>\n",
       "      <th>Привод</th>\n",
       "      <th>Пробег</th>\n",
       "      <th>Тип кузова</th>\n",
       "      <th>Состояние</th>\n",
       "      <th>Срок владения</th>\n",
       "      <th>Цвет</th>\n",
       "      <th>Руль</th>\n",
       "      <th>Владельцы</th>\n",
       "      <th>...</th>\n",
       "      <th>Модель</th>\n",
       "      <th>Город</th>\n",
       "      <th>Объем двигателя</th>\n",
       "      <th>Мощность двигателя</th>\n",
       "      <th>Двигатель</th>\n",
       "      <th>Цена</th>\n",
       "      <th>Дата</th>\n",
       "      <th>Количество дней</th>\n",
       "      <th>Просмотров всего</th>\n",
       "      <th>Просмотров в день</th>\n",
       "    </tr>\n",
       "  </thead>\n",
       "  <tbody>\n",
       "    <tr>\n",
       "      <th>0</th>\n",
       "      <td>2012.00</td>\n",
       "      <td>механическая</td>\n",
       "      <td>передний</td>\n",
       "      <td>141000.00</td>\n",
       "      <td>внедорожник 5 дв.</td>\n",
       "      <td>Не требует ремонта</td>\n",
       "      <td>NaN</td>\n",
       "      <td>белый</td>\n",
       "      <td>Левый</td>\n",
       "      <td>2 владельца</td>\n",
       "      <td>...</td>\n",
       "      <td>ix35 I</td>\n",
       "      <td>Воронеж</td>\n",
       "      <td>2.00</td>\n",
       "      <td>150.00</td>\n",
       "      <td>Бензин</td>\n",
       "      <td>790000</td>\n",
       "      <td>2018-06-25</td>\n",
       "      <td>60</td>\n",
       "      <td>387.00</td>\n",
       "      <td>6.45</td>\n",
       "    </tr>\n",
       "    <tr>\n",
       "      <th>1</th>\n",
       "      <td>2014.00</td>\n",
       "      <td>автоматическая</td>\n",
       "      <td>полный</td>\n",
       "      <td>80189.00</td>\n",
       "      <td>внедорожник 5 дв.</td>\n",
       "      <td>Не требует ремонта</td>\n",
       "      <td>NaN</td>\n",
       "      <td>белый</td>\n",
       "      <td>Левый</td>\n",
       "      <td>3 или более</td>\n",
       "      <td>...</td>\n",
       "      <td>X1 I (E84) Рестайлинг 20d</td>\n",
       "      <td>Москва</td>\n",
       "      <td>2.00</td>\n",
       "      <td>184.00</td>\n",
       "      <td>Дизель</td>\n",
       "      <td>1368000</td>\n",
       "      <td>2018-06-25</td>\n",
       "      <td>60</td>\n",
       "      <td>657.00</td>\n",
       "      <td>10.95</td>\n",
       "    </tr>\n",
       "    <tr>\n",
       "      <th>2</th>\n",
       "      <td>2010.00</td>\n",
       "      <td>механическая</td>\n",
       "      <td>передний</td>\n",
       "      <td>143000.00</td>\n",
       "      <td>седан</td>\n",
       "      <td>Не требует ремонта</td>\n",
       "      <td>NaN</td>\n",
       "      <td>бежевый</td>\n",
       "      <td>Левый</td>\n",
       "      <td>3 или более</td>\n",
       "      <td>...</td>\n",
       "      <td>Logan I Рестайлинг</td>\n",
       "      <td>Воронеж</td>\n",
       "      <td>1.40</td>\n",
       "      <td>75.00</td>\n",
       "      <td>Бензин</td>\n",
       "      <td>320000</td>\n",
       "      <td>2018-06-25</td>\n",
       "      <td>60</td>\n",
       "      <td>470.00</td>\n",
       "      <td>7.83</td>\n",
       "    </tr>\n",
       "    <tr>\n",
       "      <th>3</th>\n",
       "      <td>2009.00</td>\n",
       "      <td>механическая</td>\n",
       "      <td>передний</td>\n",
       "      <td>126000.00</td>\n",
       "      <td>седан</td>\n",
       "      <td>Не требует ремонта</td>\n",
       "      <td>NaN</td>\n",
       "      <td>жёлтый</td>\n",
       "      <td>Левый</td>\n",
       "      <td>3 или более</td>\n",
       "      <td>...</td>\n",
       "      <td>Nexia I Рестайлинг</td>\n",
       "      <td>Россошь</td>\n",
       "      <td>1.50</td>\n",
       "      <td>80.00</td>\n",
       "      <td>Бензин</td>\n",
       "      <td>150000</td>\n",
       "      <td>2018-06-25</td>\n",
       "      <td>60</td>\n",
       "      <td>438.00</td>\n",
       "      <td>7.30</td>\n",
       "    </tr>\n",
       "    <tr>\n",
       "      <th>4</th>\n",
       "      <td>2011.00</td>\n",
       "      <td>механическая</td>\n",
       "      <td>передний</td>\n",
       "      <td>159000.00</td>\n",
       "      <td>хэтчбек 5 дв.</td>\n",
       "      <td>Не требует ремонта</td>\n",
       "      <td>NaN</td>\n",
       "      <td>красный</td>\n",
       "      <td>Левый</td>\n",
       "      <td>3 или более</td>\n",
       "      <td>...</td>\n",
       "      <td>C4 II</td>\n",
       "      <td>Воронеж</td>\n",
       "      <td>1.60</td>\n",
       "      <td>120.00</td>\n",
       "      <td>Бензин</td>\n",
       "      <td>410000</td>\n",
       "      <td>2018-06-25</td>\n",
       "      <td>60</td>\n",
       "      <td>442.00</td>\n",
       "      <td>7.37</td>\n",
       "    </tr>\n",
       "  </tbody>\n",
       "</table>\n",
       "<p>5 rows × 23 columns</p>\n",
       "</div>"
      ],
      "text/plain": [
       "   Год выпуска             КПП    Привод    Пробег         Тип кузова  \\\n",
       "0      2012.00    механическая  передний 141000.00  внедорожник 5 дв.   \n",
       "1      2014.00  автоматическая    полный  80189.00  внедорожник 5 дв.   \n",
       "2      2010.00    механическая  передний 143000.00              седан   \n",
       "3      2009.00    механическая  передний 126000.00              седан   \n",
       "4      2011.00    механическая  передний 159000.00      хэтчбек 5 дв.   \n",
       "\n",
       "            Состояние Срок владения     Цвет   Руль    Владельцы  \\\n",
       "0  Не требует ремонта           NaN    белый  Левый  2 владельца   \n",
       "1  Не требует ремонта           NaN    белый  Левый  3 или более   \n",
       "2  Не требует ремонта           NaN  бежевый  Левый  3 или более   \n",
       "3  Не требует ремонта           NaN   жёлтый  Левый  3 или более   \n",
       "4  Не требует ремонта           NaN  красный  Левый  3 или более   \n",
       "\n",
       "         ...                            Модель    Город Объем двигателя  \\\n",
       "0        ...                            ix35 I  Воронеж            2.00   \n",
       "1        ...         X1 I (E84) Рестайлинг 20d   Москва            2.00   \n",
       "2        ...                Logan I Рестайлинг  Воронеж            1.40   \n",
       "3        ...                Nexia I Рестайлинг  Россошь            1.50   \n",
       "4        ...                             C4 II  Воронеж            1.60   \n",
       "\n",
       "  Мощность двигателя Двигатель     Цена        Дата Количество дней  \\\n",
       "0             150.00    Бензин   790000  2018-06-25              60   \n",
       "1             184.00    Дизель  1368000  2018-06-25              60   \n",
       "2              75.00    Бензин   320000  2018-06-25              60   \n",
       "3              80.00    Бензин   150000  2018-06-25              60   \n",
       "4             120.00    Бензин   410000  2018-06-25              60   \n",
       "\n",
       "   Просмотров всего Просмотров в день  \n",
       "0            387.00              6.45  \n",
       "1            657.00             10.95  \n",
       "2            470.00              7.83  \n",
       "3            438.00              7.30  \n",
       "4            442.00              7.37  \n",
       "\n",
       "[5 rows x 23 columns]"
      ]
     },
     "execution_count": 16,
     "metadata": {},
     "output_type": "execute_result"
    }
   ],
   "source": [
    "df = pd.read_csv(u'../data/auto.ru_data.csv')\n",
    "df.head()"
   ]
  },
  {
   "cell_type": "markdown",
   "metadata": {},
   "source": [
    "<font color=darkblue>Предположим, мы хотим купить новый седан и попытаемся определить какой суммой необходимо обладать для покупки.  \n",
    "\n",
    "Полпытаемся это сделать по загруженной базе объявлений, для этого выберем данные с типом кузова \"седан\", и пробегом менее 2000 километров."
   ]
  },
  {
   "cell_type": "code",
   "execution_count": 17,
   "metadata": {},
   "outputs": [],
   "source": [
    "dfs = df[(df['Пробег'] < 2000) & (df['Тип кузова']=='седан') & (df['Мощность двигателя']<300) ].reset_index(drop=True)[:70]\n",
    "dfs = dfs[['Мощность двигателя','Цена']]"
   ]
  },
  {
   "cell_type": "markdown",
   "metadata": {},
   "source": [
    "<font color=darkblue>Отсортируем данные по мощности двигателя для удобства визуализации "
   ]
  },
  {
   "cell_type": "code",
   "execution_count": 18,
   "metadata": {},
   "outputs": [],
   "source": [
    "dfs.sort_values(['Мощность двигателя'],inplace=True)"
   ]
  },
  {
   "cell_type": "markdown",
   "metadata": {},
   "source": [
    "<font color=darkblue>Отобразим на графике наши данные. "
   ]
  },
  {
   "cell_type": "code",
   "execution_count": 19,
   "metadata": {
    "scrolled": true
   },
   "outputs": [
    {
     "data": {
      "text/plain": [
       "<matplotlib.legend.Legend at 0x1a1ae704e0>"
      ]
     },
     "execution_count": 19,
     "metadata": {},
     "output_type": "execute_result"
    },
    {
     "data": {
      "image/png": "[encoded data removed]",
      "text/plain": [
       "<Figure size 432x288 with 1 Axes>"
      ]
     },
     "metadata": {},
     "output_type": "display_data"
    }
   ],
   "source": [
    "import matplotlib.pyplot as plt\n",
    "%matplotlib inline\n",
    "plt.scatter(dfs['Мощность двигателя'], dfs['Цена'], label='Цена автомобиля',color='black')\n",
    "plt.title(\"Зависимость мощности двигателя от цены\")\n",
    "plt.xlabel(\"Мощность двигателя\")\n",
    "plt.ylabel(\"Цена\")\n",
    "plt.legend(loc='upper left')"
   ]
  },
  {
   "cell_type": "markdown",
   "metadata": {},
   "source": [
    "<font color=darkblue>применим линейную регрессию LinearRegression и приближение полномом первой степени, воспользуемся алгоритмом LinearRegression"
   ]
  },
  {
   "cell_type": "code",
   "execution_count": 20,
   "metadata": {},
   "outputs": [],
   "source": [
    "from sklearn.linear_model import LinearRegression\n",
    "X=np.vstack(dfs[\"Мощность двигателя\"].values)\n",
    "y=np.vstack(dfs[\"Цена\"].values/1000)  # /1000 или /1000000 чтобы получиться сумму в тысячах рублей или миллионах \n",
    "reg = LinearRegression().fit(X,y)"
   ]
  },
  {
   "cell_type": "markdown",
   "metadata": {},
   "source": [
    "<font color=darkblue>Предскажем значения y_pred для входящих данных X"
   ]
  },
  {
   "cell_type": "code",
   "execution_count": 21,
   "metadata": {},
   "outputs": [],
   "source": [
    "\n",
    "y_pred=reg.predict(X)"
   ]
  },
  {
   "cell_type": "markdown",
   "metadata": {},
   "source": [
    "<font color=darkblue>Визуализируем результат "
   ]
  },
  {
   "cell_type": "code",
   "execution_count": 22,
   "metadata": {},
   "outputs": [
    {
     "data": {
      "text/plain": [
       "<matplotlib.legend.Legend at 0x1a1adaca20>"
      ]
     },
     "execution_count": 22,
     "metadata": {},
     "output_type": "execute_result"
    },
    {
     "data": {
      "image/png": "[encoded data removed]",
      "text/plain": [
       "<Figure size 432x288 with 1 Axes>"
      ]
     },
     "metadata": {},
     "output_type": "display_data"
    }
   ],
   "source": [
    "plt.scatter(X, y,color='black', label='Цена автомобиля')\n",
    "plt.plot(X, y_pred, linewidth=3,color='yellowgreen',label=\"степень полинома 1\"  )\n",
    "plt.title(\"Зависимость мощности двигателя от цены\")\n",
    "plt.xlabel(\"Мощность двигателя\")\n",
    "plt.ylabel(\"Цена\")\n",
    "plt.legend(loc='upper left')"
   ]
  },
  {
   "cell_type": "markdown",
   "metadata": {},
   "source": [
    "<font color=darkblue>Видно что нависимость предстказана не достаточно точно, это видно на всем графике, некоторые значения даже ниже нуля. необходимо усложнить модель или добавить количество признаков. но у нас только один признак(мощность двигателя), можно добавить степени этого признака $x^2  x^3$ и т.д. \n",
    "\n",
    "Воспользуемся полиномиальным преобразованием признаков(PolynomialFeatures) и оценивать качество будем по метрике $r^2$ (r2_score) "
   ]
  },
  {
   "cell_type": "code",
   "execution_count": 23,
   "metadata": {},
   "outputs": [],
   "source": [
    "from sklearn.preprocessing import PolynomialFeatures\n",
    "from sklearn.metrics import r2_score"
   ]
  },
  {
   "cell_type": "markdown",
   "metadata": {},
   "source": [
    "<font color=darkblue>Визуализируем зависимость точности от количества новых признаков\n",
    "\n",
    "можно динамически менять(двигая ползунок) количество признаков и визуально оценивать качество метрики"
   ]
  },
  {
   "cell_type": "code",
   "execution_count": 24,
   "metadata": {},
   "outputs": [
    {
     "data": {
      "application/vnd.jupyter.widget-view+json": {
       "model_id": "82dbaf3458cc487f8d0eea2b0b8299fd",
       "version_major": 2,
       "version_minor": 0
      },
      "text/plain": [
       "interactive(children=(IntSlider(value=5, description='degree', max=10, min=1), Output()), _dom_classes=('widge…"
      ]
     },
     "metadata": {},
     "output_type": "display_data"
    },
    {
     "data": {
      "text/plain": [
       "<function __main__.polynom(degree)>"
      ]
     },
     "execution_count": 24,
     "metadata": {},
     "output_type": "execute_result"
    }
   ],
   "source": [
    "from IPython.html.widgets import *\n",
    "\n",
    "\n",
    "from sklearn import pipeline\n",
    "def polynom(degree):\n",
    "    \n",
    "    model = pipeline.make_pipeline(PolynomialFeatures(degree),LinearRegression()) \n",
    "    model.fit(X, y)\n",
    "    y_pred = model.predict(X) \n",
    "    plt.plot(X, y_pred, linewidth=3,color='yellowgreen',label=\"степень %d \" % degree )\n",
    "    plt.scatter(X, y,  s=50, marker='*',color='black', label=\"Вся выборка\")\n",
    "    \n",
    "    print('Метрика R2: %.2f' % r2_score(y, y_pred))\n",
    "    plt.legend(loc='upper left')\n",
    "interact(polynom,degree=(1,10,1))"
   ]
  },
  {
   "cell_type": "markdown",
   "metadata": {},
   "source": [
    "<font color=darkblue>Результат метрики качества максимальный для 10 новых признаков, даже видно что такая оценка данных не качественная. это означает \"переобучение\", для борьбы с ним применяют оценку результатов на данных которые наша модель еще не знала. \n",
    "для этого выборку делят на \"обучение\" и \"тест\". \n",
    "для разделения выборок удобно воспользоваться специальным алгоритмом train_test_split которые позволяет строить случайные подмножества данных. "
   ]
  },
  {
   "cell_type": "code",
   "execution_count": 25,
   "metadata": {},
   "outputs": [],
   "source": [
    "from sklearn.model_selection import train_test_split"
   ]
  },
  {
   "cell_type": "markdown",
   "metadata": {},
   "source": [
    "<font color=darkblue>Визуализируем результаты и оценим как меняется выборка на обучении и тесте с ростом числа признаков, общее качество модели низкое(из-за небольшого объема выборки), но при увеличении числа признаков видно, что качество очень сильно падает и оптимальным является 2 признака. "
   ]
  },
  {
   "cell_type": "code",
   "execution_count": 26,
   "metadata": {},
   "outputs": [
    {
     "data": {
      "application/vnd.jupyter.widget-view+json": {
       "model_id": "e114ef2f41aa45dfad694185764bbe5f",
       "version_major": 2,
       "version_minor": 0
      },
      "text/plain": [
       "interactive(children=(IntSlider(value=5, description='degree', max=10, min=1), Output()), _dom_classes=('widge…"
      ]
     },
     "metadata": {},
     "output_type": "display_data"
    },
    {
     "data": {
      "text/plain": [
       "<function __main__.polynom_traintest(degree)>"
      ]
     },
     "execution_count": 26,
     "metadata": {},
     "output_type": "execute_result"
    }
   ],
   "source": [
    "def polynom_traintest(degree):\n",
    "    \n",
    "    model = pipeline.make_pipeline(PolynomialFeatures(degree),LinearRegression()) \n",
    "    X_train, X_test, y_train, y_test = train_test_split(X, y, test_size=0.5,random_state=17)\n",
    "    \n",
    "    model.fit(X_train, y_train)\n",
    "    y_pred = model.predict(X_test)\n",
    "    y_predtrain = model.predict(X_train) \n",
    "    \n",
    "    # сортировка результатов прогноза и предсказания для визуализации в виде непрерывной линни \n",
    "    arr1inds = X_test.argsort(axis=0)\n",
    "    X_test = X_test[arr1inds[:, 0]]\n",
    "    y_pred = y_pred[arr1inds[:, 0]]\n",
    "    y_test = y_test[arr1inds[:, 0]]\n",
    "    \n",
    "    plt.plot(X_test, y_pred, linewidth=3,color='yellowgreen',label=\"степень %d \" % degree )\n",
    "    plt.scatter(X_train, y_train,  s=50, marker='*',color='black', label=\"Обучающий набор\")\n",
    "    plt.scatter(X_test, y_test,  s=50, marker='o',color='gold', label=\"Тестовый набор\")\n",
    "    \n",
    "    \n",
    "    print('Метрика R2 на обучении : %.2f' % r2_score(y_train, y_predtrain))\n",
    "    print('Метрика R2 на тесте : %.2f' % r2_score(y_test, y_pred))\n",
    "    plt.legend(loc='upper left')\n",
    "interact(polynom_traintest,degree=(1,10,1))"
   ]
  },
  {
   "cell_type": "markdown",
   "metadata": {},
   "source": [
    "<font color=darkblue>Давайте попробуем сделать применить метод логистической регрессии. Алгоритм будет работать если преобразовать y в тип int. y.astype('int')"
   ]
  },
  {
   "cell_type": "code",
   "execution_count": 28,
   "metadata": {},
   "outputs": [
    {
     "data": {
      "application/vnd.jupyter.widget-view+json": {
       "model_id": "3e20a047f8a04f008de19a944d957a67",
       "version_major": 2,
       "version_minor": 0
      },
      "text/plain": [
       "interactive(children=(IntSlider(value=5, description='degree', max=10, min=1), Output()), _dom_classes=('widge…"
      ]
     },
     "metadata": {},
     "output_type": "display_data"
    },
    {
     "data": {
      "text/plain": [
       "<function __main__.polynom(degree)>"
      ]
     },
     "execution_count": 28,
     "metadata": {},
     "output_type": "execute_result"
    }
   ],
   "source": [
    "from sklearn.linear_model import LogisticRegression\n",
    "\n",
    "from sklearn import pipeline\n",
    "def polynom(degree):\n",
    "    \n",
    "    model = pipeline.make_pipeline(PolynomialFeatures(degree),LogisticRegression()) \n",
    "    model.fit(X, y.astype('int'))\n",
    "    y_pred = model.predict(X)\n",
    "    plt.plot(X, y_pred, linewidth=3,color='yellowgreen',label=\"степень %d \" % degree )\n",
    "    plt.scatter(X, y,  s=50, marker='*',color='black', label=\"Вся выборка\")\n",
    "    \n",
    "    print('Метрика R2: %.2f' % r2_score(y, y_pred))\n",
    "    plt.legend(loc='upper left')\n",
    "interact(polynom,degree=(1,10,1))"
   ]
  },
  {
   "cell_type": "markdown",
   "metadata": {},
   "source": [
    "<font color=darkblue>Если сделать масштабирование признака, например, прогнозировать сумму в миллионах рублей то результат будет значительно хуже линейной регрессии. Результат можно объяснить тем что логистическая регрессия , несмотря на название явлется методом классификации, а не регрессии. Регрессия сводится к задаче многоклассовой классификации по целым числам"
   ]
  },
  {
   "cell_type": "code",
   "execution_count": null,
   "metadata": {},
   "outputs": [],
   "source": []
  }
 ],
 "metadata": {
  "kernelspec": {
   "display_name": "Python 3",
   "language": "python",
   "name": "python3"
  },
  "language_info": {
   "codemirror_mode": {
    "name": "ipython",
    "version": 3
   },
   "file_extension": ".py",
   "mimetype": "text/x-python",
   "name": "python",
   "nbconvert_exporter": "python",
   "pygments_lexer": "ipython3",
   "version": "3.6.5"
  }
 },
 "nbformat": 4,
 "nbformat_minor": 2
}
